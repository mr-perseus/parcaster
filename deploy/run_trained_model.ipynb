{
 "cells": [
  {
   "cell_type": "markdown",
   "source": [
    "# This notebook is used to test the model on a single row of data. It is used to check if the model is working correctly."
   ],
   "metadata": {
    "collapsed": false
   },
   "id": "8f7c7cd3c524d743"
  },
  {
   "cell_type": "markdown",
   "source": [
    "# Imports"
   ],
   "metadata": {
    "collapsed": false
   },
   "id": "762757314716bfc2"
  },
  {
   "cell_type": "code",
   "execution_count": 1,
   "outputs": [],
   "source": [
    "import torch\n",
    "import pandas as pd\n",
    "import numpy as np\n",
    "import matplotlib.pyplot as plt\n",
    "from torch.utils.data import TensorDataset, DataLoader"
   ],
   "metadata": {
    "collapsed": false,
    "ExecuteTime": {
     "end_time": "2023-12-01T09:36:36.790314Z",
     "start_time": "2023-12-01T09:36:20.859848Z"
    }
   },
   "id": "ad4e8e6f95981073"
  },
  {
   "cell_type": "markdown",
   "source": [
    "# Model path"
   ],
   "metadata": {
    "collapsed": false
   },
   "id": "6920be57b433c201"
  },
  {
   "cell_type": "code",
   "execution_count": 2,
   "outputs": [],
   "source": [
    "# TODO make this dynamic. It runs a model from a specific run of wandb.\n",
    "\n",
    "model_path = \"model_scripted.pt\""
   ],
   "metadata": {
    "collapsed": false,
    "ExecuteTime": {
     "end_time": "2023-12-01T09:36:36.812944Z",
     "start_time": "2023-12-01T09:36:36.796140Z"
    }
   },
   "id": "f86cdb755bbeeda0"
  },
  {
   "cell_type": "markdown",
   "source": [
    "# Loading the model"
   ],
   "metadata": {
    "collapsed": false
   },
   "id": "ed81af7c13e8a2cb"
  },
  {
   "cell_type": "code",
   "execution_count": 5,
   "id": "initial_id",
   "metadata": {
    "collapsed": true,
    "ExecuteTime": {
     "end_time": "2023-12-01T09:41:23.412489Z",
     "start_time": "2023-12-01T09:41:23.302810Z"
    }
   },
   "outputs": [
    {
     "data": {
      "text/plain": "RecursiveScriptModule(\n  original_name=LSTMModel\n  (lstm): RecursiveScriptModule(original_name=LSTM)\n  (fc): RecursiveScriptModule(original_name=Linear)\n)"
     },
     "execution_count": 5,
     "metadata": {},
     "output_type": "execute_result"
    }
   ],
   "source": [
    "device = torch.device(\"cuda\" if torch.cuda.is_available() else \"cpu\")\n",
    "\n",
    "model = torch.jit.load(model_path, map_location=device)\n",
    "model.eval()"
   ]
  },
  {
   "cell_type": "markdown",
   "source": [
    "# Loading the data"
   ],
   "metadata": {
    "collapsed": false
   },
   "id": "b13c5c8ff392afa7"
  },
  {
   "cell_type": "code",
   "execution_count": 6,
   "outputs": [],
   "source": [
    "# Copied that over from testing, TODO remove it and add it to a utils file\n",
    "\n",
    "def load_features_labels():\n",
    "    df = pd.read_csv(\"../data/preprocessing/02_pp_sg_train_features.csv\", sep=\";\")\n",
    "\n",
    "    parking_data_labels = [\"P24\", \"P44\", \"P42\", \"P33\", \"P23\", \"P25\", \"P21\", \"P31\", \"P53\", \"P32\", \"P22\", \"P52\", \"P51\",\n",
    "                           \"P43\"]  # TODO get these from metadata file\n",
    "    ignored_columns = [\"datetime\", \"date\", \"year\", \"month\", \"day\", \"weekdayname\", \"weekday\", \"time\", \"hour\", \"minute\"]\n",
    "\n",
    "    y = df[parking_data_labels]\n",
    "    X = df.drop(columns=parking_data_labels)\n",
    "    X = X.drop(columns=ignored_columns)\n",
    "\n",
    "    input_dim = len(X.columns)\n",
    "    output_dim = len(y.columns)\n",
    "\n",
    "    print(f\"Input dimension: {input_dim}, columns: {X.columns}\")\n",
    "    print(f\"Output dimension: {output_dim}, columns: {y.columns}\")\n",
    "\n",
    "    return X, y, input_dim, output_dim\n",
    "\n",
    "\n",
    "def build_dataset(batch_size, X, y):\n",
    "    features = torch.Tensor(X.values)\n",
    "    targets = torch.Tensor(y.values)\n",
    "\n",
    "    dataset = TensorDataset(features, targets)\n",
    "\n",
    "    return DataLoader(dataset, batch_size=batch_size, shuffle=False, drop_last=True)\n"
   ],
   "metadata": {
    "collapsed": false,
    "ExecuteTime": {
     "end_time": "2023-12-01T09:41:59.623809Z",
     "start_time": "2023-12-01T09:41:59.598004Z"
    }
   },
   "id": "dc576d5a2da71afb"
  },
  {
   "cell_type": "markdown",
   "source": [
    "# Plotting the prediction\n",
    "\n",
    "For demo purposes"
   ],
   "metadata": {
    "collapsed": false
   },
   "id": "4e64d5600b438208"
  },
  {
   "cell_type": "code",
   "execution_count": 7,
   "outputs": [],
   "source": [
    "def plot_prediction(output, target):\n",
    "    numpy_output = output.detach().cpu().numpy()\n",
    "    numpy_target = target.detach().cpu().numpy()\n",
    "    \n",
    "    parking_data_labels = [\"P24\", \"P44\", \"P42\", \"P33\", \"P23\", \"P25\", \"P21\", \"P31\", \"P53\", \"P32\", \"P22\", \"P52\", \"P51\",\n",
    "                           \"P43\"]  # TODO get these from metadata file\n",
    "    df_output = pd.DataFrame(numpy_output, columns=parking_data_labels)\n",
    "    df_target = pd.DataFrame(numpy_target, columns=parking_data_labels)\n",
    "\n",
    "    n_features = len(df_output.columns)\n",
    "    \n",
    "    # Plotting\n",
    "    fig, ax = plt.subplots(figsize=(10, 6))\n",
    "    \n",
    "    # Setting the positions of the bars\n",
    "    ind = np.arange(n_features)  # the x locations for the groups\n",
    "    width = 0.35  # the width of the bars\n",
    "    \n",
    "    # Plotting bars for each row\n",
    "    bars1 = ax.bar(ind - width/2, df_output.iloc[0], width, label='Prediction (from model)')\n",
    "    bars2 = ax.bar(ind + width/2, df_target.iloc[0], width, label='Target (form dataset)')\n",
    "    \n",
    "    # Adding some text for labels, title, and custom x-axis tick labels\n",
    "    ax.set_xlabel('Parking garages')\n",
    "    ax.set_ylabel('Free parking spots')\n",
    "    ax.set_title('Comparison of Two Rows in a Bar Chart')\n",
    "    ax.set_xticks(ind)\n",
    "    ax.set_xticklabels(df_output.columns)\n",
    "    ax.legend()\n",
    "    \n",
    "    plt.show()"
   ],
   "metadata": {
    "collapsed": false,
    "ExecuteTime": {
     "end_time": "2023-12-01T09:42:01.219076Z",
     "start_time": "2023-12-01T09:42:01.162501Z"
    }
   },
   "id": "b43150332da59fd9"
  },
  {
   "cell_type": "markdown",
   "source": [
    "# Testing the model\n",
    "\n",
    "Uses the model to predict the parking data for a single row of data. The model is loaded from the path specified above."
   ],
   "metadata": {
    "collapsed": false
   },
   "id": "20cbeb9f90e82204"
  },
  {
   "cell_type": "code",
   "execution_count": 10,
   "outputs": [
    {
     "name": "stdout",
     "output_type": "stream",
     "text": [
      "Input dimension: 18, columns: Index(['ferien', 'feiertag', 'covid_19', 'olma_offa', 'temperature_2m_max',\n",
      "       'temperature_2m_min', 'rain_sum', 'snowfall_sum', 'sin_minute',\n",
      "       'cos_minute', 'sin_hour', 'cos_hour', 'sin_weekday', 'cos_weekday',\n",
      "       'sin_day', 'cos_day', 'sin_month', 'cos_month'],\n",
      "      dtype='object')\n",
      "Output dimension: 14, columns: Index(['P24', 'P44', 'P42', 'P33', 'P23', 'P25', 'P21', 'P31', 'P53', 'P32',\n",
      "       'P22', 'P52', 'P51', 'P43'],\n",
      "      dtype='object')\n"
     ]
    },
    {
     "data": {
      "text/plain": "<Figure size 1000x600 with 1 Axes>",
      "image/png": "[encoded data removed]"
     },
     "metadata": {},
     "output_type": "display_data"
    }
   ],
   "source": [
    "X, y, input_dim, output_dim = load_features_labels()\n",
    "\n",
    "batch_size = 1\n",
    "index_to_predict = 10000\n",
    "\n",
    "X_to_predict = X[index_to_predict:index_to_predict+batch_size]\n",
    "y_to_predict = y[index_to_predict:index_to_predict+batch_size]\n",
    "\n",
    "dataloader = build_dataset(batch_size, X_to_predict, y_to_predict)\n",
    "\n",
    "data, target = next(iter(dataloader))\n",
    "data, target = data.view([batch_size, -1, input_dim]).to(device), target.to(device)\n",
    "output = model(data)\n",
    "plot_prediction(output, target)"
   ],
   "metadata": {
    "collapsed": false,
    "ExecuteTime": {
     "end_time": "2023-12-01T09:43:06.807743Z",
     "start_time": "2023-12-01T09:43:05.322427Z"
    }
   },
   "id": "e191476b1e07ba2d"
  },
  {
   "cell_type": "code",
   "execution_count": 11,
   "outputs": [],
   "source": [],
   "metadata": {
    "collapsed": false,
    "ExecuteTime": {
     "end_time": "2023-11-29T21:11:52.485203070Z",
     "start_time": "2023-11-29T21:11:52.482845570Z"
    }
   },
   "id": "3a2d2079372aa5b1"
  },
  {
   "cell_type": "code",
   "execution_count": null,
   "outputs": [],
   "source": [],
   "metadata": {
    "collapsed": false
   },
   "id": "246ea477129e3fb1"
  }
 ],
 "metadata": {
  "kernelspec": {
   "display_name": "Python 3",
   "language": "python",
   "name": "python3"
  },
  "language_info": {
   "codemirror_mode": {
    "name": "ipython",
    "version": 2
   },
   "file_extension": ".py",
   "mimetype": "text/x-python",
   "name": "python",
   "nbconvert_exporter": "python",
   "pygments_lexer": "ipython2",
   "version": "2.7.6"
  }
 },
 "nbformat": 4,
 "nbformat_minor": 5
}
