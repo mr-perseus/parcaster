{
 "cells": [
  {
   "cell_type": "code",
   "execution_count": 1,
   "outputs": [],
   "source": [
    "import torch\n",
    "import pandas as pd\n",
    "import numpy as np\n",
    "import matplotlib.pyplot as plt\n",
    "from torch.utils.data import TensorDataset, DataLoader"
   ],
   "metadata": {
    "collapsed": false,
    "ExecuteTime": {
     "end_time": "2023-11-29T21:03:30.708157448Z",
     "start_time": "2023-11-29T21:03:28.647263049Z"
    }
   },
   "id": "ad4e8e6f95981073"
  },
  {
   "cell_type": "code",
   "execution_count": 2,
   "id": "initial_id",
   "metadata": {
    "collapsed": true,
    "ExecuteTime": {
     "end_time": "2023-11-29T21:03:31.497652457Z",
     "start_time": "2023-11-29T21:03:31.495365457Z"
    }
   },
   "outputs": [],
   "source": [
    "model = torch.jit.load(\"/home/jan/Projects/parcaster/model/wandb/run-20231129_105215-82zbhzcq/files/model_scripted.pt\")\n",
    "model.eval()\n",
    "\n",
    "device = torch.device(\"cuda\" if torch.cuda.is_available() else \"cpu\")"
   ]
  },
  {
   "cell_type": "code",
   "execution_count": 3,
   "outputs": [],
   "source": [
    "# Copied that over from testing, TODO remove it\n",
    "\n",
    "def load_features_labels():\n",
    "    df = pd.read_csv(\"../data/preprocessing/02_pp_sg_train_features.csv\", sep=\";\")\n",
    "\n",
    "    parking_data_labels = [\"P24\", \"P44\", \"P42\", \"P33\", \"P23\", \"P25\", \"P21\", \"P31\", \"P53\", \"P32\", \"P22\", \"P52\", \"P51\",\n",
    "                           \"P43\"]  # TODO get these from metadata file\n",
    "    ignored_columns = [\"datetime\", \"date\", \"year\", \"month\", \"day\", \"weekdayname\", \"weekday\", \"time\", \"hour\", \"minute\"]\n",
    "\n",
    "    y = df[parking_data_labels]\n",
    "    X = df.drop(columns=parking_data_labels)\n",
    "    X = X.drop(columns=ignored_columns)\n",
    "\n",
    "    input_dim = len(X.columns)\n",
    "    output_dim = len(y.columns)\n",
    "\n",
    "    print(f\"Input dimension: {input_dim}, columns: {X.columns}\")\n",
    "    print(f\"Output dimension: {output_dim}, columns: {y.columns}\")\n",
    "\n",
    "    return X, y, input_dim, output_dim\n",
    "\n",
    "\n",
    "def build_dataset(batch_size, X, y):\n",
    "    features = torch.Tensor(X.values)\n",
    "    targets = torch.Tensor(y.values)\n",
    "\n",
    "    dataset = TensorDataset(features, targets)\n",
    "\n",
    "    return DataLoader(dataset, batch_size=batch_size, shuffle=False, drop_last=True)\n"
   ],
   "metadata": {
    "collapsed": false,
    "ExecuteTime": {
     "end_time": "2023-11-29T21:03:34.008573088Z",
     "start_time": "2023-11-29T21:03:33.986016587Z"
    }
   },
   "id": "dc576d5a2da71afb"
  },
  {
   "cell_type": "code",
   "execution_count": 4,
   "outputs": [],
   "source": [
    "def plot_prediction(output, target):\n",
    "    numpy_output = output.detach().cpu().numpy()\n",
    "    numpy_target = target.detach().cpu().numpy()\n",
    "    \n",
    "    parking_data_labels = [\"P24\", \"P44\", \"P42\", \"P33\", \"P23\", \"P25\", \"P21\", \"P31\", \"P53\", \"P32\", \"P22\", \"P52\", \"P51\",\n",
    "                           \"P43\"]  # TODO get these from metadata file\n",
    "    df_output = pd.DataFrame(numpy_output, columns=parking_data_labels)\n",
    "    df_target = pd.DataFrame(numpy_target, columns=parking_data_labels)\n",
    "\n",
    "    n_features = len(df_output.columns)\n",
    "    \n",
    "    # Plotting\n",
    "    fig, ax = plt.subplots(figsize=(10, 6))\n",
    "    \n",
    "    # Setting the positions of the bars\n",
    "    ind = np.arange(n_features)  # the x locations for the groups\n",
    "    width = 0.35  # the width of the bars\n",
    "    \n",
    "    # Plotting bars for each row\n",
    "    bars1 = ax.bar(ind - width/2, df_output.iloc[0], width, label='Prediction')\n",
    "    bars2 = ax.bar(ind + width/2, df_target.iloc[0], width, label='Target')\n",
    "    \n",
    "    # Adding some text for labels, title, and custom x-axis tick labels\n",
    "    ax.set_xlabel('Features')\n",
    "    ax.set_ylabel('Values')\n",
    "    ax.set_title('Comparison of Two Rows in a Bar Chart')\n",
    "    ax.set_xticks(ind)\n",
    "    ax.set_xticklabels(df_output.columns)\n",
    "    ax.legend()\n",
    "    \n",
    "    plt.show()"
   ],
   "metadata": {
    "collapsed": false,
    "ExecuteTime": {
     "end_time": "2023-11-29T21:03:34.610485395Z",
     "start_time": "2023-11-29T21:03:34.600180195Z"
    }
   },
   "id": "b43150332da59fd9"
  },
  {
   "cell_type": "code",
   "execution_count": 5,
   "outputs": [
    {
     "name": "stdout",
     "output_type": "stream",
     "text": [
      "Input dimension: 18, columns: Index(['ferien', 'feiertag', 'covid_19', 'olma_offa', 'temperature_2m_max',\n",
      "       'temperature_2m_min', 'rain_sum', 'snowfall_sum', 'sin_minute',\n",
      "       'cos_minute', 'sin_hour', 'cos_hour', 'sin_weekday', 'cos_weekday',\n",
      "       'sin_day', 'cos_day', 'sin_month', 'cos_month'],\n",
      "      dtype='object')\n",
      "Output dimension: 14, columns: Index(['P24', 'P44', 'P42', 'P33', 'P23', 'P25', 'P21', 'P31', 'P53', 'P32',\n",
      "       'P22', 'P52', 'P51', 'P43'],\n",
      "      dtype='object')\n"
     ]
    },
    {
     "data": {
      "text/plain": "<Figure size 1000x600 with 1 Axes>",
      "image/png": "[encoded data removed]"
     },
     "metadata": {},
     "output_type": "display_data"
    }
   ],
   "source": [
    "X, y, input_dim, output_dim = load_features_labels()\n",
    "\n",
    "batch_size = 1\n",
    "index_to_predict = 10000\n",
    "\n",
    "X_to_predict = X[index_to_predict:index_to_predict+batch_size]\n",
    "y_to_predict = y[index_to_predict:index_to_predict+batch_size]\n",
    "\n",
    "dataloader = build_dataset(batch_size, X_to_predict, y_to_predict)\n",
    "\n",
    "for _, (data, target) in enumerate(dataloader):\n",
    "    data, target = data.view([batch_size, -1, input_dim]).to(device), target.to(device)\n",
    "    output = model(data)\n",
    "    plot_prediction(output, target)"
   ],
   "metadata": {
    "collapsed": false,
    "ExecuteTime": {
     "end_time": "2023-11-29T21:03:35.741962408Z",
     "start_time": "2023-11-29T21:03:35.013747300Z"
    }
   },
   "id": "e191476b1e07ba2d"
  },
  {
   "cell_type": "code",
   "execution_count": 5,
   "outputs": [],
   "source": [],
   "metadata": {
    "collapsed": false,
    "ExecuteTime": {
     "end_time": "2023-11-29T21:03:35.745666708Z",
     "start_time": "2023-11-29T21:03:35.741440208Z"
    }
   },
   "id": "3a2d2079372aa5b1"
  }
 ],
 "metadata": {
  "kernelspec": {
   "display_name": "Python 3",
   "language": "python",
   "name": "python3"
  },
  "language_info": {
   "codemirror_mode": {
    "name": "ipython",
    "version": 2
   },
   "file_extension": ".py",
   "mimetype": "text/x-python",
   "name": "python",
   "nbconvert_exporter": "python",
   "pygments_lexer": "ipython2",
   "version": "2.7.6"
  }
 },
 "nbformat": 4,
 "nbformat_minor": 5
}
