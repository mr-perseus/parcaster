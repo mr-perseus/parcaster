{
 "cells": [
  {
   "cell_type": "markdown",
   "metadata": {
    "id": "3Bp7xn6t5qL_"
   },
   "source": [
    "\n",
    "# Hyperparameter Sweeps\n",
    "\n",
    "In this project, we use Hyperparemter sweeps with Pytorch on \"Weights & Biases\". For further details, check out this [Colab](http://wandb.me/sweeps-colab)."
   ]
  },
  {
   "cell_type": "markdown",
   "metadata": {
    "id": "hjckmLcx5qL_"
   },
   "source": [
    "## Setup\n",
    "\n",
    "Start out by installing the experiment tracking library and setting up your free W&B account:\n",
    "\n",
    "1. Install with `!pip install`\n",
    "2. `import` the library into Python\n",
    "3. `.login()` so you can log metrics to your projects\n",
    "\n",
    "If you've never used Weights & Biases before,\n",
    "the call to `login` will give you a link to sign up for an account.\n",
    "W&B is free to use for personal and academic projects!"
   ]
  },
  {
   "cell_type": "code",
   "execution_count": 1,
   "outputs": [
    {
     "name": "stdout",
     "output_type": "stream",
     "text": [
      "zsh:1: command not found: pip\r\n"
     ]
    }
   ],
   "source": [
    "!pip install wandb -Uq"
   ],
   "metadata": {
    "collapsed": false,
    "ExecuteTime": {
     "end_time": "2023-11-23T15:32:17.949313700Z",
     "start_time": "2023-11-23T15:32:17.708759500Z"
    }
   }
  },
  {
   "cell_type": "code",
   "execution_count": 2,
   "outputs": [],
   "source": [
    "import wandb"
   ],
   "metadata": {
    "collapsed": false,
    "ExecuteTime": {
     "end_time": "2023-11-23T15:32:18.432886400Z",
     "start_time": "2023-11-23T15:32:17.929259800Z"
    }
   }
  },
  {
   "cell_type": "code",
   "execution_count": 3,
   "outputs": [
    {
     "name": "stderr",
     "output_type": "stream",
     "text": [
      "\u001B[34m\u001B[1mwandb\u001B[0m: Currently logged in as: \u001B[33mmr-perseus\u001B[0m (\u001B[33mparcaster\u001B[0m). Use \u001B[1m`wandb login --relogin`\u001B[0m to force relogin\n"
     ]
    },
    {
     "data": {
      "text/plain": "True"
     },
     "execution_count": 3,
     "metadata": {},
     "output_type": "execute_result"
    }
   ],
   "source": [
    "wandb.login()"
   ],
   "metadata": {
    "collapsed": false,
    "ExecuteTime": {
     "end_time": "2023-11-23T15:32:19.777391100Z",
     "start_time": "2023-11-23T15:32:18.461396600Z"
    }
   }
  },
  {
   "cell_type": "markdown",
   "metadata": {
    "id": "DiEyBrQm5qMB"
   },
   "source": [
    "## Defining the sweep config\n",
    "\n",
    "We define the sweep config via dict in our Jupyter notebook. You can find more information on sweeps in the [documentation](https://docs.wandb.com/sweeps/configuration).\n",
    "\n",
    "You can find a list of all configuration options [here](https://docs.wandb.com/library/sweeps/configuration) and a big collection of examples in YAML format [here](https://github.com/wandb/examples/tree/master/examples/keras/keras-cnn-fashion)."
   ]
  },
  {
   "cell_type": "code",
   "execution_count": 4,
   "metadata": {
    "id": "ilZtMXIA5qMC",
    "ExecuteTime": {
     "end_time": "2023-11-23T15:32:19.777391100Z",
     "start_time": "2023-11-23T15:32:19.758371400Z"
    }
   },
   "outputs": [],
   "source": [
    "sweep_config = {\n",
    "  'method': 'random',\n",
    "  'metric': {\n",
    "    'goal': 'minimize',\n",
    "    'name': 'loss'\n",
    "  },\n",
    "  'parameters': {\n",
    "    'batch_size': {\n",
    "      'distribution': 'q_log_uniform_values',\n",
    "      'max': 256,\n",
    "      'min': 32,\n",
    "      'q': 8\n",
    "    },\n",
    "    'dropout': {\n",
    "      'values': [0.3, 0.4, 0.5]\n",
    "    },\n",
    "    'epochs': {\n",
    "      'value': 1\n",
    "    },\n",
    "    'fc_layer_size': {\n",
    "      'values': [50]\n",
    "    },\n",
    "    'learning_rate': {\n",
    "      'distribution': 'uniform',\n",
    "      'max': 0.1,\n",
    "      'min': 0\n",
    "    },\n",
    "    'optimizer': {\n",
    "      'values': ['adam', 'sgd']\n",
    "    }\n",
    "  }\n",
    "}"
   ]
  },
  {
   "cell_type": "markdown",
   "metadata": {
    "id": "bHesSoz85qMF"
   },
   "source": [
    "## Initialize the setup"
   ]
  },
  {
   "cell_type": "code",
   "execution_count": 5,
   "metadata": {
    "id": "1PbIZ_xm5qMG",
    "ExecuteTime": {
     "end_time": "2023-11-23T15:32:21.665767Z",
     "start_time": "2023-11-23T15:32:19.764370100Z"
    }
   },
   "outputs": [
    {
     "name": "stdout",
     "output_type": "stream",
     "text": [
      "Create sweep with ID: widget6l\n",
      "Sweep URL: https://wandb.ai/parcaster/pp-sg-simple-nn/sweeps/widget6l\n"
     ]
    }
   ],
   "source": [
    "sweep_id = wandb.sweep(sweep_config, project=\"pp-sg-simple-nn\")"
   ]
  },
  {
   "cell_type": "markdown",
   "metadata": {
    "id": "dQH5jXxb5qMG"
   },
   "source": [
    "## Run the sweep agent"
   ]
  },
  {
   "cell_type": "markdown",
   "metadata": {
    "id": "vkRbcMX35qMG"
   },
   "source": [
    "### Define Your Training Procedure\n",
    "\n",
    "Before we can actually execute the sweep, we need to define the training procedure that uses those values.\n",
    "\n",
    "In the functions below, we define a simple fully-connected neural network in PyTorch, and add the following `wandb` tools to log model metrics, visualize performance and output and track our experiments:\n",
    "* [**`wandb.init()`**](https://docs.wandb.com/library/init) – Initialize a new W&B Run. Each Run is a single execution of the training function.\n",
    "* [**`wandb.config`**](https://docs.wandb.com/library/config) – Save all your hyperparameters in a configuration object so they can be logged. Read more about how to use `wandb.config` [here](https://colab.research.google.com/github/wandb/examples/blob/master/colabs/wandb-config/Configs_in_W%26B.ipynb).\n",
    "* [**`wandb.log()`**](https://docs.wandb.com/library/log) – log model behavior to W&B. Here, we just log the performance; see [this Colab](https://colab.research.google.com/github/wandb/examples/blob/master/colabs/wandb-log/Log_(Almost)_Anything_with_W%26B_Media.ipynb) for all the other rich media that can be logged with `wandb.log`.\n",
    "\n",
    "For more details on instrumenting W&B with PyTorch, see [this Colab](https://colab.research.google.com/github/wandb/examples/blob/master/colabs/pytorch/Simple_PyTorch_Integration.ipynb)."
   ]
  },
  {
   "cell_type": "code",
   "execution_count": 6,
   "metadata": {
    "id": "UMlizVTr5qMG",
    "ExecuteTime": {
     "end_time": "2023-11-23T15:32:23.347544Z",
     "start_time": "2023-11-23T15:32:21.656719200Z"
    }
   },
   "outputs": [],
   "source": [
    "import torch\n",
    "import torch.optim as optim\n",
    "import torch.nn.functional as F\n",
    "import torch.nn as nn\n",
    "import pandas as pd\n",
    "from torchvision import datasets, transforms\n",
    "\n",
    "device = torch.device(\"cuda\" if torch.cuda.is_available() else \"cpu\")\n",
    "\n",
    "def train(config=None):\n",
    "    # Initialize a new wandb run\n",
    "    with wandb.init(config=config):\n",
    "        # If called by wandb.agent, as below,\n",
    "        # this config will be set by Sweep Controller\n",
    "        config = wandb.config\n",
    "\n",
    "        loader = build_dataset(config.batch_size)\n",
    "        network = build_network(config.fc_layer_size, config.dropout)\n",
    "        optimizer = build_optimizer(network, config.optimizer, config.learning_rate)\n",
    "\n",
    "        for epoch in range(config.epochs):\n",
    "            avg_loss = train_epoch(network, loader, optimizer)\n",
    "            wandb.log({\"loss\": avg_loss, \"epoch\": epoch})"
   ]
  },
  {
   "cell_type": "markdown",
   "metadata": {
    "id": "Lq8SQD9s5qMG"
   },
   "source": [
    "This cell defines the four pieces of our training procedure:\n",
    "`build_dataset`, `build_network`, `build_optimizer`, and `train_epoch`.\n",
    "\n",
    "All of these are a standard part of a basic PyTorch pipeline,\n",
    "and their implementation is unaffected by the use of W&B,\n",
    "so we won't comment on them."
   ]
  },
  {
   "cell_type": "code",
   "execution_count": 7,
   "metadata": {
    "id": "PMNNnYkr5qMG",
    "ExecuteTime": {
     "end_time": "2023-11-23T15:32:23.361591800Z",
     "start_time": "2023-11-23T15:32:23.352067900Z"
    }
   },
   "outputs": [],
   "source": [
    "def build_dataset(batch_size):\n",
    "    df = pd.read_csv(\"../data/preprocessing/pp_sg_cleaned.csv\", sep=\";\")\n",
    "\n",
    "    single_label_df = df.head(100)[[\"P24\"]]\n",
    "    single_label_tensor = torch.tensor(single_label_df.values, dtype=torch.float32)\n",
    "\n",
    "    # labels_df = df.head(1000)[parking_data_labels]\n",
    "    # features_df = df.head(1000)[parking_data_features]\n",
    "    # labels_tensor = torch.tensor(labels_df.values, dtype=torch.float32)\n",
    "    # features_tensor = torch.tensor(features_df.values, dtype=torch.float32)\n",
    "    # dataset = TensorDataset(features_tensor, labels_tensor)\n",
    "    dataset = torch.utils.data.TensorDataset(single_label_tensor, single_label_tensor)\n",
    "\n",
    "    # TODO Test / Train split\n",
    "    return torch.utils.data.DataLoader(dataset, batch_size=batch_size, shuffle=True)\n",
    "\n",
    "def build_network(fc_layer_size, dropout):\n",
    "    network = nn.Sequential(\n",
    "        nn.Linear(1, fc_layer_size),\n",
    "        nn.Tanh(),\n",
    "        nn.Linear(fc_layer_size, 1))\n",
    "\n",
    "    return network.to(device)\n",
    "\n",
    "\n",
    "def build_optimizer(network, optimizer, learning_rate):\n",
    "    if optimizer == \"sgd\":\n",
    "        optimizer = optim.SGD(network.parameters(),\n",
    "                              lr=learning_rate, momentum=0.9)\n",
    "    elif optimizer == \"adam\":\n",
    "        optimizer = optim.Adam(network.parameters(),\n",
    "                               lr=learning_rate)\n",
    "    return optimizer\n",
    "\n",
    "\n",
    "def train_epoch(network, loader, optimizer):\n",
    "    cumu_loss = 0\n",
    "    for _, (data, target) in enumerate(loader):\n",
    "        data, target = data.to(device), target.to(device)\n",
    "        optimizer.zero_grad()\n",
    "\n",
    "        # ➡ Forward pass\n",
    "        loss = F.nll_loss(network(data), target)\n",
    "        cumu_loss += loss.item()\n",
    "\n",
    "        # ⬅ Backward pass + weight update\n",
    "        loss.backward()\n",
    "        optimizer.step()\n",
    "\n",
    "        wandb.log({\"batch loss\": loss.item()})\n",
    "\n",
    "    return cumu_loss / len(loader)"
   ]
  },
  {
   "cell_type": "markdown",
   "metadata": {
    "id": "UIEd9-Gm5qMH"
   },
   "source": [
    "The cell below will launch an `agent` that runs `train` 5 times,\n",
    "usingly the randomly-generated hyperparameter values returned by the Sweep Controller. Execution takes under 5 minutes."
   ]
  },
  {
   "cell_type": "markdown",
   "source": [
    "Now, we're ready to start sweeping! 🧹🧹🧹\n",
    "\n",
    "Sweep Controllers, like the one we made by running `wandb.sweep`, sit waiting for someone to ask them for a `config` to try out.\n",
    "\n",
    "That someone is an `agent`, and they are created with `wandb.agent`.\n",
    "To get going, the agent just needs to know\n",
    "1. which Sweep it's a part of (`sweep_id`)\n",
    "2. which function it's supposed to run (here, `train`)\n",
    "3. (optionally) how many configs to ask the Controller for (`count`)"
   ],
   "metadata": {
    "collapsed": false
   }
  },
  {
   "cell_type": "code",
   "execution_count": 8,
   "metadata": {
    "id": "KjgClaFq5qMH",
    "ExecuteTime": {
     "end_time": "2023-11-23T15:32:38.870007700Z",
     "start_time": "2023-11-23T15:32:23.357593600Z"
    }
   },
   "outputs": [
    {
     "name": "stderr",
     "output_type": "stream",
     "text": [
      "\u001B[34m\u001B[1mwandb\u001B[0m: Agent Starting Run: kbn7o2sq with config:\n",
      "\u001B[34m\u001B[1mwandb\u001B[0m: \tbatch_size: 192\n",
      "\u001B[34m\u001B[1mwandb\u001B[0m: \tdropout: 0.5\n",
      "\u001B[34m\u001B[1mwandb\u001B[0m: \tepochs: 1\n",
      "\u001B[34m\u001B[1mwandb\u001B[0m: \tfc_layer_size: 50\n",
      "\u001B[34m\u001B[1mwandb\u001B[0m: \tlearning_rate: 0.01391861043157836\n",
      "\u001B[34m\u001B[1mwandb\u001B[0m: \toptimizer: adam\n"
     ]
    },
    {
     "data": {
      "text/plain": "<IPython.core.display.HTML object>",
      "text/html": "Tracking run with wandb version 0.16.0"
     },
     "metadata": {},
     "output_type": "display_data"
    },
    {
     "data": {
      "text/plain": "<IPython.core.display.HTML object>",
      "text/html": "Run data is saved locally in <code>/home/jan/Projects/parcaster/model/wandb/run-20231123_163225-kbn7o2sq</code>"
     },
     "metadata": {},
     "output_type": "display_data"
    },
    {
     "data": {
      "text/plain": "<IPython.core.display.HTML object>",
      "text/html": "Syncing run <strong><a href='https://wandb.ai/parcaster/pp-sg-simple-nn/runs/kbn7o2sq' target=\"_blank\">comic-sweep-1</a></strong> to <a href='https://wandb.ai/parcaster/pp-sg-simple-nn' target=\"_blank\">Weights & Biases</a> (<a href='https://wandb.me/run' target=\"_blank\">docs</a>)<br/>Sweep page: <a href='https://wandb.ai/parcaster/pp-sg-simple-nn/sweeps/widget6l' target=\"_blank\">https://wandb.ai/parcaster/pp-sg-simple-nn/sweeps/widget6l</a>"
     },
     "metadata": {},
     "output_type": "display_data"
    },
    {
     "data": {
      "text/plain": "<IPython.core.display.HTML object>",
      "text/html": " View project at <a href='https://wandb.ai/parcaster/pp-sg-simple-nn' target=\"_blank\">https://wandb.ai/parcaster/pp-sg-simple-nn</a>"
     },
     "metadata": {},
     "output_type": "display_data"
    },
    {
     "data": {
      "text/plain": "<IPython.core.display.HTML object>",
      "text/html": " View sweep at <a href='https://wandb.ai/parcaster/pp-sg-simple-nn/sweeps/widget6l' target=\"_blank\">https://wandb.ai/parcaster/pp-sg-simple-nn/sweeps/widget6l</a>"
     },
     "metadata": {},
     "output_type": "display_data"
    },
    {
     "data": {
      "text/plain": "<IPython.core.display.HTML object>",
      "text/html": " View run at <a href='https://wandb.ai/parcaster/pp-sg-simple-nn/runs/kbn7o2sq' target=\"_blank\">https://wandb.ai/parcaster/pp-sg-simple-nn/runs/kbn7o2sq</a>"
     },
     "metadata": {},
     "output_type": "display_data"
    },
    {
     "name": "stderr",
     "output_type": "stream",
     "text": [
      "Traceback (most recent call last):\n",
      "  File \"/tmp/ipykernel_16979/4270768677.py\", line 22, in train\n",
      "    avg_loss = train_epoch(network, loader, optimizer)\n",
      "  File \"/tmp/ipykernel_16979/88024471.py\", line 43, in train_epoch\n",
      "    loss = F.nll_loss(network(data), target)\n",
      "  File \"/home/jan/.virtualenvs/parcaster/lib/python3.10/site-packages/torch/nn/functional.py\", line 2729, in nll_loss\n",
      "    return torch._C._nn.nll_loss_nd(input, target, weight, _Reduction.get_enum(reduction), ignore_index)\n",
      "RuntimeError: 0D or 1D target tensor expected, multi-target not supported\n"
     ]
    },
    {
     "data": {
      "text/plain": "VBox(children=(Label(value='0.003 MB of 0.003 MB uploaded\\r'), FloatProgress(value=1.0, max=1.0)))",
      "application/vnd.jupyter.widget-view+json": {
       "version_major": 2,
       "version_minor": 0,
       "model_id": "b40b8b19f9b841968e809946a9ed12dc"
      }
     },
     "metadata": {},
     "output_type": "display_data"
    },
    {
     "data": {
      "text/plain": "<IPython.core.display.HTML object>",
      "text/html": " View run <strong style=\"color:#cdcd00\">comic-sweep-1</strong> at: <a href='https://wandb.ai/parcaster/pp-sg-simple-nn/runs/kbn7o2sq' target=\"_blank\">https://wandb.ai/parcaster/pp-sg-simple-nn/runs/kbn7o2sq</a><br/>Synced 5 W&B file(s), 0 media file(s), 0 artifact file(s) and 0 other file(s)"
     },
     "metadata": {},
     "output_type": "display_data"
    },
    {
     "data": {
      "text/plain": "<IPython.core.display.HTML object>",
      "text/html": "Find logs at: <code>./wandb/run-20231123_163225-kbn7o2sq/logs</code>"
     },
     "metadata": {},
     "output_type": "display_data"
    },
    {
     "name": "stderr",
     "output_type": "stream",
     "text": [
      "Run kbn7o2sq errored: RuntimeError('0D or 1D target tensor expected, multi-target not supported')\n",
      "\u001B[34m\u001B[1mwandb\u001B[0m: \u001B[32m\u001B[41mERROR\u001B[0m Run kbn7o2sq errored: RuntimeError('0D or 1D target tensor expected, multi-target not supported')\n",
      "\u001B[34m\u001B[1mwandb\u001B[0m: Agent Starting Run: wl7vzome with config:\n",
      "\u001B[34m\u001B[1mwandb\u001B[0m: \tbatch_size: 48\n",
      "\u001B[34m\u001B[1mwandb\u001B[0m: \tdropout: 0.3\n",
      "\u001B[34m\u001B[1mwandb\u001B[0m: \tepochs: 1\n",
      "\u001B[34m\u001B[1mwandb\u001B[0m: \tfc_layer_size: 50\n",
      "\u001B[34m\u001B[1mwandb\u001B[0m: \tlearning_rate: 0.07353709110008722\n",
      "\u001B[34m\u001B[1mwandb\u001B[0m: \toptimizer: sgd\n"
     ]
    },
    {
     "data": {
      "text/plain": "<IPython.core.display.HTML object>",
      "text/html": "Tracking run with wandb version 0.16.0"
     },
     "metadata": {},
     "output_type": "display_data"
    },
    {
     "data": {
      "text/plain": "<IPython.core.display.HTML object>",
      "text/html": "Run data is saved locally in <code>/home/jan/Projects/parcaster/model/wandb/run-20231123_163236-wl7vzome</code>"
     },
     "metadata": {},
     "output_type": "display_data"
    },
    {
     "data": {
      "text/plain": "<IPython.core.display.HTML object>",
      "text/html": "Syncing run <strong><a href='https://wandb.ai/parcaster/pp-sg-simple-nn/runs/wl7vzome' target=\"_blank\">ethereal-sweep-2</a></strong> to <a href='https://wandb.ai/parcaster/pp-sg-simple-nn' target=\"_blank\">Weights & Biases</a> (<a href='https://wandb.me/run' target=\"_blank\">docs</a>)<br/>Sweep page: <a href='https://wandb.ai/parcaster/pp-sg-simple-nn/sweeps/widget6l' target=\"_blank\">https://wandb.ai/parcaster/pp-sg-simple-nn/sweeps/widget6l</a>"
     },
     "metadata": {},
     "output_type": "display_data"
    },
    {
     "data": {
      "text/plain": "<IPython.core.display.HTML object>",
      "text/html": " View project at <a href='https://wandb.ai/parcaster/pp-sg-simple-nn' target=\"_blank\">https://wandb.ai/parcaster/pp-sg-simple-nn</a>"
     },
     "metadata": {},
     "output_type": "display_data"
    },
    {
     "data": {
      "text/plain": "<IPython.core.display.HTML object>",
      "text/html": " View sweep at <a href='https://wandb.ai/parcaster/pp-sg-simple-nn/sweeps/widget6l' target=\"_blank\">https://wandb.ai/parcaster/pp-sg-simple-nn/sweeps/widget6l</a>"
     },
     "metadata": {},
     "output_type": "display_data"
    },
    {
     "data": {
      "text/plain": "<IPython.core.display.HTML object>",
      "text/html": " View run at <a href='https://wandb.ai/parcaster/pp-sg-simple-nn/runs/wl7vzome' target=\"_blank\">https://wandb.ai/parcaster/pp-sg-simple-nn/runs/wl7vzome</a>"
     },
     "metadata": {},
     "output_type": "display_data"
    },
    {
     "name": "stderr",
     "output_type": "stream",
     "text": [
      "Traceback (most recent call last):\n",
      "  File \"/tmp/ipykernel_16979/4270768677.py\", line 22, in train\n",
      "    avg_loss = train_epoch(network, loader, optimizer)\n",
      "  File \"/tmp/ipykernel_16979/88024471.py\", line 43, in train_epoch\n",
      "    loss = F.nll_loss(network(data), target)\n",
      "  File \"/home/jan/.virtualenvs/parcaster/lib/python3.10/site-packages/torch/nn/functional.py\", line 2729, in nll_loss\n",
      "    return torch._C._nn.nll_loss_nd(input, target, weight, _Reduction.get_enum(reduction), ignore_index)\n",
      "RuntimeError: 0D or 1D target tensor expected, multi-target not supported\n",
      "\u001B[34m\u001B[1mwandb\u001B[0m: Ctrl + C detected. Stopping sweep.\n"
     ]
    }
   ],
   "source": [
    "wandb.agent(sweep_id, train, count=5)"
   ]
  },
  {
   "cell_type": "code",
   "execution_count": null,
   "outputs": [],
   "source": [],
   "metadata": {
    "collapsed": false,
    "is_executing": true,
    "ExecuteTime": {
     "start_time": "2023-11-23T15:13:38.125188600Z"
    }
   }
  },
  {
   "cell_type": "code",
   "execution_count": null,
   "outputs": [],
   "source": [],
   "metadata": {
    "collapsed": false
   }
  }
 ],
 "metadata": {
  "accelerator": "GPU",
  "colab": {
   "provenance": [],
   "toc_visible": true
  },
  "kernelspec": {
   "name": "python3",
   "language": "python",
   "display_name": "Python 3 (ipykernel)"
  }
 },
 "nbformat": 4,
 "nbformat_minor": 0
}
