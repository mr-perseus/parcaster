{
 "cells": [
  {
   "cell_type": "markdown",
   "metadata": {
    "id": "3Bp7xn6t5qL_"
   },
   "source": [
    "\n",
    "# Hyperparameter Sweeps\n",
    "\n",
    "In this project, we use Hyperparemter sweeps with Pytorch on \"Weights & Biases\". For further details, check out this [Colab](http://wandb.me/sweeps-colab).\n",
    "\n",
    "Inspired by https://github.com/SheezaShabbir/Time-series-Analysis-using-LSTM-RNN-and-GRU"
   ]
  },
  {
   "cell_type": "markdown",
   "metadata": {
    "id": "hjckmLcx5qL_"
   },
   "source": [
    "## Setup\n",
    "\n",
    "Start out by installing the experiment tracking library and setting up your free W&B account:\n",
    "\n",
    "1. Install with `!pip install`\n",
    "2. `import` the library into Python\n",
    "3. `.login()` so you can log metrics to your projects\n",
    "\n",
    "If you've never used Weights & Biases before,\n",
    "the call to `login` will give you a link to sign up for an account.\n",
    "W&B is free to use for personal and academic projects!"
   ]
  },
  {
   "cell_type": "code",
   "execution_count": 15,
   "outputs": [
    {
     "name": "stdout",
     "output_type": "stream",
     "text": [
      "\r\n",
      "\u001B[1m[\u001B[0m\u001B[34;49mnotice\u001B[0m\u001B[1;39;49m]\u001B[0m\u001B[39;49m A new release of pip is available: \u001B[0m\u001B[31;49m23.2.1\u001B[0m\u001B[39;49m -> \u001B[0m\u001B[32;49m23.3.1\u001B[0m\r\n",
      "\u001B[1m[\u001B[0m\u001B[34;49mnotice\u001B[0m\u001B[1;39;49m]\u001B[0m\u001B[39;49m To update, run: \u001B[0m\u001B[32;49mpip install --upgrade pip\u001B[0m\r\n"
     ]
    }
   ],
   "source": [
    "!pip install wandb -Uq"
   ],
   "metadata": {
    "collapsed": false,
    "ExecuteTime": {
     "end_time": "2023-11-27T15:15:27.877122555Z",
     "start_time": "2023-11-27T15:15:25.262981246Z"
    }
   }
  },
  {
   "cell_type": "code",
   "execution_count": 16,
   "outputs": [],
   "source": [
    "import wandb"
   ],
   "metadata": {
    "collapsed": false,
    "ExecuteTime": {
     "end_time": "2023-11-27T15:15:27.891842055Z",
     "start_time": "2023-11-27T15:15:27.887333955Z"
    }
   }
  },
  {
   "cell_type": "code",
   "execution_count": 17,
   "outputs": [
    {
     "data": {
      "text/plain": "True"
     },
     "execution_count": 17,
     "metadata": {},
     "output_type": "execute_result"
    }
   ],
   "source": [
    "wandb.login()"
   ],
   "metadata": {
    "collapsed": false,
    "ExecuteTime": {
     "end_time": "2023-11-27T15:15:28.029657755Z",
     "start_time": "2023-11-27T15:15:27.899456055Z"
    }
   }
  },
  {
   "cell_type": "markdown",
   "metadata": {
    "id": "DiEyBrQm5qMB"
   },
   "source": [
    "## Defining the sweep config\n",
    "\n",
    "We define the sweep config via dict in our Jupyter notebook. You can find more information on sweeps in the [documentation](https://docs.wandb.com/sweeps/configuration).\n",
    "\n",
    "You can find a list of all configuration options [here](https://docs.wandb.com/library/sweeps/configuration) and a big collection of examples in YAML format [here](https://github.com/wandb/examples/tree/master/examples/keras/keras-cnn-fashion)."
   ]
  },
  {
   "cell_type": "code",
   "execution_count": 18,
   "metadata": {
    "id": "ilZtMXIA5qMC",
    "ExecuteTime": {
     "end_time": "2023-11-27T15:15:28.102369655Z",
     "start_time": "2023-11-27T15:15:28.051493055Z"
    }
   },
   "outputs": [],
   "source": [
    "# See also https://towardsdatascience.com/choosing-the-right-hyperparameters-for-a-simple-lstm-using-keras-f8e9ed76f046\n",
    "\n",
    "sweep_config = {\n",
    "    'method': 'bayes',\n",
    "    'metric': {\n",
    "        'goal': 'minimize',\n",
    "        'name': 'loss'\n",
    "    },\n",
    "    'parameters': {\n",
    "        'model': {\n",
    "            'value': 'lstm'\n",
    "        },\n",
    "        'batch_size': {\n",
    "            'distribution': 'q_log_uniform_values',\n",
    "            'max': 256,\n",
    "            'min': 32,\n",
    "            'q': 8\n",
    "        },\n",
    "        'train_val_ratio': {\n",
    "            'value': 0.8\n",
    "        },\n",
    "        'dropout': {\n",
    "            'values': [0, 0.1, 0.2, 0.5]\n",
    "        },\n",
    "        'num_layers': {\n",
    "            'values': [2, 4, 8, 16, 32]\n",
    "        },\n",
    "        'epochs': {\n",
    "            'value': [5, 10, 20, 40]\n",
    "        },\n",
    "        'fc_layer_size': {\n",
    "            'values': [50, 100, 200, 400, 1000]\n",
    "        },\n",
    "        'learning_rate': {\n",
    "            'distribution': 'uniform',\n",
    "            'max': 0.1,\n",
    "            'min': 0.00001\n",
    "        },\n",
    "        'optimizer': {\n",
    "            'values': ['adam', 'sgd']\n",
    "        }\n",
    "    }\n",
    "}"
   ]
  },
  {
   "cell_type": "markdown",
   "metadata": {
    "id": "bHesSoz85qMF"
   },
   "source": [
    "## Initialize the setup"
   ]
  },
  {
   "cell_type": "code",
   "execution_count": 19,
   "metadata": {
    "id": "1PbIZ_xm5qMG",
    "ExecuteTime": {
     "end_time": "2023-11-27T15:15:30.230972763Z",
     "start_time": "2023-11-27T15:15:28.102224555Z"
    }
   },
   "outputs": [
    {
     "name": "stdout",
     "output_type": "stream",
     "text": [
      "Create sweep with ID: haw2fsrn\n",
      "Sweep URL: https://wandb.ai/parcaster/pp-sg-lstm/sweeps/haw2fsrn\n"
     ]
    }
   ],
   "source": [
    "sweep_id = wandb.sweep(sweep_config, project=\"pp-sg-lstm\")"
   ]
  },
  {
   "cell_type": "markdown",
   "metadata": {
    "id": "dQH5jXxb5qMG"
   },
   "source": [
    "## Run the sweep agent"
   ]
  },
  {
   "cell_type": "markdown",
   "metadata": {
    "id": "vkRbcMX35qMG"
   },
   "source": [
    "### Define Your Training Procedure\n",
    "\n",
    "Before we can actually execute the sweep, we need to define the training procedure that uses those values.\n",
    "\n",
    "In the functions below, we define a simple fully-connected neural network in PyTorch, and add the following `wandb` tools to log model metrics, visualize performance and output and track our experiments:\n",
    "* [**`wandb.init()`**](https://docs.wandb.com/library/init) – Initialize a new W&B Run. Each Run is a single execution of the training function.\n",
    "* [**`wandb.config`**](https://docs.wandb.com/library/config) – Save all your hyperparameters in a configuration object so they can be logged. Read more about how to use `wandb.config` [here](https://colab.research.google.com/github/wandb/examples/blob/master/colabs/wandb-config/Configs_in_W%26B.ipynb).\n",
    "* [**`wandb.log()`**](https://docs.wandb.com/library/log) – log model behavior to W&B. Here, we just log the performance; see [this Colab](https://colab.research.google.com/github/wandb/examples/blob/master/colabs/wandb-log/Log_(Almost)_Anything_with_W%26B_Media.ipynb) for all the other rich media that can be logged with `wandb.log`.\n",
    "\n",
    "For more details on instrumenting W&B with PyTorch, see [this Colab](https://colab.research.google.com/github/wandb/examples/blob/master/colabs/pytorch/Simple_PyTorch_Integration.ipynb)."
   ]
  },
  {
   "cell_type": "code",
   "execution_count": 20,
   "metadata": {
    "id": "UMlizVTr5qMG",
    "ExecuteTime": {
     "end_time": "2023-11-27T15:15:30.297380963Z",
     "start_time": "2023-11-27T15:15:30.244166863Z"
    }
   },
   "outputs": [
    {
     "name": "stdout",
     "output_type": "stream",
     "text": [
      "Training on cuda\n"
     ]
    }
   ],
   "source": [
    "import torch\n",
    "import torch.optim as optim\n",
    "import torch.nn.functional as F\n",
    "import pandas as pd\n",
    "import numpy as np\n",
    "from torch.utils.data import TensorDataset, DataLoader\n",
    "from models import LSTMModel, RNNModel, GRUModel\n",
    "\n",
    "device = torch.device(\"cuda\" if torch.cuda.is_available() else \"cpu\")\n",
    "\n",
    "print(f\"Training on {device}\")\n",
    "\n",
    "\n",
    "def train(config=None):\n",
    "    # Initialize a new wandb run\n",
    "    with wandb.init(config=config):\n",
    "        # If called by wandb.agent, as below,\n",
    "        # this config will be set by Sweep Controller\n",
    "        config = wandb.config\n",
    "\n",
    "        X, y, input_dim, output_dim = load_features_labels()\n",
    "        X_train, X_val, y_train, y_val = split_train_val(X, y, config.train_val_ratio)\n",
    "        train_loader = build_dataset(config.batch_size, X_train, y_train)\n",
    "        val_loader = build_dataset(config.batch_size, X_val, y_val)\n",
    "        network = build_network(config.fc_layer_size, config.dropout, config.num_layers, input_dim, output_dim,\n",
    "                                config.model)\n",
    "        optimizer = build_optimizer(network, config.optimizer, config.learning_rate)\n",
    "\n",
    "        for epoch in range(config.epochs):\n",
    "            avg_loss = train_epoch(network, train_loader, optimizer, config.batch_size, input_dim)\n",
    "            avg_val_loss = val_epoch(network, val_loader, config.batch_size, input_dim)\n",
    "            wandb.log({\"loss\": avg_loss, \"epoch\": epoch})\n",
    "            wandb.log({\"loss (validation)\": avg_val_loss, \"epoch\": epoch})"
   ]
  },
  {
   "cell_type": "code",
   "execution_count": 21,
   "outputs": [],
   "source": [
    "def load_features_labels():\n",
    "    df = pd.read_csv(\"../data/preprocessing/02_pp_sg_train_features.csv\", sep=\";\")\n",
    "\n",
    "    parking_data_labels = [\"P24\", \"P44\", \"P42\", \"P33\", \"P23\", \"P25\", \"P21\", \"P31\", \"P53\", \"P32\", \"P22\", \"P52\", \"P51\",\n",
    "                           \"P43\"]  # TODO get these from metadata file\n",
    "    ignored_columns = [\"datetime\", \"date\", \"year\", \"month\", \"day\", \"weekdayname\", \"weekday\", \"time\", \"hour\", \"minute\"]\n",
    "\n",
    "    y = df[parking_data_labels]\n",
    "    X = df.drop(columns=parking_data_labels)\n",
    "    X = X.drop(columns=ignored_columns)\n",
    "\n",
    "    input_dim = len(X.columns)\n",
    "    output_dim = len(y.columns)\n",
    "\n",
    "    print(f\"Input dimension: {input_dim}, columns: {X.columns}\")\n",
    "    print(f\"Output dimension: {output_dim}, columns: {y.columns}\")\n",
    "\n",
    "    return X, y, input_dim, output_dim\n",
    "\n",
    "\n",
    "def split_train_val(X, y, train_val_ratio):\n",
    "    train_size = int(len(X) * train_val_ratio)\n",
    "    X_train, X_val = X[:train_size], X[train_size:]\n",
    "    y_train, y_val = y[:train_size], y[train_size:]\n",
    "    return X_train, X_val, y_train, y_val"
   ],
   "metadata": {
    "collapsed": false,
    "ExecuteTime": {
     "end_time": "2023-11-27T15:15:30.340741063Z",
     "start_time": "2023-11-27T15:15:30.281677263Z"
    }
   }
  },
  {
   "cell_type": "markdown",
   "metadata": {
    "id": "Lq8SQD9s5qMG"
   },
   "source": [
    "This cell defines the four pieces of our training procedure:\n",
    "`build_dataset`, `build_network`, `build_optimizer`, and `train_epoch`.\n",
    "\n",
    "All of these are a standard part of a basic PyTorch pipeline,\n",
    "and their implementation is unaffected by the use of W&B,\n",
    "so we won't comment on them."
   ]
  },
  {
   "cell_type": "code",
   "execution_count": 22,
   "metadata": {
    "id": "PMNNnYkr5qMG",
    "ExecuteTime": {
     "end_time": "2023-11-27T15:15:30.668104064Z",
     "start_time": "2023-11-27T15:15:30.640487164Z"
    }
   },
   "outputs": [],
   "source": [
    "def build_dataset(batch_size, X, y):\n",
    "    features = torch.Tensor(X.values)\n",
    "    targets = torch.Tensor(y.values)\n",
    "\n",
    "    dataset = TensorDataset(features, targets)\n",
    "\n",
    "    return DataLoader(dataset, batch_size=batch_size, shuffle=False, drop_last=True)\n",
    "\n",
    "\n",
    "def build_network(fc_layer_size, dropout, num_layers, input_dim, output_dim, model):\n",
    "    if model == \"rnn\":\n",
    "        network = RNNModel(input_dim=input_dim, hidden_dim=fc_layer_size, layer_dim=num_layers, output_dim=output_dim,\n",
    "                           dropout_prob=dropout)\n",
    "    elif model == \"lstm\":\n",
    "        network = LSTMModel(input_dim=input_dim, hidden_dim=fc_layer_size, layer_dim=num_layers, output_dim=output_dim,\n",
    "                            dropout_prob=dropout)\n",
    "    elif model == \"gru\":\n",
    "        network = GRUModel(input_dim=input_dim, hidden_dim=fc_layer_size, layer_dim=num_layers, output_dim=output_dim,\n",
    "                           dropout_prob=dropout)\n",
    "    else:\n",
    "        raise ValueError(f\"Invalid model value: {model}\")\n",
    "\n",
    "    return network.to(device)\n",
    "\n",
    "\n",
    "def build_optimizer(network, optimizer, learning_rate):\n",
    "    if optimizer == \"sgd\":\n",
    "        optimizer = optim.SGD(network.parameters(),\n",
    "                              lr=learning_rate, momentum=0.9)\n",
    "    elif optimizer == \"adam\":\n",
    "        optimizer = optim.Adam(network.parameters(),\n",
    "                               lr=learning_rate)\n",
    "    return optimizer\n",
    "\n",
    "\n",
    "def train_epoch(network, loader, optimizer, batch_size, input_dim):\n",
    "    losses = []\n",
    "    network.train()\n",
    "    for _, (data, target) in enumerate(loader):\n",
    "        data, target = data.view([batch_size, -1, input_dim]).to(device), target.to(device)\n",
    "        optimizer.zero_grad()\n",
    "\n",
    "        # output = network(data.unsqueeze(0)).squeeze() # See https://medium.com/@mike.roweprediger/using-pytorch-to-train-an-lstm-forecasting-model-e5a04b6e0e67\n",
    "\n",
    "        # ➡ Forward pass\n",
    "        loss = F.mse_loss(network(data), target)\n",
    "        losses.append(loss.item())\n",
    "\n",
    "        # ⬅ Backward pass + weight update\n",
    "        loss.backward()\n",
    "        optimizer.step()\n",
    "\n",
    "        wandb.log({\"batch loss\": loss.item()})\n",
    "\n",
    "    return np.mean(losses)\n",
    "\n",
    "\n",
    "def val_epoch(network, loader, batch_size, input_dim):\n",
    "    losses = []\n",
    "    with torch.no_grad():\n",
    "        network.eval()\n",
    "        for _, (data, target) in enumerate(loader):\n",
    "            data, target = data.view([batch_size, -1, input_dim]).to(device), target.to(device)\n",
    "            loss = F.mse_loss(network(data), target)\n",
    "            losses.append(loss.item())\n",
    "\n",
    "            wandb.log({\"batch loss (validation)\": loss.item()})\n",
    "\n",
    "    return np.mean(losses)"
   ]
  },
  {
   "cell_type": "markdown",
   "metadata": {
    "id": "UIEd9-Gm5qMH"
   },
   "source": [
    "The cell below will launch an `agent` that runs `train` 5 times,\n",
    "usingly the randomly-generated hyperparameter values returned by the Sweep Controller. Execution takes under 5 minutes."
   ]
  },
  {
   "cell_type": "markdown",
   "source": [
    "Now, we're ready to start sweeping! 🧹🧹🧹\n",
    "\n",
    "Sweep Controllers, like the one we made by running `wandb.sweep`, sit waiting for someone to ask them for a `config` to try out.\n",
    "\n",
    "That someone is an `agent`, and they are created with `wandb.agent`.\n",
    "To get going, the agent just needs to know\n",
    "1. which Sweep it's a part of (`sweep_id`)\n",
    "2. which function it's supposed to run (here, `train`)\n",
    "3. (optionally) how many configs to ask the Controller for (`count`)"
   ],
   "metadata": {
    "collapsed": false
   }
  },
  {
   "cell_type": "code",
   "execution_count": 23,
   "metadata": {
    "id": "KjgClaFq5qMH",
    "ExecuteTime": {
     "end_time": "2023-11-27T15:48:02.700695559Z",
     "start_time": "2023-11-27T15:15:32.499213571Z"
    }
   },
   "outputs": [
    {
     "name": "stderr",
     "output_type": "stream",
     "text": [
      "\u001B[34m\u001B[1mwandb\u001B[0m: Agent Starting Run: ebuyuynd with config:\n",
      "\u001B[34m\u001B[1mwandb\u001B[0m: \tbatch_size: 40\n",
      "\u001B[34m\u001B[1mwandb\u001B[0m: \tdropout: 0\n",
      "\u001B[34m\u001B[1mwandb\u001B[0m: \tepochs: 20\n",
      "\u001B[34m\u001B[1mwandb\u001B[0m: \tfc_layer_size: 50\n",
      "\u001B[34m\u001B[1mwandb\u001B[0m: \tlearning_rate: 0.03949398109496424\n",
      "\u001B[34m\u001B[1mwandb\u001B[0m: \tmodel: lstm\n",
      "\u001B[34m\u001B[1mwandb\u001B[0m: \tnum_layers: 4\n",
      "\u001B[34m\u001B[1mwandb\u001B[0m: \toptimizer: sgd\n",
      "\u001B[34m\u001B[1mwandb\u001B[0m: \ttrain_val_ratio: 0.8\n"
     ]
    },
    {
     "data": {
      "text/plain": "<IPython.core.display.HTML object>",
      "text/html": "Tracking run with wandb version 0.16.0"
     },
     "metadata": {},
     "output_type": "display_data"
    },
    {
     "data": {
      "text/plain": "<IPython.core.display.HTML object>",
      "text/html": "Run data is saved locally in <code>/home/jan/Projects/parcaster/model/wandb/run-20231127_161535-ebuyuynd</code>"
     },
     "metadata": {},
     "output_type": "display_data"
    },
    {
     "data": {
      "text/plain": "<IPython.core.display.HTML object>",
      "text/html": "Syncing run <strong><a href='https://wandb.ai/parcaster/pp-sg-lstm/runs/ebuyuynd' target=\"_blank\">different-sweep-1</a></strong> to <a href='https://wandb.ai/parcaster/pp-sg-lstm' target=\"_blank\">Weights & Biases</a> (<a href='https://wandb.me/run' target=\"_blank\">docs</a>)<br/>Sweep page: <a href='https://wandb.ai/parcaster/pp-sg-lstm/sweeps/haw2fsrn' target=\"_blank\">https://wandb.ai/parcaster/pp-sg-lstm/sweeps/haw2fsrn</a>"
     },
     "metadata": {},
     "output_type": "display_data"
    },
    {
     "data": {
      "text/plain": "<IPython.core.display.HTML object>",
      "text/html": " View project at <a href='https://wandb.ai/parcaster/pp-sg-lstm' target=\"_blank\">https://wandb.ai/parcaster/pp-sg-lstm</a>"
     },
     "metadata": {},
     "output_type": "display_data"
    },
    {
     "data": {
      "text/plain": "<IPython.core.display.HTML object>",
      "text/html": " View sweep at <a href='https://wandb.ai/parcaster/pp-sg-lstm/sweeps/haw2fsrn' target=\"_blank\">https://wandb.ai/parcaster/pp-sg-lstm/sweeps/haw2fsrn</a>"
     },
     "metadata": {},
     "output_type": "display_data"
    },
    {
     "data": {
      "text/plain": "<IPython.core.display.HTML object>",
      "text/html": " View run at <a href='https://wandb.ai/parcaster/pp-sg-lstm/runs/ebuyuynd' target=\"_blank\">https://wandb.ai/parcaster/pp-sg-lstm/runs/ebuyuynd</a>"
     },
     "metadata": {},
     "output_type": "display_data"
    },
    {
     "name": "stdout",
     "output_type": "stream",
     "text": [
      "Input dimension: 18, columns: Index(['ferien', 'feiertag', 'covid_19', 'olma_offa', 'temperature_2m_max',\n",
      "       'temperature_2m_min', 'rain_sum', 'snowfall_sum', 'sin_minute',\n",
      "       'cos_minute', 'sin_hour', 'cos_hour', 'sin_weekday', 'cos_weekday',\n",
      "       'sin_day', 'cos_day', 'sin_month', 'cos_month'],\n",
      "      dtype='object')\n",
      "Output dimension: 14, columns: Index(['P24', 'P44', 'P42', 'P33', 'P23', 'P25', 'P21', 'P31', 'P53', 'P32',\n",
      "       'P22', 'P52', 'P51', 'P43'],\n",
      "      dtype='object')\n"
     ]
    },
    {
     "data": {
      "text/plain": "VBox(children=(Label(value='0.003 MB of 0.006 MB uploaded\\r'), FloatProgress(value=0.49807007125890734, max=1.…",
      "application/vnd.jupyter.widget-view+json": {
       "version_major": 2,
       "version_minor": 0,
       "model_id": "0d53ce36fd774c08bb12e69ace186788"
      }
     },
     "metadata": {},
     "output_type": "display_data"
    },
    {
     "data": {
      "text/plain": "<IPython.core.display.HTML object>",
      "text/html": "<style>\n    table.wandb td:nth-child(1) { padding: 0 10px; text-align: left ; width: auto;} td:nth-child(2) {text-align: left ; width: 100%}\n    .wandb-row { display: flex; flex-direction: row; flex-wrap: wrap; justify-content: flex-start; width: 100% }\n    .wandb-col { display: flex; flex-direction: column; flex-basis: 100%; flex: 1; padding: 10px; }\n    </style>\n<div class=\"wandb-row\"><div class=\"wandb-col\"><h3>Run history:</h3><br/><table class=\"wandb\"><tr><td>batch loss</td><td>▁▃▁▃▂▃▁▃▂▃▁▃▂▃▁▃▂▃▁▃▂▃▁▃▂▃▂▃▂▃▂▃▂▃▂▃▂▃▂█</td></tr><tr><td>batch loss (validation)</td><td>▁▄▇▆▁▄▇▆▁▄▇▆▁▃▇▆▁▃▇▆▁▃▇▆▁▃▄▆▁▃▄▆▁▃▄▆▁▃▄█</td></tr><tr><td>epoch</td><td>▁▁▁▁▂▂▂▂▂▂▃▃▃▃▄▄▄▄▄▄▅▅▅▅▅▅▆▆▆▆▇▇▇▇▇▇████</td></tr><tr><td>loss</td><td>▁███████████████████</td></tr><tr><td>loss (validation)</td><td>█▁▅▅▅▅▅▁█▅▅▅▅▅▁▁▅█▅█</td></tr></table><br/></div><div class=\"wandb-col\"><h3>Run summary:</h3><br/><table class=\"wandb\"><tr><td>batch loss</td><td>5717.71875</td></tr><tr><td>batch loss (validation)</td><td>5734.19092</td></tr><tr><td>epoch</td><td>19</td></tr><tr><td>loss</td><td>2682.32468</td></tr><tr><td>loss (validation)</td><td>4614.96757</td></tr></table><br/></div></div>"
     },
     "metadata": {},
     "output_type": "display_data"
    },
    {
     "data": {
      "text/plain": "<IPython.core.display.HTML object>",
      "text/html": " View run <strong style=\"color:#cdcd00\">different-sweep-1</strong> at: <a href='https://wandb.ai/parcaster/pp-sg-lstm/runs/ebuyuynd' target=\"_blank\">https://wandb.ai/parcaster/pp-sg-lstm/runs/ebuyuynd</a><br/>Synced 5 W&B file(s), 0 media file(s), 0 artifact file(s) and 0 other file(s)"
     },
     "metadata": {},
     "output_type": "display_data"
    },
    {
     "data": {
      "text/plain": "<IPython.core.display.HTML object>",
      "text/html": "Find logs at: <code>./wandb/run-20231127_161535-ebuyuynd/logs</code>"
     },
     "metadata": {},
     "output_type": "display_data"
    },
    {
     "name": "stderr",
     "output_type": "stream",
     "text": [
      "\u001B[34m\u001B[1mwandb\u001B[0m: Agent Starting Run: oe1vygm9 with config:\n",
      "\u001B[34m\u001B[1mwandb\u001B[0m: \tbatch_size: 168\n",
      "\u001B[34m\u001B[1mwandb\u001B[0m: \tdropout: 0\n",
      "\u001B[34m\u001B[1mwandb\u001B[0m: \tepochs: 20\n",
      "\u001B[34m\u001B[1mwandb\u001B[0m: \tfc_layer_size: 1000\n",
      "\u001B[34m\u001B[1mwandb\u001B[0m: \tlearning_rate: 0.014732909192830004\n",
      "\u001B[34m\u001B[1mwandb\u001B[0m: \tmodel: lstm\n",
      "\u001B[34m\u001B[1mwandb\u001B[0m: \tnum_layers: 8\n",
      "\u001B[34m\u001B[1mwandb\u001B[0m: \toptimizer: sgd\n",
      "\u001B[34m\u001B[1mwandb\u001B[0m: \ttrain_val_ratio: 0.8\n"
     ]
    },
    {
     "data": {
      "text/plain": "<IPython.core.display.HTML object>",
      "text/html": "Tracking run with wandb version 0.16.0"
     },
     "metadata": {},
     "output_type": "display_data"
    },
    {
     "data": {
      "text/plain": "<IPython.core.display.HTML object>",
      "text/html": "Run data is saved locally in <code>/home/jan/Projects/parcaster/model/wandb/run-20231127_161647-oe1vygm9</code>"
     },
     "metadata": {},
     "output_type": "display_data"
    },
    {
     "data": {
      "text/plain": "<IPython.core.display.HTML object>",
      "text/html": "Syncing run <strong><a href='https://wandb.ai/parcaster/pp-sg-lstm/runs/oe1vygm9' target=\"_blank\">blooming-sweep-2</a></strong> to <a href='https://wandb.ai/parcaster/pp-sg-lstm' target=\"_blank\">Weights & Biases</a> (<a href='https://wandb.me/run' target=\"_blank\">docs</a>)<br/>Sweep page: <a href='https://wandb.ai/parcaster/pp-sg-lstm/sweeps/haw2fsrn' target=\"_blank\">https://wandb.ai/parcaster/pp-sg-lstm/sweeps/haw2fsrn</a>"
     },
     "metadata": {},
     "output_type": "display_data"
    },
    {
     "data": {
      "text/plain": "<IPython.core.display.HTML object>",
      "text/html": " View project at <a href='https://wandb.ai/parcaster/pp-sg-lstm' target=\"_blank\">https://wandb.ai/parcaster/pp-sg-lstm</a>"
     },
     "metadata": {},
     "output_type": "display_data"
    },
    {
     "data": {
      "text/plain": "<IPython.core.display.HTML object>",
      "text/html": " View sweep at <a href='https://wandb.ai/parcaster/pp-sg-lstm/sweeps/haw2fsrn' target=\"_blank\">https://wandb.ai/parcaster/pp-sg-lstm/sweeps/haw2fsrn</a>"
     },
     "metadata": {},
     "output_type": "display_data"
    },
    {
     "data": {
      "text/plain": "<IPython.core.display.HTML object>",
      "text/html": " View run at <a href='https://wandb.ai/parcaster/pp-sg-lstm/runs/oe1vygm9' target=\"_blank\">https://wandb.ai/parcaster/pp-sg-lstm/runs/oe1vygm9</a>"
     },
     "metadata": {},
     "output_type": "display_data"
    },
    {
     "name": "stdout",
     "output_type": "stream",
     "text": [
      "Input dimension: 18, columns: Index(['ferien', 'feiertag', 'covid_19', 'olma_offa', 'temperature_2m_max',\n",
      "       'temperature_2m_min', 'rain_sum', 'snowfall_sum', 'sin_minute',\n",
      "       'cos_minute', 'sin_hour', 'cos_hour', 'sin_weekday', 'cos_weekday',\n",
      "       'sin_day', 'cos_day', 'sin_month', 'cos_month'],\n",
      "      dtype='object')\n",
      "Output dimension: 14, columns: Index(['P24', 'P44', 'P42', 'P33', 'P23', 'P25', 'P21', 'P31', 'P53', 'P32',\n",
      "       'P22', 'P52', 'P51', 'P43'],\n",
      "      dtype='object')\n"
     ]
    },
    {
     "data": {
      "text/plain": "VBox(children=(Label(value='0.003 MB of 0.006 MB uploaded\\r'), FloatProgress(value=0.5358731099911058, max=1.0…",
      "application/vnd.jupyter.widget-view+json": {
       "version_major": 2,
       "version_minor": 0,
       "model_id": "d283f1138c5c441e8f48b8811815d292"
      }
     },
     "metadata": {},
     "output_type": "display_data"
    },
    {
     "data": {
      "text/plain": "<IPython.core.display.HTML object>",
      "text/html": "<style>\n    table.wandb td:nth-child(1) { padding: 0 10px; text-align: left ; width: auto;} td:nth-child(2) {text-align: left ; width: 100%}\n    .wandb-row { display: flex; flex-direction: row; flex-wrap: wrap; justify-content: flex-start; width: 100% }\n    .wandb-col { display: flex; flex-direction: column; flex-basis: 100%; flex: 1; padding: 10px; }\n    </style>\n<div class=\"wandb-row\"><div class=\"wandb-col\"><h3>Run history:</h3><br/><table class=\"wandb\"><tr><td>batch loss</td><td>▁▂█▁▂▃▁▂▇▁▂▂▁▁▄▁▂▂▁▁▃▁▃▁▁▁▂▁▃▁▁▁▂▁▂▁▁▁▁▁</td></tr><tr><td>batch loss (validation)</td><td>▂▅▂▁▂█▂▃▁▃▂▆▃▄▁▂▂▃█▄▁▂▂▂▅▄▂▂▂▂▆▅▂▂▂▁▂█▂▄</td></tr><tr><td>epoch</td><td>▁▁▁▁▂▂▂▂▂▂▃▃▃▃▄▄▄▄▄▄▅▅▅▅▅▅▆▆▆▆▇▇▇▇▇▇████</td></tr><tr><td>loss</td><td>▁█▇█████▇▇▇▇▇▇▇▇▇▇▇▇</td></tr><tr><td>loss (validation)</td><td>▇█▇▇▇▇▇▇▅▅▅▁▁▁▁▁▁▁▁▁</td></tr></table><br/></div><div class=\"wandb-col\"><h3>Run summary:</h3><br/><table class=\"wandb\"><tr><td>batch loss</td><td>3433.56274</td></tr><tr><td>batch loss (validation)</td><td>6040.66455</td></tr><tr><td>epoch</td><td>19</td></tr><tr><td>loss</td><td>3539.27684</td></tr><tr><td>loss (validation)</td><td>4822.57174</td></tr></table><br/></div></div>"
     },
     "metadata": {},
     "output_type": "display_data"
    },
    {
     "data": {
      "text/plain": "<IPython.core.display.HTML object>",
      "text/html": " View run <strong style=\"color:#cdcd00\">blooming-sweep-2</strong> at: <a href='https://wandb.ai/parcaster/pp-sg-lstm/runs/oe1vygm9' target=\"_blank\">https://wandb.ai/parcaster/pp-sg-lstm/runs/oe1vygm9</a><br/>Synced 5 W&B file(s), 0 media file(s), 0 artifact file(s) and 0 other file(s)"
     },
     "metadata": {},
     "output_type": "display_data"
    },
    {
     "data": {
      "text/plain": "<IPython.core.display.HTML object>",
      "text/html": "Find logs at: <code>./wandb/run-20231127_161647-oe1vygm9/logs</code>"
     },
     "metadata": {},
     "output_type": "display_data"
    },
    {
     "name": "stderr",
     "output_type": "stream",
     "text": [
      "\u001B[34m\u001B[1mwandb\u001B[0m: Agent Starting Run: 3l1dbavy with config:\n",
      "\u001B[34m\u001B[1mwandb\u001B[0m: \tbatch_size: 64\n",
      "\u001B[34m\u001B[1mwandb\u001B[0m: \tdropout: 0.2\n",
      "\u001B[34m\u001B[1mwandb\u001B[0m: \tepochs: 20\n",
      "\u001B[34m\u001B[1mwandb\u001B[0m: \tfc_layer_size: 400\n",
      "\u001B[34m\u001B[1mwandb\u001B[0m: \tlearning_rate: 0.02848552694795489\n",
      "\u001B[34m\u001B[1mwandb\u001B[0m: \tmodel: lstm\n",
      "\u001B[34m\u001B[1mwandb\u001B[0m: \tnum_layers: 16\n",
      "\u001B[34m\u001B[1mwandb\u001B[0m: \toptimizer: sgd\n",
      "\u001B[34m\u001B[1mwandb\u001B[0m: \ttrain_val_ratio: 0.8\n"
     ]
    },
    {
     "data": {
      "text/plain": "<IPython.core.display.HTML object>",
      "text/html": "Tracking run with wandb version 0.16.0"
     },
     "metadata": {},
     "output_type": "display_data"
    },
    {
     "data": {
      "text/plain": "<IPython.core.display.HTML object>",
      "text/html": "Run data is saved locally in <code>/home/jan/Projects/parcaster/model/wandb/run-20231127_161820-3l1dbavy</code>"
     },
     "metadata": {},
     "output_type": "display_data"
    },
    {
     "data": {
      "text/plain": "<IPython.core.display.HTML object>",
      "text/html": "Syncing run <strong><a href='https://wandb.ai/parcaster/pp-sg-lstm/runs/3l1dbavy' target=\"_blank\">icy-sweep-3</a></strong> to <a href='https://wandb.ai/parcaster/pp-sg-lstm' target=\"_blank\">Weights & Biases</a> (<a href='https://wandb.me/run' target=\"_blank\">docs</a>)<br/>Sweep page: <a href='https://wandb.ai/parcaster/pp-sg-lstm/sweeps/haw2fsrn' target=\"_blank\">https://wandb.ai/parcaster/pp-sg-lstm/sweeps/haw2fsrn</a>"
     },
     "metadata": {},
     "output_type": "display_data"
    },
    {
     "data": {
      "text/plain": "<IPython.core.display.HTML object>",
      "text/html": " View project at <a href='https://wandb.ai/parcaster/pp-sg-lstm' target=\"_blank\">https://wandb.ai/parcaster/pp-sg-lstm</a>"
     },
     "metadata": {},
     "output_type": "display_data"
    },
    {
     "data": {
      "text/plain": "<IPython.core.display.HTML object>",
      "text/html": " View sweep at <a href='https://wandb.ai/parcaster/pp-sg-lstm/sweeps/haw2fsrn' target=\"_blank\">https://wandb.ai/parcaster/pp-sg-lstm/sweeps/haw2fsrn</a>"
     },
     "metadata": {},
     "output_type": "display_data"
    },
    {
     "data": {
      "text/plain": "<IPython.core.display.HTML object>",
      "text/html": " View run at <a href='https://wandb.ai/parcaster/pp-sg-lstm/runs/3l1dbavy' target=\"_blank\">https://wandb.ai/parcaster/pp-sg-lstm/runs/3l1dbavy</a>"
     },
     "metadata": {},
     "output_type": "display_data"
    },
    {
     "name": "stdout",
     "output_type": "stream",
     "text": [
      "Input dimension: 18, columns: Index(['ferien', 'feiertag', 'covid_19', 'olma_offa', 'temperature_2m_max',\n",
      "       'temperature_2m_min', 'rain_sum', 'snowfall_sum', 'sin_minute',\n",
      "       'cos_minute', 'sin_hour', 'cos_hour', 'sin_weekday', 'cos_weekday',\n",
      "       'sin_day', 'cos_day', 'sin_month', 'cos_month'],\n",
      "      dtype='object')\n",
      "Output dimension: 14, columns: Index(['P24', 'P44', 'P42', 'P33', 'P23', 'P25', 'P21', 'P31', 'P53', 'P32',\n",
      "       'P22', 'P52', 'P51', 'P43'],\n",
      "      dtype='object')\n"
     ]
    },
    {
     "data": {
      "text/plain": "VBox(children=(Label(value='0.003 MB of 0.003 MB uploaded\\r'), FloatProgress(value=1.0, max=1.0)))",
      "application/vnd.jupyter.widget-view+json": {
       "version_major": 2,
       "version_minor": 0,
       "model_id": "e3d2b12eb2944d1c95fb98d806d8c709"
      }
     },
     "metadata": {},
     "output_type": "display_data"
    },
    {
     "data": {
      "text/plain": "<IPython.core.display.HTML object>",
      "text/html": "<style>\n    table.wandb td:nth-child(1) { padding: 0 10px; text-align: left ; width: auto;} td:nth-child(2) {text-align: left ; width: 100%}\n    .wandb-row { display: flex; flex-direction: row; flex-wrap: wrap; justify-content: flex-start; width: 100% }\n    .wandb-col { display: flex; flex-direction: column; flex-basis: 100%; flex: 1; padding: 10px; }\n    </style>\n<div class=\"wandb-row\"><div class=\"wandb-col\"><h3>Run history:</h3><br/><table class=\"wandb\"><tr><td>batch loss</td><td>▃▂▁▂▂▂█▂▃▃▂▂▇▁▃▃▃▃▂▂▂▁▇▂▂▁▂▂▁▂▂▃▃▂▂▂▂▁▄▃</td></tr><tr><td>batch loss (validation)</td><td>▅▅▄▆▆▆▄▅▄▆▅█▄▆▄▄▅▅▄▆▆▅▄▅▃▂▃▅▂▂▂▁▁▂▁▂▂▁▁▁</td></tr><tr><td>epoch</td><td>▁▁▁▁▂▂▂▂▂▂▃▃▃▃▄▄▄▄▄▄▅▅▅▅▅▅▆▆▆▆▇▇▇▇▇▇████</td></tr><tr><td>loss</td><td>▇█████▇██▇███▄▃▂▁▁▁▁</td></tr><tr><td>loss (validation)</td><td>███████████▇▇▃▂▂▁▁▁▁</td></tr></table><br/></div><div class=\"wandb-col\"><h3>Run summary:</h3><br/><table class=\"wandb\"><tr><td>batch loss</td><td>5892.92725</td></tr><tr><td>batch loss (validation)</td><td>6525.74463</td></tr><tr><td>epoch</td><td>19</td></tr><tr><td>loss</td><td>2754.43659</td></tr><tr><td>loss (validation)</td><td>6559.62048</td></tr></table><br/></div></div>"
     },
     "metadata": {},
     "output_type": "display_data"
    },
    {
     "data": {
      "text/plain": "<IPython.core.display.HTML object>",
      "text/html": " View run <strong style=\"color:#cdcd00\">icy-sweep-3</strong> at: <a href='https://wandb.ai/parcaster/pp-sg-lstm/runs/3l1dbavy' target=\"_blank\">https://wandb.ai/parcaster/pp-sg-lstm/runs/3l1dbavy</a><br/>Synced 5 W&B file(s), 0 media file(s), 0 artifact file(s) and 0 other file(s)"
     },
     "metadata": {},
     "output_type": "display_data"
    },
    {
     "data": {
      "text/plain": "<IPython.core.display.HTML object>",
      "text/html": "Find logs at: <code>./wandb/run-20231127_161820-3l1dbavy/logs</code>"
     },
     "metadata": {},
     "output_type": "display_data"
    },
    {
     "name": "stderr",
     "output_type": "stream",
     "text": [
      "\u001B[34m\u001B[1mwandb\u001B[0m: Agent Starting Run: 0e16frlm with config:\n",
      "\u001B[34m\u001B[1mwandb\u001B[0m: \tbatch_size: 40\n",
      "\u001B[34m\u001B[1mwandb\u001B[0m: \tdropout: 0.5\n",
      "\u001B[34m\u001B[1mwandb\u001B[0m: \tepochs: 20\n",
      "\u001B[34m\u001B[1mwandb\u001B[0m: \tfc_layer_size: 50\n",
      "\u001B[34m\u001B[1mwandb\u001B[0m: \tlearning_rate: 0.01791191807668697\n",
      "\u001B[34m\u001B[1mwandb\u001B[0m: \tmodel: lstm\n",
      "\u001B[34m\u001B[1mwandb\u001B[0m: \tnum_layers: 8\n",
      "\u001B[34m\u001B[1mwandb\u001B[0m: \toptimizer: sgd\n",
      "\u001B[34m\u001B[1mwandb\u001B[0m: \ttrain_val_ratio: 0.8\n"
     ]
    },
    {
     "data": {
      "text/plain": "<IPython.core.display.HTML object>",
      "text/html": "Tracking run with wandb version 0.16.0"
     },
     "metadata": {},
     "output_type": "display_data"
    },
    {
     "data": {
      "text/plain": "<IPython.core.display.HTML object>",
      "text/html": "Run data is saved locally in <code>/home/jan/Projects/parcaster/model/wandb/run-20231127_162024-0e16frlm</code>"
     },
     "metadata": {},
     "output_type": "display_data"
    },
    {
     "data": {
      "text/plain": "<IPython.core.display.HTML object>",
      "text/html": "Syncing run <strong><a href='https://wandb.ai/parcaster/pp-sg-lstm/runs/0e16frlm' target=\"_blank\">graceful-sweep-4</a></strong> to <a href='https://wandb.ai/parcaster/pp-sg-lstm' target=\"_blank\">Weights & Biases</a> (<a href='https://wandb.me/run' target=\"_blank\">docs</a>)<br/>Sweep page: <a href='https://wandb.ai/parcaster/pp-sg-lstm/sweeps/haw2fsrn' target=\"_blank\">https://wandb.ai/parcaster/pp-sg-lstm/sweeps/haw2fsrn</a>"
     },
     "metadata": {},
     "output_type": "display_data"
    },
    {
     "data": {
      "text/plain": "<IPython.core.display.HTML object>",
      "text/html": " View project at <a href='https://wandb.ai/parcaster/pp-sg-lstm' target=\"_blank\">https://wandb.ai/parcaster/pp-sg-lstm</a>"
     },
     "metadata": {},
     "output_type": "display_data"
    },
    {
     "data": {
      "text/plain": "<IPython.core.display.HTML object>",
      "text/html": " View sweep at <a href='https://wandb.ai/parcaster/pp-sg-lstm/sweeps/haw2fsrn' target=\"_blank\">https://wandb.ai/parcaster/pp-sg-lstm/sweeps/haw2fsrn</a>"
     },
     "metadata": {},
     "output_type": "display_data"
    },
    {
     "data": {
      "text/plain": "<IPython.core.display.HTML object>",
      "text/html": " View run at <a href='https://wandb.ai/parcaster/pp-sg-lstm/runs/0e16frlm' target=\"_blank\">https://wandb.ai/parcaster/pp-sg-lstm/runs/0e16frlm</a>"
     },
     "metadata": {},
     "output_type": "display_data"
    },
    {
     "name": "stdout",
     "output_type": "stream",
     "text": [
      "Input dimension: 18, columns: Index(['ferien', 'feiertag', 'covid_19', 'olma_offa', 'temperature_2m_max',\n",
      "       'temperature_2m_min', 'rain_sum', 'snowfall_sum', 'sin_minute',\n",
      "       'cos_minute', 'sin_hour', 'cos_hour', 'sin_weekday', 'cos_weekday',\n",
      "       'sin_day', 'cos_day', 'sin_month', 'cos_month'],\n",
      "      dtype='object')\n",
      "Output dimension: 14, columns: Index(['P24', 'P44', 'P42', 'P33', 'P23', 'P25', 'P21', 'P31', 'P53', 'P32',\n",
      "       'P22', 'P52', 'P51', 'P43'],\n",
      "      dtype='object')\n"
     ]
    },
    {
     "data": {
      "text/plain": "VBox(children=(Label(value='0.003 MB of 0.003 MB uploaded\\r'), FloatProgress(value=1.0, max=1.0)))",
      "application/vnd.jupyter.widget-view+json": {
       "version_major": 2,
       "version_minor": 0,
       "model_id": "29ac893a17eb43d695c683a62877c704"
      }
     },
     "metadata": {},
     "output_type": "display_data"
    },
    {
     "data": {
      "text/plain": "<IPython.core.display.HTML object>",
      "text/html": "<style>\n    table.wandb td:nth-child(1) { padding: 0 10px; text-align: left ; width: auto;} td:nth-child(2) {text-align: left ; width: 100%}\n    .wandb-row { display: flex; flex-direction: row; flex-wrap: wrap; justify-content: flex-start; width: 100% }\n    .wandb-col { display: flex; flex-direction: column; flex-basis: 100%; flex: 1; padding: 10px; }\n    </style>\n<div class=\"wandb-row\"><div class=\"wandb-col\"><h3>Run history:</h3><br/><table class=\"wandb\"><tr><td>batch loss</td><td>▄▄▁▅▄▄▁▅▄▄▁▅▃▄▁▅▃▄▄▅▃▄▂▅▃▅▅▄▃▅▅▄▃▅▅▄▃▅▅█</td></tr><tr><td>batch loss (validation)</td><td>▅▆▄█▅▆▄█▅▆▄█▆▅▄█▆▅▃▆▂▂▂▄▁▂▁▄▁▁▁▄▁▁▁▃▁▁▁▃</td></tr><tr><td>epoch</td><td>▁▁▁▁▂▂▂▂▂▂▃▃▃▃▄▄▄▄▄▄▅▅▅▅▅▅▆▆▆▆▇▇▇▇▇▇████</td></tr><tr><td>loss</td><td>█▇▇▇▇▇▆▆▅▄▂▁▁▂▂▂▂▂▂▂</td></tr><tr><td>loss (validation)</td><td>▇████████▄▃▂▂▁▁▁▁▁▁▁</td></tr></table><br/></div><div class=\"wandb-col\"><h3>Run summary:</h3><br/><table class=\"wandb\"><tr><td>batch loss</td><td>4165.88086</td></tr><tr><td>batch loss (validation)</td><td>5772.1416</td></tr><tr><td>epoch</td><td>19</td></tr><tr><td>loss</td><td>2437.55297</td></tr><tr><td>loss (validation)</td><td>4985.31192</td></tr></table><br/></div></div>"
     },
     "metadata": {},
     "output_type": "display_data"
    },
    {
     "data": {
      "text/plain": "<IPython.core.display.HTML object>",
      "text/html": " View run <strong style=\"color:#cdcd00\">graceful-sweep-4</strong> at: <a href='https://wandb.ai/parcaster/pp-sg-lstm/runs/0e16frlm' target=\"_blank\">https://wandb.ai/parcaster/pp-sg-lstm/runs/0e16frlm</a><br/>Synced 5 W&B file(s), 0 media file(s), 0 artifact file(s) and 0 other file(s)"
     },
     "metadata": {},
     "output_type": "display_data"
    },
    {
     "data": {
      "text/plain": "<IPython.core.display.HTML object>",
      "text/html": "Find logs at: <code>./wandb/run-20231127_162024-0e16frlm/logs</code>"
     },
     "metadata": {},
     "output_type": "display_data"
    },
    {
     "name": "stderr",
     "output_type": "stream",
     "text": [
      "\u001B[34m\u001B[1mwandb\u001B[0m: Agent Starting Run: ql97fm6u with config:\n",
      "\u001B[34m\u001B[1mwandb\u001B[0m: \tbatch_size: 40\n",
      "\u001B[34m\u001B[1mwandb\u001B[0m: \tdropout: 0.1\n",
      "\u001B[34m\u001B[1mwandb\u001B[0m: \tepochs: 20\n",
      "\u001B[34m\u001B[1mwandb\u001B[0m: \tfc_layer_size: 200\n",
      "\u001B[34m\u001B[1mwandb\u001B[0m: \tlearning_rate: 0.062215180740788946\n",
      "\u001B[34m\u001B[1mwandb\u001B[0m: \tmodel: lstm\n",
      "\u001B[34m\u001B[1mwandb\u001B[0m: \tnum_layers: 32\n",
      "\u001B[34m\u001B[1mwandb\u001B[0m: \toptimizer: sgd\n",
      "\u001B[34m\u001B[1mwandb\u001B[0m: \ttrain_val_ratio: 0.8\n"
     ]
    },
    {
     "data": {
      "text/plain": "<IPython.core.display.HTML object>",
      "text/html": "Tracking run with wandb version 0.16.0"
     },
     "metadata": {},
     "output_type": "display_data"
    },
    {
     "data": {
      "text/plain": "<IPython.core.display.HTML object>",
      "text/html": "Run data is saved locally in <code>/home/jan/Projects/parcaster/model/wandb/run-20231127_162136-ql97fm6u</code>"
     },
     "metadata": {},
     "output_type": "display_data"
    },
    {
     "data": {
      "text/plain": "<IPython.core.display.HTML object>",
      "text/html": "Syncing run <strong><a href='https://wandb.ai/parcaster/pp-sg-lstm/runs/ql97fm6u' target=\"_blank\">exalted-sweep-5</a></strong> to <a href='https://wandb.ai/parcaster/pp-sg-lstm' target=\"_blank\">Weights & Biases</a> (<a href='https://wandb.me/run' target=\"_blank\">docs</a>)<br/>Sweep page: <a href='https://wandb.ai/parcaster/pp-sg-lstm/sweeps/haw2fsrn' target=\"_blank\">https://wandb.ai/parcaster/pp-sg-lstm/sweeps/haw2fsrn</a>"
     },
     "metadata": {},
     "output_type": "display_data"
    },
    {
     "data": {
      "text/plain": "<IPython.core.display.HTML object>",
      "text/html": " View project at <a href='https://wandb.ai/parcaster/pp-sg-lstm' target=\"_blank\">https://wandb.ai/parcaster/pp-sg-lstm</a>"
     },
     "metadata": {},
     "output_type": "display_data"
    },
    {
     "data": {
      "text/plain": "<IPython.core.display.HTML object>",
      "text/html": " View sweep at <a href='https://wandb.ai/parcaster/pp-sg-lstm/sweeps/haw2fsrn' target=\"_blank\">https://wandb.ai/parcaster/pp-sg-lstm/sweeps/haw2fsrn</a>"
     },
     "metadata": {},
     "output_type": "display_data"
    },
    {
     "data": {
      "text/plain": "<IPython.core.display.HTML object>",
      "text/html": " View run at <a href='https://wandb.ai/parcaster/pp-sg-lstm/runs/ql97fm6u' target=\"_blank\">https://wandb.ai/parcaster/pp-sg-lstm/runs/ql97fm6u</a>"
     },
     "metadata": {},
     "output_type": "display_data"
    },
    {
     "name": "stdout",
     "output_type": "stream",
     "text": [
      "Input dimension: 18, columns: Index(['ferien', 'feiertag', 'covid_19', 'olma_offa', 'temperature_2m_max',\n",
      "       'temperature_2m_min', 'rain_sum', 'snowfall_sum', 'sin_minute',\n",
      "       'cos_minute', 'sin_hour', 'cos_hour', 'sin_weekday', 'cos_weekday',\n",
      "       'sin_day', 'cos_day', 'sin_month', 'cos_month'],\n",
      "      dtype='object')\n",
      "Output dimension: 14, columns: Index(['P24', 'P44', 'P42', 'P33', 'P23', 'P25', 'P21', 'P31', 'P53', 'P32',\n",
      "       'P22', 'P52', 'P51', 'P43'],\n",
      "      dtype='object')\n"
     ]
    },
    {
     "data": {
      "text/plain": "VBox(children=(Label(value='0.003 MB of 0.003 MB uploaded\\r'), FloatProgress(value=0.8525029797377831, max=1.0…",
      "application/vnd.jupyter.widget-view+json": {
       "version_major": 2,
       "version_minor": 0,
       "model_id": "419c6c3ae13e43b6bb1008210c21d81d"
      }
     },
     "metadata": {},
     "output_type": "display_data"
    },
    {
     "data": {
      "text/plain": "<IPython.core.display.HTML object>",
      "text/html": "<style>\n    table.wandb td:nth-child(1) { padding: 0 10px; text-align: left ; width: auto;} td:nth-child(2) {text-align: left ; width: 100%}\n    .wandb-row { display: flex; flex-direction: row; flex-wrap: wrap; justify-content: flex-start; width: 100% }\n    .wandb-col { display: flex; flex-direction: column; flex-basis: 100%; flex: 1; padding: 10px; }\n    </style>\n<div class=\"wandb-row\"><div class=\"wandb-col\"><h3>Run history:</h3><br/><table class=\"wandb\"><tr><td>batch loss</td><td>▂▅█▄▂▅█▄▂▅█▄▂▆█▄▂▆█▄▂▆█▄▂▆▁▄▂▆▁▄▂▆▁▄▂▆▁▂</td></tr><tr><td>batch loss (validation)</td><td>▁▅▅▁▁▅▅▁▁▅▅▁▁▃▅▁▁▃▅▁▁▃▅▁▁▃█▁▁▃█▁▁▃█▁▁▃█▄</td></tr><tr><td>epoch</td><td>▁▁▁▁▂▂▂▂▂▂▃▃▃▃▄▄▄▄▄▄▅▅▅▅▅▅▆▆▆▆▇▇▇▇▇▇████</td></tr><tr><td>loss</td><td>▁███████████████████</td></tr><tr><td>loss (validation)</td><td>▅▄▆▄▄▁▂▄▂▂▅█▇▇▅▇▆▆▇▁</td></tr></table><br/></div><div class=\"wandb-col\"><h3>Run summary:</h3><br/><table class=\"wandb\"><tr><td>batch loss</td><td>2175.60571</td></tr><tr><td>batch loss (validation)</td><td>7369.68164</td></tr><tr><td>epoch</td><td>19</td></tr><tr><td>loss</td><td>3718.86295</td></tr><tr><td>loss (validation)</td><td>7755.4174</td></tr></table><br/></div></div>"
     },
     "metadata": {},
     "output_type": "display_data"
    },
    {
     "data": {
      "text/plain": "<IPython.core.display.HTML object>",
      "text/html": " View run <strong style=\"color:#cdcd00\">exalted-sweep-5</strong> at: <a href='https://wandb.ai/parcaster/pp-sg-lstm/runs/ql97fm6u' target=\"_blank\">https://wandb.ai/parcaster/pp-sg-lstm/runs/ql97fm6u</a><br/>Synced 5 W&B file(s), 0 media file(s), 0 artifact file(s) and 0 other file(s)"
     },
     "metadata": {},
     "output_type": "display_data"
    },
    {
     "data": {
      "text/plain": "<IPython.core.display.HTML object>",
      "text/html": "Find logs at: <code>./wandb/run-20231127_162136-ql97fm6u/logs</code>"
     },
     "metadata": {},
     "output_type": "display_data"
    },
    {
     "name": "stderr",
     "output_type": "stream",
     "text": [
      "\u001B[34m\u001B[1mwandb\u001B[0m: Agent Starting Run: 422ygy2o with config:\n",
      "\u001B[34m\u001B[1mwandb\u001B[0m: \tbatch_size: 72\n",
      "\u001B[34m\u001B[1mwandb\u001B[0m: \tdropout: 0.5\n",
      "\u001B[34m\u001B[1mwandb\u001B[0m: \tepochs: 20\n",
      "\u001B[34m\u001B[1mwandb\u001B[0m: \tfc_layer_size: 50\n",
      "\u001B[34m\u001B[1mwandb\u001B[0m: \tlearning_rate: 0.07644210714023507\n",
      "\u001B[34m\u001B[1mwandb\u001B[0m: \tmodel: lstm\n",
      "\u001B[34m\u001B[1mwandb\u001B[0m: \tnum_layers: 16\n",
      "\u001B[34m\u001B[1mwandb\u001B[0m: \toptimizer: sgd\n",
      "\u001B[34m\u001B[1mwandb\u001B[0m: \ttrain_val_ratio: 0.8\n"
     ]
    },
    {
     "data": {
      "text/plain": "<IPython.core.display.HTML object>",
      "text/html": "Tracking run with wandb version 0.16.0"
     },
     "metadata": {},
     "output_type": "display_data"
    },
    {
     "data": {
      "text/plain": "<IPython.core.display.HTML object>",
      "text/html": "Run data is saved locally in <code>/home/jan/Projects/parcaster/model/wandb/run-20231127_162609-422ygy2o</code>"
     },
     "metadata": {},
     "output_type": "display_data"
    },
    {
     "data": {
      "text/plain": "<IPython.core.display.HTML object>",
      "text/html": "Syncing run <strong><a href='https://wandb.ai/parcaster/pp-sg-lstm/runs/422ygy2o' target=\"_blank\">curious-sweep-6</a></strong> to <a href='https://wandb.ai/parcaster/pp-sg-lstm' target=\"_blank\">Weights & Biases</a> (<a href='https://wandb.me/run' target=\"_blank\">docs</a>)<br/>Sweep page: <a href='https://wandb.ai/parcaster/pp-sg-lstm/sweeps/haw2fsrn' target=\"_blank\">https://wandb.ai/parcaster/pp-sg-lstm/sweeps/haw2fsrn</a>"
     },
     "metadata": {},
     "output_type": "display_data"
    },
    {
     "data": {
      "text/plain": "<IPython.core.display.HTML object>",
      "text/html": " View project at <a href='https://wandb.ai/parcaster/pp-sg-lstm' target=\"_blank\">https://wandb.ai/parcaster/pp-sg-lstm</a>"
     },
     "metadata": {},
     "output_type": "display_data"
    },
    {
     "data": {
      "text/plain": "<IPython.core.display.HTML object>",
      "text/html": " View sweep at <a href='https://wandb.ai/parcaster/pp-sg-lstm/sweeps/haw2fsrn' target=\"_blank\">https://wandb.ai/parcaster/pp-sg-lstm/sweeps/haw2fsrn</a>"
     },
     "metadata": {},
     "output_type": "display_data"
    },
    {
     "data": {
      "text/plain": "<IPython.core.display.HTML object>",
      "text/html": " View run at <a href='https://wandb.ai/parcaster/pp-sg-lstm/runs/422ygy2o' target=\"_blank\">https://wandb.ai/parcaster/pp-sg-lstm/runs/422ygy2o</a>"
     },
     "metadata": {},
     "output_type": "display_data"
    },
    {
     "name": "stdout",
     "output_type": "stream",
     "text": [
      "Input dimension: 18, columns: Index(['ferien', 'feiertag', 'covid_19', 'olma_offa', 'temperature_2m_max',\n",
      "       'temperature_2m_min', 'rain_sum', 'snowfall_sum', 'sin_minute',\n",
      "       'cos_minute', 'sin_hour', 'cos_hour', 'sin_weekday', 'cos_weekday',\n",
      "       'sin_day', 'cos_day', 'sin_month', 'cos_month'],\n",
      "      dtype='object')\n",
      "Output dimension: 14, columns: Index(['P24', 'P44', 'P42', 'P33', 'P23', 'P25', 'P21', 'P31', 'P53', 'P32',\n",
      "       'P22', 'P52', 'P51', 'P43'],\n",
      "      dtype='object')\n"
     ]
    },
    {
     "data": {
      "text/plain": "VBox(children=(Label(value='0.003 MB of 0.003 MB uploaded\\r'), FloatProgress(value=1.0, max=1.0)))",
      "application/vnd.jupyter.widget-view+json": {
       "version_major": 2,
       "version_minor": 0,
       "model_id": "204a8af3093b426696113eeccafb8499"
      }
     },
     "metadata": {},
     "output_type": "display_data"
    },
    {
     "data": {
      "text/plain": "<IPython.core.display.HTML object>",
      "text/html": "<style>\n    table.wandb td:nth-child(1) { padding: 0 10px; text-align: left ; width: auto;} td:nth-child(2) {text-align: left ; width: 100%}\n    .wandb-row { display: flex; flex-direction: row; flex-wrap: wrap; justify-content: flex-start; width: 100% }\n    .wandb-col { display: flex; flex-direction: column; flex-basis: 100%; flex: 1; padding: 10px; }\n    </style>\n<div class=\"wandb-row\"><div class=\"wandb-col\"><h3>Run history:</h3><br/><table class=\"wandb\"><tr><td>batch loss</td><td>▅▃▃▂▂▂▃▂▄▂▁▁▃▃▇▂▆▂▄▃▆▆▃▂▃▁▂▂▂▂▂▃▃▂▆▂█▂▅▁</td></tr><tr><td>batch loss (validation)</td><td>▄█▃▃▃▅▁▅▂▄▂▃▂▇▃▅▄▂▄▁▃▅▁▅▂▄▂▃▂▇▃▅▄▂▄▁▂▂▆▃</td></tr><tr><td>epoch</td><td>▁▁▁▁▂▂▂▂▂▂▃▃▃▃▄▄▄▄▄▄▅▅▅▅▅▅▆▆▆▆▇▇▇▇▇▇████</td></tr><tr><td>loss</td><td>▁███████████████████</td></tr><tr><td>loss (validation)</td><td>▃▁█▆▃▆▆▆▃██▃▆▆▃▆▃▃▆▆</td></tr></table><br/></div><div class=\"wandb-col\"><h3>Run summary:</h3><br/><table class=\"wandb\"><tr><td>batch loss</td><td>14348.17188</td></tr><tr><td>batch loss (validation)</td><td>8063.70801</td></tr><tr><td>epoch</td><td>19</td></tr><tr><td>loss</td><td>3256.23332</td></tr><tr><td>loss (validation)</td><td>8988.01672</td></tr></table><br/></div></div>"
     },
     "metadata": {},
     "output_type": "display_data"
    },
    {
     "data": {
      "text/plain": "<IPython.core.display.HTML object>",
      "text/html": " View run <strong style=\"color:#cdcd00\">curious-sweep-6</strong> at: <a href='https://wandb.ai/parcaster/pp-sg-lstm/runs/422ygy2o' target=\"_blank\">https://wandb.ai/parcaster/pp-sg-lstm/runs/422ygy2o</a><br/>Synced 5 W&B file(s), 0 media file(s), 0 artifact file(s) and 0 other file(s)"
     },
     "metadata": {},
     "output_type": "display_data"
    },
    {
     "data": {
      "text/plain": "<IPython.core.display.HTML object>",
      "text/html": "Find logs at: <code>./wandb/run-20231127_162609-422ygy2o/logs</code>"
     },
     "metadata": {},
     "output_type": "display_data"
    },
    {
     "name": "stderr",
     "output_type": "stream",
     "text": [
      "\u001B[34m\u001B[1mwandb\u001B[0m: Agent Starting Run: rxzmk5w9 with config:\n",
      "\u001B[34m\u001B[1mwandb\u001B[0m: \tbatch_size: 48\n",
      "\u001B[34m\u001B[1mwandb\u001B[0m: \tdropout: 0.1\n",
      "\u001B[34m\u001B[1mwandb\u001B[0m: \tepochs: 20\n",
      "\u001B[34m\u001B[1mwandb\u001B[0m: \tfc_layer_size: 400\n",
      "\u001B[34m\u001B[1mwandb\u001B[0m: \tlearning_rate: 0.028863027970331936\n",
      "\u001B[34m\u001B[1mwandb\u001B[0m: \tmodel: lstm\n",
      "\u001B[34m\u001B[1mwandb\u001B[0m: \tnum_layers: 16\n",
      "\u001B[34m\u001B[1mwandb\u001B[0m: \toptimizer: adam\n",
      "\u001B[34m\u001B[1mwandb\u001B[0m: \ttrain_val_ratio: 0.8\n"
     ]
    },
    {
     "data": {
      "text/plain": "<IPython.core.display.HTML object>",
      "text/html": "Tracking run with wandb version 0.16.0"
     },
     "metadata": {},
     "output_type": "display_data"
    },
    {
     "data": {
      "text/plain": "<IPython.core.display.HTML object>",
      "text/html": "Run data is saved locally in <code>/home/jan/Projects/parcaster/model/wandb/run-20231127_162711-rxzmk5w9</code>"
     },
     "metadata": {},
     "output_type": "display_data"
    },
    {
     "data": {
      "text/plain": "<IPython.core.display.HTML object>",
      "text/html": "Syncing run <strong><a href='https://wandb.ai/parcaster/pp-sg-lstm/runs/rxzmk5w9' target=\"_blank\">clear-sweep-7</a></strong> to <a href='https://wandb.ai/parcaster/pp-sg-lstm' target=\"_blank\">Weights & Biases</a> (<a href='https://wandb.me/run' target=\"_blank\">docs</a>)<br/>Sweep page: <a href='https://wandb.ai/parcaster/pp-sg-lstm/sweeps/haw2fsrn' target=\"_blank\">https://wandb.ai/parcaster/pp-sg-lstm/sweeps/haw2fsrn</a>"
     },
     "metadata": {},
     "output_type": "display_data"
    },
    {
     "data": {
      "text/plain": "<IPython.core.display.HTML object>",
      "text/html": " View project at <a href='https://wandb.ai/parcaster/pp-sg-lstm' target=\"_blank\">https://wandb.ai/parcaster/pp-sg-lstm</a>"
     },
     "metadata": {},
     "output_type": "display_data"
    },
    {
     "data": {
      "text/plain": "<IPython.core.display.HTML object>",
      "text/html": " View sweep at <a href='https://wandb.ai/parcaster/pp-sg-lstm/sweeps/haw2fsrn' target=\"_blank\">https://wandb.ai/parcaster/pp-sg-lstm/sweeps/haw2fsrn</a>"
     },
     "metadata": {},
     "output_type": "display_data"
    },
    {
     "data": {
      "text/plain": "<IPython.core.display.HTML object>",
      "text/html": " View run at <a href='https://wandb.ai/parcaster/pp-sg-lstm/runs/rxzmk5w9' target=\"_blank\">https://wandb.ai/parcaster/pp-sg-lstm/runs/rxzmk5w9</a>"
     },
     "metadata": {},
     "output_type": "display_data"
    },
    {
     "name": "stdout",
     "output_type": "stream",
     "text": [
      "Input dimension: 18, columns: Index(['ferien', 'feiertag', 'covid_19', 'olma_offa', 'temperature_2m_max',\n",
      "       'temperature_2m_min', 'rain_sum', 'snowfall_sum', 'sin_minute',\n",
      "       'cos_minute', 'sin_hour', 'cos_hour', 'sin_weekday', 'cos_weekday',\n",
      "       'sin_day', 'cos_day', 'sin_month', 'cos_month'],\n",
      "      dtype='object')\n",
      "Output dimension: 14, columns: Index(['P24', 'P44', 'P42', 'P33', 'P23', 'P25', 'P21', 'P31', 'P53', 'P32',\n",
      "       'P22', 'P52', 'P51', 'P43'],\n",
      "      dtype='object')\n"
     ]
    },
    {
     "data": {
      "text/plain": "VBox(children=(Label(value='0.005 MB of 0.006 MB uploaded\\r'), FloatProgress(value=0.7751111111111111, max=1.0…",
      "application/vnd.jupyter.widget-view+json": {
       "version_major": 2,
       "version_minor": 0,
       "model_id": "397db62e6b0c4a96ab6bc24fd0d56167"
      }
     },
     "metadata": {},
     "output_type": "display_data"
    },
    {
     "data": {
      "text/plain": "<IPython.core.display.HTML object>",
      "text/html": "<style>\n    table.wandb td:nth-child(1) { padding: 0 10px; text-align: left ; width: auto;} td:nth-child(2) {text-align: left ; width: 100%}\n    .wandb-row { display: flex; flex-direction: row; flex-wrap: wrap; justify-content: flex-start; width: 100% }\n    .wandb-col { display: flex; flex-direction: column; flex-basis: 100%; flex: 1; padding: 10px; }\n    </style>\n<div class=\"wandb-row\"><div class=\"wandb-col\"><h3>Run history:</h3><br/><table class=\"wandb\"><tr><td>batch loss</td><td>▃▃▃▂▃▂▃▁▃▂▂▂▅▂▅▂▃▁▃▄▂▁▁▂█▂▂▃▂▂▅▃▂▂▁▂▂▂▂▄</td></tr><tr><td>batch loss (validation)</td><td>▂█▁▂▁▂▁▂▂▃▂▂▂▃▁▂▁▂▁▁▂▂▂▃▁▂▁▂▂▁▁▂▃▂▃▁▁▁▃▂</td></tr><tr><td>epoch</td><td>▁▁▁▁▂▂▂▂▂▂▃▃▃▃▄▄▄▄▄▄▅▅▅▅▅▅▆▆▆▆▇▇▇▇▇▇████</td></tr><tr><td>loss</td><td>▁▆▇█████████████████</td></tr><tr><td>loss (validation)</td><td>█▃▂▁▁▁▁▁▁▁▁▁▁▁▁▁▁▁▁▁</td></tr></table><br/></div><div class=\"wandb-col\"><h3>Run summary:</h3><br/><table class=\"wandb\"><tr><td>batch loss</td><td>3104.90137</td></tr><tr><td>batch loss (validation)</td><td>2797.9624</td></tr><tr><td>epoch</td><td>19</td></tr><tr><td>loss</td><td>2520.388</td></tr><tr><td>loss (validation)</td><td>3955.72199</td></tr></table><br/></div></div>"
     },
     "metadata": {},
     "output_type": "display_data"
    },
    {
     "data": {
      "text/plain": "<IPython.core.display.HTML object>",
      "text/html": " View run <strong style=\"color:#cdcd00\">clear-sweep-7</strong> at: <a href='https://wandb.ai/parcaster/pp-sg-lstm/runs/rxzmk5w9' target=\"_blank\">https://wandb.ai/parcaster/pp-sg-lstm/runs/rxzmk5w9</a><br/>Synced 5 W&B file(s), 0 media file(s), 0 artifact file(s) and 0 other file(s)"
     },
     "metadata": {},
     "output_type": "display_data"
    },
    {
     "data": {
      "text/plain": "<IPython.core.display.HTML object>",
      "text/html": "Find logs at: <code>./wandb/run-20231127_162711-rxzmk5w9/logs</code>"
     },
     "metadata": {},
     "output_type": "display_data"
    },
    {
     "name": "stderr",
     "output_type": "stream",
     "text": [
      "\u001B[34m\u001B[1mwandb\u001B[0m: Sweep Agent: Waiting for job.\n",
      "\u001B[34m\u001B[1mwandb\u001B[0m: Job received.\n",
      "\u001B[34m\u001B[1mwandb\u001B[0m: Agent Starting Run: z81om9q0 with config:\n",
      "\u001B[34m\u001B[1mwandb\u001B[0m: \tbatch_size: 40\n",
      "\u001B[34m\u001B[1mwandb\u001B[0m: \tdropout: 0.2\n",
      "\u001B[34m\u001B[1mwandb\u001B[0m: \tepochs: 20\n",
      "\u001B[34m\u001B[1mwandb\u001B[0m: \tfc_layer_size: 100\n",
      "\u001B[34m\u001B[1mwandb\u001B[0m: \tlearning_rate: 0.006856164481986782\n",
      "\u001B[34m\u001B[1mwandb\u001B[0m: \tmodel: lstm\n",
      "\u001B[34m\u001B[1mwandb\u001B[0m: \tnum_layers: 8\n",
      "\u001B[34m\u001B[1mwandb\u001B[0m: \toptimizer: sgd\n",
      "\u001B[34m\u001B[1mwandb\u001B[0m: \ttrain_val_ratio: 0.8\n"
     ]
    },
    {
     "data": {
      "text/plain": "<IPython.core.display.HTML object>",
      "text/html": "Tracking run with wandb version 0.16.0"
     },
     "metadata": {},
     "output_type": "display_data"
    },
    {
     "data": {
      "text/plain": "<IPython.core.display.HTML object>",
      "text/html": "Run data is saved locally in <code>/home/jan/Projects/parcaster/model/wandb/run-20231127_163041-z81om9q0</code>"
     },
     "metadata": {},
     "output_type": "display_data"
    },
    {
     "data": {
      "text/plain": "<IPython.core.display.HTML object>",
      "text/html": "Syncing run <strong><a href='https://wandb.ai/parcaster/pp-sg-lstm/runs/z81om9q0' target=\"_blank\">autumn-sweep-8</a></strong> to <a href='https://wandb.ai/parcaster/pp-sg-lstm' target=\"_blank\">Weights & Biases</a> (<a href='https://wandb.me/run' target=\"_blank\">docs</a>)<br/>Sweep page: <a href='https://wandb.ai/parcaster/pp-sg-lstm/sweeps/haw2fsrn' target=\"_blank\">https://wandb.ai/parcaster/pp-sg-lstm/sweeps/haw2fsrn</a>"
     },
     "metadata": {},
     "output_type": "display_data"
    },
    {
     "data": {
      "text/plain": "<IPython.core.display.HTML object>",
      "text/html": " View project at <a href='https://wandb.ai/parcaster/pp-sg-lstm' target=\"_blank\">https://wandb.ai/parcaster/pp-sg-lstm</a>"
     },
     "metadata": {},
     "output_type": "display_data"
    },
    {
     "data": {
      "text/plain": "<IPython.core.display.HTML object>",
      "text/html": " View sweep at <a href='https://wandb.ai/parcaster/pp-sg-lstm/sweeps/haw2fsrn' target=\"_blank\">https://wandb.ai/parcaster/pp-sg-lstm/sweeps/haw2fsrn</a>"
     },
     "metadata": {},
     "output_type": "display_data"
    },
    {
     "data": {
      "text/plain": "<IPython.core.display.HTML object>",
      "text/html": " View run at <a href='https://wandb.ai/parcaster/pp-sg-lstm/runs/z81om9q0' target=\"_blank\">https://wandb.ai/parcaster/pp-sg-lstm/runs/z81om9q0</a>"
     },
     "metadata": {},
     "output_type": "display_data"
    },
    {
     "name": "stdout",
     "output_type": "stream",
     "text": [
      "Input dimension: 18, columns: Index(['ferien', 'feiertag', 'covid_19', 'olma_offa', 'temperature_2m_max',\n",
      "       'temperature_2m_min', 'rain_sum', 'snowfall_sum', 'sin_minute',\n",
      "       'cos_minute', 'sin_hour', 'cos_hour', 'sin_weekday', 'cos_weekday',\n",
      "       'sin_day', 'cos_day', 'sin_month', 'cos_month'],\n",
      "      dtype='object')\n",
      "Output dimension: 14, columns: Index(['P24', 'P44', 'P42', 'P33', 'P23', 'P25', 'P21', 'P31', 'P53', 'P32',\n",
      "       'P22', 'P52', 'P51', 'P43'],\n",
      "      dtype='object')\n"
     ]
    },
    {
     "data": {
      "text/plain": "VBox(children=(Label(value='0.003 MB of 0.003 MB uploaded\\r'), FloatProgress(value=1.0, max=1.0)))",
      "application/vnd.jupyter.widget-view+json": {
       "version_major": 2,
       "version_minor": 0,
       "model_id": "c254a87d1cd54126b05eb10f0490a379"
      }
     },
     "metadata": {},
     "output_type": "display_data"
    },
    {
     "data": {
      "text/plain": "<IPython.core.display.HTML object>",
      "text/html": "<style>\n    table.wandb td:nth-child(1) { padding: 0 10px; text-align: left ; width: auto;} td:nth-child(2) {text-align: left ; width: 100%}\n    .wandb-row { display: flex; flex-direction: row; flex-wrap: wrap; justify-content: flex-start; width: 100% }\n    .wandb-col { display: flex; flex-direction: column; flex-basis: 100%; flex: 1; padding: 10px; }\n    </style>\n<div class=\"wandb-row\"><div class=\"wandb-col\"><h3>Run history:</h3><br/><table class=\"wandb\"><tr><td>batch loss</td><td>▃▃▁▅▃▃▁▄▃▃▂▄▃▅▂▄▃▅▂▄▃▅▂▄▃▅▆▄▃▅▆▄▃▅▆▄▃▅▆█</td></tr><tr><td>batch loss (validation)</td><td>▄▅▅█▃▄▂▆▁▂▂▆▁▁▂▆▁▁▂▆▁▁▂▆▁▁▁▆▁▁▁▆▁▁▁▆▁▁▁▄</td></tr><tr><td>epoch</td><td>▁▁▁▁▂▂▂▂▂▂▃▃▃▃▄▄▄▄▄▄▅▅▅▅▅▅▆▆▆▆▇▇▇▇▇▇████</td></tr><tr><td>loss</td><td>█▄▄▁▇▇▇▇▇▇▇▇▇▇▇▇▇▇▇▇</td></tr><tr><td>loss (validation)</td><td>█▇▆▁▁▁▁▁▁▁▁▁▁▁▁▁▁▁▁▁</td></tr></table><br/></div><div class=\"wandb-col\"><h3>Run summary:</h3><br/><table class=\"wandb\"><tr><td>batch loss</td><td>3465.19922</td></tr><tr><td>batch loss (validation)</td><td>4451.32861</td></tr><tr><td>epoch</td><td>19</td></tr><tr><td>loss</td><td>2465.32363</td></tr><tr><td>loss (validation)</td><td>4005.8496</td></tr></table><br/></div></div>"
     },
     "metadata": {},
     "output_type": "display_data"
    },
    {
     "data": {
      "text/plain": "<IPython.core.display.HTML object>",
      "text/html": " View run <strong style=\"color:#cdcd00\">autumn-sweep-8</strong> at: <a href='https://wandb.ai/parcaster/pp-sg-lstm/runs/z81om9q0' target=\"_blank\">https://wandb.ai/parcaster/pp-sg-lstm/runs/z81om9q0</a><br/>Synced 5 W&B file(s), 0 media file(s), 0 artifact file(s) and 0 other file(s)"
     },
     "metadata": {},
     "output_type": "display_data"
    },
    {
     "data": {
      "text/plain": "<IPython.core.display.HTML object>",
      "text/html": "Find logs at: <code>./wandb/run-20231127_163041-z81om9q0/logs</code>"
     },
     "metadata": {},
     "output_type": "display_data"
    },
    {
     "name": "stderr",
     "output_type": "stream",
     "text": [
      "\u001B[34m\u001B[1mwandb\u001B[0m: Agent Starting Run: jzhw5nim with config:\n",
      "\u001B[34m\u001B[1mwandb\u001B[0m: \tbatch_size: 208\n",
      "\u001B[34m\u001B[1mwandb\u001B[0m: \tdropout: 0.1\n",
      "\u001B[34m\u001B[1mwandb\u001B[0m: \tepochs: 20\n",
      "\u001B[34m\u001B[1mwandb\u001B[0m: \tfc_layer_size: 200\n",
      "\u001B[34m\u001B[1mwandb\u001B[0m: \tlearning_rate: 0.02109864046521648\n",
      "\u001B[34m\u001B[1mwandb\u001B[0m: \tmodel: lstm\n",
      "\u001B[34m\u001B[1mwandb\u001B[0m: \tnum_layers: 4\n",
      "\u001B[34m\u001B[1mwandb\u001B[0m: \toptimizer: sgd\n",
      "\u001B[34m\u001B[1mwandb\u001B[0m: \ttrain_val_ratio: 0.8\n"
     ]
    },
    {
     "data": {
      "text/plain": "<IPython.core.display.HTML object>",
      "text/html": "Tracking run with wandb version 0.16.0"
     },
     "metadata": {},
     "output_type": "display_data"
    },
    {
     "data": {
      "text/plain": "<IPython.core.display.HTML object>",
      "text/html": "Run data is saved locally in <code>/home/jan/Projects/parcaster/model/wandb/run-20231127_163206-jzhw5nim</code>"
     },
     "metadata": {},
     "output_type": "display_data"
    },
    {
     "data": {
      "text/plain": "<IPython.core.display.HTML object>",
      "text/html": "Syncing run <strong><a href='https://wandb.ai/parcaster/pp-sg-lstm/runs/jzhw5nim' target=\"_blank\">distinctive-sweep-9</a></strong> to <a href='https://wandb.ai/parcaster/pp-sg-lstm' target=\"_blank\">Weights & Biases</a> (<a href='https://wandb.me/run' target=\"_blank\">docs</a>)<br/>Sweep page: <a href='https://wandb.ai/parcaster/pp-sg-lstm/sweeps/haw2fsrn' target=\"_blank\">https://wandb.ai/parcaster/pp-sg-lstm/sweeps/haw2fsrn</a>"
     },
     "metadata": {},
     "output_type": "display_data"
    },
    {
     "data": {
      "text/plain": "<IPython.core.display.HTML object>",
      "text/html": " View project at <a href='https://wandb.ai/parcaster/pp-sg-lstm' target=\"_blank\">https://wandb.ai/parcaster/pp-sg-lstm</a>"
     },
     "metadata": {},
     "output_type": "display_data"
    },
    {
     "data": {
      "text/plain": "<IPython.core.display.HTML object>",
      "text/html": " View sweep at <a href='https://wandb.ai/parcaster/pp-sg-lstm/sweeps/haw2fsrn' target=\"_blank\">https://wandb.ai/parcaster/pp-sg-lstm/sweeps/haw2fsrn</a>"
     },
     "metadata": {},
     "output_type": "display_data"
    },
    {
     "data": {
      "text/plain": "<IPython.core.display.HTML object>",
      "text/html": " View run at <a href='https://wandb.ai/parcaster/pp-sg-lstm/runs/jzhw5nim' target=\"_blank\">https://wandb.ai/parcaster/pp-sg-lstm/runs/jzhw5nim</a>"
     },
     "metadata": {},
     "output_type": "display_data"
    },
    {
     "name": "stdout",
     "output_type": "stream",
     "text": [
      "Input dimension: 18, columns: Index(['ferien', 'feiertag', 'covid_19', 'olma_offa', 'temperature_2m_max',\n",
      "       'temperature_2m_min', 'rain_sum', 'snowfall_sum', 'sin_minute',\n",
      "       'cos_minute', 'sin_hour', 'cos_hour', 'sin_weekday', 'cos_weekday',\n",
      "       'sin_day', 'cos_day', 'sin_month', 'cos_month'],\n",
      "      dtype='object')\n",
      "Output dimension: 14, columns: Index(['P24', 'P44', 'P42', 'P33', 'P23', 'P25', 'P21', 'P31', 'P53', 'P32',\n",
      "       'P22', 'P52', 'P51', 'P43'],\n",
      "      dtype='object')\n"
     ]
    },
    {
     "data": {
      "text/plain": "VBox(children=(Label(value='0.003 MB of 0.003 MB uploaded\\r'), FloatProgress(value=1.0, max=1.0)))",
      "application/vnd.jupyter.widget-view+json": {
       "version_major": 2,
       "version_minor": 0,
       "model_id": "a94a6fae52fa40d99a89532143baba69"
      }
     },
     "metadata": {},
     "output_type": "display_data"
    },
    {
     "data": {
      "text/plain": "<IPython.core.display.HTML object>",
      "text/html": "<style>\n    table.wandb td:nth-child(1) { padding: 0 10px; text-align: left ; width: auto;} td:nth-child(2) {text-align: left ; width: 100%}\n    .wandb-row { display: flex; flex-direction: row; flex-wrap: wrap; justify-content: flex-start; width: 100% }\n    .wandb-col { display: flex; flex-direction: column; flex-basis: 100%; flex: 1; padding: 10px; }\n    </style>\n<div class=\"wandb-row\"><div class=\"wandb-col\"><h3>Run history:</h3><br/><table class=\"wandb\"><tr><td>batch loss</td><td>▃▁▂▃▂▂▃▂█▂▄▂▃▂▂▂▃▁▂▃▂▂▃▂▂▂▄▃▁▂▂▂▃▁▂▂▂▂▂▃</td></tr><tr><td>batch loss (validation)</td><td>▃▄▃▄▂▅▄▇▂▅▂▄▄▆▂▄▄▅▃▄▁▃▄▇▃▆▃▃▁▆▂▃▄▅▂▃▁▃█▃</td></tr><tr><td>epoch</td><td>▁▁▁▁▂▂▂▂▂▂▃▃▃▃▄▄▄▄▄▄▅▅▅▅▅▅▆▆▆▆▇▇▇▇▇▇████</td></tr><tr><td>loss</td><td>█▁▄▂▄▃▄▃▃▃▃▃▃▃▃▃▃▃▃▃</td></tr><tr><td>loss (validation)</td><td>█▃▃▁▁▁▁▁▁▁▁▁▁▁▁▁▁▁▁▁</td></tr></table><br/></div><div class=\"wandb-col\"><h3>Run summary:</h3><br/><table class=\"wandb\"><tr><td>batch loss</td><td>5169.47949</td></tr><tr><td>batch loss (validation)</td><td>4290.40527</td></tr><tr><td>epoch</td><td>19</td></tr><tr><td>loss</td><td>3165.15351</td></tr><tr><td>loss (validation)</td><td>3329.88665</td></tr></table><br/></div></div>"
     },
     "metadata": {},
     "output_type": "display_data"
    },
    {
     "data": {
      "text/plain": "<IPython.core.display.HTML object>",
      "text/html": " View run <strong style=\"color:#cdcd00\">distinctive-sweep-9</strong> at: <a href='https://wandb.ai/parcaster/pp-sg-lstm/runs/jzhw5nim' target=\"_blank\">https://wandb.ai/parcaster/pp-sg-lstm/runs/jzhw5nim</a><br/>Synced 5 W&B file(s), 0 media file(s), 0 artifact file(s) and 0 other file(s)"
     },
     "metadata": {},
     "output_type": "display_data"
    },
    {
     "data": {
      "text/plain": "<IPython.core.display.HTML object>",
      "text/html": "Find logs at: <code>./wandb/run-20231127_163206-jzhw5nim/logs</code>"
     },
     "metadata": {},
     "output_type": "display_data"
    },
    {
     "name": "stderr",
     "output_type": "stream",
     "text": [
      "\u001B[34m\u001B[1mwandb\u001B[0m: Sweep Agent: Waiting for job.\n",
      "\u001B[34m\u001B[1mwandb\u001B[0m: Job received.\n",
      "\u001B[34m\u001B[1mwandb\u001B[0m: Agent Starting Run: 4mlkmgdw with config:\n",
      "\u001B[34m\u001B[1mwandb\u001B[0m: \tbatch_size: 72\n",
      "\u001B[34m\u001B[1mwandb\u001B[0m: \tdropout: 0\n",
      "\u001B[34m\u001B[1mwandb\u001B[0m: \tepochs: 20\n",
      "\u001B[34m\u001B[1mwandb\u001B[0m: \tfc_layer_size: 1000\n",
      "\u001B[34m\u001B[1mwandb\u001B[0m: \tlearning_rate: 0.03211383551843673\n",
      "\u001B[34m\u001B[1mwandb\u001B[0m: \tmodel: lstm\n",
      "\u001B[34m\u001B[1mwandb\u001B[0m: \tnum_layers: 2\n",
      "\u001B[34m\u001B[1mwandb\u001B[0m: \toptimizer: sgd\n",
      "\u001B[34m\u001B[1mwandb\u001B[0m: \ttrain_val_ratio: 0.8\n"
     ]
    },
    {
     "data": {
      "text/plain": "<IPython.core.display.HTML object>",
      "text/html": "Tracking run with wandb version 0.16.0"
     },
     "metadata": {},
     "output_type": "display_data"
    },
    {
     "data": {
      "text/plain": "<IPython.core.display.HTML object>",
      "text/html": "Run data is saved locally in <code>/home/jan/Projects/parcaster/model/wandb/run-20231127_163242-4mlkmgdw</code>"
     },
     "metadata": {},
     "output_type": "display_data"
    },
    {
     "data": {
      "text/plain": "<IPython.core.display.HTML object>",
      "text/html": "Syncing run <strong><a href='https://wandb.ai/parcaster/pp-sg-lstm/runs/4mlkmgdw' target=\"_blank\">valiant-sweep-10</a></strong> to <a href='https://wandb.ai/parcaster/pp-sg-lstm' target=\"_blank\">Weights & Biases</a> (<a href='https://wandb.me/run' target=\"_blank\">docs</a>)<br/>Sweep page: <a href='https://wandb.ai/parcaster/pp-sg-lstm/sweeps/haw2fsrn' target=\"_blank\">https://wandb.ai/parcaster/pp-sg-lstm/sweeps/haw2fsrn</a>"
     },
     "metadata": {},
     "output_type": "display_data"
    },
    {
     "data": {
      "text/plain": "<IPython.core.display.HTML object>",
      "text/html": " View project at <a href='https://wandb.ai/parcaster/pp-sg-lstm' target=\"_blank\">https://wandb.ai/parcaster/pp-sg-lstm</a>"
     },
     "metadata": {},
     "output_type": "display_data"
    },
    {
     "data": {
      "text/plain": "<IPython.core.display.HTML object>",
      "text/html": " View sweep at <a href='https://wandb.ai/parcaster/pp-sg-lstm/sweeps/haw2fsrn' target=\"_blank\">https://wandb.ai/parcaster/pp-sg-lstm/sweeps/haw2fsrn</a>"
     },
     "metadata": {},
     "output_type": "display_data"
    },
    {
     "data": {
      "text/plain": "<IPython.core.display.HTML object>",
      "text/html": " View run at <a href='https://wandb.ai/parcaster/pp-sg-lstm/runs/4mlkmgdw' target=\"_blank\">https://wandb.ai/parcaster/pp-sg-lstm/runs/4mlkmgdw</a>"
     },
     "metadata": {},
     "output_type": "display_data"
    },
    {
     "name": "stdout",
     "output_type": "stream",
     "text": [
      "Input dimension: 18, columns: Index(['ferien', 'feiertag', 'covid_19', 'olma_offa', 'temperature_2m_max',\n",
      "       'temperature_2m_min', 'rain_sum', 'snowfall_sum', 'sin_minute',\n",
      "       'cos_minute', 'sin_hour', 'cos_hour', 'sin_weekday', 'cos_weekday',\n",
      "       'sin_day', 'cos_day', 'sin_month', 'cos_month'],\n",
      "      dtype='object')\n",
      "Output dimension: 14, columns: Index(['P24', 'P44', 'P42', 'P33', 'P23', 'P25', 'P21', 'P31', 'P53', 'P32',\n",
      "       'P22', 'P52', 'P51', 'P43'],\n",
      "      dtype='object')\n"
     ]
    },
    {
     "data": {
      "text/plain": "VBox(children=(Label(value='0.003 MB of 0.006 MB uploaded\\r'), FloatProgress(value=0.49755301794453505, max=1.…",
      "application/vnd.jupyter.widget-view+json": {
       "version_major": 2,
       "version_minor": 0,
       "model_id": "600824c240ae4521b49fea68866458b3"
      }
     },
     "metadata": {},
     "output_type": "display_data"
    },
    {
     "data": {
      "text/plain": "<IPython.core.display.HTML object>",
      "text/html": "<style>\n    table.wandb td:nth-child(1) { padding: 0 10px; text-align: left ; width: auto;} td:nth-child(2) {text-align: left ; width: 100%}\n    .wandb-row { display: flex; flex-direction: row; flex-wrap: wrap; justify-content: flex-start; width: 100% }\n    .wandb-col { display: flex; flex-direction: column; flex-basis: 100%; flex: 1; padding: 10px; }\n    </style>\n<div class=\"wandb-row\"><div class=\"wandb-col\"><h3>Run history:</h3><br/><table class=\"wandb\"><tr><td>batch loss</td><td>▄▇▃▇▃▃▃▂▆▃▅▂▅▇▃▃▆▄▁▂█▂▃▄▃▃▄▃▃▂▄▂▇▄▇▂▃▄▁▂</td></tr><tr><td>batch loss (validation)</td><td>▂█▂▂▁▃▂▂▃▃▃▂▃▂▂▂▂▂▁▄▁▂▂▃▃▃▃▂▃▂▂▂▂▂▁▂▁▁▃▁</td></tr><tr><td>epoch</td><td>▁▁▁▁▂▂▂▂▂▂▃▃▃▃▄▄▄▄▄▄▅▅▅▅▅▅▆▆▆▆▇▇▇▇▇▇████</td></tr><tr><td>loss</td><td>█▁▁▁▁▁▁▁▁▁▁▁▁▁▁▁▁▁▁▁</td></tr><tr><td>loss (validation)</td><td>█▃▂▁▂▂▂▂▂▁▁▁▁▁▁▁▁▁▁▁</td></tr></table><br/></div><div class=\"wandb-col\"><h3>Run summary:</h3><br/><table class=\"wandb\"><tr><td>batch loss</td><td>5451.68262</td></tr><tr><td>batch loss (validation)</td><td>4236.08838</td></tr><tr><td>epoch</td><td>19</td></tr><tr><td>loss</td><td>3663.5511</td></tr><tr><td>loss (validation)</td><td>7477.02511</td></tr></table><br/></div></div>"
     },
     "metadata": {},
     "output_type": "display_data"
    },
    {
     "data": {
      "text/plain": "<IPython.core.display.HTML object>",
      "text/html": " View run <strong style=\"color:#cdcd00\">valiant-sweep-10</strong> at: <a href='https://wandb.ai/parcaster/pp-sg-lstm/runs/4mlkmgdw' target=\"_blank\">https://wandb.ai/parcaster/pp-sg-lstm/runs/4mlkmgdw</a><br/>Synced 5 W&B file(s), 0 media file(s), 0 artifact file(s) and 0 other file(s)"
     },
     "metadata": {},
     "output_type": "display_data"
    },
    {
     "data": {
      "text/plain": "<IPython.core.display.HTML object>",
      "text/html": "Find logs at: <code>./wandb/run-20231127_163242-4mlkmgdw/logs</code>"
     },
     "metadata": {},
     "output_type": "display_data"
    },
    {
     "name": "stderr",
     "output_type": "stream",
     "text": [
      "\u001B[34m\u001B[1mwandb\u001B[0m: Agent Starting Run: nibvmsvh with config:\n",
      "\u001B[34m\u001B[1mwandb\u001B[0m: \tbatch_size: 120\n",
      "\u001B[34m\u001B[1mwandb\u001B[0m: \tdropout: 0\n",
      "\u001B[34m\u001B[1mwandb\u001B[0m: \tepochs: 20\n",
      "\u001B[34m\u001B[1mwandb\u001B[0m: \tfc_layer_size: 400\n",
      "\u001B[34m\u001B[1mwandb\u001B[0m: \tlearning_rate: 0.010917624107632208\n",
      "\u001B[34m\u001B[1mwandb\u001B[0m: \tmodel: lstm\n",
      "\u001B[34m\u001B[1mwandb\u001B[0m: \tnum_layers: 8\n",
      "\u001B[34m\u001B[1mwandb\u001B[0m: \toptimizer: adam\n",
      "\u001B[34m\u001B[1mwandb\u001B[0m: \ttrain_val_ratio: 0.8\n"
     ]
    },
    {
     "data": {
      "text/plain": "<IPython.core.display.HTML object>",
      "text/html": "Tracking run with wandb version 0.16.0"
     },
     "metadata": {},
     "output_type": "display_data"
    },
    {
     "data": {
      "text/plain": "<IPython.core.display.HTML object>",
      "text/html": "Run data is saved locally in <code>/home/jan/Projects/parcaster/model/wandb/run-20231127_163343-nibvmsvh</code>"
     },
     "metadata": {},
     "output_type": "display_data"
    },
    {
     "data": {
      "text/plain": "<IPython.core.display.HTML object>",
      "text/html": "Syncing run <strong><a href='https://wandb.ai/parcaster/pp-sg-lstm/runs/nibvmsvh' target=\"_blank\">distinctive-sweep-11</a></strong> to <a href='https://wandb.ai/parcaster/pp-sg-lstm' target=\"_blank\">Weights & Biases</a> (<a href='https://wandb.me/run' target=\"_blank\">docs</a>)<br/>Sweep page: <a href='https://wandb.ai/parcaster/pp-sg-lstm/sweeps/haw2fsrn' target=\"_blank\">https://wandb.ai/parcaster/pp-sg-lstm/sweeps/haw2fsrn</a>"
     },
     "metadata": {},
     "output_type": "display_data"
    },
    {
     "data": {
      "text/plain": "<IPython.core.display.HTML object>",
      "text/html": " View project at <a href='https://wandb.ai/parcaster/pp-sg-lstm' target=\"_blank\">https://wandb.ai/parcaster/pp-sg-lstm</a>"
     },
     "metadata": {},
     "output_type": "display_data"
    },
    {
     "data": {
      "text/plain": "<IPython.core.display.HTML object>",
      "text/html": " View sweep at <a href='https://wandb.ai/parcaster/pp-sg-lstm/sweeps/haw2fsrn' target=\"_blank\">https://wandb.ai/parcaster/pp-sg-lstm/sweeps/haw2fsrn</a>"
     },
     "metadata": {},
     "output_type": "display_data"
    },
    {
     "data": {
      "text/plain": "<IPython.core.display.HTML object>",
      "text/html": " View run at <a href='https://wandb.ai/parcaster/pp-sg-lstm/runs/nibvmsvh' target=\"_blank\">https://wandb.ai/parcaster/pp-sg-lstm/runs/nibvmsvh</a>"
     },
     "metadata": {},
     "output_type": "display_data"
    },
    {
     "name": "stdout",
     "output_type": "stream",
     "text": [
      "Input dimension: 18, columns: Index(['ferien', 'feiertag', 'covid_19', 'olma_offa', 'temperature_2m_max',\n",
      "       'temperature_2m_min', 'rain_sum', 'snowfall_sum', 'sin_minute',\n",
      "       'cos_minute', 'sin_hour', 'cos_hour', 'sin_weekday', 'cos_weekday',\n",
      "       'sin_day', 'cos_day', 'sin_month', 'cos_month'],\n",
      "      dtype='object')\n",
      "Output dimension: 14, columns: Index(['P24', 'P44', 'P42', 'P33', 'P23', 'P25', 'P21', 'P31', 'P53', 'P32',\n",
      "       'P22', 'P52', 'P51', 'P43'],\n",
      "      dtype='object')\n"
     ]
    },
    {
     "data": {
      "text/plain": "VBox(children=(Label(value='0.003 MB of 0.006 MB uploaded\\r'), FloatProgress(value=0.42414355628058725, max=1.…",
      "application/vnd.jupyter.widget-view+json": {
       "version_major": 2,
       "version_minor": 0,
       "model_id": "4119cd4997b14e15b3828758b23fac63"
      }
     },
     "metadata": {},
     "output_type": "display_data"
    },
    {
     "data": {
      "text/plain": "<IPython.core.display.HTML object>",
      "text/html": "<style>\n    table.wandb td:nth-child(1) { padding: 0 10px; text-align: left ; width: auto;} td:nth-child(2) {text-align: left ; width: 100%}\n    .wandb-row { display: flex; flex-direction: row; flex-wrap: wrap; justify-content: flex-start; width: 100% }\n    .wandb-col { display: flex; flex-direction: column; flex-basis: 100%; flex: 1; padding: 10px; }\n    </style>\n<div class=\"wandb-row\"><div class=\"wandb-col\"><h3>Run history:</h3><br/><table class=\"wandb\"><tr><td>batch loss</td><td>▂▂▃▂▂▂▂▂▃▂▂▂▂▂▁▃▅▃▁▃▁▂█▂▂▂▂▂▂▁▂▃▁▂▂▂▂▃▁▂</td></tr><tr><td>batch loss (validation)</td><td>▁▄▂▇▁▆▂▄▂▅▁▃▂▅▁▂▁▄▃▇▁▂▂▄▂▅▁▄▂▅█▂▁▃▃▇▆▂▂▃</td></tr><tr><td>epoch</td><td>▁▁▁▁▂▂▂▂▂▂▃▃▃▃▄▄▄▄▄▄▅▅▅▅▅▅▆▆▆▆▇▇▇▇▇▇████</td></tr><tr><td>loss</td><td>█▁▁▁▁▁▁▁▁▁▁▁▁▁▁▁▁▁▁▁</td></tr><tr><td>loss (validation)</td><td>▁▂▃▃▃▃▃▃█▆▅▅▅▅▅▅▅▅▅▅</td></tr></table><br/></div><div class=\"wandb-col\"><h3>Run summary:</h3><br/><table class=\"wandb\"><tr><td>batch loss</td><td>3514.43701</td></tr><tr><td>batch loss (validation)</td><td>4538.46094</td></tr><tr><td>epoch</td><td>19</td></tr><tr><td>loss</td><td>2645.05972</td></tr><tr><td>loss (validation)</td><td>2904.74755</td></tr></table><br/></div></div>"
     },
     "metadata": {},
     "output_type": "display_data"
    },
    {
     "data": {
      "text/plain": "<IPython.core.display.HTML object>",
      "text/html": " View run <strong style=\"color:#cdcd00\">distinctive-sweep-11</strong> at: <a href='https://wandb.ai/parcaster/pp-sg-lstm/runs/nibvmsvh' target=\"_blank\">https://wandb.ai/parcaster/pp-sg-lstm/runs/nibvmsvh</a><br/>Synced 5 W&B file(s), 0 media file(s), 0 artifact file(s) and 0 other file(s)"
     },
     "metadata": {},
     "output_type": "display_data"
    },
    {
     "data": {
      "text/plain": "<IPython.core.display.HTML object>",
      "text/html": "Find logs at: <code>./wandb/run-20231127_163343-nibvmsvh/logs</code>"
     },
     "metadata": {},
     "output_type": "display_data"
    },
    {
     "name": "stderr",
     "output_type": "stream",
     "text": [
      "\u001B[34m\u001B[1mwandb\u001B[0m: Agent Starting Run: wql5ktix with config:\n",
      "\u001B[34m\u001B[1mwandb\u001B[0m: \tbatch_size: 40\n",
      "\u001B[34m\u001B[1mwandb\u001B[0m: \tdropout: 0.2\n",
      "\u001B[34m\u001B[1mwandb\u001B[0m: \tepochs: 20\n",
      "\u001B[34m\u001B[1mwandb\u001B[0m: \tfc_layer_size: 100\n",
      "\u001B[34m\u001B[1mwandb\u001B[0m: \tlearning_rate: 0.06296360837922009\n",
      "\u001B[34m\u001B[1mwandb\u001B[0m: \tmodel: lstm\n",
      "\u001B[34m\u001B[1mwandb\u001B[0m: \tnum_layers: 2\n",
      "\u001B[34m\u001B[1mwandb\u001B[0m: \toptimizer: sgd\n",
      "\u001B[34m\u001B[1mwandb\u001B[0m: \ttrain_val_ratio: 0.8\n"
     ]
    },
    {
     "data": {
      "text/plain": "<IPython.core.display.HTML object>",
      "text/html": "Tracking run with wandb version 0.16.0"
     },
     "metadata": {},
     "output_type": "display_data"
    },
    {
     "data": {
      "text/plain": "<IPython.core.display.HTML object>",
      "text/html": "Run data is saved locally in <code>/home/jan/Projects/parcaster/model/wandb/run-20231127_163440-wql5ktix</code>"
     },
     "metadata": {},
     "output_type": "display_data"
    },
    {
     "data": {
      "text/plain": "<IPython.core.display.HTML object>",
      "text/html": "Syncing run <strong><a href='https://wandb.ai/parcaster/pp-sg-lstm/runs/wql5ktix' target=\"_blank\">eternal-sweep-12</a></strong> to <a href='https://wandb.ai/parcaster/pp-sg-lstm' target=\"_blank\">Weights & Biases</a> (<a href='https://wandb.me/run' target=\"_blank\">docs</a>)<br/>Sweep page: <a href='https://wandb.ai/parcaster/pp-sg-lstm/sweeps/haw2fsrn' target=\"_blank\">https://wandb.ai/parcaster/pp-sg-lstm/sweeps/haw2fsrn</a>"
     },
     "metadata": {},
     "output_type": "display_data"
    },
    {
     "data": {
      "text/plain": "<IPython.core.display.HTML object>",
      "text/html": " View project at <a href='https://wandb.ai/parcaster/pp-sg-lstm' target=\"_blank\">https://wandb.ai/parcaster/pp-sg-lstm</a>"
     },
     "metadata": {},
     "output_type": "display_data"
    },
    {
     "data": {
      "text/plain": "<IPython.core.display.HTML object>",
      "text/html": " View sweep at <a href='https://wandb.ai/parcaster/pp-sg-lstm/sweeps/haw2fsrn' target=\"_blank\">https://wandb.ai/parcaster/pp-sg-lstm/sweeps/haw2fsrn</a>"
     },
     "metadata": {},
     "output_type": "display_data"
    },
    {
     "data": {
      "text/plain": "<IPython.core.display.HTML object>",
      "text/html": " View run at <a href='https://wandb.ai/parcaster/pp-sg-lstm/runs/wql5ktix' target=\"_blank\">https://wandb.ai/parcaster/pp-sg-lstm/runs/wql5ktix</a>"
     },
     "metadata": {},
     "output_type": "display_data"
    },
    {
     "name": "stdout",
     "output_type": "stream",
     "text": [
      "Input dimension: 18, columns: Index(['ferien', 'feiertag', 'covid_19', 'olma_offa', 'temperature_2m_max',\n",
      "       'temperature_2m_min', 'rain_sum', 'snowfall_sum', 'sin_minute',\n",
      "       'cos_minute', 'sin_hour', 'cos_hour', 'sin_weekday', 'cos_weekday',\n",
      "       'sin_day', 'cos_day', 'sin_month', 'cos_month'],\n",
      "      dtype='object')\n",
      "Output dimension: 14, columns: Index(['P24', 'P44', 'P42', 'P33', 'P23', 'P25', 'P21', 'P31', 'P53', 'P32',\n",
      "       'P22', 'P52', 'P51', 'P43'],\n",
      "      dtype='object')\n"
     ]
    },
    {
     "data": {
      "text/plain": "VBox(children=(Label(value='0.003 MB of 0.006 MB uploaded\\r'), FloatProgress(value=0.44144422157074525, max=1.…",
      "application/vnd.jupyter.widget-view+json": {
       "version_major": 2,
       "version_minor": 0,
       "model_id": "35e5bfc7766c44e6880290c416f78a40"
      }
     },
     "metadata": {},
     "output_type": "display_data"
    },
    {
     "data": {
      "text/plain": "<IPython.core.display.HTML object>",
      "text/html": "<style>\n    table.wandb td:nth-child(1) { padding: 0 10px; text-align: left ; width: auto;} td:nth-child(2) {text-align: left ; width: 100%}\n    .wandb-row { display: flex; flex-direction: row; flex-wrap: wrap; justify-content: flex-start; width: 100% }\n    .wandb-col { display: flex; flex-direction: column; flex-basis: 100%; flex: 1; padding: 10px; }\n    </style>\n<div class=\"wandb-row\"><div class=\"wandb-col\"><h3>Run history:</h3><br/><table class=\"wandb\"><tr><td>batch loss</td><td>▃▆▁█▃▆▁▇▃▆▂▆▃▆▁▅▃▆▂▅▃▆▂▅▃▇▂▅▃▇▂▅▃▇▂▅▃▇▂▆</td></tr><tr><td>batch loss (validation)</td><td>▂▄█▃▂▄█▄▂▄▇▃▂▄▇▃▂▄▇▃▂▃▆▃▁▂▄▃▁▃▄▃▁▂▄▃▁▂▄▅</td></tr><tr><td>epoch</td><td>▁▁▁▁▂▂▂▂▂▂▃▃▃▃▄▄▄▄▄▄▅▅▅▅▅▅▆▆▆▆▇▇▇▇▇▇████</td></tr><tr><td>loss</td><td>█▅▄▃▃▃▃▃▃▃▄▂▂▂▂▁▁▁▁▁</td></tr><tr><td>loss (validation)</td><td>▆███▇▆▅▆▅▅▄▂▂▂▂▁▁▁▁▁</td></tr></table><br/></div><div class=\"wandb-col\"><h3>Run summary:</h3><br/><table class=\"wandb\"><tr><td>batch loss</td><td>2767.51147</td></tr><tr><td>batch loss (validation)</td><td>7517.98486</td></tr><tr><td>epoch</td><td>19</td></tr><tr><td>loss</td><td>2779.87244</td></tr><tr><td>loss (validation)</td><td>5909.18398</td></tr></table><br/></div></div>"
     },
     "metadata": {},
     "output_type": "display_data"
    },
    {
     "data": {
      "text/plain": "<IPython.core.display.HTML object>",
      "text/html": " View run <strong style=\"color:#cdcd00\">eternal-sweep-12</strong> at: <a href='https://wandb.ai/parcaster/pp-sg-lstm/runs/wql5ktix' target=\"_blank\">https://wandb.ai/parcaster/pp-sg-lstm/runs/wql5ktix</a><br/>Synced 5 W&B file(s), 0 media file(s), 0 artifact file(s) and 0 other file(s)"
     },
     "metadata": {},
     "output_type": "display_data"
    },
    {
     "data": {
      "text/plain": "<IPython.core.display.HTML object>",
      "text/html": "Find logs at: <code>./wandb/run-20231127_163440-wql5ktix/logs</code>"
     },
     "metadata": {},
     "output_type": "display_data"
    },
    {
     "name": "stderr",
     "output_type": "stream",
     "text": [
      "\u001B[34m\u001B[1mwandb\u001B[0m: Agent Starting Run: dgwexqfs with config:\n",
      "\u001B[34m\u001B[1mwandb\u001B[0m: \tbatch_size: 152\n",
      "\u001B[34m\u001B[1mwandb\u001B[0m: \tdropout: 0.2\n",
      "\u001B[34m\u001B[1mwandb\u001B[0m: \tepochs: 20\n",
      "\u001B[34m\u001B[1mwandb\u001B[0m: \tfc_layer_size: 1000\n",
      "\u001B[34m\u001B[1mwandb\u001B[0m: \tlearning_rate: 0.003767633935381931\n",
      "\u001B[34m\u001B[1mwandb\u001B[0m: \tmodel: lstm\n",
      "\u001B[34m\u001B[1mwandb\u001B[0m: \tnum_layers: 32\n",
      "\u001B[34m\u001B[1mwandb\u001B[0m: \toptimizer: sgd\n",
      "\u001B[34m\u001B[1mwandb\u001B[0m: \ttrain_val_ratio: 0.8\n"
     ]
    },
    {
     "data": {
      "text/plain": "<IPython.core.display.HTML object>",
      "text/html": "Tracking run with wandb version 0.16.0"
     },
     "metadata": {},
     "output_type": "display_data"
    },
    {
     "data": {
      "text/plain": "<IPython.core.display.HTML object>",
      "text/html": "Run data is saved locally in <code>/home/jan/Projects/parcaster/model/wandb/run-20231127_163543-dgwexqfs</code>"
     },
     "metadata": {},
     "output_type": "display_data"
    },
    {
     "data": {
      "text/plain": "<IPython.core.display.HTML object>",
      "text/html": "Syncing run <strong><a href='https://wandb.ai/parcaster/pp-sg-lstm/runs/dgwexqfs' target=\"_blank\">sage-sweep-13</a></strong> to <a href='https://wandb.ai/parcaster/pp-sg-lstm' target=\"_blank\">Weights & Biases</a> (<a href='https://wandb.me/run' target=\"_blank\">docs</a>)<br/>Sweep page: <a href='https://wandb.ai/parcaster/pp-sg-lstm/sweeps/haw2fsrn' target=\"_blank\">https://wandb.ai/parcaster/pp-sg-lstm/sweeps/haw2fsrn</a>"
     },
     "metadata": {},
     "output_type": "display_data"
    },
    {
     "data": {
      "text/plain": "<IPython.core.display.HTML object>",
      "text/html": " View project at <a href='https://wandb.ai/parcaster/pp-sg-lstm' target=\"_blank\">https://wandb.ai/parcaster/pp-sg-lstm</a>"
     },
     "metadata": {},
     "output_type": "display_data"
    },
    {
     "data": {
      "text/plain": "<IPython.core.display.HTML object>",
      "text/html": " View sweep at <a href='https://wandb.ai/parcaster/pp-sg-lstm/sweeps/haw2fsrn' target=\"_blank\">https://wandb.ai/parcaster/pp-sg-lstm/sweeps/haw2fsrn</a>"
     },
     "metadata": {},
     "output_type": "display_data"
    },
    {
     "data": {
      "text/plain": "<IPython.core.display.HTML object>",
      "text/html": " View run at <a href='https://wandb.ai/parcaster/pp-sg-lstm/runs/dgwexqfs' target=\"_blank\">https://wandb.ai/parcaster/pp-sg-lstm/runs/dgwexqfs</a>"
     },
     "metadata": {},
     "output_type": "display_data"
    },
    {
     "name": "stdout",
     "output_type": "stream",
     "text": [
      "Input dimension: 18, columns: Index(['ferien', 'feiertag', 'covid_19', 'olma_offa', 'temperature_2m_max',\n",
      "       'temperature_2m_min', 'rain_sum', 'snowfall_sum', 'sin_minute',\n",
      "       'cos_minute', 'sin_hour', 'cos_hour', 'sin_weekday', 'cos_weekday',\n",
      "       'sin_day', 'cos_day', 'sin_month', 'cos_month'],\n",
      "      dtype='object')\n",
      "Output dimension: 14, columns: Index(['P24', 'P44', 'P42', 'P33', 'P23', 'P25', 'P21', 'P31', 'P53', 'P32',\n",
      "       'P22', 'P52', 'P51', 'P43'],\n",
      "      dtype='object')\n"
     ]
    },
    {
     "data": {
      "text/plain": "VBox(children=(Label(value='0.003 MB of 0.003 MB uploaded\\r'), FloatProgress(value=1.0, max=1.0)))",
      "application/vnd.jupyter.widget-view+json": {
       "version_major": 2,
       "version_minor": 0,
       "model_id": "576cacc322bd4c52a74d3c689ec2183e"
      }
     },
     "metadata": {},
     "output_type": "display_data"
    },
    {
     "data": {
      "text/plain": "<IPython.core.display.HTML object>",
      "text/html": "<style>\n    table.wandb td:nth-child(1) { padding: 0 10px; text-align: left ; width: auto;} td:nth-child(2) {text-align: left ; width: 100%}\n    .wandb-row { display: flex; flex-direction: row; flex-wrap: wrap; justify-content: flex-start; width: 100% }\n    .wandb-col { display: flex; flex-direction: column; flex-basis: 100%; flex: 1; padding: 10px; }\n    </style>\n<div class=\"wandb-row\"><div class=\"wandb-col\"><h3>Run history:</h3><br/><table class=\"wandb\"><tr><td>batch loss</td><td>▂▁█▃▆▃▄▁▅▃▄▂▃▃▄▂▇▃▅▂▅▂▆▃▃▂▂▂▄▃▃▂▂▁▄▃▃▂▂▄</td></tr><tr><td>batch loss (validation)</td><td>▂▄▂▆▃▅▃▄▄▅▂▃▂▄▅█▃▄▂▆▄▅▁▄▅▅▂▃▂▄▅█▃▃▂▆▄▅▁▃</td></tr><tr><td>epoch</td><td>▁▁▁▁▂▂▂▂▂▂▃▃▃▃▄▄▄▄▄▄▅▅▅▅▅▅▆▆▆▆▇▇▇▇▇▇████</td></tr><tr><td>loss</td><td>█▂▂▁▁▁▁▁▁▁▁▁▁▁▁▁▁▁▁▁</td></tr><tr><td>loss (validation)</td><td>█▄▃▃▁▂▂▂▂▂▂▂▂▂▂▂▂▂▁▁</td></tr></table><br/></div><div class=\"wandb-col\"><h3>Run summary:</h3><br/><table class=\"wandb\"><tr><td>batch loss</td><td>6724.35449</td></tr><tr><td>batch loss (validation)</td><td>4846.56104</td></tr><tr><td>epoch</td><td>19</td></tr><tr><td>loss</td><td>2891.5364</td></tr><tr><td>loss (validation)</td><td>3102.04156</td></tr></table><br/></div></div>"
     },
     "metadata": {},
     "output_type": "display_data"
    },
    {
     "data": {
      "text/plain": "<IPython.core.display.HTML object>",
      "text/html": " View run <strong style=\"color:#cdcd00\">sage-sweep-13</strong> at: <a href='https://wandb.ai/parcaster/pp-sg-lstm/runs/dgwexqfs' target=\"_blank\">https://wandb.ai/parcaster/pp-sg-lstm/runs/dgwexqfs</a><br/>Synced 5 W&B file(s), 0 media file(s), 0 artifact file(s) and 0 other file(s)"
     },
     "metadata": {},
     "output_type": "display_data"
    },
    {
     "data": {
      "text/plain": "<IPython.core.display.HTML object>",
      "text/html": "Find logs at: <code>./wandb/run-20231127_163543-dgwexqfs/logs</code>"
     },
     "metadata": {},
     "output_type": "display_data"
    },
    {
     "name": "stderr",
     "output_type": "stream",
     "text": [
      "\u001B[34m\u001B[1mwandb\u001B[0m: Agent Starting Run: 98o6pkd3 with config:\n",
      "\u001B[34m\u001B[1mwandb\u001B[0m: \tbatch_size: 128\n",
      "\u001B[34m\u001B[1mwandb\u001B[0m: \tdropout: 0\n",
      "\u001B[34m\u001B[1mwandb\u001B[0m: \tepochs: 20\n",
      "\u001B[34m\u001B[1mwandb\u001B[0m: \tfc_layer_size: 50\n",
      "\u001B[34m\u001B[1mwandb\u001B[0m: \tlearning_rate: 0.0864641980393407\n",
      "\u001B[34m\u001B[1mwandb\u001B[0m: \tmodel: lstm\n",
      "\u001B[34m\u001B[1mwandb\u001B[0m: \tnum_layers: 8\n",
      "\u001B[34m\u001B[1mwandb\u001B[0m: \toptimizer: sgd\n",
      "\u001B[34m\u001B[1mwandb\u001B[0m: \ttrain_val_ratio: 0.8\n"
     ]
    },
    {
     "data": {
      "text/plain": "<IPython.core.display.HTML object>",
      "text/html": "Tracking run with wandb version 0.16.0"
     },
     "metadata": {},
     "output_type": "display_data"
    },
    {
     "data": {
      "text/plain": "<IPython.core.display.HTML object>",
      "text/html": "Run data is saved locally in <code>/home/jan/Projects/parcaster/model/wandb/run-20231127_164138-98o6pkd3</code>"
     },
     "metadata": {},
     "output_type": "display_data"
    },
    {
     "data": {
      "text/plain": "<IPython.core.display.HTML object>",
      "text/html": "Syncing run <strong><a href='https://wandb.ai/parcaster/pp-sg-lstm/runs/98o6pkd3' target=\"_blank\">dashing-sweep-14</a></strong> to <a href='https://wandb.ai/parcaster/pp-sg-lstm' target=\"_blank\">Weights & Biases</a> (<a href='https://wandb.me/run' target=\"_blank\">docs</a>)<br/>Sweep page: <a href='https://wandb.ai/parcaster/pp-sg-lstm/sweeps/haw2fsrn' target=\"_blank\">https://wandb.ai/parcaster/pp-sg-lstm/sweeps/haw2fsrn</a>"
     },
     "metadata": {},
     "output_type": "display_data"
    },
    {
     "data": {
      "text/plain": "<IPython.core.display.HTML object>",
      "text/html": " View project at <a href='https://wandb.ai/parcaster/pp-sg-lstm' target=\"_blank\">https://wandb.ai/parcaster/pp-sg-lstm</a>"
     },
     "metadata": {},
     "output_type": "display_data"
    },
    {
     "data": {
      "text/plain": "<IPython.core.display.HTML object>",
      "text/html": " View sweep at <a href='https://wandb.ai/parcaster/pp-sg-lstm/sweeps/haw2fsrn' target=\"_blank\">https://wandb.ai/parcaster/pp-sg-lstm/sweeps/haw2fsrn</a>"
     },
     "metadata": {},
     "output_type": "display_data"
    },
    {
     "data": {
      "text/plain": "<IPython.core.display.HTML object>",
      "text/html": " View run at <a href='https://wandb.ai/parcaster/pp-sg-lstm/runs/98o6pkd3' target=\"_blank\">https://wandb.ai/parcaster/pp-sg-lstm/runs/98o6pkd3</a>"
     },
     "metadata": {},
     "output_type": "display_data"
    },
    {
     "name": "stdout",
     "output_type": "stream",
     "text": [
      "Input dimension: 18, columns: Index(['ferien', 'feiertag', 'covid_19', 'olma_offa', 'temperature_2m_max',\n",
      "       'temperature_2m_min', 'rain_sum', 'snowfall_sum', 'sin_minute',\n",
      "       'cos_minute', 'sin_hour', 'cos_hour', 'sin_weekday', 'cos_weekday',\n",
      "       'sin_day', 'cos_day', 'sin_month', 'cos_month'],\n",
      "      dtype='object')\n",
      "Output dimension: 14, columns: Index(['P24', 'P44', 'P42', 'P33', 'P23', 'P25', 'P21', 'P31', 'P53', 'P32',\n",
      "       'P22', 'P52', 'P51', 'P43'],\n",
      "      dtype='object')\n"
     ]
    },
    {
     "data": {
      "text/plain": "VBox(children=(Label(value='0.003 MB of 0.003 MB uploaded\\r'), FloatProgress(value=1.0, max=1.0)))",
      "application/vnd.jupyter.widget-view+json": {
       "version_major": 2,
       "version_minor": 0,
       "model_id": "9bb9a6b711bc48ec874a6eb187f6b3f3"
      }
     },
     "metadata": {},
     "output_type": "display_data"
    },
    {
     "data": {
      "text/plain": "<IPython.core.display.HTML object>",
      "text/html": "<style>\n    table.wandb td:nth-child(1) { padding: 0 10px; text-align: left ; width: auto;} td:nth-child(2) {text-align: left ; width: 100%}\n    .wandb-row { display: flex; flex-direction: row; flex-wrap: wrap; justify-content: flex-start; width: 100% }\n    .wandb-col { display: flex; flex-direction: column; flex-basis: 100%; flex: 1; padding: 10px; }\n    </style>\n<div class=\"wandb-row\"><div class=\"wandb-col\"><h3>Run history:</h3><br/><table class=\"wandb\"><tr><td>batch loss</td><td>▇▄█▆▄▂▇▃▆▂▄▄▁▃▆▅█▄█▆▂▂▇▃▆▆▄▄▁▃▂▅█▄█▃▂▂▇▆</td></tr><tr><td>batch loss (validation)</td><td>▃▃▁▄▄▅▁▁▁▃▃█▁▃▃▂▃▂▁▄▃▅▁▁▁▁▃█▁▃▅▂▃▂▁▄▃▅▁▄</td></tr><tr><td>epoch</td><td>▁▁▁▁▂▂▂▂▂▂▃▃▃▃▄▄▄▄▄▄▅▅▅▅▅▅▆▆▆▆▇▇▇▇▇▇████</td></tr><tr><td>loss</td><td>█▁▄▄▄▄▄▄▄▄▄▄▄▄▄▄▄▄▄▄</td></tr><tr><td>loss (validation)</td><td>█▁▁▁▁▁▁▁▁▁▁▁▁▁▁▁▁▁▁▁</td></tr></table><br/></div><div class=\"wandb-col\"><h3>Run summary:</h3><br/><table class=\"wandb\"><tr><td>batch loss</td><td>9212.3877</td></tr><tr><td>batch loss (validation)</td><td>11718.56641</td></tr><tr><td>epoch</td><td>19</td></tr><tr><td>loss</td><td>4061.60677</td></tr><tr><td>loss (validation)</td><td>11386.0585</td></tr></table><br/></div></div>"
     },
     "metadata": {},
     "output_type": "display_data"
    },
    {
     "data": {
      "text/plain": "<IPython.core.display.HTML object>",
      "text/html": " View run <strong style=\"color:#cdcd00\">dashing-sweep-14</strong> at: <a href='https://wandb.ai/parcaster/pp-sg-lstm/runs/98o6pkd3' target=\"_blank\">https://wandb.ai/parcaster/pp-sg-lstm/runs/98o6pkd3</a><br/>Synced 5 W&B file(s), 0 media file(s), 0 artifact file(s) and 0 other file(s)"
     },
     "metadata": {},
     "output_type": "display_data"
    },
    {
     "data": {
      "text/plain": "<IPython.core.display.HTML object>",
      "text/html": "Find logs at: <code>./wandb/run-20231127_164138-98o6pkd3/logs</code>"
     },
     "metadata": {},
     "output_type": "display_data"
    },
    {
     "name": "stderr",
     "output_type": "stream",
     "text": [
      "\u001B[34m\u001B[1mwandb\u001B[0m: Agent Starting Run: 3nq68we0 with config:\n",
      "\u001B[34m\u001B[1mwandb\u001B[0m: \tbatch_size: 224\n",
      "\u001B[34m\u001B[1mwandb\u001B[0m: \tdropout: 0.1\n",
      "\u001B[34m\u001B[1mwandb\u001B[0m: \tepochs: 20\n",
      "\u001B[34m\u001B[1mwandb\u001B[0m: \tfc_layer_size: 200\n",
      "\u001B[34m\u001B[1mwandb\u001B[0m: \tlearning_rate: 0.0921150871576295\n",
      "\u001B[34m\u001B[1mwandb\u001B[0m: \tmodel: lstm\n",
      "\u001B[34m\u001B[1mwandb\u001B[0m: \tnum_layers: 8\n",
      "\u001B[34m\u001B[1mwandb\u001B[0m: \toptimizer: sgd\n",
      "\u001B[34m\u001B[1mwandb\u001B[0m: \ttrain_val_ratio: 0.8\n"
     ]
    },
    {
     "data": {
      "text/plain": "<IPython.core.display.HTML object>",
      "text/html": "Tracking run with wandb version 0.16.0"
     },
     "metadata": {},
     "output_type": "display_data"
    },
    {
     "data": {
      "text/plain": "<IPython.core.display.HTML object>",
      "text/html": "Run data is saved locally in <code>/home/jan/Projects/parcaster/model/wandb/run-20231127_164214-3nq68we0</code>"
     },
     "metadata": {},
     "output_type": "display_data"
    },
    {
     "data": {
      "text/plain": "<IPython.core.display.HTML object>",
      "text/html": "Syncing run <strong><a href='https://wandb.ai/parcaster/pp-sg-lstm/runs/3nq68we0' target=\"_blank\">amber-sweep-15</a></strong> to <a href='https://wandb.ai/parcaster/pp-sg-lstm' target=\"_blank\">Weights & Biases</a> (<a href='https://wandb.me/run' target=\"_blank\">docs</a>)<br/>Sweep page: <a href='https://wandb.ai/parcaster/pp-sg-lstm/sweeps/haw2fsrn' target=\"_blank\">https://wandb.ai/parcaster/pp-sg-lstm/sweeps/haw2fsrn</a>"
     },
     "metadata": {},
     "output_type": "display_data"
    },
    {
     "data": {
      "text/plain": "<IPython.core.display.HTML object>",
      "text/html": " View project at <a href='https://wandb.ai/parcaster/pp-sg-lstm' target=\"_blank\">https://wandb.ai/parcaster/pp-sg-lstm</a>"
     },
     "metadata": {},
     "output_type": "display_data"
    },
    {
     "data": {
      "text/plain": "<IPython.core.display.HTML object>",
      "text/html": " View sweep at <a href='https://wandb.ai/parcaster/pp-sg-lstm/sweeps/haw2fsrn' target=\"_blank\">https://wandb.ai/parcaster/pp-sg-lstm/sweeps/haw2fsrn</a>"
     },
     "metadata": {},
     "output_type": "display_data"
    },
    {
     "data": {
      "text/plain": "<IPython.core.display.HTML object>",
      "text/html": " View run at <a href='https://wandb.ai/parcaster/pp-sg-lstm/runs/3nq68we0' target=\"_blank\">https://wandb.ai/parcaster/pp-sg-lstm/runs/3nq68we0</a>"
     },
     "metadata": {},
     "output_type": "display_data"
    },
    {
     "name": "stdout",
     "output_type": "stream",
     "text": [
      "Input dimension: 18, columns: Index(['ferien', 'feiertag', 'covid_19', 'olma_offa', 'temperature_2m_max',\n",
      "       'temperature_2m_min', 'rain_sum', 'snowfall_sum', 'sin_minute',\n",
      "       'cos_minute', 'sin_hour', 'cos_hour', 'sin_weekday', 'cos_weekday',\n",
      "       'sin_day', 'cos_day', 'sin_month', 'cos_month'],\n",
      "      dtype='object')\n",
      "Output dimension: 14, columns: Index(['P24', 'P44', 'P42', 'P33', 'P23', 'P25', 'P21', 'P31', 'P53', 'P32',\n",
      "       'P22', 'P52', 'P51', 'P43'],\n",
      "      dtype='object')\n"
     ]
    },
    {
     "data": {
      "text/plain": "VBox(children=(Label(value='0.003 MB of 0.003 MB uploaded\\r'), FloatProgress(value=1.0, max=1.0)))",
      "application/vnd.jupyter.widget-view+json": {
       "version_major": 2,
       "version_minor": 0,
       "model_id": "6eb7c406113347efa8c829600a69219b"
      }
     },
     "metadata": {},
     "output_type": "display_data"
    },
    {
     "data": {
      "text/plain": "<IPython.core.display.HTML object>",
      "text/html": "<style>\n    table.wandb td:nth-child(1) { padding: 0 10px; text-align: left ; width: auto;} td:nth-child(2) {text-align: left ; width: 100%}\n    .wandb-row { display: flex; flex-direction: row; flex-wrap: wrap; justify-content: flex-start; width: 100% }\n    .wandb-col { display: flex; flex-direction: column; flex-basis: 100%; flex: 1; padding: 10px; }\n    </style>\n<div class=\"wandb-row\"><div class=\"wandb-col\"><h3>Run history:</h3><br/><table class=\"wandb\"><tr><td>batch loss</td><td>▄▁▅▁▆▁▆▁▆▁▆▁▆▂▇▂▇▂▇▂█▂█▂█▂▁▂▁▂▁▂▂▂▂▂▂▂▂▂</td></tr><tr><td>batch loss (validation)</td><td>██▇▇▇▇▇▇▇▇▇▇▇▂▇▂▇▂▆▁▆▁▆▁▆▁▆▁▆▁▆▁▆▁▆▁▆▁▆▆</td></tr><tr><td>epoch</td><td>▁▁▁▁▂▂▂▂▂▂▃▃▃▃▄▄▄▄▄▄▅▅▅▅▅▅▆▆▆▆▇▇▇▇▇▇████</td></tr><tr><td>loss</td><td>▁███████████████████</td></tr><tr><td>loss (validation)</td><td>█▆▆▅▅▅▄▃▃▂▂▂▂▂▂▂▁▁▁▁</td></tr></table><br/></div><div class=\"wandb-col\"><h3>Run summary:</h3><br/><table class=\"wandb\"><tr><td>batch loss</td><td>4286.86133</td></tr><tr><td>batch loss (validation)</td><td>7521.1748</td></tr><tr><td>epoch</td><td>19</td></tr><tr><td>loss</td><td>5500.17413</td></tr><tr><td>loss (validation)</td><td>6221.24318</td></tr></table><br/></div></div>"
     },
     "metadata": {},
     "output_type": "display_data"
    },
    {
     "data": {
      "text/plain": "<IPython.core.display.HTML object>",
      "text/html": " View run <strong style=\"color:#cdcd00\">amber-sweep-15</strong> at: <a href='https://wandb.ai/parcaster/pp-sg-lstm/runs/3nq68we0' target=\"_blank\">https://wandb.ai/parcaster/pp-sg-lstm/runs/3nq68we0</a><br/>Synced 5 W&B file(s), 0 media file(s), 0 artifact file(s) and 0 other file(s)"
     },
     "metadata": {},
     "output_type": "display_data"
    },
    {
     "data": {
      "text/plain": "<IPython.core.display.HTML object>",
      "text/html": "Find logs at: <code>./wandb/run-20231127_164214-3nq68we0/logs</code>"
     },
     "metadata": {},
     "output_type": "display_data"
    },
    {
     "name": "stderr",
     "output_type": "stream",
     "text": [
      "\u001B[34m\u001B[1mwandb\u001B[0m: Agent Starting Run: 30973o8e with config:\n",
      "\u001B[34m\u001B[1mwandb\u001B[0m: \tbatch_size: 48\n",
      "\u001B[34m\u001B[1mwandb\u001B[0m: \tdropout: 0.1\n",
      "\u001B[34m\u001B[1mwandb\u001B[0m: \tepochs: 20\n",
      "\u001B[34m\u001B[1mwandb\u001B[0m: \tfc_layer_size: 100\n",
      "\u001B[34m\u001B[1mwandb\u001B[0m: \tlearning_rate: 0.07182175795208022\n",
      "\u001B[34m\u001B[1mwandb\u001B[0m: \tmodel: lstm\n",
      "\u001B[34m\u001B[1mwandb\u001B[0m: \tnum_layers: 16\n",
      "\u001B[34m\u001B[1mwandb\u001B[0m: \toptimizer: sgd\n",
      "\u001B[34m\u001B[1mwandb\u001B[0m: \ttrain_val_ratio: 0.8\n"
     ]
    },
    {
     "data": {
      "text/plain": "<IPython.core.display.HTML object>",
      "text/html": "Tracking run with wandb version 0.16.0"
     },
     "metadata": {},
     "output_type": "display_data"
    },
    {
     "data": {
      "text/plain": "<IPython.core.display.HTML object>",
      "text/html": "Run data is saved locally in <code>/home/jan/Projects/parcaster/model/wandb/run-20231127_164245-30973o8e</code>"
     },
     "metadata": {},
     "output_type": "display_data"
    },
    {
     "data": {
      "text/plain": "<IPython.core.display.HTML object>",
      "text/html": "Syncing run <strong><a href='https://wandb.ai/parcaster/pp-sg-lstm/runs/30973o8e' target=\"_blank\">upbeat-sweep-16</a></strong> to <a href='https://wandb.ai/parcaster/pp-sg-lstm' target=\"_blank\">Weights & Biases</a> (<a href='https://wandb.me/run' target=\"_blank\">docs</a>)<br/>Sweep page: <a href='https://wandb.ai/parcaster/pp-sg-lstm/sweeps/haw2fsrn' target=\"_blank\">https://wandb.ai/parcaster/pp-sg-lstm/sweeps/haw2fsrn</a>"
     },
     "metadata": {},
     "output_type": "display_data"
    },
    {
     "data": {
      "text/plain": "<IPython.core.display.HTML object>",
      "text/html": " View project at <a href='https://wandb.ai/parcaster/pp-sg-lstm' target=\"_blank\">https://wandb.ai/parcaster/pp-sg-lstm</a>"
     },
     "metadata": {},
     "output_type": "display_data"
    },
    {
     "data": {
      "text/plain": "<IPython.core.display.HTML object>",
      "text/html": " View sweep at <a href='https://wandb.ai/parcaster/pp-sg-lstm/sweeps/haw2fsrn' target=\"_blank\">https://wandb.ai/parcaster/pp-sg-lstm/sweeps/haw2fsrn</a>"
     },
     "metadata": {},
     "output_type": "display_data"
    },
    {
     "data": {
      "text/plain": "<IPython.core.display.HTML object>",
      "text/html": " View run at <a href='https://wandb.ai/parcaster/pp-sg-lstm/runs/30973o8e' target=\"_blank\">https://wandb.ai/parcaster/pp-sg-lstm/runs/30973o8e</a>"
     },
     "metadata": {},
     "output_type": "display_data"
    },
    {
     "name": "stdout",
     "output_type": "stream",
     "text": [
      "Input dimension: 18, columns: Index(['ferien', 'feiertag', 'covid_19', 'olma_offa', 'temperature_2m_max',\n",
      "       'temperature_2m_min', 'rain_sum', 'snowfall_sum', 'sin_minute',\n",
      "       'cos_minute', 'sin_hour', 'cos_hour', 'sin_weekday', 'cos_weekday',\n",
      "       'sin_day', 'cos_day', 'sin_month', 'cos_month'],\n",
      "      dtype='object')\n",
      "Output dimension: 14, columns: Index(['P24', 'P44', 'P42', 'P33', 'P23', 'P25', 'P21', 'P31', 'P53', 'P32',\n",
      "       'P22', 'P52', 'P51', 'P43'],\n",
      "      dtype='object')\n"
     ]
    },
    {
     "data": {
      "text/plain": "VBox(children=(Label(value='0.003 MB of 0.003 MB uploaded\\r'), FloatProgress(value=1.0, max=1.0)))",
      "application/vnd.jupyter.widget-view+json": {
       "version_major": 2,
       "version_minor": 0,
       "model_id": "8fc74536417d4b188be7fb6c68cd7f6c"
      }
     },
     "metadata": {},
     "output_type": "display_data"
    },
    {
     "data": {
      "text/plain": "<IPython.core.display.HTML object>",
      "text/html": "<style>\n    table.wandb td:nth-child(1) { padding: 0 10px; text-align: left ; width: auto;} td:nth-child(2) {text-align: left ; width: 100%}\n    .wandb-row { display: flex; flex-direction: row; flex-wrap: wrap; justify-content: flex-start; width: 100% }\n    .wandb-col { display: flex; flex-direction: column; flex-basis: 100%; flex: 1; padding: 10px; }\n    </style>\n<div class=\"wandb-row\"><div class=\"wandb-col\"><h3>Run history:</h3><br/><table class=\"wandb\"><tr><td>batch loss</td><td>▂▄▄▄▃▃▂▁▃▂▂▂▂▂█▄▄▂▁▂▄▁▁▂▂▃▁▃▃▂▃▂▂▂▁▂▂▂▃▂</td></tr><tr><td>batch loss (validation)</td><td>▄█▂▃▂▃▂▃▃▃▃▃▃▂▂▂▂▂▁▃▃▂▃▃▂▂▂▂▃▃▁▂▃▂▃▃▃▂▁▃</td></tr><tr><td>epoch</td><td>▁▁▁▁▂▂▂▂▂▂▃▃▃▃▄▄▄▄▄▄▅▅▅▅▅▅▆▆▆▆▇▇▇▇▇▇████</td></tr><tr><td>loss</td><td>▁█▆▅▅▅▅▅▅▅▅▅▅▅▅▄▃▃▃▃</td></tr><tr><td>loss (validation)</td><td>██▆▄▄▄▄▄▄▄▄▄▄▄▄▁▁▁▁▁</td></tr></table><br/></div><div class=\"wandb-col\"><h3>Run summary:</h3><br/><table class=\"wandb\"><tr><td>batch loss</td><td>3239.71069</td></tr><tr><td>batch loss (validation)</td><td>8828.14746</td></tr><tr><td>epoch</td><td>19</td></tr><tr><td>loss</td><td>3246.65944</td></tr><tr><td>loss (validation)</td><td>10088.74307</td></tr></table><br/></div></div>"
     },
     "metadata": {},
     "output_type": "display_data"
    },
    {
     "data": {
      "text/plain": "<IPython.core.display.HTML object>",
      "text/html": " View run <strong style=\"color:#cdcd00\">upbeat-sweep-16</strong> at: <a href='https://wandb.ai/parcaster/pp-sg-lstm/runs/30973o8e' target=\"_blank\">https://wandb.ai/parcaster/pp-sg-lstm/runs/30973o8e</a><br/>Synced 5 W&B file(s), 0 media file(s), 0 artifact file(s) and 0 other file(s)"
     },
     "metadata": {},
     "output_type": "display_data"
    },
    {
     "data": {
      "text/plain": "<IPython.core.display.HTML object>",
      "text/html": "Find logs at: <code>./wandb/run-20231127_164245-30973o8e/logs</code>"
     },
     "metadata": {},
     "output_type": "display_data"
    },
    {
     "name": "stderr",
     "output_type": "stream",
     "text": [
      "\u001B[34m\u001B[1mwandb\u001B[0m: Agent Starting Run: rcjt1opv with config:\n",
      "\u001B[34m\u001B[1mwandb\u001B[0m: \tbatch_size: 200\n",
      "\u001B[34m\u001B[1mwandb\u001B[0m: \tdropout: 0.1\n",
      "\u001B[34m\u001B[1mwandb\u001B[0m: \tepochs: 20\n",
      "\u001B[34m\u001B[1mwandb\u001B[0m: \tfc_layer_size: 100\n",
      "\u001B[34m\u001B[1mwandb\u001B[0m: \tlearning_rate: 0.002655835521970318\n",
      "\u001B[34m\u001B[1mwandb\u001B[0m: \tmodel: lstm\n",
      "\u001B[34m\u001B[1mwandb\u001B[0m: \tnum_layers: 32\n",
      "\u001B[34m\u001B[1mwandb\u001B[0m: \toptimizer: sgd\n",
      "\u001B[34m\u001B[1mwandb\u001B[0m: \ttrain_val_ratio: 0.8\n"
     ]
    },
    {
     "data": {
      "text/plain": "<IPython.core.display.HTML object>",
      "text/html": "Tracking run with wandb version 0.16.0"
     },
     "metadata": {},
     "output_type": "display_data"
    },
    {
     "data": {
      "text/plain": "<IPython.core.display.HTML object>",
      "text/html": "Run data is saved locally in <code>/home/jan/Projects/parcaster/model/wandb/run-20231127_164424-rcjt1opv</code>"
     },
     "metadata": {},
     "output_type": "display_data"
    },
    {
     "data": {
      "text/plain": "<IPython.core.display.HTML object>",
      "text/html": "Syncing run <strong><a href='https://wandb.ai/parcaster/pp-sg-lstm/runs/rcjt1opv' target=\"_blank\">solar-sweep-17</a></strong> to <a href='https://wandb.ai/parcaster/pp-sg-lstm' target=\"_blank\">Weights & Biases</a> (<a href='https://wandb.me/run' target=\"_blank\">docs</a>)<br/>Sweep page: <a href='https://wandb.ai/parcaster/pp-sg-lstm/sweeps/haw2fsrn' target=\"_blank\">https://wandb.ai/parcaster/pp-sg-lstm/sweeps/haw2fsrn</a>"
     },
     "metadata": {},
     "output_type": "display_data"
    },
    {
     "data": {
      "text/plain": "<IPython.core.display.HTML object>",
      "text/html": " View project at <a href='https://wandb.ai/parcaster/pp-sg-lstm' target=\"_blank\">https://wandb.ai/parcaster/pp-sg-lstm</a>"
     },
     "metadata": {},
     "output_type": "display_data"
    },
    {
     "data": {
      "text/plain": "<IPython.core.display.HTML object>",
      "text/html": " View sweep at <a href='https://wandb.ai/parcaster/pp-sg-lstm/sweeps/haw2fsrn' target=\"_blank\">https://wandb.ai/parcaster/pp-sg-lstm/sweeps/haw2fsrn</a>"
     },
     "metadata": {},
     "output_type": "display_data"
    },
    {
     "data": {
      "text/plain": "<IPython.core.display.HTML object>",
      "text/html": " View run at <a href='https://wandb.ai/parcaster/pp-sg-lstm/runs/rcjt1opv' target=\"_blank\">https://wandb.ai/parcaster/pp-sg-lstm/runs/rcjt1opv</a>"
     },
     "metadata": {},
     "output_type": "display_data"
    },
    {
     "name": "stdout",
     "output_type": "stream",
     "text": [
      "Input dimension: 18, columns: Index(['ferien', 'feiertag', 'covid_19', 'olma_offa', 'temperature_2m_max',\n",
      "       'temperature_2m_min', 'rain_sum', 'snowfall_sum', 'sin_minute',\n",
      "       'cos_minute', 'sin_hour', 'cos_hour', 'sin_weekday', 'cos_weekday',\n",
      "       'sin_day', 'cos_day', 'sin_month', 'cos_month'],\n",
      "      dtype='object')\n",
      "Output dimension: 14, columns: Index(['P24', 'P44', 'P42', 'P33', 'P23', 'P25', 'P21', 'P31', 'P53', 'P32',\n",
      "       'P22', 'P52', 'P51', 'P43'],\n",
      "      dtype='object')\n"
     ]
    },
    {
     "data": {
      "text/plain": "VBox(children=(Label(value='0.003 MB of 0.006 MB uploaded\\r'), FloatProgress(value=0.497922232116355, max=1.0)…",
      "application/vnd.jupyter.widget-view+json": {
       "version_major": 2,
       "version_minor": 0,
       "model_id": "a170c9f43fce412f98a90f83251fb955"
      }
     },
     "metadata": {},
     "output_type": "display_data"
    },
    {
     "data": {
      "text/plain": "<IPython.core.display.HTML object>",
      "text/html": "<style>\n    table.wandb td:nth-child(1) { padding: 0 10px; text-align: left ; width: auto;} td:nth-child(2) {text-align: left ; width: 100%}\n    .wandb-row { display: flex; flex-direction: row; flex-wrap: wrap; justify-content: flex-start; width: 100% }\n    .wandb-col { display: flex; flex-direction: column; flex-basis: 100%; flex: 1; padding: 10px; }\n    </style>\n<div class=\"wandb-row\"><div class=\"wandb-col\"><h3>Run history:</h3><br/><table class=\"wandb\"><tr><td>batch loss</td><td>█▂▂▁▂▂▂▁▃▂▂▂▂▁▂▂▂▁▂▂▃▂▃▂▂▂▂▃▃▂▂▂▃▂▃▂▁▃▁▂</td></tr><tr><td>batch loss (validation)</td><td>▁█▁▃▁█▁▃▁█▁▃▁█▃▃▁█▃▂▁█▃▂▇█▃▂▇▃▃▂▇▃▅▂▇▃▅▅</td></tr><tr><td>epoch</td><td>▁▁▁▁▂▂▂▂▂▂▃▃▃▃▄▄▄▄▄▄▅▅▅▅▅▅▆▆▆▆▇▇▇▇▇▇████</td></tr><tr><td>loss</td><td>█▁▁▁▁▁▁▁▁▁▁▁▁▁▁▁▁▁▁▁</td></tr><tr><td>loss (validation)</td><td>▁▄▅▅▆▆▇▇▇▇▇▇▇▇▇█████</td></tr></table><br/></div><div class=\"wandb-col\"><h3>Run summary:</h3><br/><table class=\"wandb\"><tr><td>batch loss</td><td>4112.34375</td></tr><tr><td>batch loss (validation)</td><td>3823.30176</td></tr><tr><td>epoch</td><td>19</td></tr><tr><td>loss</td><td>2815.43345</td></tr><tr><td>loss (validation)</td><td>2899.31298</td></tr></table><br/></div></div>"
     },
     "metadata": {},
     "output_type": "display_data"
    },
    {
     "data": {
      "text/plain": "<IPython.core.display.HTML object>",
      "text/html": " View run <strong style=\"color:#cdcd00\">solar-sweep-17</strong> at: <a href='https://wandb.ai/parcaster/pp-sg-lstm/runs/rcjt1opv' target=\"_blank\">https://wandb.ai/parcaster/pp-sg-lstm/runs/rcjt1opv</a><br/>Synced 5 W&B file(s), 0 media file(s), 0 artifact file(s) and 0 other file(s)"
     },
     "metadata": {},
     "output_type": "display_data"
    },
    {
     "data": {
      "text/plain": "<IPython.core.display.HTML object>",
      "text/html": "Find logs at: <code>./wandb/run-20231127_164424-rcjt1opv/logs</code>"
     },
     "metadata": {},
     "output_type": "display_data"
    },
    {
     "name": "stderr",
     "output_type": "stream",
     "text": [
      "\u001B[34m\u001B[1mwandb\u001B[0m: Agent Starting Run: n22o7mkk with config:\n",
      "\u001B[34m\u001B[1mwandb\u001B[0m: \tbatch_size: 40\n",
      "\u001B[34m\u001B[1mwandb\u001B[0m: \tdropout: 0\n",
      "\u001B[34m\u001B[1mwandb\u001B[0m: \tepochs: 20\n",
      "\u001B[34m\u001B[1mwandb\u001B[0m: \tfc_layer_size: 400\n",
      "\u001B[34m\u001B[1mwandb\u001B[0m: \tlearning_rate: 0.056294175730186385\n",
      "\u001B[34m\u001B[1mwandb\u001B[0m: \tmodel: lstm\n",
      "\u001B[34m\u001B[1mwandb\u001B[0m: \tnum_layers: 4\n",
      "\u001B[34m\u001B[1mwandb\u001B[0m: \toptimizer: adam\n",
      "\u001B[34m\u001B[1mwandb\u001B[0m: \ttrain_val_ratio: 0.8\n"
     ]
    },
    {
     "data": {
      "text/plain": "<IPython.core.display.HTML object>",
      "text/html": "Tracking run with wandb version 0.16.0"
     },
     "metadata": {},
     "output_type": "display_data"
    },
    {
     "data": {
      "text/plain": "<IPython.core.display.HTML object>",
      "text/html": "Run data is saved locally in <code>/home/jan/Projects/parcaster/model/wandb/run-20231127_164530-n22o7mkk</code>"
     },
     "metadata": {},
     "output_type": "display_data"
    },
    {
     "data": {
      "text/plain": "<IPython.core.display.HTML object>",
      "text/html": "Syncing run <strong><a href='https://wandb.ai/parcaster/pp-sg-lstm/runs/n22o7mkk' target=\"_blank\">lemon-sweep-18</a></strong> to <a href='https://wandb.ai/parcaster/pp-sg-lstm' target=\"_blank\">Weights & Biases</a> (<a href='https://wandb.me/run' target=\"_blank\">docs</a>)<br/>Sweep page: <a href='https://wandb.ai/parcaster/pp-sg-lstm/sweeps/haw2fsrn' target=\"_blank\">https://wandb.ai/parcaster/pp-sg-lstm/sweeps/haw2fsrn</a>"
     },
     "metadata": {},
     "output_type": "display_data"
    },
    {
     "data": {
      "text/plain": "<IPython.core.display.HTML object>",
      "text/html": " View project at <a href='https://wandb.ai/parcaster/pp-sg-lstm' target=\"_blank\">https://wandb.ai/parcaster/pp-sg-lstm</a>"
     },
     "metadata": {},
     "output_type": "display_data"
    },
    {
     "data": {
      "text/plain": "<IPython.core.display.HTML object>",
      "text/html": " View sweep at <a href='https://wandb.ai/parcaster/pp-sg-lstm/sweeps/haw2fsrn' target=\"_blank\">https://wandb.ai/parcaster/pp-sg-lstm/sweeps/haw2fsrn</a>"
     },
     "metadata": {},
     "output_type": "display_data"
    },
    {
     "data": {
      "text/plain": "<IPython.core.display.HTML object>",
      "text/html": " View run at <a href='https://wandb.ai/parcaster/pp-sg-lstm/runs/n22o7mkk' target=\"_blank\">https://wandb.ai/parcaster/pp-sg-lstm/runs/n22o7mkk</a>"
     },
     "metadata": {},
     "output_type": "display_data"
    },
    {
     "name": "stdout",
     "output_type": "stream",
     "text": [
      "Input dimension: 18, columns: Index(['ferien', 'feiertag', 'covid_19', 'olma_offa', 'temperature_2m_max',\n",
      "       'temperature_2m_min', 'rain_sum', 'snowfall_sum', 'sin_minute',\n",
      "       'cos_minute', 'sin_hour', 'cos_hour', 'sin_weekday', 'cos_weekday',\n",
      "       'sin_day', 'cos_day', 'sin_month', 'cos_month'],\n",
      "      dtype='object')\n",
      "Output dimension: 14, columns: Index(['P24', 'P44', 'P42', 'P33', 'P23', 'P25', 'P21', 'P31', 'P53', 'P32',\n",
      "       'P22', 'P52', 'P51', 'P43'],\n",
      "      dtype='object')\n"
     ]
    },
    {
     "data": {
      "text/plain": "VBox(children=(Label(value='0.003 MB of 0.003 MB uploaded\\r'), FloatProgress(value=1.0, max=1.0)))",
      "application/vnd.jupyter.widget-view+json": {
       "version_major": 2,
       "version_minor": 0,
       "model_id": "345c46e1e549400db56e4856d11e3cd9"
      }
     },
     "metadata": {},
     "output_type": "display_data"
    },
    {
     "data": {
      "text/plain": "<IPython.core.display.HTML object>",
      "text/html": "<style>\n    table.wandb td:nth-child(1) { padding: 0 10px; text-align: left ; width: auto;} td:nth-child(2) {text-align: left ; width: 100%}\n    .wandb-row { display: flex; flex-direction: row; flex-wrap: wrap; justify-content: flex-start; width: 100% }\n    .wandb-col { display: flex; flex-direction: column; flex-basis: 100%; flex: 1; padding: 10px; }\n    </style>\n<div class=\"wandb-row\"><div class=\"wandb-col\"><h3>Run history:</h3><br/><table class=\"wandb\"><tr><td>batch loss</td><td>▃▃▁▃▃▂▁▃▃▂▁▃▃▄▁▃▃▄▁▃▃▄▁▃▃▄▄▃▃▄▄▃▃▄▄▃▃▄▄█</td></tr><tr><td>batch loss (validation)</td><td>▂▄▅█▁▃▅█▁▃▅█▁▂▅█▁▂▅█▁▂▅█▁▂▁█▁▂▁█▁▂▁█▁▂▁▆</td></tr><tr><td>epoch</td><td>▁▁▁▁▂▂▂▂▂▂▃▃▃▃▄▄▄▄▄▄▅▅▅▅▅▅▆▆▆▆▇▇▇▇▇▇████</td></tr><tr><td>loss</td><td>▁█▆▆▆▆▆▆▆▆▆▆▆▆▆▆▆▆▆▆</td></tr><tr><td>loss (validation)</td><td>█▁▁▁▁▁▁▁▁▁▁▁▁▁▁▁▁▁▁▁</td></tr></table><br/></div><div class=\"wandb-col\"><h3>Run summary:</h3><br/><table class=\"wandb\"><tr><td>batch loss</td><td>3791.07324</td></tr><tr><td>batch loss (validation)</td><td>5374.81396</td></tr><tr><td>epoch</td><td>19</td></tr><tr><td>loss</td><td>2443.60489</td></tr><tr><td>loss (validation)</td><td>4637.81086</td></tr></table><br/></div></div>"
     },
     "metadata": {},
     "output_type": "display_data"
    },
    {
     "data": {
      "text/plain": "<IPython.core.display.HTML object>",
      "text/html": " View run <strong style=\"color:#cdcd00\">lemon-sweep-18</strong> at: <a href='https://wandb.ai/parcaster/pp-sg-lstm/runs/n22o7mkk' target=\"_blank\">https://wandb.ai/parcaster/pp-sg-lstm/runs/n22o7mkk</a><br/>Synced 5 W&B file(s), 0 media file(s), 0 artifact file(s) and 0 other file(s)"
     },
     "metadata": {},
     "output_type": "display_data"
    },
    {
     "data": {
      "text/plain": "<IPython.core.display.HTML object>",
      "text/html": "Find logs at: <code>./wandb/run-20231127_164530-n22o7mkk/logs</code>"
     },
     "metadata": {},
     "output_type": "display_data"
    },
    {
     "name": "stderr",
     "output_type": "stream",
     "text": [
      "\u001B[34m\u001B[1mwandb\u001B[0m: Agent Starting Run: vnyzb9bj with config:\n",
      "\u001B[34m\u001B[1mwandb\u001B[0m: \tbatch_size: 80\n",
      "\u001B[34m\u001B[1mwandb\u001B[0m: \tdropout: 0.2\n",
      "\u001B[34m\u001B[1mwandb\u001B[0m: \tepochs: 20\n",
      "\u001B[34m\u001B[1mwandb\u001B[0m: \tfc_layer_size: 200\n",
      "\u001B[34m\u001B[1mwandb\u001B[0m: \tlearning_rate: 0.0011065960143597177\n",
      "\u001B[34m\u001B[1mwandb\u001B[0m: \tmodel: lstm\n",
      "\u001B[34m\u001B[1mwandb\u001B[0m: \tnum_layers: 2\n",
      "\u001B[34m\u001B[1mwandb\u001B[0m: \toptimizer: sgd\n",
      "\u001B[34m\u001B[1mwandb\u001B[0m: \ttrain_val_ratio: 0.8\n"
     ]
    },
    {
     "data": {
      "text/plain": "<IPython.core.display.HTML object>",
      "text/html": "Tracking run with wandb version 0.16.0"
     },
     "metadata": {},
     "output_type": "display_data"
    },
    {
     "data": {
      "text/plain": "<IPython.core.display.HTML object>",
      "text/html": "Run data is saved locally in <code>/home/jan/Projects/parcaster/model/wandb/run-20231127_164659-vnyzb9bj</code>"
     },
     "metadata": {},
     "output_type": "display_data"
    },
    {
     "data": {
      "text/plain": "<IPython.core.display.HTML object>",
      "text/html": "Syncing run <strong><a href='https://wandb.ai/parcaster/pp-sg-lstm/runs/vnyzb9bj' target=\"_blank\">devout-sweep-19</a></strong> to <a href='https://wandb.ai/parcaster/pp-sg-lstm' target=\"_blank\">Weights & Biases</a> (<a href='https://wandb.me/run' target=\"_blank\">docs</a>)<br/>Sweep page: <a href='https://wandb.ai/parcaster/pp-sg-lstm/sweeps/haw2fsrn' target=\"_blank\">https://wandb.ai/parcaster/pp-sg-lstm/sweeps/haw2fsrn</a>"
     },
     "metadata": {},
     "output_type": "display_data"
    },
    {
     "data": {
      "text/plain": "<IPython.core.display.HTML object>",
      "text/html": " View project at <a href='https://wandb.ai/parcaster/pp-sg-lstm' target=\"_blank\">https://wandb.ai/parcaster/pp-sg-lstm</a>"
     },
     "metadata": {},
     "output_type": "display_data"
    },
    {
     "data": {
      "text/plain": "<IPython.core.display.HTML object>",
      "text/html": " View sweep at <a href='https://wandb.ai/parcaster/pp-sg-lstm/sweeps/haw2fsrn' target=\"_blank\">https://wandb.ai/parcaster/pp-sg-lstm/sweeps/haw2fsrn</a>"
     },
     "metadata": {},
     "output_type": "display_data"
    },
    {
     "data": {
      "text/plain": "<IPython.core.display.HTML object>",
      "text/html": " View run at <a href='https://wandb.ai/parcaster/pp-sg-lstm/runs/vnyzb9bj' target=\"_blank\">https://wandb.ai/parcaster/pp-sg-lstm/runs/vnyzb9bj</a>"
     },
     "metadata": {},
     "output_type": "display_data"
    },
    {
     "name": "stdout",
     "output_type": "stream",
     "text": [
      "Input dimension: 18, columns: Index(['ferien', 'feiertag', 'covid_19', 'olma_offa', 'temperature_2m_max',\n",
      "       'temperature_2m_min', 'rain_sum', 'snowfall_sum', 'sin_minute',\n",
      "       'cos_minute', 'sin_hour', 'cos_hour', 'sin_weekday', 'cos_weekday',\n",
      "       'sin_day', 'cos_day', 'sin_month', 'cos_month'],\n",
      "      dtype='object')\n",
      "Output dimension: 14, columns: Index(['P24', 'P44', 'P42', 'P33', 'P23', 'P25', 'P21', 'P31', 'P53', 'P32',\n",
      "       'P22', 'P52', 'P51', 'P43'],\n",
      "      dtype='object')\n"
     ]
    },
    {
     "data": {
      "text/plain": "VBox(children=(Label(value='0.003 MB of 0.003 MB uploaded\\r'), FloatProgress(value=1.0, max=1.0)))",
      "application/vnd.jupyter.widget-view+json": {
       "version_major": 2,
       "version_minor": 0,
       "model_id": "0d37678359f94e8faa91adbb8cc5ac3d"
      }
     },
     "metadata": {},
     "output_type": "display_data"
    },
    {
     "data": {
      "text/plain": "<IPython.core.display.HTML object>",
      "text/html": "<style>\n    table.wandb td:nth-child(1) { padding: 0 10px; text-align: left ; width: auto;} td:nth-child(2) {text-align: left ; width: 100%}\n    .wandb-row { display: flex; flex-direction: row; flex-wrap: wrap; justify-content: flex-start; width: 100% }\n    .wandb-col { display: flex; flex-direction: column; flex-basis: 100%; flex: 1; padding: 10px; }\n    </style>\n<div class=\"wandb-row\"><div class=\"wandb-col\"><h3>Run history:</h3><br/><table class=\"wandb\"><tr><td>batch loss</td><td>▃▃▇▁▂▃█▁▂▃█▁▂▄▇▁▁▄▇▁▂▄▇▁▁▄▆▁▁▄▆▁▂▄▅▁▂▄▆▃</td></tr><tr><td>batch loss (validation)</td><td>▄▄▃█▃▃▃▇▃▃▃▇▂▂▃▇▂▂▃▇▂▂▃▇▂▁▃▇▂▁▃▇▂▁▃▇▂▁▃▄</td></tr><tr><td>epoch</td><td>▁▁▁▁▂▂▂▂▂▂▃▃▃▃▄▄▄▄▄▄▅▅▅▅▅▅▆▆▆▆▇▇▇▇▇▇████</td></tr><tr><td>loss</td><td>█▃▂▂▂▂▂▂▁▁▁▁▁▁▁▁▁▁▁▁</td></tr><tr><td>loss (validation)</td><td>█▅▃▂▂▂▂▁▁▂▁▁▁▁▁▁▁▁▁▁</td></tr></table><br/></div><div class=\"wandb-col\"><h3>Run summary:</h3><br/><table class=\"wandb\"><tr><td>batch loss</td><td>2126.37744</td></tr><tr><td>batch loss (validation)</td><td>2951.86377</td></tr><tr><td>epoch</td><td>19</td></tr><tr><td>loss</td><td>2606.69894</td></tr><tr><td>loss (validation)</td><td>3008.99218</td></tr></table><br/></div></div>"
     },
     "metadata": {},
     "output_type": "display_data"
    },
    {
     "data": {
      "text/plain": "<IPython.core.display.HTML object>",
      "text/html": " View run <strong style=\"color:#cdcd00\">devout-sweep-19</strong> at: <a href='https://wandb.ai/parcaster/pp-sg-lstm/runs/vnyzb9bj' target=\"_blank\">https://wandb.ai/parcaster/pp-sg-lstm/runs/vnyzb9bj</a><br/>Synced 5 W&B file(s), 0 media file(s), 0 artifact file(s) and 0 other file(s)"
     },
     "metadata": {},
     "output_type": "display_data"
    },
    {
     "data": {
      "text/plain": "<IPython.core.display.HTML object>",
      "text/html": "Find logs at: <code>./wandb/run-20231127_164659-vnyzb9bj/logs</code>"
     },
     "metadata": {},
     "output_type": "display_data"
    },
    {
     "name": "stderr",
     "output_type": "stream",
     "text": [
      "\u001B[34m\u001B[1mwandb\u001B[0m: Agent Starting Run: e7t4a0lu with config:\n",
      "\u001B[34m\u001B[1mwandb\u001B[0m: \tbatch_size: 144\n",
      "\u001B[34m\u001B[1mwandb\u001B[0m: \tdropout: 0.1\n",
      "\u001B[34m\u001B[1mwandb\u001B[0m: \tepochs: 20\n",
      "\u001B[34m\u001B[1mwandb\u001B[0m: \tfc_layer_size: 50\n",
      "\u001B[34m\u001B[1mwandb\u001B[0m: \tlearning_rate: 0.04503953649927898\n",
      "\u001B[34m\u001B[1mwandb\u001B[0m: \tmodel: lstm\n",
      "\u001B[34m\u001B[1mwandb\u001B[0m: \tnum_layers: 8\n",
      "\u001B[34m\u001B[1mwandb\u001B[0m: \toptimizer: adam\n",
      "\u001B[34m\u001B[1mwandb\u001B[0m: \ttrain_val_ratio: 0.8\n"
     ]
    },
    {
     "data": {
      "text/plain": "<IPython.core.display.HTML object>",
      "text/html": "Tracking run with wandb version 0.16.0"
     },
     "metadata": {},
     "output_type": "display_data"
    },
    {
     "data": {
      "text/plain": "<IPython.core.display.HTML object>",
      "text/html": "Run data is saved locally in <code>/home/jan/Projects/parcaster/model/wandb/run-20231127_164736-e7t4a0lu</code>"
     },
     "metadata": {},
     "output_type": "display_data"
    },
    {
     "data": {
      "text/plain": "<IPython.core.display.HTML object>",
      "text/html": "Syncing run <strong><a href='https://wandb.ai/parcaster/pp-sg-lstm/runs/e7t4a0lu' target=\"_blank\">likely-sweep-20</a></strong> to <a href='https://wandb.ai/parcaster/pp-sg-lstm' target=\"_blank\">Weights & Biases</a> (<a href='https://wandb.me/run' target=\"_blank\">docs</a>)<br/>Sweep page: <a href='https://wandb.ai/parcaster/pp-sg-lstm/sweeps/haw2fsrn' target=\"_blank\">https://wandb.ai/parcaster/pp-sg-lstm/sweeps/haw2fsrn</a>"
     },
     "metadata": {},
     "output_type": "display_data"
    },
    {
     "data": {
      "text/plain": "<IPython.core.display.HTML object>",
      "text/html": " View project at <a href='https://wandb.ai/parcaster/pp-sg-lstm' target=\"_blank\">https://wandb.ai/parcaster/pp-sg-lstm</a>"
     },
     "metadata": {},
     "output_type": "display_data"
    },
    {
     "data": {
      "text/plain": "<IPython.core.display.HTML object>",
      "text/html": " View sweep at <a href='https://wandb.ai/parcaster/pp-sg-lstm/sweeps/haw2fsrn' target=\"_blank\">https://wandb.ai/parcaster/pp-sg-lstm/sweeps/haw2fsrn</a>"
     },
     "metadata": {},
     "output_type": "display_data"
    },
    {
     "data": {
      "text/plain": "<IPython.core.display.HTML object>",
      "text/html": " View run at <a href='https://wandb.ai/parcaster/pp-sg-lstm/runs/e7t4a0lu' target=\"_blank\">https://wandb.ai/parcaster/pp-sg-lstm/runs/e7t4a0lu</a>"
     },
     "metadata": {},
     "output_type": "display_data"
    },
    {
     "name": "stdout",
     "output_type": "stream",
     "text": [
      "Input dimension: 18, columns: Index(['ferien', 'feiertag', 'covid_19', 'olma_offa', 'temperature_2m_max',\n",
      "       'temperature_2m_min', 'rain_sum', 'snowfall_sum', 'sin_minute',\n",
      "       'cos_minute', 'sin_hour', 'cos_hour', 'sin_weekday', 'cos_weekday',\n",
      "       'sin_day', 'cos_day', 'sin_month', 'cos_month'],\n",
      "      dtype='object')\n",
      "Output dimension: 14, columns: Index(['P24', 'P44', 'P42', 'P33', 'P23', 'P25', 'P21', 'P31', 'P53', 'P32',\n",
      "       'P22', 'P52', 'P51', 'P43'],\n",
      "      dtype='object')\n"
     ]
    },
    {
     "data": {
      "text/plain": "VBox(children=(Label(value='0.003 MB of 0.006 MB uploaded\\r'), FloatProgress(value=0.4971106830641577, max=1.0…",
      "application/vnd.jupyter.widget-view+json": {
       "version_major": 2,
       "version_minor": 0,
       "model_id": "7d75dc55a0b44b009a0508ab26e16238"
      }
     },
     "metadata": {},
     "output_type": "display_data"
    },
    {
     "data": {
      "text/plain": "<IPython.core.display.HTML object>",
      "text/html": "<style>\n    table.wandb td:nth-child(1) { padding: 0 10px; text-align: left ; width: auto;} td:nth-child(2) {text-align: left ; width: 100%}\n    .wandb-row { display: flex; flex-direction: row; flex-wrap: wrap; justify-content: flex-start; width: 100% }\n    .wandb-col { display: flex; flex-direction: column; flex-basis: 100%; flex: 1; padding: 10px; }\n    </style>\n<div class=\"wandb-row\"><div class=\"wandb-col\"><h3>Run history:</h3><br/><table class=\"wandb\"><tr><td>batch loss</td><td>█▄▃▁▄▁▄▁▃▁▁▁▇▃▂▃▂▁▂▃▃▁▄▁▂▁▂▁▂▂▆▂▂▂▂▁▂▃▂▂</td></tr><tr><td>batch loss (validation)</td><td>▃█▃▂▂▃▁▂▁▃▁▃▁▆▁▅▃▂▃▂▂▃▁▂▁▃▁▃▁▆▁▅▃▂▃▂▂▃▇▂</td></tr><tr><td>epoch</td><td>▁▁▁▁▂▂▂▂▂▂▃▃▃▃▄▄▄▄▄▄▅▅▅▅▅▅▆▆▆▆▇▇▇▇▇▇████</td></tr><tr><td>loss</td><td>█▁▁▁▁▁▁▁▁▁▁▁▁▁▁▁▁▁▁▁</td></tr><tr><td>loss (validation)</td><td>█▁▂▃▃▄▄▅▅▅▅▆▆▆▆▆▆▆▆▆</td></tr></table><br/></div><div class=\"wandb-col\"><h3>Run summary:</h3><br/><table class=\"wandb\"><tr><td>batch loss</td><td>2539.21069</td></tr><tr><td>batch loss (validation)</td><td>3699.79639</td></tr><tr><td>epoch</td><td>19</td></tr><tr><td>loss</td><td>2650.29095</td></tr><tr><td>loss (validation)</td><td>2759.61093</td></tr></table><br/></div></div>"
     },
     "metadata": {},
     "output_type": "display_data"
    },
    {
     "data": {
      "text/plain": "<IPython.core.display.HTML object>",
      "text/html": " View run <strong style=\"color:#cdcd00\">likely-sweep-20</strong> at: <a href='https://wandb.ai/parcaster/pp-sg-lstm/runs/e7t4a0lu' target=\"_blank\">https://wandb.ai/parcaster/pp-sg-lstm/runs/e7t4a0lu</a><br/>Synced 5 W&B file(s), 0 media file(s), 0 artifact file(s) and 0 other file(s)"
     },
     "metadata": {},
     "output_type": "display_data"
    },
    {
     "data": {
      "text/plain": "<IPython.core.display.HTML object>",
      "text/html": "Find logs at: <code>./wandb/run-20231127_164736-e7t4a0lu/logs</code>"
     },
     "metadata": {},
     "output_type": "display_data"
    }
   ],
   "source": [
    "wandb.agent(sweep_id, train, count=20)"
   ]
  },
  {
   "cell_type": "code",
   "execution_count": null,
   "outputs": [],
   "source": [],
   "metadata": {
    "collapsed": false
   }
  }
 ],
 "metadata": {
  "accelerator": "GPU",
  "colab": {
   "provenance": [],
   "toc_visible": true
  },
  "kernelspec": {
   "name": "python3",
   "language": "python",
   "display_name": "Python 3 (ipykernel)"
  }
 },
 "nbformat": 4,
 "nbformat_minor": 0
}
