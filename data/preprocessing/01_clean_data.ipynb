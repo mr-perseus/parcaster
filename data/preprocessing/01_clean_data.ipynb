{
 "cells": [
  {
   "cell_type": "markdown",
   "metadata": {},
   "source": [
    "# Data Cleaning"
   ],
   "id": "d4e8fe063f26c639"
  },
  {
   "cell_type": "markdown",
   "id": "17d3a515c33a6569",
   "metadata": {
    "collapsed": false
   },
   "source": [
    "### Import libraries"
   ]
  },
  {
   "cell_type": "code",
   "execution_count": 10,
   "id": "initial_id",
   "metadata": {
    "collapsed": true,
    "ExecuteTime": {
     "end_time": "2023-11-27T14:36:53.039142998Z",
     "start_time": "2023-11-27T14:36:53.031457198Z"
    }
   },
   "outputs": [],
   "source": [
    "import pandas as pd\n",
    "import json as json"
   ]
  },
  {
   "cell_type": "markdown",
   "id": "8fb39eb2b80fc7bd",
   "metadata": {
    "collapsed": false
   },
   "source": [
    "### Read CSV"
   ]
  },
  {
   "cell_type": "code",
   "execution_count": 11,
   "id": "961a220fabc829f7",
   "metadata": {
    "collapsed": false,
    "ExecuteTime": {
     "end_time": "2023-11-27T14:36:54.135920496Z",
     "start_time": "2023-11-27T14:36:53.833049597Z"
    }
   },
   "outputs": [
    {
     "data": {
      "text/plain": "                 P24            P44            P42            P33  \\\ncount  108090.000000  108090.000000  108090.000000  108090.000000   \nmean      200.135073     221.313896     171.059784      76.452762   \nstd       339.685858     282.734238     276.036316     102.341272   \nmin         0.000000       0.000000       0.000000       0.000000   \n25%       152.000000     149.000000     110.000000      35.000000   \n50%       229.000000     229.000000     188.000000      86.000000   \n75%       252.000000     276.000000     236.000000     102.000000   \nmax     82750.000000   42900.000000   56932.000000   22839.000000   \n\n                 P23            P25            P21            P31       P54  \\\ncount  108090.000000  108090.000000  108090.000000  108090.000000  108090.0   \nmean       91.355852     232.892044     200.952216      92.475622       0.0   \nstd       144.907316     434.807797     341.226682     154.835713       0.0   \nmin         0.000000       0.000000       0.000000       0.000000       0.0   \n25%        45.000000     179.000000     134.000000      53.000000       0.0   \n50%       117.000000     249.000000     243.000000     109.000000       0.0   \n75%       128.000000     306.000000     260.000000     130.000000       0.0   \nmax     29459.000000  111878.000000   85729.000000   35086.000000       0.0   \n\n                 P53  ...            P43       P41         ferien  \\\ncount  108090.000000  ...  108090.000000  108090.0  108092.000000   \nmean       49.367240  ...      16.561819       0.0       0.246475   \nstd        93.924555  ...      23.774445       0.0       0.430960   \nmin         0.000000  ...       0.000000       0.0       0.000000   \n25%         0.000000  ...       4.000000       0.0       0.000000   \n50%        61.000000  ...      17.000000       0.0       0.000000   \n75%        92.000000  ...      26.000000       0.0       0.000000   \nmax     18354.000000  ...    4080.000000       0.0       1.000000   \n\n            feiertag       covid_19      olma_offa  temperature_2m_max  \\\ncount  108092.000000  108092.000000  108092.000000       108092.000000   \nmean        0.030178       0.518734       0.033027           13.539939   \nstd         0.171078       0.499651       0.178709            7.430429   \nmin         0.000000       0.000000       0.000000           -3.999000   \n25%         0.000000       0.000000       0.000000            7.451000   \n50%         0.000000       1.000000       0.000000           13.701000   \n75%         0.000000       1.000000       0.000000           19.701000   \nmax         1.000000       1.000000       1.000000           31.151000   \n\n       temperature_2m_min       rain_sum   snowfall_sum  \ncount       108092.000000  108092.000000  108092.000000  \nmean             5.711586       3.735914       0.324224  \nstd              6.586646       6.671000       1.357385  \nmin            -18.249000       0.000000       0.000000  \n25%              0.501000       0.000000       0.000000  \n50%              5.701000       0.600000       0.000000  \n75%             11.651000       4.900001       0.000000  \nmax             20.451000      61.599995      23.939995  \n\n[8 rows x 24 columns]",
      "text/html": "<div>\n<style scoped>\n    .dataframe tbody tr th:only-of-type {\n        vertical-align: middle;\n    }\n\n    .dataframe tbody tr th {\n        vertical-align: top;\n    }\n\n    .dataframe thead th {\n        text-align: right;\n    }\n</style>\n<table border=\"1\" class=\"dataframe\">\n  <thead>\n    <tr style=\"text-align: right;\">\n      <th></th>\n      <th>P24</th>\n      <th>P44</th>\n      <th>P42</th>\n      <th>P33</th>\n      <th>P23</th>\n      <th>P25</th>\n      <th>P21</th>\n      <th>P31</th>\n      <th>P54</th>\n      <th>P53</th>\n      <th>...</th>\n      <th>P43</th>\n      <th>P41</th>\n      <th>ferien</th>\n      <th>feiertag</th>\n      <th>covid_19</th>\n      <th>olma_offa</th>\n      <th>temperature_2m_max</th>\n      <th>temperature_2m_min</th>\n      <th>rain_sum</th>\n      <th>snowfall_sum</th>\n    </tr>\n  </thead>\n  <tbody>\n    <tr>\n      <th>count</th>\n      <td>108090.000000</td>\n      <td>108090.000000</td>\n      <td>108090.000000</td>\n      <td>108090.000000</td>\n      <td>108090.000000</td>\n      <td>108090.000000</td>\n      <td>108090.000000</td>\n      <td>108090.000000</td>\n      <td>108090.0</td>\n      <td>108090.000000</td>\n      <td>...</td>\n      <td>108090.000000</td>\n      <td>108090.0</td>\n      <td>108092.000000</td>\n      <td>108092.000000</td>\n      <td>108092.000000</td>\n      <td>108092.000000</td>\n      <td>108092.000000</td>\n      <td>108092.000000</td>\n      <td>108092.000000</td>\n      <td>108092.000000</td>\n    </tr>\n    <tr>\n      <th>mean</th>\n      <td>200.135073</td>\n      <td>221.313896</td>\n      <td>171.059784</td>\n      <td>76.452762</td>\n      <td>91.355852</td>\n      <td>232.892044</td>\n      <td>200.952216</td>\n      <td>92.475622</td>\n      <td>0.0</td>\n      <td>49.367240</td>\n      <td>...</td>\n      <td>16.561819</td>\n      <td>0.0</td>\n      <td>0.246475</td>\n      <td>0.030178</td>\n      <td>0.518734</td>\n      <td>0.033027</td>\n      <td>13.539939</td>\n      <td>5.711586</td>\n      <td>3.735914</td>\n      <td>0.324224</td>\n    </tr>\n    <tr>\n      <th>std</th>\n      <td>339.685858</td>\n      <td>282.734238</td>\n      <td>276.036316</td>\n      <td>102.341272</td>\n      <td>144.907316</td>\n      <td>434.807797</td>\n      <td>341.226682</td>\n      <td>154.835713</td>\n      <td>0.0</td>\n      <td>93.924555</td>\n      <td>...</td>\n      <td>23.774445</td>\n      <td>0.0</td>\n      <td>0.430960</td>\n      <td>0.171078</td>\n      <td>0.499651</td>\n      <td>0.178709</td>\n      <td>7.430429</td>\n      <td>6.586646</td>\n      <td>6.671000</td>\n      <td>1.357385</td>\n    </tr>\n    <tr>\n      <th>min</th>\n      <td>0.000000</td>\n      <td>0.000000</td>\n      <td>0.000000</td>\n      <td>0.000000</td>\n      <td>0.000000</td>\n      <td>0.000000</td>\n      <td>0.000000</td>\n      <td>0.000000</td>\n      <td>0.0</td>\n      <td>0.000000</td>\n      <td>...</td>\n      <td>0.000000</td>\n      <td>0.0</td>\n      <td>0.000000</td>\n      <td>0.000000</td>\n      <td>0.000000</td>\n      <td>0.000000</td>\n      <td>-3.999000</td>\n      <td>-18.249000</td>\n      <td>0.000000</td>\n      <td>0.000000</td>\n    </tr>\n    <tr>\n      <th>25%</th>\n      <td>152.000000</td>\n      <td>149.000000</td>\n      <td>110.000000</td>\n      <td>35.000000</td>\n      <td>45.000000</td>\n      <td>179.000000</td>\n      <td>134.000000</td>\n      <td>53.000000</td>\n      <td>0.0</td>\n      <td>0.000000</td>\n      <td>...</td>\n      <td>4.000000</td>\n      <td>0.0</td>\n      <td>0.000000</td>\n      <td>0.000000</td>\n      <td>0.000000</td>\n      <td>0.000000</td>\n      <td>7.451000</td>\n      <td>0.501000</td>\n      <td>0.000000</td>\n      <td>0.000000</td>\n    </tr>\n    <tr>\n      <th>50%</th>\n      <td>229.000000</td>\n      <td>229.000000</td>\n      <td>188.000000</td>\n      <td>86.000000</td>\n      <td>117.000000</td>\n      <td>249.000000</td>\n      <td>243.000000</td>\n      <td>109.000000</td>\n      <td>0.0</td>\n      <td>61.000000</td>\n      <td>...</td>\n      <td>17.000000</td>\n      <td>0.0</td>\n      <td>0.000000</td>\n      <td>0.000000</td>\n      <td>1.000000</td>\n      <td>0.000000</td>\n      <td>13.701000</td>\n      <td>5.701000</td>\n      <td>0.600000</td>\n      <td>0.000000</td>\n    </tr>\n    <tr>\n      <th>75%</th>\n      <td>252.000000</td>\n      <td>276.000000</td>\n      <td>236.000000</td>\n      <td>102.000000</td>\n      <td>128.000000</td>\n      <td>306.000000</td>\n      <td>260.000000</td>\n      <td>130.000000</td>\n      <td>0.0</td>\n      <td>92.000000</td>\n      <td>...</td>\n      <td>26.000000</td>\n      <td>0.0</td>\n      <td>0.000000</td>\n      <td>0.000000</td>\n      <td>1.000000</td>\n      <td>0.000000</td>\n      <td>19.701000</td>\n      <td>11.651000</td>\n      <td>4.900001</td>\n      <td>0.000000</td>\n    </tr>\n    <tr>\n      <th>max</th>\n      <td>82750.000000</td>\n      <td>42900.000000</td>\n      <td>56932.000000</td>\n      <td>22839.000000</td>\n      <td>29459.000000</td>\n      <td>111878.000000</td>\n      <td>85729.000000</td>\n      <td>35086.000000</td>\n      <td>0.0</td>\n      <td>18354.000000</td>\n      <td>...</td>\n      <td>4080.000000</td>\n      <td>0.0</td>\n      <td>1.000000</td>\n      <td>1.000000</td>\n      <td>1.000000</td>\n      <td>1.000000</td>\n      <td>31.151000</td>\n      <td>20.451000</td>\n      <td>61.599995</td>\n      <td>23.939995</td>\n    </tr>\n  </tbody>\n</table>\n<p>8 rows × 24 columns</p>\n</div>"
     },
     "execution_count": 11,
     "metadata": {},
     "output_type": "execute_result"
    }
   ],
   "source": [
    "## For train-data\n",
    "outputfile = \"01_pp_sg_train_cleaned.csv\"\n",
    "df = pd.read_csv(\"../scraping/parking-data-sg/final/pp_sg_train.csv\", sep=\";\")\n",
    "df.describe()"
   ]
  },
  {
   "cell_type": "code",
   "execution_count": 12,
   "metadata": {
    "ExecuteTime": {
     "end_time": "2023-11-27T14:36:54.262465096Z",
     "start_time": "2023-11-27T14:36:54.204491996Z"
    }
   },
   "outputs": [],
   "source": [
    "## For test-data\n",
    "#outputfile = \"pp_sg_test_cleaned.csv\"\n",
    "#df = pd.read_csv(\"../scraping/parking-data-sg/final/pp_sg_test.csv\", sep=\";\")"
   ],
   "id": "ccb116c060edc4f6"
  },
  {
   "cell_type": "markdown",
   "id": "6e3372d8c236a134",
   "metadata": {
    "collapsed": false
   },
   "source": [
    "### Remove outliers"
   ]
  },
  {
   "cell_type": "markdown",
   "id": "9649b40ace5546a9",
   "metadata": {
    "collapsed": false
   },
   "source": [
    "We see i.e. outliers in max parking data."
   ]
  },
  {
   "cell_type": "markdown",
   "id": "5bc2478569ca3409",
   "metadata": {
    "collapsed": false
   },
   "source": [
    "#### Remove outliers from parking data"
   ]
  },
  {
   "cell_type": "code",
   "execution_count": 13,
   "id": "d29a868015d4b1d3",
   "metadata": {
    "collapsed": false,
    "ExecuteTime": {
     "end_time": "2023-11-27T14:36:55.619216193Z",
     "start_time": "2023-11-27T14:36:55.613933393Z"
    }
   },
   "outputs": [],
   "source": [
    "# Import Metadata\n",
    "json_dir = '../metadata/metadata.json'\n",
    "with open(json_dir, 'r', encoding='utf8') as f:\n",
    "        metadata = json.load(f)"
   ]
  },
  {
   "cell_type": "code",
   "execution_count": 14,
   "id": "d3be879a5036a58e",
   "metadata": {
    "collapsed": false,
    "ExecuteTime": {
     "end_time": "2023-11-27T14:36:56.255716892Z",
     "start_time": "2023-11-27T14:36:56.069517392Z"
    }
   },
   "outputs": [
    {
     "data": {
      "text/plain": "                P24           P44           P42           P33           P23  \\\ncount  44829.000000  44829.000000  44829.000000  44829.000000  44829.000000   \nmean     142.809476    164.874389    126.638538     54.681166     55.274711   \nstd       64.118903     80.447774     65.072792     41.047913     43.491198   \nmin        0.000000      0.000000      0.000000      0.000000      0.000000   \n25%       91.000000    105.000000     86.000000     19.000000     19.000000   \n50%      143.000000    168.000000    117.000000     50.000000     43.000000   \n75%      194.000000    225.000000    171.000000     93.000000     95.000000   \nmax      269.000000    447.000000    292.000000    170.000000    132.000000   \n\n                P25           P21           P31      P54           P53  ...  \\\ncount  44829.000000  44829.000000  44829.000000  44829.0  44829.000000  ...   \nmean     175.311517    134.464231     58.044235      0.0     39.616654  ...   \nstd       84.359402     65.083077     38.582214      0.0     36.134430  ...   \nmin        0.000000      0.000000      0.000000      0.0      0.000000  ...   \n25%      125.000000     84.000000     26.000000      0.0      0.000000  ...   \n50%      184.000000    127.000000     50.000000      0.0     51.000000  ...   \n75%      235.000000    181.000000     86.000000      0.0     70.000000  ...   \nmax      362.000000    274.000000    138.000000      0.0    110.000000  ...   \n\n                P43      P41        ferien      feiertag      covid_19  \\\ncount  44829.000000  44829.0  44831.000000  44831.000000  44831.000000   \nmean      12.488925      0.0      0.225781      0.021971      0.497044   \nstd        9.637479      0.0      0.418100      0.146592      0.499997   \nmin        0.000000      0.0      0.000000      0.000000      0.000000   \n25%        2.000000      0.0      0.000000      0.000000      0.000000   \n50%       13.000000      0.0      0.000000      0.000000      0.000000   \n75%       21.000000      0.0      0.000000      0.000000      1.000000   \nmax       32.000000      0.0      1.000000      1.000000      1.000000   \n\n          olma_offa  temperature_2m_max  temperature_2m_min      rain_sum  \\\ncount  44831.000000        44831.000000        44831.000000  44831.000000   \nmean       0.045125           13.457308            5.632456      3.529529   \nstd        0.207581            7.369833            6.460264      6.228574   \nmin        0.000000           -3.999000          -14.049000      0.000000   \n25%        0.000000            7.501000            0.551000      0.000000   \n50%        0.000000           13.551000            5.501000      0.500000   \n75%        0.000000           19.501000           11.551000      4.800001   \nmax        1.000000           31.151000           19.901000     61.599995   \n\n       snowfall_sum  \ncount  44831.000000  \nmean       0.344686  \nstd        1.402740  \nmin        0.000000  \n25%        0.000000  \n50%        0.000000  \n75%        0.000000  \nmax       23.939995  \n\n[8 rows x 24 columns]",
      "text/html": "<div>\n<style scoped>\n    .dataframe tbody tr th:only-of-type {\n        vertical-align: middle;\n    }\n\n    .dataframe tbody tr th {\n        vertical-align: top;\n    }\n\n    .dataframe thead th {\n        text-align: right;\n    }\n</style>\n<table border=\"1\" class=\"dataframe\">\n  <thead>\n    <tr style=\"text-align: right;\">\n      <th></th>\n      <th>P24</th>\n      <th>P44</th>\n      <th>P42</th>\n      <th>P33</th>\n      <th>P23</th>\n      <th>P25</th>\n      <th>P21</th>\n      <th>P31</th>\n      <th>P54</th>\n      <th>P53</th>\n      <th>...</th>\n      <th>P43</th>\n      <th>P41</th>\n      <th>ferien</th>\n      <th>feiertag</th>\n      <th>covid_19</th>\n      <th>olma_offa</th>\n      <th>temperature_2m_max</th>\n      <th>temperature_2m_min</th>\n      <th>rain_sum</th>\n      <th>snowfall_sum</th>\n    </tr>\n  </thead>\n  <tbody>\n    <tr>\n      <th>count</th>\n      <td>44829.000000</td>\n      <td>44829.000000</td>\n      <td>44829.000000</td>\n      <td>44829.000000</td>\n      <td>44829.000000</td>\n      <td>44829.000000</td>\n      <td>44829.000000</td>\n      <td>44829.000000</td>\n      <td>44829.0</td>\n      <td>44829.000000</td>\n      <td>...</td>\n      <td>44829.000000</td>\n      <td>44829.0</td>\n      <td>44831.000000</td>\n      <td>44831.000000</td>\n      <td>44831.000000</td>\n      <td>44831.000000</td>\n      <td>44831.000000</td>\n      <td>44831.000000</td>\n      <td>44831.000000</td>\n      <td>44831.000000</td>\n    </tr>\n    <tr>\n      <th>mean</th>\n      <td>142.809476</td>\n      <td>164.874389</td>\n      <td>126.638538</td>\n      <td>54.681166</td>\n      <td>55.274711</td>\n      <td>175.311517</td>\n      <td>134.464231</td>\n      <td>58.044235</td>\n      <td>0.0</td>\n      <td>39.616654</td>\n      <td>...</td>\n      <td>12.488925</td>\n      <td>0.0</td>\n      <td>0.225781</td>\n      <td>0.021971</td>\n      <td>0.497044</td>\n      <td>0.045125</td>\n      <td>13.457308</td>\n      <td>5.632456</td>\n      <td>3.529529</td>\n      <td>0.344686</td>\n    </tr>\n    <tr>\n      <th>std</th>\n      <td>64.118903</td>\n      <td>80.447774</td>\n      <td>65.072792</td>\n      <td>41.047913</td>\n      <td>43.491198</td>\n      <td>84.359402</td>\n      <td>65.083077</td>\n      <td>38.582214</td>\n      <td>0.0</td>\n      <td>36.134430</td>\n      <td>...</td>\n      <td>9.637479</td>\n      <td>0.0</td>\n      <td>0.418100</td>\n      <td>0.146592</td>\n      <td>0.499997</td>\n      <td>0.207581</td>\n      <td>7.369833</td>\n      <td>6.460264</td>\n      <td>6.228574</td>\n      <td>1.402740</td>\n    </tr>\n    <tr>\n      <th>min</th>\n      <td>0.000000</td>\n      <td>0.000000</td>\n      <td>0.000000</td>\n      <td>0.000000</td>\n      <td>0.000000</td>\n      <td>0.000000</td>\n      <td>0.000000</td>\n      <td>0.000000</td>\n      <td>0.0</td>\n      <td>0.000000</td>\n      <td>...</td>\n      <td>0.000000</td>\n      <td>0.0</td>\n      <td>0.000000</td>\n      <td>0.000000</td>\n      <td>0.000000</td>\n      <td>0.000000</td>\n      <td>-3.999000</td>\n      <td>-14.049000</td>\n      <td>0.000000</td>\n      <td>0.000000</td>\n    </tr>\n    <tr>\n      <th>25%</th>\n      <td>91.000000</td>\n      <td>105.000000</td>\n      <td>86.000000</td>\n      <td>19.000000</td>\n      <td>19.000000</td>\n      <td>125.000000</td>\n      <td>84.000000</td>\n      <td>26.000000</td>\n      <td>0.0</td>\n      <td>0.000000</td>\n      <td>...</td>\n      <td>2.000000</td>\n      <td>0.0</td>\n      <td>0.000000</td>\n      <td>0.000000</td>\n      <td>0.000000</td>\n      <td>0.000000</td>\n      <td>7.501000</td>\n      <td>0.551000</td>\n      <td>0.000000</td>\n      <td>0.000000</td>\n    </tr>\n    <tr>\n      <th>50%</th>\n      <td>143.000000</td>\n      <td>168.000000</td>\n      <td>117.000000</td>\n      <td>50.000000</td>\n      <td>43.000000</td>\n      <td>184.000000</td>\n      <td>127.000000</td>\n      <td>50.000000</td>\n      <td>0.0</td>\n      <td>51.000000</td>\n      <td>...</td>\n      <td>13.000000</td>\n      <td>0.0</td>\n      <td>0.000000</td>\n      <td>0.000000</td>\n      <td>0.000000</td>\n      <td>0.000000</td>\n      <td>13.551000</td>\n      <td>5.501000</td>\n      <td>0.500000</td>\n      <td>0.000000</td>\n    </tr>\n    <tr>\n      <th>75%</th>\n      <td>194.000000</td>\n      <td>225.000000</td>\n      <td>171.000000</td>\n      <td>93.000000</td>\n      <td>95.000000</td>\n      <td>235.000000</td>\n      <td>181.000000</td>\n      <td>86.000000</td>\n      <td>0.0</td>\n      <td>70.000000</td>\n      <td>...</td>\n      <td>21.000000</td>\n      <td>0.0</td>\n      <td>0.000000</td>\n      <td>0.000000</td>\n      <td>1.000000</td>\n      <td>0.000000</td>\n      <td>19.501000</td>\n      <td>11.551000</td>\n      <td>4.800001</td>\n      <td>0.000000</td>\n    </tr>\n    <tr>\n      <th>max</th>\n      <td>269.000000</td>\n      <td>447.000000</td>\n      <td>292.000000</td>\n      <td>170.000000</td>\n      <td>132.000000</td>\n      <td>362.000000</td>\n      <td>274.000000</td>\n      <td>138.000000</td>\n      <td>0.0</td>\n      <td>110.000000</td>\n      <td>...</td>\n      <td>32.000000</td>\n      <td>0.0</td>\n      <td>1.000000</td>\n      <td>1.000000</td>\n      <td>1.000000</td>\n      <td>1.000000</td>\n      <td>31.151000</td>\n      <td>19.901000</td>\n      <td>61.599995</td>\n      <td>23.939995</td>\n    </tr>\n  </tbody>\n</table>\n<p>8 rows × 24 columns</p>\n</div>"
     },
     "execution_count": 14,
     "metadata": {},
     "output_type": "execute_result"
    }
   ],
   "source": [
    "condition = lambda cols: cols.startswith(\"P\")\n",
    "colnames = [cols for cols in df.columns if condition(cols)]\n",
    "\n",
    "for name in colnames:\n",
    "        df.drop(df[df[name] > metadata['parking_sg']['fields'][name]['max_cap']].index, inplace=True)\n",
    "\n",
    "df.describe()"
   ]
  },
  {
   "cell_type": "markdown",
   "id": "961ce53ce0dce10",
   "metadata": {
    "collapsed": false
   },
   "source": [
    "#### Remove P54 and P41"
   ]
  },
  {
   "cell_type": "code",
   "execution_count": 15,
   "id": "c8898eea88fd2945",
   "metadata": {
    "collapsed": false,
    "ExecuteTime": {
     "end_time": "2023-11-27T14:36:56.964173790Z",
     "start_time": "2023-11-27T14:36:56.949902290Z"
    }
   },
   "outputs": [],
   "source": [
    "# Both not in use for whole time\n",
    "df = df.drop(['P54', 'P41'], axis=1)"
   ]
  },
  {
   "cell_type": "markdown",
   "id": "73d4e1843718d1fe",
   "metadata": {
    "collapsed": false
   },
   "source": [
    "#### Remove NaN / Null values"
   ]
  },
  {
   "cell_type": "markdown",
   "id": "ce6ddbe3c8df781d",
   "metadata": {
    "collapsed": false
   },
   "source": [
    "Check how many NaN / Null values there are:"
   ]
  },
  {
   "cell_type": "code",
   "execution_count": 16,
   "id": "fb272ceb417aa6",
   "metadata": {
    "collapsed": false,
    "ExecuteTime": {
     "end_time": "2023-11-27T14:36:57.921378088Z",
     "start_time": "2023-11-27T14:36:57.912464089Z"
    }
   },
   "outputs": [
    {
     "data": {
      "text/plain": "28"
     },
     "execution_count": 16,
     "metadata": {},
     "output_type": "execute_result"
    }
   ],
   "source": [
    "df.isnull().sum().sum()"
   ]
  },
  {
   "cell_type": "markdown",
   "id": "1eadb3e4daac5a83",
   "metadata": {
    "collapsed": false
   },
   "source": [
    "Remove them"
   ]
  },
  {
   "cell_type": "code",
   "execution_count": 17,
   "id": "68009a3b99a72b3c",
   "metadata": {
    "collapsed": false,
    "ExecuteTime": {
     "end_time": "2023-11-27T14:36:58.695627187Z",
     "start_time": "2023-11-27T14:36:58.685161287Z"
    }
   },
   "outputs": [],
   "source": [
    "df = df.dropna()"
   ]
  },
  {
   "cell_type": "markdown",
   "id": "b61ee2a7685a3b30",
   "metadata": {
    "collapsed": false
   },
   "source": [
    "Check how many NaN / Null values there are after cleaning (should be 0):"
   ]
  },
  {
   "cell_type": "code",
   "execution_count": 18,
   "id": "959cb1236af5bb48",
   "metadata": {
    "collapsed": false,
    "ExecuteTime": {
     "end_time": "2023-11-27T14:36:59.432642486Z",
     "start_time": "2023-11-27T14:36:59.404033986Z"
    }
   },
   "outputs": [
    {
     "data": {
      "text/plain": "0"
     },
     "execution_count": 18,
     "metadata": {},
     "output_type": "execute_result"
    }
   ],
   "source": [
    "df.isnull().sum().sum()"
   ]
  },
  {
   "cell_type": "markdown",
   "id": "babcaee1ff926a96",
   "metadata": {
    "collapsed": false
   },
   "source": [
    "#### TODO other various data cleaning stuff"
   ]
  },
  {
   "cell_type": "code",
   "execution_count": 19,
   "id": "8933c9e95c955e15",
   "metadata": {
    "collapsed": false,
    "ExecuteTime": {
     "end_time": "2023-11-27T14:37:00.413434884Z",
     "start_time": "2023-11-27T14:37:00.409876884Z"
    }
   },
   "outputs": [],
   "source": [
    "# TODO"
   ]
  },
  {
   "cell_type": "markdown",
   "id": "29b3f3f0aca108de",
   "metadata": {
    "collapsed": false
   },
   "source": [
    "### Write CSV"
   ]
  },
  {
   "cell_type": "code",
   "execution_count": 20,
   "metadata": {
    "ExecuteTime": {
     "end_time": "2023-11-27T14:37:01.589137682Z",
     "start_time": "2023-11-27T14:37:01.513102282Z"
    }
   },
   "outputs": [
    {
     "data": {
      "text/plain": "                P24           P44           P42           P33           P23  \\\ncount  44827.000000  44827.000000  44827.000000  44827.000000  44827.000000   \nmean     142.808932    164.877306    126.638611     54.680706     55.275749   \nstd       64.120223     80.448353     65.073891     41.048531     43.491865   \nmin        0.000000      0.000000      0.000000      0.000000      0.000000   \n25%       91.000000    105.000000     86.000000     19.000000     19.000000   \n50%      143.000000    168.000000    117.000000     50.000000     43.000000   \n75%      194.000000    225.000000    171.000000     93.000000     95.000000   \nmax      269.000000    447.000000    292.000000    170.000000    132.000000   \n\n                P25           P21           P31           P53           P32  \\\ncount  44827.000000  44827.000000  44827.000000  44827.000000  44827.000000   \nmean     175.311308    134.464497     58.044125     39.615477     41.697348   \nstd       84.361251     65.084514     38.583067     36.134791     29.920853   \nmin        0.000000      0.000000      0.000000      0.000000      0.000000   \n25%      125.000000     84.000000     26.000000      0.000000     14.000000   \n50%      184.000000    127.000000     50.000000     51.000000     39.000000   \n75%      235.000000    181.000000     86.000000     70.000000     67.000000   \nmax      362.000000    274.000000    138.000000    110.000000     96.000000   \n\n       ...           P51           P43        ferien      feiertag  \\\ncount  ...  44827.000000  44827.000000  44827.000000  44827.000000   \nmean   ...     32.858902     12.488879      0.225757      0.021973   \nstd    ...     23.971380      9.637270      0.418084      0.146598   \nmin    ...      0.000000      0.000000      0.000000      0.000000   \n25%    ...     13.000000      2.000000      0.000000      0.000000   \n50%    ...     29.000000     13.000000      0.000000      0.000000   \n75%    ...     51.000000     21.000000      0.000000      0.000000   \nmax    ...     88.000000     32.000000      1.000000      1.000000   \n\n           covid_19     olma_offa  temperature_2m_max  temperature_2m_min  \\\ncount  44827.000000  44827.000000        44827.000000        44827.000000   \nmean       0.497000      0.045129           13.456925            5.631885   \nstd        0.499997      0.207589            7.369427            6.459967   \nmin        0.000000      0.000000           -3.999000          -14.049000   \n25%        0.000000      0.000000            7.501000            0.551000   \n50%        0.000000      0.000000           13.551000            5.501000   \n75%        1.000000      0.000000           19.501000           11.551000   \nmax        1.000000      1.000000           31.151000           19.901000   \n\n           rain_sum  snowfall_sum  \ncount  44827.000000  44827.000000  \nmean       3.529143      0.344717  \nstd        6.228703      1.402799  \nmin        0.000000      0.000000  \n25%        0.000000      0.000000  \n50%        0.500000      0.000000  \n75%        4.750000      0.000000  \nmax       61.599995     23.939995  \n\n[8 rows x 22 columns]",
      "text/html": "<div>\n<style scoped>\n    .dataframe tbody tr th:only-of-type {\n        vertical-align: middle;\n    }\n\n    .dataframe tbody tr th {\n        vertical-align: top;\n    }\n\n    .dataframe thead th {\n        text-align: right;\n    }\n</style>\n<table border=\"1\" class=\"dataframe\">\n  <thead>\n    <tr style=\"text-align: right;\">\n      <th></th>\n      <th>P24</th>\n      <th>P44</th>\n      <th>P42</th>\n      <th>P33</th>\n      <th>P23</th>\n      <th>P25</th>\n      <th>P21</th>\n      <th>P31</th>\n      <th>P53</th>\n      <th>P32</th>\n      <th>...</th>\n      <th>P51</th>\n      <th>P43</th>\n      <th>ferien</th>\n      <th>feiertag</th>\n      <th>covid_19</th>\n      <th>olma_offa</th>\n      <th>temperature_2m_max</th>\n      <th>temperature_2m_min</th>\n      <th>rain_sum</th>\n      <th>snowfall_sum</th>\n    </tr>\n  </thead>\n  <tbody>\n    <tr>\n      <th>count</th>\n      <td>44827.000000</td>\n      <td>44827.000000</td>\n      <td>44827.000000</td>\n      <td>44827.000000</td>\n      <td>44827.000000</td>\n      <td>44827.000000</td>\n      <td>44827.000000</td>\n      <td>44827.000000</td>\n      <td>44827.000000</td>\n      <td>44827.000000</td>\n      <td>...</td>\n      <td>44827.000000</td>\n      <td>44827.000000</td>\n      <td>44827.000000</td>\n      <td>44827.000000</td>\n      <td>44827.000000</td>\n      <td>44827.000000</td>\n      <td>44827.000000</td>\n      <td>44827.000000</td>\n      <td>44827.000000</td>\n      <td>44827.000000</td>\n    </tr>\n    <tr>\n      <th>mean</th>\n      <td>142.808932</td>\n      <td>164.877306</td>\n      <td>126.638611</td>\n      <td>54.680706</td>\n      <td>55.275749</td>\n      <td>175.311308</td>\n      <td>134.464497</td>\n      <td>58.044125</td>\n      <td>39.615477</td>\n      <td>41.697348</td>\n      <td>...</td>\n      <td>32.858902</td>\n      <td>12.488879</td>\n      <td>0.225757</td>\n      <td>0.021973</td>\n      <td>0.497000</td>\n      <td>0.045129</td>\n      <td>13.456925</td>\n      <td>5.631885</td>\n      <td>3.529143</td>\n      <td>0.344717</td>\n    </tr>\n    <tr>\n      <th>std</th>\n      <td>64.120223</td>\n      <td>80.448353</td>\n      <td>65.073891</td>\n      <td>41.048531</td>\n      <td>43.491865</td>\n      <td>84.361251</td>\n      <td>65.084514</td>\n      <td>38.583067</td>\n      <td>36.134791</td>\n      <td>29.920853</td>\n      <td>...</td>\n      <td>23.971380</td>\n      <td>9.637270</td>\n      <td>0.418084</td>\n      <td>0.146598</td>\n      <td>0.499997</td>\n      <td>0.207589</td>\n      <td>7.369427</td>\n      <td>6.459967</td>\n      <td>6.228703</td>\n      <td>1.402799</td>\n    </tr>\n    <tr>\n      <th>min</th>\n      <td>0.000000</td>\n      <td>0.000000</td>\n      <td>0.000000</td>\n      <td>0.000000</td>\n      <td>0.000000</td>\n      <td>0.000000</td>\n      <td>0.000000</td>\n      <td>0.000000</td>\n      <td>0.000000</td>\n      <td>0.000000</td>\n      <td>...</td>\n      <td>0.000000</td>\n      <td>0.000000</td>\n      <td>0.000000</td>\n      <td>0.000000</td>\n      <td>0.000000</td>\n      <td>0.000000</td>\n      <td>-3.999000</td>\n      <td>-14.049000</td>\n      <td>0.000000</td>\n      <td>0.000000</td>\n    </tr>\n    <tr>\n      <th>25%</th>\n      <td>91.000000</td>\n      <td>105.000000</td>\n      <td>86.000000</td>\n      <td>19.000000</td>\n      <td>19.000000</td>\n      <td>125.000000</td>\n      <td>84.000000</td>\n      <td>26.000000</td>\n      <td>0.000000</td>\n      <td>14.000000</td>\n      <td>...</td>\n      <td>13.000000</td>\n      <td>2.000000</td>\n      <td>0.000000</td>\n      <td>0.000000</td>\n      <td>0.000000</td>\n      <td>0.000000</td>\n      <td>7.501000</td>\n      <td>0.551000</td>\n      <td>0.000000</td>\n      <td>0.000000</td>\n    </tr>\n    <tr>\n      <th>50%</th>\n      <td>143.000000</td>\n      <td>168.000000</td>\n      <td>117.000000</td>\n      <td>50.000000</td>\n      <td>43.000000</td>\n      <td>184.000000</td>\n      <td>127.000000</td>\n      <td>50.000000</td>\n      <td>51.000000</td>\n      <td>39.000000</td>\n      <td>...</td>\n      <td>29.000000</td>\n      <td>13.000000</td>\n      <td>0.000000</td>\n      <td>0.000000</td>\n      <td>0.000000</td>\n      <td>0.000000</td>\n      <td>13.551000</td>\n      <td>5.501000</td>\n      <td>0.500000</td>\n      <td>0.000000</td>\n    </tr>\n    <tr>\n      <th>75%</th>\n      <td>194.000000</td>\n      <td>225.000000</td>\n      <td>171.000000</td>\n      <td>93.000000</td>\n      <td>95.000000</td>\n      <td>235.000000</td>\n      <td>181.000000</td>\n      <td>86.000000</td>\n      <td>70.000000</td>\n      <td>67.000000</td>\n      <td>...</td>\n      <td>51.000000</td>\n      <td>21.000000</td>\n      <td>0.000000</td>\n      <td>0.000000</td>\n      <td>1.000000</td>\n      <td>0.000000</td>\n      <td>19.501000</td>\n      <td>11.551000</td>\n      <td>4.750000</td>\n      <td>0.000000</td>\n    </tr>\n    <tr>\n      <th>max</th>\n      <td>269.000000</td>\n      <td>447.000000</td>\n      <td>292.000000</td>\n      <td>170.000000</td>\n      <td>132.000000</td>\n      <td>362.000000</td>\n      <td>274.000000</td>\n      <td>138.000000</td>\n      <td>110.000000</td>\n      <td>96.000000</td>\n      <td>...</td>\n      <td>88.000000</td>\n      <td>32.000000</td>\n      <td>1.000000</td>\n      <td>1.000000</td>\n      <td>1.000000</td>\n      <td>1.000000</td>\n      <td>31.151000</td>\n      <td>19.901000</td>\n      <td>61.599995</td>\n      <td>23.939995</td>\n    </tr>\n  </tbody>\n</table>\n<p>8 rows × 22 columns</p>\n</div>"
     },
     "execution_count": 20,
     "metadata": {},
     "output_type": "execute_result"
    }
   ],
   "source": [
    "df.describe()"
   ],
   "id": "d95e4caeda75d3e0"
  },
  {
   "cell_type": "code",
   "execution_count": 21,
   "id": "d2fa4bc0f8bda4f7",
   "metadata": {
    "collapsed": false,
    "ExecuteTime": {
     "end_time": "2023-11-27T14:37:02.208011781Z",
     "start_time": "2023-11-27T14:37:01.918169381Z"
    }
   },
   "outputs": [],
   "source": [
    "df.to_csv(outputfile, sep=\";\", index=False)"
   ]
  },
  {
   "cell_type": "code",
   "execution_count": null,
   "outputs": [],
   "source": [],
   "metadata": {
    "collapsed": false
   },
   "id": "c3fee21b3a0979f6"
  }
 ],
 "metadata": {
  "kernelspec": {
   "display_name": "Python 3",
   "language": "python",
   "name": "python3"
  },
  "language_info": {
   "codemirror_mode": {
    "name": "ipython",
    "version": 3
   },
   "file_extension": ".py",
   "mimetype": "text/x-python",
   "name": "python",
   "nbconvert_exporter": "python",
   "pygments_lexer": "ipython3",
   "version": "3.11.5"
  }
 },
 "nbformat": 4,
 "nbformat_minor": 5
}
