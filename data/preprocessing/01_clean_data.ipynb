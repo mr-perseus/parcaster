{
 "cells": [
  {
   "cell_type": "markdown",
   "source": [
    "# Import libraries"
   ],
   "metadata": {
    "collapsed": false
   },
   "id": "17d3a515c33a6569"
  },
  {
   "cell_type": "code",
   "execution_count": 1,
   "id": "initial_id",
   "metadata": {
    "collapsed": true,
    "ExecuteTime": {
     "end_time": "2023-11-25T18:30:00.509058700Z",
     "start_time": "2023-11-25T18:30:00.100610900Z"
    }
   },
   "outputs": [],
   "source": [
    "import pandas as pd\n",
    "import json as json"
   ]
  },
  {
   "cell_type": "markdown",
   "source": [
    "# Read CSV"
   ],
   "metadata": {
    "collapsed": false
   },
   "id": "8fb39eb2b80fc7bd"
  },
  {
   "cell_type": "code",
   "execution_count": 2,
   "outputs": [
    {
     "data": {
      "text/plain": "                 P24            P44            P42            P33  \\\ncount  134359.000000  134359.000000  134359.000000  134359.000000   \nmean      199.697958     231.368602     170.050737      80.188019   \nstd       306.207551     260.529622     249.210545      94.258416   \nmin         0.000000       0.000000       0.000000       0.000000   \n25%       151.000000     156.000000     110.000000      37.000000   \n50%       229.000000     238.000000     187.000000      89.000000   \n75%       252.000000     279.000000     232.000000     112.000000   \nmax     82750.000000   42900.000000   56932.000000   22839.000000   \n\n                 P23            P25            P21            P31       P54  \\\ncount  134359.000000  134359.000000  134359.000000  134359.000000  134359.0   \nmean       91.831437     235.548382     201.113286      91.945690       0.0   \nstd       131.486076     391.695722     307.452237     140.191298       0.0   \nmin         0.000000       0.000000       0.000000       0.000000       0.0   \n25%        47.000000     182.000000     134.000000      52.000000       0.0   \n50%       118.000000     251.000000     243.000000     108.000000       0.0   \n75%       128.000000     307.000000     259.000000     129.000000       0.0   \nmax     29459.000000  111878.000000   85729.000000   35086.000000       0.0   \n\n                 P53  ...            P43       P41         ferien  \\\ncount  134359.000000  ...  134359.000000  134359.0  134361.000000   \nmean       54.469920  ...      17.270201       0.0       0.258892   \nstd        86.432702  ...      21.700482       0.0       0.438028   \nmin         0.000000  ...       0.000000       0.0       0.000000   \n25%         0.000000  ...       7.000000       0.0       0.000000   \n50%        66.000000  ...      18.000000       0.0       0.000000   \n75%        96.000000  ...      26.000000       0.0       1.000000   \nmax     18354.000000  ...    4080.000000       0.0       1.000000   \n\n            feiertag       covid_19      olma_offa  temperature_2m_max  \\\ncount  134361.000000  134361.000000  134361.000000       134361.000000   \nmean        0.030344       0.417316       0.041932           14.374133   \nstd         0.171532       0.493118       0.200434            7.470731   \nmin         0.000000       0.000000       0.000000           -3.999000   \n25%         0.000000       0.000000       0.000000            8.401000   \n50%         0.000000       0.000000       0.000000           14.551000   \n75%         0.000000       1.000000       0.000000           20.501000   \nmax         1.000000       1.000000       1.000000           32.301003   \n\n       temperature_2m_min       rain_sum   snowfall_sum  \ncount       134361.000000  134361.000000  134361.000000  \nmean             6.435864       4.017237       0.282483  \nstd              6.551421       7.099695       1.246384  \nmin            -18.249000       0.000000       0.000000  \n25%              1.401000       0.000000       0.000000  \n50%              6.551000       0.700000       0.000000  \n75%             12.151000       5.700000       0.000000  \nmax             20.451000      67.600000      23.939995  \n\n[8 rows x 24 columns]",
      "text/html": "<div>\n<style scoped>\n    .dataframe tbody tr th:only-of-type {\n        vertical-align: middle;\n    }\n\n    .dataframe tbody tr th {\n        vertical-align: top;\n    }\n\n    .dataframe thead th {\n        text-align: right;\n    }\n</style>\n<table border=\"1\" class=\"dataframe\">\n  <thead>\n    <tr style=\"text-align: right;\">\n      <th></th>\n      <th>P24</th>\n      <th>P44</th>\n      <th>P42</th>\n      <th>P33</th>\n      <th>P23</th>\n      <th>P25</th>\n      <th>P21</th>\n      <th>P31</th>\n      <th>P54</th>\n      <th>P53</th>\n      <th>...</th>\n      <th>P43</th>\n      <th>P41</th>\n      <th>ferien</th>\n      <th>feiertag</th>\n      <th>covid_19</th>\n      <th>olma_offa</th>\n      <th>temperature_2m_max</th>\n      <th>temperature_2m_min</th>\n      <th>rain_sum</th>\n      <th>snowfall_sum</th>\n    </tr>\n  </thead>\n  <tbody>\n    <tr>\n      <th>count</th>\n      <td>134359.000000</td>\n      <td>134359.000000</td>\n      <td>134359.000000</td>\n      <td>134359.000000</td>\n      <td>134359.000000</td>\n      <td>134359.000000</td>\n      <td>134359.000000</td>\n      <td>134359.000000</td>\n      <td>134359.0</td>\n      <td>134359.000000</td>\n      <td>...</td>\n      <td>134359.000000</td>\n      <td>134359.0</td>\n      <td>134361.000000</td>\n      <td>134361.000000</td>\n      <td>134361.000000</td>\n      <td>134361.000000</td>\n      <td>134361.000000</td>\n      <td>134361.000000</td>\n      <td>134361.000000</td>\n      <td>134361.000000</td>\n    </tr>\n    <tr>\n      <th>mean</th>\n      <td>199.697958</td>\n      <td>231.368602</td>\n      <td>170.050737</td>\n      <td>80.188019</td>\n      <td>91.831437</td>\n      <td>235.548382</td>\n      <td>201.113286</td>\n      <td>91.945690</td>\n      <td>0.0</td>\n      <td>54.469920</td>\n      <td>...</td>\n      <td>17.270201</td>\n      <td>0.0</td>\n      <td>0.258892</td>\n      <td>0.030344</td>\n      <td>0.417316</td>\n      <td>0.041932</td>\n      <td>14.374133</td>\n      <td>6.435864</td>\n      <td>4.017237</td>\n      <td>0.282483</td>\n    </tr>\n    <tr>\n      <th>std</th>\n      <td>306.207551</td>\n      <td>260.529622</td>\n      <td>249.210545</td>\n      <td>94.258416</td>\n      <td>131.486076</td>\n      <td>391.695722</td>\n      <td>307.452237</td>\n      <td>140.191298</td>\n      <td>0.0</td>\n      <td>86.432702</td>\n      <td>...</td>\n      <td>21.700482</td>\n      <td>0.0</td>\n      <td>0.438028</td>\n      <td>0.171532</td>\n      <td>0.493118</td>\n      <td>0.200434</td>\n      <td>7.470731</td>\n      <td>6.551421</td>\n      <td>7.099695</td>\n      <td>1.246384</td>\n    </tr>\n    <tr>\n      <th>min</th>\n      <td>0.000000</td>\n      <td>0.000000</td>\n      <td>0.000000</td>\n      <td>0.000000</td>\n      <td>0.000000</td>\n      <td>0.000000</td>\n      <td>0.000000</td>\n      <td>0.000000</td>\n      <td>0.0</td>\n      <td>0.000000</td>\n      <td>...</td>\n      <td>0.000000</td>\n      <td>0.0</td>\n      <td>0.000000</td>\n      <td>0.000000</td>\n      <td>0.000000</td>\n      <td>0.000000</td>\n      <td>-3.999000</td>\n      <td>-18.249000</td>\n      <td>0.000000</td>\n      <td>0.000000</td>\n    </tr>\n    <tr>\n      <th>25%</th>\n      <td>151.000000</td>\n      <td>156.000000</td>\n      <td>110.000000</td>\n      <td>37.000000</td>\n      <td>47.000000</td>\n      <td>182.000000</td>\n      <td>134.000000</td>\n      <td>52.000000</td>\n      <td>0.0</td>\n      <td>0.000000</td>\n      <td>...</td>\n      <td>7.000000</td>\n      <td>0.0</td>\n      <td>0.000000</td>\n      <td>0.000000</td>\n      <td>0.000000</td>\n      <td>0.000000</td>\n      <td>8.401000</td>\n      <td>1.401000</td>\n      <td>0.000000</td>\n      <td>0.000000</td>\n    </tr>\n    <tr>\n      <th>50%</th>\n      <td>229.000000</td>\n      <td>238.000000</td>\n      <td>187.000000</td>\n      <td>89.000000</td>\n      <td>118.000000</td>\n      <td>251.000000</td>\n      <td>243.000000</td>\n      <td>108.000000</td>\n      <td>0.0</td>\n      <td>66.000000</td>\n      <td>...</td>\n      <td>18.000000</td>\n      <td>0.0</td>\n      <td>0.000000</td>\n      <td>0.000000</td>\n      <td>0.000000</td>\n      <td>0.000000</td>\n      <td>14.551000</td>\n      <td>6.551000</td>\n      <td>0.700000</td>\n      <td>0.000000</td>\n    </tr>\n    <tr>\n      <th>75%</th>\n      <td>252.000000</td>\n      <td>279.000000</td>\n      <td>232.000000</td>\n      <td>112.000000</td>\n      <td>128.000000</td>\n      <td>307.000000</td>\n      <td>259.000000</td>\n      <td>129.000000</td>\n      <td>0.0</td>\n      <td>96.000000</td>\n      <td>...</td>\n      <td>26.000000</td>\n      <td>0.0</td>\n      <td>1.000000</td>\n      <td>0.000000</td>\n      <td>1.000000</td>\n      <td>0.000000</td>\n      <td>20.501000</td>\n      <td>12.151000</td>\n      <td>5.700000</td>\n      <td>0.000000</td>\n    </tr>\n    <tr>\n      <th>max</th>\n      <td>82750.000000</td>\n      <td>42900.000000</td>\n      <td>56932.000000</td>\n      <td>22839.000000</td>\n      <td>29459.000000</td>\n      <td>111878.000000</td>\n      <td>85729.000000</td>\n      <td>35086.000000</td>\n      <td>0.0</td>\n      <td>18354.000000</td>\n      <td>...</td>\n      <td>4080.000000</td>\n      <td>0.0</td>\n      <td>1.000000</td>\n      <td>1.000000</td>\n      <td>1.000000</td>\n      <td>1.000000</td>\n      <td>32.301003</td>\n      <td>20.451000</td>\n      <td>67.600000</td>\n      <td>23.939995</td>\n    </tr>\n  </tbody>\n</table>\n<p>8 rows × 24 columns</p>\n</div>"
     },
     "execution_count": 2,
     "metadata": {},
     "output_type": "execute_result"
    }
   ],
   "source": [
    "df = pd.read_csv(\"../scraping/parking-data-sg/final/pp_sg.csv\", sep=\";\")\n",
    "df.describe()"
   ],
   "metadata": {
    "collapsed": false,
    "ExecuteTime": {
     "end_time": "2023-11-25T18:30:01.879587500Z",
     "start_time": "2023-11-25T18:30:01.453942500Z"
    }
   },
   "id": "961a220fabc829f7"
  },
  {
   "cell_type": "markdown",
   "source": [
    "We see i.e. outliers in max parking data."
   ],
   "metadata": {
    "collapsed": false
   },
   "id": "9649b40ace5546a9"
  },
  {
   "cell_type": "markdown",
   "source": [
    "# Remove outliers"
   ],
   "metadata": {
    "collapsed": false
   },
   "id": "6e3372d8c236a134"
  },
  {
   "cell_type": "markdown",
   "source": [
    "## Remove outliers from parking data"
   ],
   "metadata": {
    "collapsed": false
   },
   "id": "5bc2478569ca3409"
  },
  {
   "cell_type": "code",
   "execution_count": 3,
   "outputs": [],
   "source": [
    "# Import Metadata\n",
    "json_dir = '../metadata/metadata.json'\n",
    "with open(json_dir, 'r', encoding='utf8') as f:\n",
    "        metadata = json.load(f)"
   ],
   "metadata": {
    "collapsed": false,
    "ExecuteTime": {
     "end_time": "2023-11-25T18:30:05.065975Z",
     "start_time": "2023-11-25T18:30:05.051940500Z"
    }
   },
   "id": "d29a868015d4b1d3"
  },
  {
   "cell_type": "code",
   "execution_count": 4,
   "outputs": [
    {
     "data": {
      "text/plain": "                P24           P44           P42           P33           P23  \\\ncount  55852.000000  55852.000000  55852.000000  55852.000000  55852.000000   \nmean     142.625224    174.287814    125.458354     56.568323     56.250430   \nstd       64.440850     90.099662     63.762311     41.049387     43.517425   \nmin        0.000000      0.000000      0.000000      0.000000      0.000000   \n25%       91.000000    107.000000     86.000000     22.000000     20.000000   \n50%      142.000000    177.000000    115.000000     51.000000     44.000000   \n75%      195.000000    237.000000    169.000000     93.000000     96.000000   \nmax      275.000000    447.000000    292.000000    170.000000    132.000000   \n\n                P25           P21           P31      P54           P53  ...  \\\ncount  55852.000000  55852.000000  55852.000000  55852.0  55852.000000  ...   \nmean     180.703592    137.016991     57.499606      0.0     44.530957  ...   \nstd       84.074639     64.466941     38.629403      0.0     37.065147  ...   \nmin        0.000000      0.000000      0.000000      0.0      0.000000  ...   \n25%      132.000000     88.000000     26.000000      0.0      0.000000  ...   \n50%      188.000000    128.000000     49.000000      0.0     57.000000  ...   \n75%      240.000000    183.000000     85.000000      0.0     75.000000  ...   \nmax      369.000000    274.000000    138.000000      0.0    110.000000  ...   \n\n                P43      P41        ferien      feiertag      covid_19  \\\ncount  55852.000000  55852.0  55854.000000  55854.000000  55854.000000   \nmean      13.456098      0.0      0.242543      0.023687      0.398951   \nstd        9.567926      0.0      0.428625      0.152073      0.489687   \nmin        0.000000      0.0      0.000000      0.000000      0.000000   \n25%        5.000000      0.0      0.000000      0.000000      0.000000   \n50%       14.000000      0.0      0.000000      0.000000      0.000000   \n75%       21.000000      0.0      0.000000      0.000000      1.000000   \nmax       32.000000      0.0      1.000000      1.000000      1.000000   \n\n          olma_offa  temperature_2m_max  temperature_2m_min      rain_sum  \\\ncount  55854.000000        55854.000000        55854.000000  55854.000000   \nmean       0.056236           14.252911            6.333118      3.926004   \nstd        0.230379            7.379811            6.428814      6.855619   \nmin        0.000000           -3.999000          -14.049000      0.000000   \n25%        0.000000            8.551000            1.401000      0.000000   \n50%        0.000000           14.351000            6.351000      0.700000   \n75%        0.000000           20.251000           11.901000      5.700000   \nmax        1.000000           31.801000           20.401000     67.600000   \n\n       snowfall_sum  \ncount  55854.000000  \nmean       0.298265  \nstd        1.284303  \nmin        0.000000  \n25%        0.000000  \n50%        0.000000  \n75%        0.000000  \nmax       23.939995  \n\n[8 rows x 24 columns]",
      "text/html": "<div>\n<style scoped>\n    .dataframe tbody tr th:only-of-type {\n        vertical-align: middle;\n    }\n\n    .dataframe tbody tr th {\n        vertical-align: top;\n    }\n\n    .dataframe thead th {\n        text-align: right;\n    }\n</style>\n<table border=\"1\" class=\"dataframe\">\n  <thead>\n    <tr style=\"text-align: right;\">\n      <th></th>\n      <th>P24</th>\n      <th>P44</th>\n      <th>P42</th>\n      <th>P33</th>\n      <th>P23</th>\n      <th>P25</th>\n      <th>P21</th>\n      <th>P31</th>\n      <th>P54</th>\n      <th>P53</th>\n      <th>...</th>\n      <th>P43</th>\n      <th>P41</th>\n      <th>ferien</th>\n      <th>feiertag</th>\n      <th>covid_19</th>\n      <th>olma_offa</th>\n      <th>temperature_2m_max</th>\n      <th>temperature_2m_min</th>\n      <th>rain_sum</th>\n      <th>snowfall_sum</th>\n    </tr>\n  </thead>\n  <tbody>\n    <tr>\n      <th>count</th>\n      <td>55852.000000</td>\n      <td>55852.000000</td>\n      <td>55852.000000</td>\n      <td>55852.000000</td>\n      <td>55852.000000</td>\n      <td>55852.000000</td>\n      <td>55852.000000</td>\n      <td>55852.000000</td>\n      <td>55852.0</td>\n      <td>55852.000000</td>\n      <td>...</td>\n      <td>55852.000000</td>\n      <td>55852.0</td>\n      <td>55854.000000</td>\n      <td>55854.000000</td>\n      <td>55854.000000</td>\n      <td>55854.000000</td>\n      <td>55854.000000</td>\n      <td>55854.000000</td>\n      <td>55854.000000</td>\n      <td>55854.000000</td>\n    </tr>\n    <tr>\n      <th>mean</th>\n      <td>142.625224</td>\n      <td>174.287814</td>\n      <td>125.458354</td>\n      <td>56.568323</td>\n      <td>56.250430</td>\n      <td>180.703592</td>\n      <td>137.016991</td>\n      <td>57.499606</td>\n      <td>0.0</td>\n      <td>44.530957</td>\n      <td>...</td>\n      <td>13.456098</td>\n      <td>0.0</td>\n      <td>0.242543</td>\n      <td>0.023687</td>\n      <td>0.398951</td>\n      <td>0.056236</td>\n      <td>14.252911</td>\n      <td>6.333118</td>\n      <td>3.926004</td>\n      <td>0.298265</td>\n    </tr>\n    <tr>\n      <th>std</th>\n      <td>64.440850</td>\n      <td>90.099662</td>\n      <td>63.762311</td>\n      <td>41.049387</td>\n      <td>43.517425</td>\n      <td>84.074639</td>\n      <td>64.466941</td>\n      <td>38.629403</td>\n      <td>0.0</td>\n      <td>37.065147</td>\n      <td>...</td>\n      <td>9.567926</td>\n      <td>0.0</td>\n      <td>0.428625</td>\n      <td>0.152073</td>\n      <td>0.489687</td>\n      <td>0.230379</td>\n      <td>7.379811</td>\n      <td>6.428814</td>\n      <td>6.855619</td>\n      <td>1.284303</td>\n    </tr>\n    <tr>\n      <th>min</th>\n      <td>0.000000</td>\n      <td>0.000000</td>\n      <td>0.000000</td>\n      <td>0.000000</td>\n      <td>0.000000</td>\n      <td>0.000000</td>\n      <td>0.000000</td>\n      <td>0.000000</td>\n      <td>0.0</td>\n      <td>0.000000</td>\n      <td>...</td>\n      <td>0.000000</td>\n      <td>0.0</td>\n      <td>0.000000</td>\n      <td>0.000000</td>\n      <td>0.000000</td>\n      <td>0.000000</td>\n      <td>-3.999000</td>\n      <td>-14.049000</td>\n      <td>0.000000</td>\n      <td>0.000000</td>\n    </tr>\n    <tr>\n      <th>25%</th>\n      <td>91.000000</td>\n      <td>107.000000</td>\n      <td>86.000000</td>\n      <td>22.000000</td>\n      <td>20.000000</td>\n      <td>132.000000</td>\n      <td>88.000000</td>\n      <td>26.000000</td>\n      <td>0.0</td>\n      <td>0.000000</td>\n      <td>...</td>\n      <td>5.000000</td>\n      <td>0.0</td>\n      <td>0.000000</td>\n      <td>0.000000</td>\n      <td>0.000000</td>\n      <td>0.000000</td>\n      <td>8.551000</td>\n      <td>1.401000</td>\n      <td>0.000000</td>\n      <td>0.000000</td>\n    </tr>\n    <tr>\n      <th>50%</th>\n      <td>142.000000</td>\n      <td>177.000000</td>\n      <td>115.000000</td>\n      <td>51.000000</td>\n      <td>44.000000</td>\n      <td>188.000000</td>\n      <td>128.000000</td>\n      <td>49.000000</td>\n      <td>0.0</td>\n      <td>57.000000</td>\n      <td>...</td>\n      <td>14.000000</td>\n      <td>0.0</td>\n      <td>0.000000</td>\n      <td>0.000000</td>\n      <td>0.000000</td>\n      <td>0.000000</td>\n      <td>14.351000</td>\n      <td>6.351000</td>\n      <td>0.700000</td>\n      <td>0.000000</td>\n    </tr>\n    <tr>\n      <th>75%</th>\n      <td>195.000000</td>\n      <td>237.000000</td>\n      <td>169.000000</td>\n      <td>93.000000</td>\n      <td>96.000000</td>\n      <td>240.000000</td>\n      <td>183.000000</td>\n      <td>85.000000</td>\n      <td>0.0</td>\n      <td>75.000000</td>\n      <td>...</td>\n      <td>21.000000</td>\n      <td>0.0</td>\n      <td>0.000000</td>\n      <td>0.000000</td>\n      <td>1.000000</td>\n      <td>0.000000</td>\n      <td>20.251000</td>\n      <td>11.901000</td>\n      <td>5.700000</td>\n      <td>0.000000</td>\n    </tr>\n    <tr>\n      <th>max</th>\n      <td>275.000000</td>\n      <td>447.000000</td>\n      <td>292.000000</td>\n      <td>170.000000</td>\n      <td>132.000000</td>\n      <td>369.000000</td>\n      <td>274.000000</td>\n      <td>138.000000</td>\n      <td>0.0</td>\n      <td>110.000000</td>\n      <td>...</td>\n      <td>32.000000</td>\n      <td>0.0</td>\n      <td>1.000000</td>\n      <td>1.000000</td>\n      <td>1.000000</td>\n      <td>1.000000</td>\n      <td>31.801000</td>\n      <td>20.401000</td>\n      <td>67.600000</td>\n      <td>23.939995</td>\n    </tr>\n  </tbody>\n</table>\n<p>8 rows × 24 columns</p>\n</div>"
     },
     "execution_count": 4,
     "metadata": {},
     "output_type": "execute_result"
    }
   ],
   "source": [
    "condition = lambda cols: cols.startswith(\"P\")\n",
    "colnames = [cols for cols in df.columns if condition(cols)]\n",
    "\n",
    "for name in colnames:\n",
    "        df.drop(df[df[name] > metadata['parking_sg']['fields'][name]['max_cap']].index, inplace=True)\n",
    "\n",
    "df.describe()"
   ],
   "metadata": {
    "collapsed": false,
    "ExecuteTime": {
     "end_time": "2023-11-25T18:30:06.165533700Z",
     "start_time": "2023-11-25T18:30:05.933267600Z"
    }
   },
   "id": "d3be879a5036a58e"
  },
  {
   "cell_type": "markdown",
   "source": [
    "# Remove P54 and P41"
   ],
   "metadata": {
    "collapsed": false
   },
   "id": "961ce53ce0dce10"
  },
  {
   "cell_type": "code",
   "execution_count": 5,
   "outputs": [
    {
     "data": {
      "text/plain": "          P24    P44    P42   P33    P23    P25    P21    P31    P53   P32  \\\n64      206.0  253.0    0.0  89.0  127.0  198.0  221.0  130.0    0.0  63.0   \n288      87.0   87.0    0.0   4.0   24.0  173.0   69.0   25.0    0.0  26.0   \n289      99.0  106.0    0.0   3.0   38.0  175.0   68.0   21.0    0.0  27.0   \n290     105.0  109.0    0.0   3.0   37.0  178.0   78.0   22.0    0.0  30.0   \n291     104.0  133.0    0.0   8.0   44.0  183.0   91.0   22.0    0.0  32.0   \n...       ...    ...    ...   ...    ...    ...    ...    ...    ...   ...   \n134356  228.0  432.0  237.0  98.0  131.0  286.0  247.0  122.0  107.0  88.0   \n134357  222.0  430.0  232.0  95.0  129.0  277.0  244.0  119.0  104.0  87.0   \n134358  215.0  427.0  224.0  92.0  129.0  267.0  241.0  118.0  103.0  82.0   \n134359  214.0  424.0  218.0  88.0  125.0  257.0  234.0  117.0   97.0  79.0   \n134360  210.0  420.0  213.0  80.0  124.0  248.0  231.0  115.0   92.0  77.0   \n\n        ...   P43          datetime  ferien  feiertag covid_19  olma_offa  \\\n64      ...  32.0  02.10.2019 07:25       1         0        0          0   \n288     ...   5.0  04.10.2019 15:28       1         0        0          0   \n289     ...  11.0  04.10.2019 15:43       1         0        0          0   \n290     ...  15.0  04.10.2019 15:58       1         0        0          0   \n291     ...  21.0  04.10.2019 16:13       1         0        0          0   \n...     ...   ...               ...     ...       ...      ...        ...   \n134356  ...  31.0  09.11.2023 05:46       0         0        0          0   \n134357  ...  31.0  09.11.2023 05:56       0         0        0          0   \n134358  ...  32.0  09.11.2023 06:08       0         0        0          0   \n134359  ...  31.0  09.11.2023 06:17       0         0        0          0   \n134360  ...  31.0  09.11.2023 06:26       0         0        0          0   \n\n        temperature_2m_max  temperature_2m_min  rain_sum  snowfall_sum  \n64                  14.701               6.601      16.9           0.0  \n288                 12.301               3.551       8.0           0.0  \n289                 12.301               3.551       8.0           0.0  \n290                 12.301               3.551       8.0           0.0  \n291                 12.301               3.551       8.0           0.0  \n...                    ...                 ...       ...           ...  \n134356               9.951               0.351       0.6           0.0  \n134357               9.951               0.351       0.6           0.0  \n134358               9.951               0.351       0.6           0.0  \n134359               9.951               0.351       0.6           0.0  \n134360               9.951               0.351       0.6           0.0  \n\n[55854 rows x 23 columns]",
      "text/html": "<div>\n<style scoped>\n    .dataframe tbody tr th:only-of-type {\n        vertical-align: middle;\n    }\n\n    .dataframe tbody tr th {\n        vertical-align: top;\n    }\n\n    .dataframe thead th {\n        text-align: right;\n    }\n</style>\n<table border=\"1\" class=\"dataframe\">\n  <thead>\n    <tr style=\"text-align: right;\">\n      <th></th>\n      <th>P24</th>\n      <th>P44</th>\n      <th>P42</th>\n      <th>P33</th>\n      <th>P23</th>\n      <th>P25</th>\n      <th>P21</th>\n      <th>P31</th>\n      <th>P53</th>\n      <th>P32</th>\n      <th>...</th>\n      <th>P43</th>\n      <th>datetime</th>\n      <th>ferien</th>\n      <th>feiertag</th>\n      <th>covid_19</th>\n      <th>olma_offa</th>\n      <th>temperature_2m_max</th>\n      <th>temperature_2m_min</th>\n      <th>rain_sum</th>\n      <th>snowfall_sum</th>\n    </tr>\n  </thead>\n  <tbody>\n    <tr>\n      <th>64</th>\n      <td>206.0</td>\n      <td>253.0</td>\n      <td>0.0</td>\n      <td>89.0</td>\n      <td>127.0</td>\n      <td>198.0</td>\n      <td>221.0</td>\n      <td>130.0</td>\n      <td>0.0</td>\n      <td>63.0</td>\n      <td>...</td>\n      <td>32.0</td>\n      <td>02.10.2019 07:25</td>\n      <td>1</td>\n      <td>0</td>\n      <td>0</td>\n      <td>0</td>\n      <td>14.701</td>\n      <td>6.601</td>\n      <td>16.9</td>\n      <td>0.0</td>\n    </tr>\n    <tr>\n      <th>288</th>\n      <td>87.0</td>\n      <td>87.0</td>\n      <td>0.0</td>\n      <td>4.0</td>\n      <td>24.0</td>\n      <td>173.0</td>\n      <td>69.0</td>\n      <td>25.0</td>\n      <td>0.0</td>\n      <td>26.0</td>\n      <td>...</td>\n      <td>5.0</td>\n      <td>04.10.2019 15:28</td>\n      <td>1</td>\n      <td>0</td>\n      <td>0</td>\n      <td>0</td>\n      <td>12.301</td>\n      <td>3.551</td>\n      <td>8.0</td>\n      <td>0.0</td>\n    </tr>\n    <tr>\n      <th>289</th>\n      <td>99.0</td>\n      <td>106.0</td>\n      <td>0.0</td>\n      <td>3.0</td>\n      <td>38.0</td>\n      <td>175.0</td>\n      <td>68.0</td>\n      <td>21.0</td>\n      <td>0.0</td>\n      <td>27.0</td>\n      <td>...</td>\n      <td>11.0</td>\n      <td>04.10.2019 15:43</td>\n      <td>1</td>\n      <td>0</td>\n      <td>0</td>\n      <td>0</td>\n      <td>12.301</td>\n      <td>3.551</td>\n      <td>8.0</td>\n      <td>0.0</td>\n    </tr>\n    <tr>\n      <th>290</th>\n      <td>105.0</td>\n      <td>109.0</td>\n      <td>0.0</td>\n      <td>3.0</td>\n      <td>37.0</td>\n      <td>178.0</td>\n      <td>78.0</td>\n      <td>22.0</td>\n      <td>0.0</td>\n      <td>30.0</td>\n      <td>...</td>\n      <td>15.0</td>\n      <td>04.10.2019 15:58</td>\n      <td>1</td>\n      <td>0</td>\n      <td>0</td>\n      <td>0</td>\n      <td>12.301</td>\n      <td>3.551</td>\n      <td>8.0</td>\n      <td>0.0</td>\n    </tr>\n    <tr>\n      <th>291</th>\n      <td>104.0</td>\n      <td>133.0</td>\n      <td>0.0</td>\n      <td>8.0</td>\n      <td>44.0</td>\n      <td>183.0</td>\n      <td>91.0</td>\n      <td>22.0</td>\n      <td>0.0</td>\n      <td>32.0</td>\n      <td>...</td>\n      <td>21.0</td>\n      <td>04.10.2019 16:13</td>\n      <td>1</td>\n      <td>0</td>\n      <td>0</td>\n      <td>0</td>\n      <td>12.301</td>\n      <td>3.551</td>\n      <td>8.0</td>\n      <td>0.0</td>\n    </tr>\n    <tr>\n      <th>...</th>\n      <td>...</td>\n      <td>...</td>\n      <td>...</td>\n      <td>...</td>\n      <td>...</td>\n      <td>...</td>\n      <td>...</td>\n      <td>...</td>\n      <td>...</td>\n      <td>...</td>\n      <td>...</td>\n      <td>...</td>\n      <td>...</td>\n      <td>...</td>\n      <td>...</td>\n      <td>...</td>\n      <td>...</td>\n      <td>...</td>\n      <td>...</td>\n      <td>...</td>\n      <td>...</td>\n    </tr>\n    <tr>\n      <th>134356</th>\n      <td>228.0</td>\n      <td>432.0</td>\n      <td>237.0</td>\n      <td>98.0</td>\n      <td>131.0</td>\n      <td>286.0</td>\n      <td>247.0</td>\n      <td>122.0</td>\n      <td>107.0</td>\n      <td>88.0</td>\n      <td>...</td>\n      <td>31.0</td>\n      <td>09.11.2023 05:46</td>\n      <td>0</td>\n      <td>0</td>\n      <td>0</td>\n      <td>0</td>\n      <td>9.951</td>\n      <td>0.351</td>\n      <td>0.6</td>\n      <td>0.0</td>\n    </tr>\n    <tr>\n      <th>134357</th>\n      <td>222.0</td>\n      <td>430.0</td>\n      <td>232.0</td>\n      <td>95.0</td>\n      <td>129.0</td>\n      <td>277.0</td>\n      <td>244.0</td>\n      <td>119.0</td>\n      <td>104.0</td>\n      <td>87.0</td>\n      <td>...</td>\n      <td>31.0</td>\n      <td>09.11.2023 05:56</td>\n      <td>0</td>\n      <td>0</td>\n      <td>0</td>\n      <td>0</td>\n      <td>9.951</td>\n      <td>0.351</td>\n      <td>0.6</td>\n      <td>0.0</td>\n    </tr>\n    <tr>\n      <th>134358</th>\n      <td>215.0</td>\n      <td>427.0</td>\n      <td>224.0</td>\n      <td>92.0</td>\n      <td>129.0</td>\n      <td>267.0</td>\n      <td>241.0</td>\n      <td>118.0</td>\n      <td>103.0</td>\n      <td>82.0</td>\n      <td>...</td>\n      <td>32.0</td>\n      <td>09.11.2023 06:08</td>\n      <td>0</td>\n      <td>0</td>\n      <td>0</td>\n      <td>0</td>\n      <td>9.951</td>\n      <td>0.351</td>\n      <td>0.6</td>\n      <td>0.0</td>\n    </tr>\n    <tr>\n      <th>134359</th>\n      <td>214.0</td>\n      <td>424.0</td>\n      <td>218.0</td>\n      <td>88.0</td>\n      <td>125.0</td>\n      <td>257.0</td>\n      <td>234.0</td>\n      <td>117.0</td>\n      <td>97.0</td>\n      <td>79.0</td>\n      <td>...</td>\n      <td>31.0</td>\n      <td>09.11.2023 06:17</td>\n      <td>0</td>\n      <td>0</td>\n      <td>0</td>\n      <td>0</td>\n      <td>9.951</td>\n      <td>0.351</td>\n      <td>0.6</td>\n      <td>0.0</td>\n    </tr>\n    <tr>\n      <th>134360</th>\n      <td>210.0</td>\n      <td>420.0</td>\n      <td>213.0</td>\n      <td>80.0</td>\n      <td>124.0</td>\n      <td>248.0</td>\n      <td>231.0</td>\n      <td>115.0</td>\n      <td>92.0</td>\n      <td>77.0</td>\n      <td>...</td>\n      <td>31.0</td>\n      <td>09.11.2023 06:26</td>\n      <td>0</td>\n      <td>0</td>\n      <td>0</td>\n      <td>0</td>\n      <td>9.951</td>\n      <td>0.351</td>\n      <td>0.6</td>\n      <td>0.0</td>\n    </tr>\n  </tbody>\n</table>\n<p>55854 rows × 23 columns</p>\n</div>"
     },
     "execution_count": 5,
     "metadata": {},
     "output_type": "execute_result"
    }
   ],
   "source": [
    "# Both not in use for whole time\n",
    "df.drop(['P54', 'P41'], axis=1)"
   ],
   "metadata": {
    "collapsed": false,
    "ExecuteTime": {
     "end_time": "2023-11-25T18:30:12.314328200Z",
     "start_time": "2023-11-25T18:30:12.250632900Z"
    }
   },
   "id": "c8898eea88fd2945"
  },
  {
   "cell_type": "markdown",
   "source": [
    "## TODO remove outliers from other data"
   ],
   "metadata": {
    "collapsed": false
   },
   "id": "5f599f147b2817bb"
  },
  {
   "cell_type": "code",
   "execution_count": 6,
   "outputs": [],
   "source": [
    "# TODO"
   ],
   "metadata": {
    "collapsed": false,
    "ExecuteTime": {
     "end_time": "2023-11-25T18:30:15.783304800Z",
     "start_time": "2023-11-25T18:30:15.763819300Z"
    }
   },
   "id": "63ce9c68e493ff18"
  },
  {
   "cell_type": "markdown",
   "source": [
    "# Remove NaN / Null values"
   ],
   "metadata": {
    "collapsed": false
   },
   "id": "73d4e1843718d1fe"
  },
  {
   "cell_type": "markdown",
   "source": [
    "Check how many NaN / Null values there are:"
   ],
   "metadata": {
    "collapsed": false
   },
   "id": "ce6ddbe3c8df781d"
  },
  {
   "cell_type": "code",
   "execution_count": 7,
   "outputs": [
    {
     "data": {
      "text/plain": "32"
     },
     "execution_count": 7,
     "metadata": {},
     "output_type": "execute_result"
    }
   ],
   "source": [
    "df.isnull().sum().sum()"
   ],
   "metadata": {
    "collapsed": false,
    "ExecuteTime": {
     "end_time": "2023-11-25T18:30:24.071587800Z",
     "start_time": "2023-11-25T18:30:24.039086300Z"
    }
   },
   "id": "fb272ceb417aa6"
  },
  {
   "cell_type": "markdown",
   "source": [
    "Remove them"
   ],
   "metadata": {
    "collapsed": false
   },
   "id": "1eadb3e4daac5a83"
  },
  {
   "cell_type": "code",
   "execution_count": 8,
   "outputs": [],
   "source": [
    "df = df.dropna()"
   ],
   "metadata": {
    "collapsed": false,
    "ExecuteTime": {
     "end_time": "2023-11-25T18:30:25.192130600Z",
     "start_time": "2023-11-25T18:30:25.170612900Z"
    }
   },
   "id": "68009a3b99a72b3c"
  },
  {
   "cell_type": "markdown",
   "source": [
    "Check how many NaN / Null values there are after cleaning (should be 0):"
   ],
   "metadata": {
    "collapsed": false
   },
   "id": "b61ee2a7685a3b30"
  },
  {
   "cell_type": "code",
   "execution_count": 9,
   "outputs": [
    {
     "data": {
      "text/plain": "0"
     },
     "execution_count": 9,
     "metadata": {},
     "output_type": "execute_result"
    }
   ],
   "source": [
    "df.isnull().sum().sum()"
   ],
   "metadata": {
    "collapsed": false,
    "ExecuteTime": {
     "end_time": "2023-11-25T18:30:26.710299Z",
     "start_time": "2023-11-25T18:30:26.694263700Z"
    }
   },
   "id": "959cb1236af5bb48"
  },
  {
   "cell_type": "markdown",
   "source": [
    "# TODO other various data cleaning stuff"
   ],
   "metadata": {
    "collapsed": false
   },
   "id": "babcaee1ff926a96"
  },
  {
   "cell_type": "code",
   "execution_count": 10,
   "outputs": [],
   "source": [
    "# TODO"
   ],
   "metadata": {
    "collapsed": false,
    "ExecuteTime": {
     "end_time": "2023-11-25T18:30:30.943839900Z",
     "start_time": "2023-11-25T18:30:30.933841800Z"
    }
   },
   "id": "8933c9e95c955e15"
  },
  {
   "cell_type": "markdown",
   "source": [
    "# Write CSV"
   ],
   "metadata": {
    "collapsed": false
   },
   "id": "29b3f3f0aca108de"
  },
  {
   "cell_type": "code",
   "execution_count": 11,
   "outputs": [],
   "source": [
    "df.to_csv(\"pp_sg_cleaned.csv\", sep=\";\", index=False)"
   ],
   "metadata": {
    "collapsed": false,
    "ExecuteTime": {
     "end_time": "2023-11-25T18:30:32.192611300Z",
     "start_time": "2023-11-25T18:30:31.748485100Z"
    }
   },
   "id": "d2fa4bc0f8bda4f7"
  },
  {
   "cell_type": "markdown",
   "source": [],
   "metadata": {
    "collapsed": false
   },
   "id": "48dcd80f4c2d4c2f"
  }
 ],
 "metadata": {
  "kernelspec": {
   "display_name": "Python 3",
   "language": "python",
   "name": "python3"
  },
  "language_info": {
   "codemirror_mode": {
    "name": "ipython",
    "version": 2
   },
   "file_extension": ".py",
   "mimetype": "text/x-python",
   "name": "python",
   "nbconvert_exporter": "python",
   "pygments_lexer": "ipython2",
   "version": "2.7.6"
  }
 },
 "nbformat": 4,
 "nbformat_minor": 5
}
