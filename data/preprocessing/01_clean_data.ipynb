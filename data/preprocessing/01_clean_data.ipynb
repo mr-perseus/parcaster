{
 "cells": [
  {
   "cell_type": "markdown",
   "source": [
    "# Import libraries"
   ],
   "metadata": {
    "collapsed": false
   },
   "id": "17d3a515c33a6569"
  },
  {
   "cell_type": "code",
   "execution_count": 1,
   "id": "initial_id",
   "metadata": {
    "collapsed": true,
    "ExecuteTime": {
     "end_time": "2023-11-22T11:51:31.830869200Z",
     "start_time": "2023-11-22T11:51:31.580209100Z"
    }
   },
   "outputs": [],
   "source": [
    "import pandas as pd;"
   ]
  },
  {
   "cell_type": "markdown",
   "source": [
    "# Read CSV"
   ],
   "metadata": {
    "collapsed": false
   },
   "id": "8fb39eb2b80fc7bd"
  },
  {
   "cell_type": "code",
   "execution_count": 2,
   "outputs": [
    {
     "data": {
      "text/plain": "                 P24            P44            P42            P33  \\\ncount  134359.000000  134359.000000  134359.000000  134359.000000   \nmean      199.697958     231.368602     170.050737      80.188019   \nstd       306.207551     260.529622     249.210545      94.258416   \nmin         0.000000       0.000000       0.000000       0.000000   \n25%       151.000000     156.000000     110.000000      37.000000   \n50%       229.000000     238.000000     187.000000      89.000000   \n75%       252.000000     279.000000     232.000000     112.000000   \nmax     82750.000000   42900.000000   56932.000000   22839.000000   \n\n                 P23            P25            P21            P31       P54  \\\ncount  134359.000000  134359.000000  134359.000000  134359.000000  134359.0   \nmean       91.831437     235.548382     201.113286      91.945690       0.0   \nstd       131.486076     391.695722     307.452237     140.191298       0.0   \nmin         0.000000       0.000000       0.000000       0.000000       0.0   \n25%        47.000000     182.000000     134.000000      52.000000       0.0   \n50%       118.000000     251.000000     243.000000     108.000000       0.0   \n75%       128.000000     307.000000     259.000000     129.000000       0.0   \nmax     29459.000000  111878.000000   85729.000000   35086.000000       0.0   \n\n                 P53  ...            P43       P41         ferien  \\\ncount  134359.000000  ...  134359.000000  134359.0  134361.000000   \nmean       54.469920  ...      17.270201       0.0       0.258892   \nstd        86.432702  ...      21.700482       0.0       0.438028   \nmin         0.000000  ...       0.000000       0.0       0.000000   \n25%         0.000000  ...       7.000000       0.0       0.000000   \n50%        66.000000  ...      18.000000       0.0       0.000000   \n75%        96.000000  ...      26.000000       0.0       1.000000   \nmax     18354.000000  ...    4080.000000       0.0       1.000000   \n\n            feiertag       covid_19      olma_offa  temperature_2m_max  \\\ncount  134361.000000  134361.000000  134361.000000       134361.000000   \nmean        0.030344       0.417316       0.041932           14.374133   \nstd         0.171532       0.493118       0.200434            7.470731   \nmin         0.000000       0.000000       0.000000           -3.999000   \n25%         0.000000       0.000000       0.000000            8.401000   \n50%         0.000000       0.000000       0.000000           14.551000   \n75%         0.000000       1.000000       0.000000           20.501000   \nmax         1.000000       1.000000       1.000000           32.301003   \n\n       temperature_2m_min       rain_sum   snowfall_sum  \ncount       134361.000000  134361.000000  134361.000000  \nmean             6.435864       4.017237       0.282483  \nstd              6.551421       7.099695       1.246384  \nmin            -18.249000       0.000000       0.000000  \n25%              1.401000       0.000000       0.000000  \n50%              6.551000       0.700000       0.000000  \n75%             12.151000       5.700000       0.000000  \nmax             20.451000      67.600000      23.939995  \n\n[8 rows x 24 columns]",
      "text/html": "<div>\n<style scoped>\n    .dataframe tbody tr th:only-of-type {\n        vertical-align: middle;\n    }\n\n    .dataframe tbody tr th {\n        vertical-align: top;\n    }\n\n    .dataframe thead th {\n        text-align: right;\n    }\n</style>\n<table border=\"1\" class=\"dataframe\">\n  <thead>\n    <tr style=\"text-align: right;\">\n      <th></th>\n      <th>P24</th>\n      <th>P44</th>\n      <th>P42</th>\n      <th>P33</th>\n      <th>P23</th>\n      <th>P25</th>\n      <th>P21</th>\n      <th>P31</th>\n      <th>P54</th>\n      <th>P53</th>\n      <th>...</th>\n      <th>P43</th>\n      <th>P41</th>\n      <th>ferien</th>\n      <th>feiertag</th>\n      <th>covid_19</th>\n      <th>olma_offa</th>\n      <th>temperature_2m_max</th>\n      <th>temperature_2m_min</th>\n      <th>rain_sum</th>\n      <th>snowfall_sum</th>\n    </tr>\n  </thead>\n  <tbody>\n    <tr>\n      <th>count</th>\n      <td>134359.000000</td>\n      <td>134359.000000</td>\n      <td>134359.000000</td>\n      <td>134359.000000</td>\n      <td>134359.000000</td>\n      <td>134359.000000</td>\n      <td>134359.000000</td>\n      <td>134359.000000</td>\n      <td>134359.0</td>\n      <td>134359.000000</td>\n      <td>...</td>\n      <td>134359.000000</td>\n      <td>134359.0</td>\n      <td>134361.000000</td>\n      <td>134361.000000</td>\n      <td>134361.000000</td>\n      <td>134361.000000</td>\n      <td>134361.000000</td>\n      <td>134361.000000</td>\n      <td>134361.000000</td>\n      <td>134361.000000</td>\n    </tr>\n    <tr>\n      <th>mean</th>\n      <td>199.697958</td>\n      <td>231.368602</td>\n      <td>170.050737</td>\n      <td>80.188019</td>\n      <td>91.831437</td>\n      <td>235.548382</td>\n      <td>201.113286</td>\n      <td>91.945690</td>\n      <td>0.0</td>\n      <td>54.469920</td>\n      <td>...</td>\n      <td>17.270201</td>\n      <td>0.0</td>\n      <td>0.258892</td>\n      <td>0.030344</td>\n      <td>0.417316</td>\n      <td>0.041932</td>\n      <td>14.374133</td>\n      <td>6.435864</td>\n      <td>4.017237</td>\n      <td>0.282483</td>\n    </tr>\n    <tr>\n      <th>std</th>\n      <td>306.207551</td>\n      <td>260.529622</td>\n      <td>249.210545</td>\n      <td>94.258416</td>\n      <td>131.486076</td>\n      <td>391.695722</td>\n      <td>307.452237</td>\n      <td>140.191298</td>\n      <td>0.0</td>\n      <td>86.432702</td>\n      <td>...</td>\n      <td>21.700482</td>\n      <td>0.0</td>\n      <td>0.438028</td>\n      <td>0.171532</td>\n      <td>0.493118</td>\n      <td>0.200434</td>\n      <td>7.470731</td>\n      <td>6.551421</td>\n      <td>7.099695</td>\n      <td>1.246384</td>\n    </tr>\n    <tr>\n      <th>min</th>\n      <td>0.000000</td>\n      <td>0.000000</td>\n      <td>0.000000</td>\n      <td>0.000000</td>\n      <td>0.000000</td>\n      <td>0.000000</td>\n      <td>0.000000</td>\n      <td>0.000000</td>\n      <td>0.0</td>\n      <td>0.000000</td>\n      <td>...</td>\n      <td>0.000000</td>\n      <td>0.0</td>\n      <td>0.000000</td>\n      <td>0.000000</td>\n      <td>0.000000</td>\n      <td>0.000000</td>\n      <td>-3.999000</td>\n      <td>-18.249000</td>\n      <td>0.000000</td>\n      <td>0.000000</td>\n    </tr>\n    <tr>\n      <th>25%</th>\n      <td>151.000000</td>\n      <td>156.000000</td>\n      <td>110.000000</td>\n      <td>37.000000</td>\n      <td>47.000000</td>\n      <td>182.000000</td>\n      <td>134.000000</td>\n      <td>52.000000</td>\n      <td>0.0</td>\n      <td>0.000000</td>\n      <td>...</td>\n      <td>7.000000</td>\n      <td>0.0</td>\n      <td>0.000000</td>\n      <td>0.000000</td>\n      <td>0.000000</td>\n      <td>0.000000</td>\n      <td>8.401000</td>\n      <td>1.401000</td>\n      <td>0.000000</td>\n      <td>0.000000</td>\n    </tr>\n    <tr>\n      <th>50%</th>\n      <td>229.000000</td>\n      <td>238.000000</td>\n      <td>187.000000</td>\n      <td>89.000000</td>\n      <td>118.000000</td>\n      <td>251.000000</td>\n      <td>243.000000</td>\n      <td>108.000000</td>\n      <td>0.0</td>\n      <td>66.000000</td>\n      <td>...</td>\n      <td>18.000000</td>\n      <td>0.0</td>\n      <td>0.000000</td>\n      <td>0.000000</td>\n      <td>0.000000</td>\n      <td>0.000000</td>\n      <td>14.551000</td>\n      <td>6.551000</td>\n      <td>0.700000</td>\n      <td>0.000000</td>\n    </tr>\n    <tr>\n      <th>75%</th>\n      <td>252.000000</td>\n      <td>279.000000</td>\n      <td>232.000000</td>\n      <td>112.000000</td>\n      <td>128.000000</td>\n      <td>307.000000</td>\n      <td>259.000000</td>\n      <td>129.000000</td>\n      <td>0.0</td>\n      <td>96.000000</td>\n      <td>...</td>\n      <td>26.000000</td>\n      <td>0.0</td>\n      <td>1.000000</td>\n      <td>0.000000</td>\n      <td>1.000000</td>\n      <td>0.000000</td>\n      <td>20.501000</td>\n      <td>12.151000</td>\n      <td>5.700000</td>\n      <td>0.000000</td>\n    </tr>\n    <tr>\n      <th>max</th>\n      <td>82750.000000</td>\n      <td>42900.000000</td>\n      <td>56932.000000</td>\n      <td>22839.000000</td>\n      <td>29459.000000</td>\n      <td>111878.000000</td>\n      <td>85729.000000</td>\n      <td>35086.000000</td>\n      <td>0.0</td>\n      <td>18354.000000</td>\n      <td>...</td>\n      <td>4080.000000</td>\n      <td>0.0</td>\n      <td>1.000000</td>\n      <td>1.000000</td>\n      <td>1.000000</td>\n      <td>1.000000</td>\n      <td>32.301003</td>\n      <td>20.451000</td>\n      <td>67.600000</td>\n      <td>23.939995</td>\n    </tr>\n  </tbody>\n</table>\n<p>8 rows × 24 columns</p>\n</div>"
     },
     "execution_count": 2,
     "metadata": {},
     "output_type": "execute_result"
    }
   ],
   "source": [
    "df = pd.read_csv(\"../scraping/parking-data-sg/final/pp_sg.csv\", sep=\";\")\n",
    "df.describe()"
   ],
   "metadata": {
    "collapsed": false,
    "ExecuteTime": {
     "end_time": "2023-11-22T11:51:35.163376500Z",
     "start_time": "2023-11-22T11:51:34.781795500Z"
    }
   },
   "id": "961a220fabc829f7"
  },
  {
   "cell_type": "markdown",
   "source": [
    "We see i.e. outliers in max parking data."
   ],
   "metadata": {
    "collapsed": false
   },
   "id": "9649b40ace5546a9"
  },
  {
   "cell_type": "markdown",
   "source": [
    "# Remove outliers"
   ],
   "metadata": {
    "collapsed": false
   },
   "id": "6e3372d8c236a134"
  },
  {
   "cell_type": "markdown",
   "source": [
    "## Remove outliers from parking data"
   ],
   "metadata": {
    "collapsed": false
   },
   "id": "5bc2478569ca3409"
  },
  {
   "cell_type": "code",
   "execution_count": 11,
   "outputs": [
    {
     "data": {
      "text/plain": "                 P24            P44            P42            P33  \\\ncount  133525.000000  133525.000000  133525.000000  133525.000000   \nmean      197.410702     227.943262     168.073065      79.386332   \nstd        67.548800     109.884580      73.565927      48.506594   \nmin         0.000000       0.000000       0.000000       0.000000   \n25%       151.000000     155.000000     110.000000      36.000000   \n50%       228.000000     237.000000     186.000000      89.000000   \n75%       252.000000     279.000000     231.000000     111.000000   \nmax       443.000000     499.000000     446.000000     206.000000   \n\n                 P23            P25            P21            P31       P54  \\\ncount  133525.000000  133525.000000  133525.000000  133525.000000  133525.0   \nmean       90.746167     232.674593     198.776948      90.800097       0.0   \nstd        46.087288      91.574626      73.787841      43.008791       0.0   \nmin         0.000000       0.000000       0.000000       0.000000       0.0   \n25%        46.000000     182.000000     134.000000      52.000000       0.0   \n50%       117.000000     250.000000     242.000000     108.000000       0.0   \n75%       128.000000     307.000000     258.000000     129.000000       0.0   \nmax       258.000000     490.000000     462.000000     270.000000       0.0   \n\n                 P53  ...            P43       P41         ferien  \\\ncount  133525.000000  ...  133525.000000  133525.0  133527.000000   \nmean       53.998719  ...      17.138835       0.0       0.258435   \nstd        42.665245  ...      11.709719       0.0       0.437776   \nmin         0.000000  ...       0.000000       0.0       0.000000   \n25%         0.000000  ...       7.000000       0.0       0.000000   \n50%        66.000000  ...      18.000000       0.0       0.000000   \n75%        96.000000  ...      26.000000       0.0       1.000000   \nmax       145.000000  ...      54.000000       0.0       1.000000   \n\n            feiertag       covid_19      olma_offa  temperature_2m_max  \\\ncount  133527.000000  133527.000000  133527.000000       133527.000000   \nmean        0.030451       0.416567       0.041557           14.382567   \nstd         0.171825       0.492992       0.199576            7.467885   \nmin         0.000000       0.000000       0.000000           -3.999000   \n25%         0.000000       0.000000       0.000000            8.401000   \n50%         0.000000       0.000000       0.000000           14.551000   \n75%         0.000000       1.000000       0.000000           20.501000   \nmax         1.000000       1.000000       1.000000           32.301003   \n\n       temperature_2m_min       rain_sum   snowfall_sum  \ncount       133527.000000  133527.000000  133527.000000  \nmean             6.440906       4.013021       0.283145  \nstd              6.548678       7.085175       1.248921  \nmin            -18.249000       0.000000       0.000000  \n25%              1.401000       0.000000       0.000000  \n50%              6.551000       0.700000       0.000000  \n75%             12.151000       5.700000       0.000000  \nmax             20.451000      67.600000      23.939995  \n\n[8 rows x 24 columns]",
      "text/html": "<div>\n<style scoped>\n    .dataframe tbody tr th:only-of-type {\n        vertical-align: middle;\n    }\n\n    .dataframe tbody tr th {\n        vertical-align: top;\n    }\n\n    .dataframe thead th {\n        text-align: right;\n    }\n</style>\n<table border=\"1\" class=\"dataframe\">\n  <thead>\n    <tr style=\"text-align: right;\">\n      <th></th>\n      <th>P24</th>\n      <th>P44</th>\n      <th>P42</th>\n      <th>P33</th>\n      <th>P23</th>\n      <th>P25</th>\n      <th>P21</th>\n      <th>P31</th>\n      <th>P54</th>\n      <th>P53</th>\n      <th>...</th>\n      <th>P43</th>\n      <th>P41</th>\n      <th>ferien</th>\n      <th>feiertag</th>\n      <th>covid_19</th>\n      <th>olma_offa</th>\n      <th>temperature_2m_max</th>\n      <th>temperature_2m_min</th>\n      <th>rain_sum</th>\n      <th>snowfall_sum</th>\n    </tr>\n  </thead>\n  <tbody>\n    <tr>\n      <th>count</th>\n      <td>133525.000000</td>\n      <td>133525.000000</td>\n      <td>133525.000000</td>\n      <td>133525.000000</td>\n      <td>133525.000000</td>\n      <td>133525.000000</td>\n      <td>133525.000000</td>\n      <td>133525.000000</td>\n      <td>133525.0</td>\n      <td>133525.000000</td>\n      <td>...</td>\n      <td>133525.000000</td>\n      <td>133525.0</td>\n      <td>133527.000000</td>\n      <td>133527.000000</td>\n      <td>133527.000000</td>\n      <td>133527.000000</td>\n      <td>133527.000000</td>\n      <td>133527.000000</td>\n      <td>133527.000000</td>\n      <td>133527.000000</td>\n    </tr>\n    <tr>\n      <th>mean</th>\n      <td>197.410702</td>\n      <td>227.943262</td>\n      <td>168.073065</td>\n      <td>79.386332</td>\n      <td>90.746167</td>\n      <td>232.674593</td>\n      <td>198.776948</td>\n      <td>90.800097</td>\n      <td>0.0</td>\n      <td>53.998719</td>\n      <td>...</td>\n      <td>17.138835</td>\n      <td>0.0</td>\n      <td>0.258435</td>\n      <td>0.030451</td>\n      <td>0.416567</td>\n      <td>0.041557</td>\n      <td>14.382567</td>\n      <td>6.440906</td>\n      <td>4.013021</td>\n      <td>0.283145</td>\n    </tr>\n    <tr>\n      <th>std</th>\n      <td>67.548800</td>\n      <td>109.884580</td>\n      <td>73.565927</td>\n      <td>48.506594</td>\n      <td>46.087288</td>\n      <td>91.574626</td>\n      <td>73.787841</td>\n      <td>43.008791</td>\n      <td>0.0</td>\n      <td>42.665245</td>\n      <td>...</td>\n      <td>11.709719</td>\n      <td>0.0</td>\n      <td>0.437776</td>\n      <td>0.171825</td>\n      <td>0.492992</td>\n      <td>0.199576</td>\n      <td>7.467885</td>\n      <td>6.548678</td>\n      <td>7.085175</td>\n      <td>1.248921</td>\n    </tr>\n    <tr>\n      <th>min</th>\n      <td>0.000000</td>\n      <td>0.000000</td>\n      <td>0.000000</td>\n      <td>0.000000</td>\n      <td>0.000000</td>\n      <td>0.000000</td>\n      <td>0.000000</td>\n      <td>0.000000</td>\n      <td>0.0</td>\n      <td>0.000000</td>\n      <td>...</td>\n      <td>0.000000</td>\n      <td>0.0</td>\n      <td>0.000000</td>\n      <td>0.000000</td>\n      <td>0.000000</td>\n      <td>0.000000</td>\n      <td>-3.999000</td>\n      <td>-18.249000</td>\n      <td>0.000000</td>\n      <td>0.000000</td>\n    </tr>\n    <tr>\n      <th>25%</th>\n      <td>151.000000</td>\n      <td>155.000000</td>\n      <td>110.000000</td>\n      <td>36.000000</td>\n      <td>46.000000</td>\n      <td>182.000000</td>\n      <td>134.000000</td>\n      <td>52.000000</td>\n      <td>0.0</td>\n      <td>0.000000</td>\n      <td>...</td>\n      <td>7.000000</td>\n      <td>0.0</td>\n      <td>0.000000</td>\n      <td>0.000000</td>\n      <td>0.000000</td>\n      <td>0.000000</td>\n      <td>8.401000</td>\n      <td>1.401000</td>\n      <td>0.000000</td>\n      <td>0.000000</td>\n    </tr>\n    <tr>\n      <th>50%</th>\n      <td>228.000000</td>\n      <td>237.000000</td>\n      <td>186.000000</td>\n      <td>89.000000</td>\n      <td>117.000000</td>\n      <td>250.000000</td>\n      <td>242.000000</td>\n      <td>108.000000</td>\n      <td>0.0</td>\n      <td>66.000000</td>\n      <td>...</td>\n      <td>18.000000</td>\n      <td>0.0</td>\n      <td>0.000000</td>\n      <td>0.000000</td>\n      <td>0.000000</td>\n      <td>0.000000</td>\n      <td>14.551000</td>\n      <td>6.551000</td>\n      <td>0.700000</td>\n      <td>0.000000</td>\n    </tr>\n    <tr>\n      <th>75%</th>\n      <td>252.000000</td>\n      <td>279.000000</td>\n      <td>231.000000</td>\n      <td>111.000000</td>\n      <td>128.000000</td>\n      <td>307.000000</td>\n      <td>258.000000</td>\n      <td>129.000000</td>\n      <td>0.0</td>\n      <td>96.000000</td>\n      <td>...</td>\n      <td>26.000000</td>\n      <td>0.0</td>\n      <td>1.000000</td>\n      <td>0.000000</td>\n      <td>1.000000</td>\n      <td>0.000000</td>\n      <td>20.501000</td>\n      <td>12.151000</td>\n      <td>5.700000</td>\n      <td>0.000000</td>\n    </tr>\n    <tr>\n      <th>max</th>\n      <td>443.000000</td>\n      <td>499.000000</td>\n      <td>446.000000</td>\n      <td>206.000000</td>\n      <td>258.000000</td>\n      <td>490.000000</td>\n      <td>462.000000</td>\n      <td>270.000000</td>\n      <td>0.0</td>\n      <td>145.000000</td>\n      <td>...</td>\n      <td>54.000000</td>\n      <td>0.0</td>\n      <td>1.000000</td>\n      <td>1.000000</td>\n      <td>1.000000</td>\n      <td>1.000000</td>\n      <td>32.301003</td>\n      <td>20.451000</td>\n      <td>67.600000</td>\n      <td>23.939995</td>\n    </tr>\n  </tbody>\n</table>\n<p>8 rows × 24 columns</p>\n</div>"
     },
     "execution_count": 11,
     "metadata": {},
     "output_type": "execute_result"
    }
   ],
   "source": [
    "# This is the most available parking for every parking garage. TODO use max of each garage separately.\n",
    "max_parking = 500\n",
    "\n",
    "for column in df:\n",
    "    if column[0] == \"P\" and len(column) == 3:\n",
    "        df.drop(df[df[column] >= max_parking].index, inplace=True)\n",
    "\n",
    "df.describe()"
   ],
   "metadata": {
    "collapsed": false,
    "ExecuteTime": {
     "end_time": "2023-11-22T12:00:57.663291Z",
     "start_time": "2023-11-22T12:00:57.343634600Z"
    }
   },
   "id": "d3be879a5036a58e"
  },
  {
   "cell_type": "markdown",
   "source": [
    "## TODO remove outliers from other data"
   ],
   "metadata": {
    "collapsed": false
   },
   "id": "5f599f147b2817bb"
  },
  {
   "cell_type": "code",
   "execution_count": 12,
   "outputs": [],
   "source": [
    "# TODO"
   ],
   "metadata": {
    "collapsed": false,
    "ExecuteTime": {
     "end_time": "2023-11-22T12:01:03.195651500Z",
     "start_time": "2023-11-22T12:01:03.181662400Z"
    }
   },
   "id": "63ce9c68e493ff18"
  },
  {
   "cell_type": "markdown",
   "source": [
    "# TODO other various data cleaning stuff"
   ],
   "metadata": {
    "collapsed": false
   },
   "id": "babcaee1ff926a96"
  },
  {
   "cell_type": "code",
   "execution_count": 13,
   "outputs": [],
   "source": [
    "# TODO"
   ],
   "metadata": {
    "collapsed": false,
    "ExecuteTime": {
     "end_time": "2023-11-22T12:01:17.070131600Z",
     "start_time": "2023-11-22T12:01:17.061125300Z"
    }
   },
   "id": "8933c9e95c955e15"
  },
  {
   "cell_type": "markdown",
   "source": [
    "# Write CSV"
   ],
   "metadata": {
    "collapsed": false
   },
   "id": "29b3f3f0aca108de"
  },
  {
   "cell_type": "code",
   "execution_count": 16,
   "outputs": [],
   "source": [
    "df.to_csv(\"pp_sg_cleaned.csv\", sep=\";\", index=False)"
   ],
   "metadata": {
    "collapsed": false,
    "ExecuteTime": {
     "end_time": "2023-11-22T12:03:59.889741900Z",
     "start_time": "2023-11-22T12:03:58.850199900Z"
    }
   },
   "id": "d2fa4bc0f8bda4f7"
  },
  {
   "cell_type": "markdown",
   "source": [],
   "metadata": {
    "collapsed": false
   },
   "id": "48dcd80f4c2d4c2f"
  }
 ],
 "metadata": {
  "kernelspec": {
   "display_name": "Python 3",
   "language": "python",
   "name": "python3"
  },
  "language_info": {
   "codemirror_mode": {
    "name": "ipython",
    "version": 2
   },
   "file_extension": ".py",
   "mimetype": "text/x-python",
   "name": "python",
   "nbconvert_exporter": "python",
   "pygments_lexer": "ipython2",
   "version": "2.7.6"
  }
 },
 "nbformat": 4,
 "nbformat_minor": 5
}
