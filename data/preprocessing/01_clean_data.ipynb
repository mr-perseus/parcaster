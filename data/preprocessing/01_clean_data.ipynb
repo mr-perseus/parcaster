{
 "cells": [
  {
   "cell_type": "markdown",
   "id": "d4e8fe063f26c639",
   "metadata": {},
   "source": [
    "# Data Cleaning"
   ]
  },
  {
   "cell_type": "markdown",
   "id": "17d3a515c33a6569",
   "metadata": {
    "collapsed": false
   },
   "source": [
    "### Import libraries"
   ]
  },
  {
   "cell_type": "code",
   "execution_count": 8,
   "id": "initial_id",
   "metadata": {
    "ExecuteTime": {
     "end_time": "2023-11-29T22:07:48.669596806Z",
     "start_time": "2023-11-29T22:07:48.407501106Z"
    },
    "collapsed": true
   },
   "outputs": [],
   "source": [
    "import pandas as pd\n",
    "import json as json\n",
    "import matplotlib.pyplot as plt\n",
    "import matplotlib.dates as mdates"
   ]
  },
  {
   "cell_type": "code",
   "execution_count": 9,
   "metadata": {},
   "outputs": [],
   "source": [
    "# Options\n",
    "pd.set_option('display.max_columns', None)"
   ],
   "id": "6f05d6a3af4ffd85"
  },
  {
   "cell_type": "markdown",
   "id": "8fb39eb2b80fc7bd",
   "metadata": {
    "collapsed": false
   },
   "source": [
    "### Read CSV"
   ]
  },
  {
   "cell_type": "code",
   "execution_count": 10,
   "id": "961a220fabc829f7",
   "metadata": {
    "ExecuteTime": {
     "end_time": "2023-11-29T22:07:50.177500806Z",
     "start_time": "2023-11-29T22:07:49.533825306Z"
    },
    "collapsed": false
   },
   "outputs": [
    {
     "data": {
      "text/html": [
       "<div>\n",
       "<style scoped>\n",
       "    .dataframe tbody tr th:only-of-type {\n",
       "        vertical-align: middle;\n",
       "    }\n",
       "\n",
       "    .dataframe tbody tr th {\n",
       "        vertical-align: top;\n",
       "    }\n",
       "\n",
       "    .dataframe thead th {\n",
       "        text-align: right;\n",
       "    }\n",
       "</style>\n",
       "<table border=\"1\" class=\"dataframe\">\n",
       "  <thead>\n",
       "    <tr style=\"text-align: right;\">\n",
       "      <th></th>\n",
       "      <th>P24</th>\n",
       "      <th>P44</th>\n",
       "      <th>P42</th>\n",
       "      <th>P33</th>\n",
       "      <th>P23</th>\n",
       "      <th>P25</th>\n",
       "      <th>P21</th>\n",
       "      <th>P31</th>\n",
       "      <th>P54</th>\n",
       "      <th>P53</th>\n",
       "      <th>P32</th>\n",
       "      <th>P22</th>\n",
       "      <th>P52</th>\n",
       "      <th>P51</th>\n",
       "      <th>P43</th>\n",
       "      <th>P41</th>\n",
       "      <th>ferien</th>\n",
       "      <th>feiertag</th>\n",
       "      <th>covid_19</th>\n",
       "      <th>olma_offa</th>\n",
       "      <th>temperature_2m_max</th>\n",
       "      <th>temperature_2m_min</th>\n",
       "      <th>rain_sum</th>\n",
       "      <th>snowfall_sum</th>\n",
       "      <th>datetime_formatted</th>\n",
       "    </tr>\n",
       "  </thead>\n",
       "  <tbody>\n",
       "    <tr>\n",
       "      <th>count</th>\n",
       "      <td>134359.000000</td>\n",
       "      <td>134359.000000</td>\n",
       "      <td>134359.000000</td>\n",
       "      <td>134359.000000</td>\n",
       "      <td>134359.000000</td>\n",
       "      <td>134359.000000</td>\n",
       "      <td>134359.000000</td>\n",
       "      <td>134359.000000</td>\n",
       "      <td>134359.0</td>\n",
       "      <td>134359.000000</td>\n",
       "      <td>134359.000000</td>\n",
       "      <td>134359.000000</td>\n",
       "      <td>134359.000000</td>\n",
       "      <td>134359.000000</td>\n",
       "      <td>134359.000000</td>\n",
       "      <td>134359.0</td>\n",
       "      <td>134361.000000</td>\n",
       "      <td>134361.000000</td>\n",
       "      <td>134361.000000</td>\n",
       "      <td>134361.000000</td>\n",
       "      <td>134361.000000</td>\n",
       "      <td>134361.000000</td>\n",
       "      <td>134361.000000</td>\n",
       "      <td>134361.000000</td>\n",
       "      <td>134361</td>\n",
       "    </tr>\n",
       "    <tr>\n",
       "      <th>mean</th>\n",
       "      <td>199.697958</td>\n",
       "      <td>231.368602</td>\n",
       "      <td>170.050737</td>\n",
       "      <td>80.188019</td>\n",
       "      <td>91.831437</td>\n",
       "      <td>235.548382</td>\n",
       "      <td>201.113286</td>\n",
       "      <td>91.945690</td>\n",
       "      <td>0.0</td>\n",
       "      <td>54.469920</td>\n",
       "      <td>54.920370</td>\n",
       "      <td>44.128603</td>\n",
       "      <td>80.654649</td>\n",
       "      <td>94.980641</td>\n",
       "      <td>17.270201</td>\n",
       "      <td>0.0</td>\n",
       "      <td>0.258892</td>\n",
       "      <td>0.030344</td>\n",
       "      <td>0.417316</td>\n",
       "      <td>0.041932</td>\n",
       "      <td>14.374133</td>\n",
       "      <td>6.435864</td>\n",
       "      <td>4.017237</td>\n",
       "      <td>0.282483</td>\n",
       "      <td>2021-11-24 07:55:55.361154048</td>\n",
       "    </tr>\n",
       "    <tr>\n",
       "      <th>min</th>\n",
       "      <td>0.000000</td>\n",
       "      <td>0.000000</td>\n",
       "      <td>0.000000</td>\n",
       "      <td>0.000000</td>\n",
       "      <td>0.000000</td>\n",
       "      <td>0.000000</td>\n",
       "      <td>0.000000</td>\n",
       "      <td>0.000000</td>\n",
       "      <td>0.0</td>\n",
       "      <td>0.000000</td>\n",
       "      <td>0.000000</td>\n",
       "      <td>0.000000</td>\n",
       "      <td>0.000000</td>\n",
       "      <td>0.000000</td>\n",
       "      <td>0.000000</td>\n",
       "      <td>0.0</td>\n",
       "      <td>0.000000</td>\n",
       "      <td>0.000000</td>\n",
       "      <td>0.000000</td>\n",
       "      <td>0.000000</td>\n",
       "      <td>-3.999000</td>\n",
       "      <td>-18.249000</td>\n",
       "      <td>0.000000</td>\n",
       "      <td>0.000000</td>\n",
       "      <td>2019-10-01 15:27:00</td>\n",
       "    </tr>\n",
       "    <tr>\n",
       "      <th>25%</th>\n",
       "      <td>151.000000</td>\n",
       "      <td>156.000000</td>\n",
       "      <td>110.000000</td>\n",
       "      <td>37.000000</td>\n",
       "      <td>47.000000</td>\n",
       "      <td>182.000000</td>\n",
       "      <td>134.000000</td>\n",
       "      <td>52.000000</td>\n",
       "      <td>0.0</td>\n",
       "      <td>0.000000</td>\n",
       "      <td>10.000000</td>\n",
       "      <td>21.000000</td>\n",
       "      <td>41.000000</td>\n",
       "      <td>36.000000</td>\n",
       "      <td>7.000000</td>\n",
       "      <td>0.0</td>\n",
       "      <td>0.000000</td>\n",
       "      <td>0.000000</td>\n",
       "      <td>0.000000</td>\n",
       "      <td>0.000000</td>\n",
       "      <td>8.401000</td>\n",
       "      <td>1.401000</td>\n",
       "      <td>0.000000</td>\n",
       "      <td>0.000000</td>\n",
       "      <td>2020-09-21 09:43:00</td>\n",
       "    </tr>\n",
       "    <tr>\n",
       "      <th>50%</th>\n",
       "      <td>229.000000</td>\n",
       "      <td>238.000000</td>\n",
       "      <td>187.000000</td>\n",
       "      <td>89.000000</td>\n",
       "      <td>118.000000</td>\n",
       "      <td>251.000000</td>\n",
       "      <td>243.000000</td>\n",
       "      <td>108.000000</td>\n",
       "      <td>0.0</td>\n",
       "      <td>66.000000</td>\n",
       "      <td>66.000000</td>\n",
       "      <td>46.000000</td>\n",
       "      <td>90.000000</td>\n",
       "      <td>128.000000</td>\n",
       "      <td>18.000000</td>\n",
       "      <td>0.0</td>\n",
       "      <td>0.000000</td>\n",
       "      <td>0.000000</td>\n",
       "      <td>0.000000</td>\n",
       "      <td>0.000000</td>\n",
       "      <td>14.551000</td>\n",
       "      <td>6.551000</td>\n",
       "      <td>0.700000</td>\n",
       "      <td>0.000000</td>\n",
       "      <td>2021-12-26 13:26:00</td>\n",
       "    </tr>\n",
       "    <tr>\n",
       "      <th>75%</th>\n",
       "      <td>252.000000</td>\n",
       "      <td>279.000000</td>\n",
       "      <td>232.000000</td>\n",
       "      <td>112.000000</td>\n",
       "      <td>128.000000</td>\n",
       "      <td>307.000000</td>\n",
       "      <td>259.000000</td>\n",
       "      <td>129.000000</td>\n",
       "      <td>0.0</td>\n",
       "      <td>96.000000</td>\n",
       "      <td>93.000000</td>\n",
       "      <td>67.000000</td>\n",
       "      <td>123.000000</td>\n",
       "      <td>143.000000</td>\n",
       "      <td>26.000000</td>\n",
       "      <td>0.0</td>\n",
       "      <td>1.000000</td>\n",
       "      <td>0.000000</td>\n",
       "      <td>1.000000</td>\n",
       "      <td>0.000000</td>\n",
       "      <td>20.501000</td>\n",
       "      <td>12.151000</td>\n",
       "      <td>5.700000</td>\n",
       "      <td>0.000000</td>\n",
       "      <td>2022-12-14 16:55:00</td>\n",
       "    </tr>\n",
       "    <tr>\n",
       "      <th>max</th>\n",
       "      <td>82750.000000</td>\n",
       "      <td>42900.000000</td>\n",
       "      <td>56932.000000</td>\n",
       "      <td>22839.000000</td>\n",
       "      <td>29459.000000</td>\n",
       "      <td>111878.000000</td>\n",
       "      <td>85729.000000</td>\n",
       "      <td>35086.000000</td>\n",
       "      <td>0.0</td>\n",
       "      <td>18354.000000</td>\n",
       "      <td>29790.000000</td>\n",
       "      <td>9784.000000</td>\n",
       "      <td>28334.000000</td>\n",
       "      <td>47002.000000</td>\n",
       "      <td>4080.000000</td>\n",
       "      <td>0.0</td>\n",
       "      <td>1.000000</td>\n",
       "      <td>1.000000</td>\n",
       "      <td>1.000000</td>\n",
       "      <td>1.000000</td>\n",
       "      <td>32.301003</td>\n",
       "      <td>20.451000</td>\n",
       "      <td>67.600000</td>\n",
       "      <td>23.939995</td>\n",
       "      <td>2023-11-09 06:26:00</td>\n",
       "    </tr>\n",
       "    <tr>\n",
       "      <th>std</th>\n",
       "      <td>306.207551</td>\n",
       "      <td>260.529622</td>\n",
       "      <td>249.210545</td>\n",
       "      <td>94.258416</td>\n",
       "      <td>131.486076</td>\n",
       "      <td>391.695722</td>\n",
       "      <td>307.452237</td>\n",
       "      <td>140.191298</td>\n",
       "      <td>0.0</td>\n",
       "      <td>86.432702</td>\n",
       "      <td>114.522445</td>\n",
       "      <td>49.232383</td>\n",
       "      <td>114.752314</td>\n",
       "      <td>165.674666</td>\n",
       "      <td>21.700482</td>\n",
       "      <td>0.0</td>\n",
       "      <td>0.438028</td>\n",
       "      <td>0.171532</td>\n",
       "      <td>0.493118</td>\n",
       "      <td>0.200434</td>\n",
       "      <td>7.470731</td>\n",
       "      <td>6.551421</td>\n",
       "      <td>7.099695</td>\n",
       "      <td>1.246384</td>\n",
       "      <td>NaN</td>\n",
       "    </tr>\n",
       "  </tbody>\n",
       "</table>\n",
       "</div>"
      ],
      "text/plain": [
       "                 P24            P44            P42            P33  \\\n",
       "count  134359.000000  134359.000000  134359.000000  134359.000000   \n",
       "mean      199.697958     231.368602     170.050737      80.188019   \n",
       "min         0.000000       0.000000       0.000000       0.000000   \n",
       "25%       151.000000     156.000000     110.000000      37.000000   \n",
       "50%       229.000000     238.000000     187.000000      89.000000   \n",
       "75%       252.000000     279.000000     232.000000     112.000000   \n",
       "max     82750.000000   42900.000000   56932.000000   22839.000000   \n",
       "std       306.207551     260.529622     249.210545      94.258416   \n",
       "\n",
       "                 P23            P25            P21            P31       P54  \\\n",
       "count  134359.000000  134359.000000  134359.000000  134359.000000  134359.0   \n",
       "mean       91.831437     235.548382     201.113286      91.945690       0.0   \n",
       "min         0.000000       0.000000       0.000000       0.000000       0.0   \n",
       "25%        47.000000     182.000000     134.000000      52.000000       0.0   \n",
       "50%       118.000000     251.000000     243.000000     108.000000       0.0   \n",
       "75%       128.000000     307.000000     259.000000     129.000000       0.0   \n",
       "max     29459.000000  111878.000000   85729.000000   35086.000000       0.0   \n",
       "std       131.486076     391.695722     307.452237     140.191298       0.0   \n",
       "\n",
       "                 P53            P32            P22            P52  \\\n",
       "count  134359.000000  134359.000000  134359.000000  134359.000000   \n",
       "mean       54.469920      54.920370      44.128603      80.654649   \n",
       "min         0.000000       0.000000       0.000000       0.000000   \n",
       "25%         0.000000      10.000000      21.000000      41.000000   \n",
       "50%        66.000000      66.000000      46.000000      90.000000   \n",
       "75%        96.000000      93.000000      67.000000     123.000000   \n",
       "max     18354.000000   29790.000000    9784.000000   28334.000000   \n",
       "std        86.432702     114.522445      49.232383     114.752314   \n",
       "\n",
       "                 P51            P43       P41         ferien       feiertag  \\\n",
       "count  134359.000000  134359.000000  134359.0  134361.000000  134361.000000   \n",
       "mean       94.980641      17.270201       0.0       0.258892       0.030344   \n",
       "min         0.000000       0.000000       0.0       0.000000       0.000000   \n",
       "25%        36.000000       7.000000       0.0       0.000000       0.000000   \n",
       "50%       128.000000      18.000000       0.0       0.000000       0.000000   \n",
       "75%       143.000000      26.000000       0.0       1.000000       0.000000   \n",
       "max     47002.000000    4080.000000       0.0       1.000000       1.000000   \n",
       "std       165.674666      21.700482       0.0       0.438028       0.171532   \n",
       "\n",
       "            covid_19      olma_offa  temperature_2m_max  temperature_2m_min  \\\n",
       "count  134361.000000  134361.000000       134361.000000       134361.000000   \n",
       "mean        0.417316       0.041932           14.374133            6.435864   \n",
       "min         0.000000       0.000000           -3.999000          -18.249000   \n",
       "25%         0.000000       0.000000            8.401000            1.401000   \n",
       "50%         0.000000       0.000000           14.551000            6.551000   \n",
       "75%         1.000000       0.000000           20.501000           12.151000   \n",
       "max         1.000000       1.000000           32.301003           20.451000   \n",
       "std         0.493118       0.200434            7.470731            6.551421   \n",
       "\n",
       "            rain_sum   snowfall_sum             datetime_formatted  \n",
       "count  134361.000000  134361.000000                         134361  \n",
       "mean        4.017237       0.282483  2021-11-24 07:55:55.361154048  \n",
       "min         0.000000       0.000000            2019-10-01 15:27:00  \n",
       "25%         0.000000       0.000000            2020-09-21 09:43:00  \n",
       "50%         0.700000       0.000000            2021-12-26 13:26:00  \n",
       "75%         5.700000       0.000000            2022-12-14 16:55:00  \n",
       "max        67.600000      23.939995            2023-11-09 06:26:00  \n",
       "std         7.099695       1.246384                            NaN  "
      ]
     },
     "execution_count": 10,
     "metadata": {},
     "output_type": "execute_result"
    }
   ],
   "source": [
    "df = pd.read_csv(\"../scraping/parking-data-sg/final/pp_sg.csv\", sep=\";\")\n",
    "df['datetime_formatted'] = pd.to_datetime(df['datetime'], format='%d.%m.%Y %H:%M')\n",
    "df.describe()"
   ]
  },
  {
   "cell_type": "markdown",
   "id": "6e3372d8c236a134",
   "metadata": {
    "collapsed": false
   },
   "source": [
    "### Remove outliers"
   ]
  },
  {
   "cell_type": "markdown",
   "id": "9649b40ace5546a9",
   "metadata": {
    "collapsed": false
   },
   "source": [
    "We see i.e. outliers in max parking data."
   ]
  },
  {
   "cell_type": "markdown",
   "id": "5bc2478569ca3409",
   "metadata": {
    "collapsed": false
   },
   "source": [
    "#### Remove outliers from parking data"
   ]
  },
  {
   "cell_type": "code",
   "execution_count": 11,
   "id": "d29a868015d4b1d3",
   "metadata": {
    "ExecuteTime": {
     "end_time": "2023-11-29T22:07:51.376874405Z",
     "start_time": "2023-11-29T22:07:51.374180105Z"
    },
    "collapsed": false
   },
   "outputs": [],
   "source": [
    "# Import Metadata\n",
    "json_dir = '../metadata/metadata.json'\n",
    "with open(json_dir, 'r', encoding='utf8') as f:\n",
    "    metadata = json.load(f)"
   ]
  },
  {
   "cell_type": "code",
   "execution_count": 12,
   "metadata": {},
   "outputs": [
    {
     "data": {
      "text/html": [
       "<div>\n",
       "<style scoped>\n",
       "    .dataframe tbody tr th:only-of-type {\n",
       "        vertical-align: middle;\n",
       "    }\n",
       "\n",
       "    .dataframe tbody tr th {\n",
       "        vertical-align: top;\n",
       "    }\n",
       "\n",
       "    .dataframe thead th {\n",
       "        text-align: right;\n",
       "    }\n",
       "</style>\n",
       "<table border=\"1\" class=\"dataframe\">\n",
       "  <thead>\n",
       "    <tr style=\"text-align: right;\">\n",
       "      <th></th>\n",
       "      <th>P24</th>\n",
       "      <th>P44</th>\n",
       "      <th>P42</th>\n",
       "      <th>P33</th>\n",
       "      <th>P23</th>\n",
       "      <th>P25</th>\n",
       "      <th>P21</th>\n",
       "      <th>P31</th>\n",
       "      <th>P54</th>\n",
       "      <th>P53</th>\n",
       "      <th>P32</th>\n",
       "      <th>P22</th>\n",
       "      <th>P52</th>\n",
       "      <th>P51</th>\n",
       "      <th>P43</th>\n",
       "      <th>P41</th>\n",
       "      <th>ferien</th>\n",
       "      <th>feiertag</th>\n",
       "      <th>covid_19</th>\n",
       "      <th>olma_offa</th>\n",
       "      <th>temperature_2m_max</th>\n",
       "      <th>temperature_2m_min</th>\n",
       "      <th>rain_sum</th>\n",
       "      <th>snowfall_sum</th>\n",
       "      <th>datetime_formatted</th>\n",
       "    </tr>\n",
       "  </thead>\n",
       "  <tbody>\n",
       "    <tr>\n",
       "      <th>count</th>\n",
       "      <td>134258.000000</td>\n",
       "      <td>134258.000000</td>\n",
       "      <td>134258.000000</td>\n",
       "      <td>134258.000000</td>\n",
       "      <td>134258.000000</td>\n",
       "      <td>134258.000000</td>\n",
       "      <td>134258.000000</td>\n",
       "      <td>134258.000000</td>\n",
       "      <td>134258.0</td>\n",
       "      <td>134258.000000</td>\n",
       "      <td>134258.000000</td>\n",
       "      <td>134258.000000</td>\n",
       "      <td>134258.000000</td>\n",
       "      <td>134258.000000</td>\n",
       "      <td>134258.000000</td>\n",
       "      <td>134258.0</td>\n",
       "      <td>134260.000000</td>\n",
       "      <td>134260.000000</td>\n",
       "      <td>134260.000000</td>\n",
       "      <td>134260.000000</td>\n",
       "      <td>134260.000000</td>\n",
       "      <td>134260.000000</td>\n",
       "      <td>134260.000000</td>\n",
       "      <td>134260.000000</td>\n",
       "      <td>134260</td>\n",
       "    </tr>\n",
       "    <tr>\n",
       "      <th>mean</th>\n",
       "      <td>197.725163</td>\n",
       "      <td>229.444078</td>\n",
       "      <td>168.404609</td>\n",
       "      <td>79.622592</td>\n",
       "      <td>90.946022</td>\n",
       "      <td>233.025444</td>\n",
       "      <td>199.099018</td>\n",
       "      <td>91.007910</td>\n",
       "      <td>0.0</td>\n",
       "      <td>53.965492</td>\n",
       "      <td>54.183564</td>\n",
       "      <td>43.829053</td>\n",
       "      <td>80.022263</td>\n",
       "      <td>94.035171</td>\n",
       "      <td>17.143425</td>\n",
       "      <td>0.0</td>\n",
       "      <td>0.258700</td>\n",
       "      <td>0.030366</td>\n",
       "      <td>0.416997</td>\n",
       "      <td>0.041911</td>\n",
       "      <td>14.375313</td>\n",
       "      <td>6.437426</td>\n",
       "      <td>4.017475</td>\n",
       "      <td>0.282620</td>\n",
       "      <td>2021-11-24 12:47:54.742291200</td>\n",
       "    </tr>\n",
       "    <tr>\n",
       "      <th>min</th>\n",
       "      <td>0.000000</td>\n",
       "      <td>0.000000</td>\n",
       "      <td>0.000000</td>\n",
       "      <td>0.000000</td>\n",
       "      <td>0.000000</td>\n",
       "      <td>0.000000</td>\n",
       "      <td>0.000000</td>\n",
       "      <td>0.000000</td>\n",
       "      <td>0.0</td>\n",
       "      <td>0.000000</td>\n",
       "      <td>0.000000</td>\n",
       "      <td>0.000000</td>\n",
       "      <td>0.000000</td>\n",
       "      <td>0.000000</td>\n",
       "      <td>0.000000</td>\n",
       "      <td>0.0</td>\n",
       "      <td>0.000000</td>\n",
       "      <td>0.000000</td>\n",
       "      <td>0.000000</td>\n",
       "      <td>0.000000</td>\n",
       "      <td>-3.999000</td>\n",
       "      <td>-18.249000</td>\n",
       "      <td>0.000000</td>\n",
       "      <td>0.000000</td>\n",
       "      <td>2019-10-01 15:27:00</td>\n",
       "    </tr>\n",
       "    <tr>\n",
       "      <th>25%</th>\n",
       "      <td>151.000000</td>\n",
       "      <td>156.000000</td>\n",
       "      <td>110.000000</td>\n",
       "      <td>37.000000</td>\n",
       "      <td>46.000000</td>\n",
       "      <td>182.000000</td>\n",
       "      <td>134.000000</td>\n",
       "      <td>52.000000</td>\n",
       "      <td>0.0</td>\n",
       "      <td>0.000000</td>\n",
       "      <td>10.000000</td>\n",
       "      <td>21.000000</td>\n",
       "      <td>41.000000</td>\n",
       "      <td>36.000000</td>\n",
       "      <td>7.000000</td>\n",
       "      <td>0.0</td>\n",
       "      <td>0.000000</td>\n",
       "      <td>0.000000</td>\n",
       "      <td>0.000000</td>\n",
       "      <td>0.000000</td>\n",
       "      <td>8.401000</td>\n",
       "      <td>1.401000</td>\n",
       "      <td>0.000000</td>\n",
       "      <td>0.000000</td>\n",
       "      <td>2020-09-21 11:07:00</td>\n",
       "    </tr>\n",
       "    <tr>\n",
       "      <th>50%</th>\n",
       "      <td>229.000000</td>\n",
       "      <td>238.000000</td>\n",
       "      <td>187.000000</td>\n",
       "      <td>89.000000</td>\n",
       "      <td>117.000000</td>\n",
       "      <td>251.000000</td>\n",
       "      <td>243.000000</td>\n",
       "      <td>108.000000</td>\n",
       "      <td>0.0</td>\n",
       "      <td>66.000000</td>\n",
       "      <td>66.000000</td>\n",
       "      <td>46.000000</td>\n",
       "      <td>90.000000</td>\n",
       "      <td>128.000000</td>\n",
       "      <td>18.000000</td>\n",
       "      <td>0.0</td>\n",
       "      <td>0.000000</td>\n",
       "      <td>0.000000</td>\n",
       "      <td>0.000000</td>\n",
       "      <td>0.000000</td>\n",
       "      <td>14.551000</td>\n",
       "      <td>6.551000</td>\n",
       "      <td>0.700000</td>\n",
       "      <td>0.000000</td>\n",
       "      <td>2021-12-27 02:04:30</td>\n",
       "    </tr>\n",
       "    <tr>\n",
       "      <th>75%</th>\n",
       "      <td>252.000000</td>\n",
       "      <td>279.000000</td>\n",
       "      <td>232.000000</td>\n",
       "      <td>111.000000</td>\n",
       "      <td>128.000000</td>\n",
       "      <td>307.000000</td>\n",
       "      <td>259.000000</td>\n",
       "      <td>129.000000</td>\n",
       "      <td>0.0</td>\n",
       "      <td>96.000000</td>\n",
       "      <td>93.000000</td>\n",
       "      <td>67.000000</td>\n",
       "      <td>123.000000</td>\n",
       "      <td>143.000000</td>\n",
       "      <td>26.000000</td>\n",
       "      <td>0.0</td>\n",
       "      <td>1.000000</td>\n",
       "      <td>0.000000</td>\n",
       "      <td>1.000000</td>\n",
       "      <td>0.000000</td>\n",
       "      <td>20.501000</td>\n",
       "      <td>12.151000</td>\n",
       "      <td>5.700000</td>\n",
       "      <td>0.000000</td>\n",
       "      <td>2022-12-14 23:14:30</td>\n",
       "    </tr>\n",
       "    <tr>\n",
       "      <th>max</th>\n",
       "      <td>275.000000</td>\n",
       "      <td>500.000000</td>\n",
       "      <td>292.000000</td>\n",
       "      <td>175.000000</td>\n",
       "      <td>134.000000</td>\n",
       "      <td>371.000000</td>\n",
       "      <td>274.000000</td>\n",
       "      <td>138.000000</td>\n",
       "      <td>0.0</td>\n",
       "      <td>112.000000</td>\n",
       "      <td>96.000000</td>\n",
       "      <td>86.000000</td>\n",
       "      <td>155.000000</td>\n",
       "      <td>170.000000</td>\n",
       "      <td>51.000000</td>\n",
       "      <td>0.0</td>\n",
       "      <td>1.000000</td>\n",
       "      <td>1.000000</td>\n",
       "      <td>1.000000</td>\n",
       "      <td>1.000000</td>\n",
       "      <td>32.301003</td>\n",
       "      <td>20.451000</td>\n",
       "      <td>67.600000</td>\n",
       "      <td>23.939995</td>\n",
       "      <td>2023-11-09 06:26:00</td>\n",
       "    </tr>\n",
       "    <tr>\n",
       "      <th>std</th>\n",
       "      <td>67.485503</td>\n",
       "      <td>111.418886</td>\n",
       "      <td>73.602678</td>\n",
       "      <td>48.530177</td>\n",
       "      <td>46.032999</td>\n",
       "      <td>91.567352</td>\n",
       "      <td>73.733513</td>\n",
       "      <td>42.976426</td>\n",
       "      <td>0.0</td>\n",
       "      <td>42.706819</td>\n",
       "      <td>38.457479</td>\n",
       "      <td>26.091536</td>\n",
       "      <td>49.980355</td>\n",
       "      <td>55.518488</td>\n",
       "      <td>11.712676</td>\n",
       "      <td>0.0</td>\n",
       "      <td>0.437922</td>\n",
       "      <td>0.171594</td>\n",
       "      <td>0.493064</td>\n",
       "      <td>0.200387</td>\n",
       "      <td>7.469771</td>\n",
       "      <td>6.548786</td>\n",
       "      <td>7.100048</td>\n",
       "      <td>1.246774</td>\n",
       "      <td>NaN</td>\n",
       "    </tr>\n",
       "  </tbody>\n",
       "</table>\n",
       "</div>"
      ],
      "text/plain": [
       "                 P24            P44            P42            P33  \\\n",
       "count  134258.000000  134258.000000  134258.000000  134258.000000   \n",
       "mean      197.725163     229.444078     168.404609      79.622592   \n",
       "min         0.000000       0.000000       0.000000       0.000000   \n",
       "25%       151.000000     156.000000     110.000000      37.000000   \n",
       "50%       229.000000     238.000000     187.000000      89.000000   \n",
       "75%       252.000000     279.000000     232.000000     111.000000   \n",
       "max       275.000000     500.000000     292.000000     175.000000   \n",
       "std        67.485503     111.418886      73.602678      48.530177   \n",
       "\n",
       "                 P23            P25            P21            P31       P54  \\\n",
       "count  134258.000000  134258.000000  134258.000000  134258.000000  134258.0   \n",
       "mean       90.946022     233.025444     199.099018      91.007910       0.0   \n",
       "min         0.000000       0.000000       0.000000       0.000000       0.0   \n",
       "25%        46.000000     182.000000     134.000000      52.000000       0.0   \n",
       "50%       117.000000     251.000000     243.000000     108.000000       0.0   \n",
       "75%       128.000000     307.000000     259.000000     129.000000       0.0   \n",
       "max       134.000000     371.000000     274.000000     138.000000       0.0   \n",
       "std        46.032999      91.567352      73.733513      42.976426       0.0   \n",
       "\n",
       "                 P53            P32            P22            P52  \\\n",
       "count  134258.000000  134258.000000  134258.000000  134258.000000   \n",
       "mean       53.965492      54.183564      43.829053      80.022263   \n",
       "min         0.000000       0.000000       0.000000       0.000000   \n",
       "25%         0.000000      10.000000      21.000000      41.000000   \n",
       "50%        66.000000      66.000000      46.000000      90.000000   \n",
       "75%        96.000000      93.000000      67.000000     123.000000   \n",
       "max       112.000000      96.000000      86.000000     155.000000   \n",
       "std        42.706819      38.457479      26.091536      49.980355   \n",
       "\n",
       "                 P51            P43       P41         ferien       feiertag  \\\n",
       "count  134258.000000  134258.000000  134258.0  134260.000000  134260.000000   \n",
       "mean       94.035171      17.143425       0.0       0.258700       0.030366   \n",
       "min         0.000000       0.000000       0.0       0.000000       0.000000   \n",
       "25%        36.000000       7.000000       0.0       0.000000       0.000000   \n",
       "50%       128.000000      18.000000       0.0       0.000000       0.000000   \n",
       "75%       143.000000      26.000000       0.0       1.000000       0.000000   \n",
       "max       170.000000      51.000000       0.0       1.000000       1.000000   \n",
       "std        55.518488      11.712676       0.0       0.437922       0.171594   \n",
       "\n",
       "            covid_19      olma_offa  temperature_2m_max  temperature_2m_min  \\\n",
       "count  134260.000000  134260.000000       134260.000000       134260.000000   \n",
       "mean        0.416997       0.041911           14.375313            6.437426   \n",
       "min         0.000000       0.000000           -3.999000          -18.249000   \n",
       "25%         0.000000       0.000000            8.401000            1.401000   \n",
       "50%         0.000000       0.000000           14.551000            6.551000   \n",
       "75%         1.000000       0.000000           20.501000           12.151000   \n",
       "max         1.000000       1.000000           32.301003           20.451000   \n",
       "std         0.493064       0.200387            7.469771            6.548786   \n",
       "\n",
       "            rain_sum   snowfall_sum             datetime_formatted  \n",
       "count  134260.000000  134260.000000                         134260  \n",
       "mean        4.017475       0.282620  2021-11-24 12:47:54.742291200  \n",
       "min         0.000000       0.000000            2019-10-01 15:27:00  \n",
       "25%         0.000000       0.000000            2020-09-21 11:07:00  \n",
       "50%         0.700000       0.000000            2021-12-27 02:04:30  \n",
       "75%         5.700000       0.000000            2022-12-14 23:14:30  \n",
       "max        67.600000      23.939995            2023-11-09 06:26:00  \n",
       "std         7.100048       1.246774                            NaN  "
      ]
     },
     "execution_count": 12,
     "metadata": {},
     "output_type": "execute_result"
    }
   ],
   "source": [
    "condition = lambda cols: cols.startswith(\"P\")\n",
    "colnames = [cols for cols in df.columns if condition(cols)]\n",
    "\n",
    "for name in colnames:\n",
    "    df.drop(df[df[name] > metadata['parking_sg']['fields'][name]['max_cap']].index, inplace=True)\n",
    "\n",
    "df.describe()"
   ],
   "id": "cbe50eced76d2e7f"
  },
  {
   "cell_type": "markdown",
   "id": "961ce53ce0dce10",
   "metadata": {
    "collapsed": false
   },
   "source": [
    "#### Remove P54 and P41"
   ]
  },
  {
   "cell_type": "code",
   "execution_count": 13,
   "id": "c8898eea88fd2945",
   "metadata": {
    "ExecuteTime": {
     "end_time": "2023-11-29T22:07:52.936719404Z",
     "start_time": "2023-11-29T22:07:52.876104804Z"
    },
    "collapsed": false
   },
   "outputs": [],
   "source": [
    "# Both not in use for whole time\n",
    "df = df.drop(['P54', 'P41'], axis=1)"
   ]
  },
  {
   "cell_type": "markdown",
   "id": "73d4e1843718d1fe",
   "metadata": {
    "collapsed": false
   },
   "source": [
    "#### Remove NaN / Null values"
   ]
  },
  {
   "cell_type": "markdown",
   "id": "ce6ddbe3c8df781d",
   "metadata": {
    "collapsed": false
   },
   "source": [
    "Check how many NaN / Null values there are:"
   ]
  },
  {
   "cell_type": "code",
   "execution_count": 14,
   "id": "fb272ceb417aa6",
   "metadata": {
    "ExecuteTime": {
     "end_time": "2023-11-29T22:07:54.362845503Z",
     "start_time": "2023-11-29T22:07:54.351400403Z"
    },
    "collapsed": false
   },
   "outputs": [
    {
     "data": {
      "text/plain": [
       "28"
      ]
     },
     "execution_count": 14,
     "metadata": {},
     "output_type": "execute_result"
    }
   ],
   "source": [
    "df.isnull().sum().sum()"
   ]
  },
  {
   "cell_type": "markdown",
   "id": "1eadb3e4daac5a83",
   "metadata": {
    "collapsed": false
   },
   "source": [
    "Remove them"
   ]
  },
  {
   "cell_type": "code",
   "execution_count": 15,
   "id": "68009a3b99a72b3c",
   "metadata": {
    "ExecuteTime": {
     "end_time": "2023-11-29T22:07:55.333781702Z",
     "start_time": "2023-11-29T22:07:55.323727902Z"
    },
    "collapsed": false
   },
   "outputs": [],
   "source": [
    "df = df.dropna()"
   ]
  },
  {
   "cell_type": "markdown",
   "id": "b61ee2a7685a3b30",
   "metadata": {
    "collapsed": false
   },
   "source": [
    "Check how many NaN / Null values there are after cleaning (should be 0):"
   ]
  },
  {
   "cell_type": "code",
   "execution_count": 16,
   "id": "959cb1236af5bb48",
   "metadata": {
    "ExecuteTime": {
     "end_time": "2023-11-29T22:07:57.730031201Z",
     "start_time": "2023-11-29T22:07:57.720384801Z"
    },
    "collapsed": false
   },
   "outputs": [
    {
     "data": {
      "text/plain": [
       "0"
      ]
     },
     "execution_count": 16,
     "metadata": {},
     "output_type": "execute_result"
    }
   ],
   "source": [
    "df.isnull().sum().sum()"
   ]
  },
  {
   "cell_type": "markdown",
   "id": "babcaee1ff926a96",
   "metadata": {
    "collapsed": false
   },
   "source": [
    "#### TODO other various data cleaning stuff"
   ]
  },
  {
   "cell_type": "code",
   "execution_count": null,
   "id": "8933c9e95c955e15",
   "metadata": {
    "ExecuteTime": {
     "end_time": "2023-11-29T22:07:58.886276200Z",
     "start_time": "2023-11-29T22:07:58.844077200Z"
    },
    "collapsed": false
   },
   "outputs": [],
   "source": [
    "# TODO"
   ]
  },
  {
   "cell_type": "markdown",
   "id": "29b3f3f0aca108de",
   "metadata": {
    "collapsed": false
   },
   "source": [
    "### Write CSV"
   ]
  },
  {
   "cell_type": "code",
   "execution_count": 17,
   "id": "d95e4caeda75d3e0",
   "metadata": {
    "ExecuteTime": {
     "end_time": "2023-11-29T22:08:02.786564896Z",
     "start_time": "2023-11-29T22:08:02.715932396Z"
    }
   },
   "outputs": [],
   "source": [
    "# To create the dataset with data starting from 01/03/2022 use:\n",
    "# outputfile_train = \"02_pp_sg_train_cleaned.csv\"\n",
    "# outputfile_test = \"02_pp_sg_test_cleaned.csv\"\n",
    "\n",
    "outputfile_train = \"01_pp_sg_train_cleaned.csv\"\n",
    "outputfile_test = \"01_pp_sg_test_cleaned.csv\""
   ]
  },
  {
   "cell_type": "markdown",
   "id": "5f0ead6624ecebc2",
   "metadata": {
    "collapsed": false
   },
   "source": [
    "#### Write Train CSV"
   ]
  },
  {
   "cell_type": "code",
   "execution_count": 18,
   "id": "d2fa4bc0f8bda4f7",
   "metadata": {
    "ExecuteTime": {
     "end_time": "2023-11-29T22:08:58.940716591Z",
     "start_time": "2023-11-29T22:08:58.658033192Z"
    },
    "collapsed": false
   },
   "outputs": [],
   "source": [
    "# To create the dataset with data starting from 01/03/2022 use:\n",
    "# df_train = df[df['datetime_formatted'] >= '2022-03-01']\n",
    "# df_train = df_train[df_train['datetime_formatted'] < '2023-06-01']\n",
    "\n",
    "df_train = df[df['datetime_formatted'] < '2023-03-01']\n",
    "df_train = df_train.drop(['datetime_formatted'], axis=1)  # TODO decide whether to drop or not\n",
    "df_train.to_csv(outputfile_train, sep=\";\", index=False)"
   ]
  },
  {
   "cell_type": "markdown",
   "id": "1fc79c290fa37939",
   "metadata": {
    "collapsed": false
   },
   "source": [
    "#### Write Test CSV"
   ]
  },
  {
   "cell_type": "code",
   "execution_count": 19,
   "id": "c3fee21b3a0979f6",
   "metadata": {
    "ExecuteTime": {
     "end_time": "2023-11-29T22:09:01.207098786Z",
     "start_time": "2023-11-29T22:09:01.130342686Z"
    },
    "collapsed": false
   },
   "outputs": [],
   "source": [
    "# To create the dataset with data starting from 01/03/2022 use:\n",
    "# df_test = df[df['datetime_formatted'] >= '2023-06-01']\n",
    "\n",
    "df_test = df[df['datetime_formatted'] >= '2023-03-01']\n",
    "df_test = df_test.drop(['datetime_formatted'], axis=1)  # TODO decide whether to drop or not\n",
    "df_test.to_csv(outputfile_test, sep=\";\", index=False)"
   ]
  }
 ],
 "metadata": {
  "kernelspec": {
   "display_name": "Python 3",
   "language": "python",
   "name": "python3"
  },
  "language_info": {
   "codemirror_mode": {
    "name": "ipython",
    "version": 3
   },
   "file_extension": ".py",
   "mimetype": "text/x-python",
   "name": "python",
   "nbconvert_exporter": "python",
   "pygments_lexer": "ipython3",
   "version": "3.11.5"
  }
 },
 "nbformat": 4,
 "nbformat_minor": 5
}
