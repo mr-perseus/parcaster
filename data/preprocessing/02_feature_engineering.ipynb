{
 "cells": [
  {
   "cell_type": "markdown",
   "metadata": {},
   "source": [
    "# Feature Engineering"
   ]
  },
  {
   "cell_type": "markdown",
   "metadata": {},
   "source": [
    "### Import libraries"
   ]
  },
  {
   "cell_type": "code",
   "execution_count": 1,
   "metadata": {
    "ExecuteTime": {
     "end_time": "2023-11-27T14:38:42.586376951Z",
     "start_time": "2023-11-27T14:38:42.441986251Z"
    }
   },
   "outputs": [],
   "source": [
    "import pandas as pd\n",
    "import numpy as np\n",
    "from datetime import datetime, date, time "
   ]
  },
  {
   "cell_type": "code",
   "execution_count": 2,
   "metadata": {
    "ExecuteTime": {
     "end_time": "2023-11-27T14:38:42.592374951Z",
     "start_time": "2023-11-27T14:38:42.588226251Z"
    }
   },
   "outputs": [],
   "source": [
    "# Options\n",
    "pd.set_option('display.max_columns', None)"
   ]
  },
  {
   "cell_type": "markdown",
   "metadata": {},
   "source": [
    "### Import Data"
   ]
  },
  {
   "cell_type": "code",
   "execution_count": 3,
   "metadata": {
    "ExecuteTime": {
     "end_time": "2023-11-27T14:38:44.449238150Z",
     "start_time": "2023-11-27T14:38:44.329559950Z"
    }
   },
   "outputs": [
    {
     "data": {
      "text/plain": "     P24    P44  P42   P33    P23    P25    P21    P31  P53   P32   P22  P52  \\\n0  206.0  253.0  0.0  89.0  127.0  198.0  221.0  130.0  0.0  63.0  74.0  0.0   \n1   87.0   87.0  0.0   4.0   24.0  173.0   69.0   25.0  0.0  26.0   0.0  0.0   \n2   99.0  106.0  0.0   3.0   38.0  175.0   68.0   21.0  0.0  27.0   3.0  0.0   \n3  105.0  109.0  0.0   3.0   37.0  178.0   78.0   22.0  0.0  30.0   1.0  0.0   \n4  104.0  133.0  0.0   8.0   44.0  183.0   91.0   22.0  0.0  32.0   1.0  0.0   \n\n    P51   P43          datetime  ferien  feiertag  covid_19  olma_offa  \\\n0  57.0  32.0  02.10.2019 07:25       1         0         0          0   \n1  13.0   5.0  04.10.2019 15:28       1         0         0          0   \n2  14.0  11.0  04.10.2019 15:43       1         0         0          0   \n3  18.0  15.0  04.10.2019 15:58       1         0         0          0   \n4  24.0  21.0  04.10.2019 16:13       1         0         0          0   \n\n   temperature_2m_max  temperature_2m_min  rain_sum  snowfall_sum  \n0              14.701               6.601      16.9           0.0  \n1              12.301               3.551       8.0           0.0  \n2              12.301               3.551       8.0           0.0  \n3              12.301               3.551       8.0           0.0  \n4              12.301               3.551       8.0           0.0  ",
      "text/html": "<div>\n<style scoped>\n    .dataframe tbody tr th:only-of-type {\n        vertical-align: middle;\n    }\n\n    .dataframe tbody tr th {\n        vertical-align: top;\n    }\n\n    .dataframe thead th {\n        text-align: right;\n    }\n</style>\n<table border=\"1\" class=\"dataframe\">\n  <thead>\n    <tr style=\"text-align: right;\">\n      <th></th>\n      <th>P24</th>\n      <th>P44</th>\n      <th>P42</th>\n      <th>P33</th>\n      <th>P23</th>\n      <th>P25</th>\n      <th>P21</th>\n      <th>P31</th>\n      <th>P53</th>\n      <th>P32</th>\n      <th>P22</th>\n      <th>P52</th>\n      <th>P51</th>\n      <th>P43</th>\n      <th>datetime</th>\n      <th>ferien</th>\n      <th>feiertag</th>\n      <th>covid_19</th>\n      <th>olma_offa</th>\n      <th>temperature_2m_max</th>\n      <th>temperature_2m_min</th>\n      <th>rain_sum</th>\n      <th>snowfall_sum</th>\n    </tr>\n  </thead>\n  <tbody>\n    <tr>\n      <th>0</th>\n      <td>206.0</td>\n      <td>253.0</td>\n      <td>0.0</td>\n      <td>89.0</td>\n      <td>127.0</td>\n      <td>198.0</td>\n      <td>221.0</td>\n      <td>130.0</td>\n      <td>0.0</td>\n      <td>63.0</td>\n      <td>74.0</td>\n      <td>0.0</td>\n      <td>57.0</td>\n      <td>32.0</td>\n      <td>02.10.2019 07:25</td>\n      <td>1</td>\n      <td>0</td>\n      <td>0</td>\n      <td>0</td>\n      <td>14.701</td>\n      <td>6.601</td>\n      <td>16.9</td>\n      <td>0.0</td>\n    </tr>\n    <tr>\n      <th>1</th>\n      <td>87.0</td>\n      <td>87.0</td>\n      <td>0.0</td>\n      <td>4.0</td>\n      <td>24.0</td>\n      <td>173.0</td>\n      <td>69.0</td>\n      <td>25.0</td>\n      <td>0.0</td>\n      <td>26.0</td>\n      <td>0.0</td>\n      <td>0.0</td>\n      <td>13.0</td>\n      <td>5.0</td>\n      <td>04.10.2019 15:28</td>\n      <td>1</td>\n      <td>0</td>\n      <td>0</td>\n      <td>0</td>\n      <td>12.301</td>\n      <td>3.551</td>\n      <td>8.0</td>\n      <td>0.0</td>\n    </tr>\n    <tr>\n      <th>2</th>\n      <td>99.0</td>\n      <td>106.0</td>\n      <td>0.0</td>\n      <td>3.0</td>\n      <td>38.0</td>\n      <td>175.0</td>\n      <td>68.0</td>\n      <td>21.0</td>\n      <td>0.0</td>\n      <td>27.0</td>\n      <td>3.0</td>\n      <td>0.0</td>\n      <td>14.0</td>\n      <td>11.0</td>\n      <td>04.10.2019 15:43</td>\n      <td>1</td>\n      <td>0</td>\n      <td>0</td>\n      <td>0</td>\n      <td>12.301</td>\n      <td>3.551</td>\n      <td>8.0</td>\n      <td>0.0</td>\n    </tr>\n    <tr>\n      <th>3</th>\n      <td>105.0</td>\n      <td>109.0</td>\n      <td>0.0</td>\n      <td>3.0</td>\n      <td>37.0</td>\n      <td>178.0</td>\n      <td>78.0</td>\n      <td>22.0</td>\n      <td>0.0</td>\n      <td>30.0</td>\n      <td>1.0</td>\n      <td>0.0</td>\n      <td>18.0</td>\n      <td>15.0</td>\n      <td>04.10.2019 15:58</td>\n      <td>1</td>\n      <td>0</td>\n      <td>0</td>\n      <td>0</td>\n      <td>12.301</td>\n      <td>3.551</td>\n      <td>8.0</td>\n      <td>0.0</td>\n    </tr>\n    <tr>\n      <th>4</th>\n      <td>104.0</td>\n      <td>133.0</td>\n      <td>0.0</td>\n      <td>8.0</td>\n      <td>44.0</td>\n      <td>183.0</td>\n      <td>91.0</td>\n      <td>22.0</td>\n      <td>0.0</td>\n      <td>32.0</td>\n      <td>1.0</td>\n      <td>0.0</td>\n      <td>24.0</td>\n      <td>21.0</td>\n      <td>04.10.2019 16:13</td>\n      <td>1</td>\n      <td>0</td>\n      <td>0</td>\n      <td>0</td>\n      <td>12.301</td>\n      <td>3.551</td>\n      <td>8.0</td>\n      <td>0.0</td>\n    </tr>\n  </tbody>\n</table>\n</div>"
     },
     "execution_count": 3,
     "metadata": {},
     "output_type": "execute_result"
    }
   ],
   "source": [
    "## For train-data\n",
    "outputfile = \"02_pp_sg_train_features.csv\"\n",
    "df = pd.read_csv(\"./01_pp_sg_train_cleaned.csv\", sep=\";\")\n",
    "df.head()"
   ]
  },
  {
   "cell_type": "code",
   "execution_count": 4,
   "metadata": {
    "ExecuteTime": {
     "end_time": "2023-11-27T14:38:51.477109645Z",
     "start_time": "2023-11-27T14:38:51.471095245Z"
    }
   },
   "outputs": [],
   "source": [
    "## For test-data\n",
    "#outputfile = \"pp_sg_test_features.csv\"\n",
    "#df = pd.read_csv(\"./pp_sg_test_cleaned.csv\", sep=\";\")\n",
    "#df.head()"
   ]
  },
  {
   "cell_type": "markdown",
   "metadata": {},
   "source": [
    "### Extract Time Components"
   ]
  },
  {
   "cell_type": "code",
   "execution_count": 5,
   "metadata": {
    "ExecuteTime": {
     "end_time": "2023-11-27T14:38:52.751217743Z",
     "start_time": "2023-11-27T14:38:52.597808444Z"
    }
   },
   "outputs": [],
   "source": [
    "# Make Object to datetime\n",
    "df['datetime'] = pd.to_datetime(df['datetime'], format='%d.%m.%Y %H:%M')\n",
    "\n",
    "# Extract Date\n",
    "df['date'] = df['datetime'].dt.date\n",
    "\n",
    "# Extract Year\n",
    "df['year'] = df['datetime'].dt.year\n",
    "\n",
    "# Extract Month\n",
    "df['month'] = df['datetime'].dt.month\n",
    "\n",
    "# Extract Day\n",
    "df['day'] = df['datetime'].dt.day\n",
    "\n",
    "# Extract Weekday\n",
    "df['weekdayname'] = df['datetime'].dt.day_name()\n",
    "df['weekday'] = df['datetime'].dt.dayofweek\n",
    "\n",
    "# Extract Time\n",
    "df['time'] = df['datetime'].dt.strftime('%H:%M')\n",
    "\n",
    "# Extract Hour\n",
    "df['hour'] = df['datetime'].dt.hour\n",
    "\n",
    "# Extract Minute\n",
    "df['minute'] = df['datetime'].dt.minute"
   ]
  },
  {
   "cell_type": "code",
   "execution_count": 6,
   "metadata": {
    "ExecuteTime": {
     "end_time": "2023-11-27T14:39:06.242152132Z",
     "start_time": "2023-11-27T14:39:06.219983832Z"
    }
   },
   "outputs": [
    {
     "data": {
      "text/plain": "     P24    P44  P42   P33    P23    P25    P21    P31  P53   P32   P22  P52  \\\n0  206.0  253.0  0.0  89.0  127.0  198.0  221.0  130.0  0.0  63.0  74.0  0.0   \n1   87.0   87.0  0.0   4.0   24.0  173.0   69.0   25.0  0.0  26.0   0.0  0.0   \n2   99.0  106.0  0.0   3.0   38.0  175.0   68.0   21.0  0.0  27.0   3.0  0.0   \n3  105.0  109.0  0.0   3.0   37.0  178.0   78.0   22.0  0.0  30.0   1.0  0.0   \n4  104.0  133.0  0.0   8.0   44.0  183.0   91.0   22.0  0.0  32.0   1.0  0.0   \n\n    P51   P43            datetime  ferien  feiertag  covid_19  olma_offa  \\\n0  57.0  32.0 2019-10-02 07:25:00       1         0         0          0   \n1  13.0   5.0 2019-10-04 15:28:00       1         0         0          0   \n2  14.0  11.0 2019-10-04 15:43:00       1         0         0          0   \n3  18.0  15.0 2019-10-04 15:58:00       1         0         0          0   \n4  24.0  21.0 2019-10-04 16:13:00       1         0         0          0   \n\n   temperature_2m_max  temperature_2m_min  rain_sum  snowfall_sum        date  \\\n0              14.701               6.601      16.9           0.0  2019-10-02   \n1              12.301               3.551       8.0           0.0  2019-10-04   \n2              12.301               3.551       8.0           0.0  2019-10-04   \n3              12.301               3.551       8.0           0.0  2019-10-04   \n4              12.301               3.551       8.0           0.0  2019-10-04   \n\n   year  month  day weekdayname  weekday   time  hour  minute  \n0  2019     10    2   Wednesday        2  07:25     7      25  \n1  2019     10    4      Friday        4  15:28    15      28  \n2  2019     10    4      Friday        4  15:43    15      43  \n3  2019     10    4      Friday        4  15:58    15      58  \n4  2019     10    4      Friday        4  16:13    16      13  ",
      "text/html": "<div>\n<style scoped>\n    .dataframe tbody tr th:only-of-type {\n        vertical-align: middle;\n    }\n\n    .dataframe tbody tr th {\n        vertical-align: top;\n    }\n\n    .dataframe thead th {\n        text-align: right;\n    }\n</style>\n<table border=\"1\" class=\"dataframe\">\n  <thead>\n    <tr style=\"text-align: right;\">\n      <th></th>\n      <th>P24</th>\n      <th>P44</th>\n      <th>P42</th>\n      <th>P33</th>\n      <th>P23</th>\n      <th>P25</th>\n      <th>P21</th>\n      <th>P31</th>\n      <th>P53</th>\n      <th>P32</th>\n      <th>P22</th>\n      <th>P52</th>\n      <th>P51</th>\n      <th>P43</th>\n      <th>datetime</th>\n      <th>ferien</th>\n      <th>feiertag</th>\n      <th>covid_19</th>\n      <th>olma_offa</th>\n      <th>temperature_2m_max</th>\n      <th>temperature_2m_min</th>\n      <th>rain_sum</th>\n      <th>snowfall_sum</th>\n      <th>date</th>\n      <th>year</th>\n      <th>month</th>\n      <th>day</th>\n      <th>weekdayname</th>\n      <th>weekday</th>\n      <th>time</th>\n      <th>hour</th>\n      <th>minute</th>\n    </tr>\n  </thead>\n  <tbody>\n    <tr>\n      <th>0</th>\n      <td>206.0</td>\n      <td>253.0</td>\n      <td>0.0</td>\n      <td>89.0</td>\n      <td>127.0</td>\n      <td>198.0</td>\n      <td>221.0</td>\n      <td>130.0</td>\n      <td>0.0</td>\n      <td>63.0</td>\n      <td>74.0</td>\n      <td>0.0</td>\n      <td>57.0</td>\n      <td>32.0</td>\n      <td>2019-10-02 07:25:00</td>\n      <td>1</td>\n      <td>0</td>\n      <td>0</td>\n      <td>0</td>\n      <td>14.701</td>\n      <td>6.601</td>\n      <td>16.9</td>\n      <td>0.0</td>\n      <td>2019-10-02</td>\n      <td>2019</td>\n      <td>10</td>\n      <td>2</td>\n      <td>Wednesday</td>\n      <td>2</td>\n      <td>07:25</td>\n      <td>7</td>\n      <td>25</td>\n    </tr>\n    <tr>\n      <th>1</th>\n      <td>87.0</td>\n      <td>87.0</td>\n      <td>0.0</td>\n      <td>4.0</td>\n      <td>24.0</td>\n      <td>173.0</td>\n      <td>69.0</td>\n      <td>25.0</td>\n      <td>0.0</td>\n      <td>26.0</td>\n      <td>0.0</td>\n      <td>0.0</td>\n      <td>13.0</td>\n      <td>5.0</td>\n      <td>2019-10-04 15:28:00</td>\n      <td>1</td>\n      <td>0</td>\n      <td>0</td>\n      <td>0</td>\n      <td>12.301</td>\n      <td>3.551</td>\n      <td>8.0</td>\n      <td>0.0</td>\n      <td>2019-10-04</td>\n      <td>2019</td>\n      <td>10</td>\n      <td>4</td>\n      <td>Friday</td>\n      <td>4</td>\n      <td>15:28</td>\n      <td>15</td>\n      <td>28</td>\n    </tr>\n    <tr>\n      <th>2</th>\n      <td>99.0</td>\n      <td>106.0</td>\n      <td>0.0</td>\n      <td>3.0</td>\n      <td>38.0</td>\n      <td>175.0</td>\n      <td>68.0</td>\n      <td>21.0</td>\n      <td>0.0</td>\n      <td>27.0</td>\n      <td>3.0</td>\n      <td>0.0</td>\n      <td>14.0</td>\n      <td>11.0</td>\n      <td>2019-10-04 15:43:00</td>\n      <td>1</td>\n      <td>0</td>\n      <td>0</td>\n      <td>0</td>\n      <td>12.301</td>\n      <td>3.551</td>\n      <td>8.0</td>\n      <td>0.0</td>\n      <td>2019-10-04</td>\n      <td>2019</td>\n      <td>10</td>\n      <td>4</td>\n      <td>Friday</td>\n      <td>4</td>\n      <td>15:43</td>\n      <td>15</td>\n      <td>43</td>\n    </tr>\n    <tr>\n      <th>3</th>\n      <td>105.0</td>\n      <td>109.0</td>\n      <td>0.0</td>\n      <td>3.0</td>\n      <td>37.0</td>\n      <td>178.0</td>\n      <td>78.0</td>\n      <td>22.0</td>\n      <td>0.0</td>\n      <td>30.0</td>\n      <td>1.0</td>\n      <td>0.0</td>\n      <td>18.0</td>\n      <td>15.0</td>\n      <td>2019-10-04 15:58:00</td>\n      <td>1</td>\n      <td>0</td>\n      <td>0</td>\n      <td>0</td>\n      <td>12.301</td>\n      <td>3.551</td>\n      <td>8.0</td>\n      <td>0.0</td>\n      <td>2019-10-04</td>\n      <td>2019</td>\n      <td>10</td>\n      <td>4</td>\n      <td>Friday</td>\n      <td>4</td>\n      <td>15:58</td>\n      <td>15</td>\n      <td>58</td>\n    </tr>\n    <tr>\n      <th>4</th>\n      <td>104.0</td>\n      <td>133.0</td>\n      <td>0.0</td>\n      <td>8.0</td>\n      <td>44.0</td>\n      <td>183.0</td>\n      <td>91.0</td>\n      <td>22.0</td>\n      <td>0.0</td>\n      <td>32.0</td>\n      <td>1.0</td>\n      <td>0.0</td>\n      <td>24.0</td>\n      <td>21.0</td>\n      <td>2019-10-04 16:13:00</td>\n      <td>1</td>\n      <td>0</td>\n      <td>0</td>\n      <td>0</td>\n      <td>12.301</td>\n      <td>3.551</td>\n      <td>8.0</td>\n      <td>0.0</td>\n      <td>2019-10-04</td>\n      <td>2019</td>\n      <td>10</td>\n      <td>4</td>\n      <td>Friday</td>\n      <td>4</td>\n      <td>16:13</td>\n      <td>16</td>\n      <td>13</td>\n    </tr>\n  </tbody>\n</table>\n</div>"
     },
     "execution_count": 6,
     "metadata": {},
     "output_type": "execute_result"
    }
   ],
   "source": [
    "df.head()"
   ]
  },
  {
   "cell_type": "markdown",
   "metadata": {},
   "source": [
    "### Decompose Time-Features in sine and cosine component"
   ]
  },
  {
   "cell_type": "code",
   "execution_count": 7,
   "metadata": {
    "ExecuteTime": {
     "end_time": "2023-11-27T14:39:07.391058431Z",
     "start_time": "2023-11-27T14:39:07.370479931Z"
    }
   },
   "outputs": [],
   "source": [
    "# Inspired by https://medium.com/mlearning-ai/transformer-implementation-for-time-series-forecasting-a9db2db5c820 \n",
    "# (vgl. https://github.com/nok-halfspace/Transformer-Time-Series-Forecasting/blob/main/Preprocessing.py) \n",
    "\n",
    "minutes_in_hour = 60\n",
    "hours_in_day = 24\n",
    "days_in_week = 7\n",
    "days_in_month = 30\n",
    "month_in_year = 12\n",
    "\n",
    "\n",
    "df['sin_minute'] = np.sin(2*np.pi*df['minute']/minutes_in_hour)\n",
    "df['cos_minute'] = np.cos(2*np.pi*df['minute']/minutes_in_hour)\n",
    "df['sin_hour'] = np.sin(2*np.pi*df['hour']/hours_in_day)\n",
    "df['cos_hour'] = np.cos(2*np.pi*df['hour']/hours_in_day)\n",
    "df['sin_weekday'] = np.sin(2*np.pi*df['weekday']/days_in_week)\n",
    "df['cos_weekday'] = np.cos(2*np.pi*df['weekday']/days_in_week)\n",
    "df['sin_day'] = np.sin(2*np.pi*df['day']/days_in_month)\n",
    "df['cos_day'] = np.cos(2*np.pi*df['day']/days_in_month)\n",
    "df['sin_month'] = np.sin(2*np.pi*df['month']/month_in_year)\n",
    "df['cos_month'] = np.cos(2*np.pi*df['month']/month_in_year)"
   ]
  },
  {
   "cell_type": "code",
   "execution_count": 8,
   "metadata": {
    "ExecuteTime": {
     "end_time": "2023-11-27T14:39:07.970089730Z",
     "start_time": "2023-11-27T14:39:07.952616330Z"
    }
   },
   "outputs": [
    {
     "data": {
      "text/plain": "     P24    P44  P42   P33    P23    P25    P21    P31  P53   P32   P22  P52  \\\n0  206.0  253.0  0.0  89.0  127.0  198.0  221.0  130.0  0.0  63.0  74.0  0.0   \n1   87.0   87.0  0.0   4.0   24.0  173.0   69.0   25.0  0.0  26.0   0.0  0.0   \n2   99.0  106.0  0.0   3.0   38.0  175.0   68.0   21.0  0.0  27.0   3.0  0.0   \n3  105.0  109.0  0.0   3.0   37.0  178.0   78.0   22.0  0.0  30.0   1.0  0.0   \n4  104.0  133.0  0.0   8.0   44.0  183.0   91.0   22.0  0.0  32.0   1.0  0.0   \n\n    P51   P43            datetime  ferien  feiertag  covid_19  olma_offa  \\\n0  57.0  32.0 2019-10-02 07:25:00       1         0         0          0   \n1  13.0   5.0 2019-10-04 15:28:00       1         0         0          0   \n2  14.0  11.0 2019-10-04 15:43:00       1         0         0          0   \n3  18.0  15.0 2019-10-04 15:58:00       1         0         0          0   \n4  24.0  21.0 2019-10-04 16:13:00       1         0         0          0   \n\n   temperature_2m_max  temperature_2m_min  rain_sum  snowfall_sum        date  \\\n0              14.701               6.601      16.9           0.0  2019-10-02   \n1              12.301               3.551       8.0           0.0  2019-10-04   \n2              12.301               3.551       8.0           0.0  2019-10-04   \n3              12.301               3.551       8.0           0.0  2019-10-04   \n4              12.301               3.551       8.0           0.0  2019-10-04   \n\n   year  month  day weekdayname  weekday   time  hour  minute  sin_minute  \\\n0  2019     10    2   Wednesday        2  07:25     7      25    0.500000   \n1  2019     10    4      Friday        4  15:28    15      28    0.207912   \n2  2019     10    4      Friday        4  15:43    15      43   -0.978148   \n3  2019     10    4      Friday        4  15:58    15      58   -0.207912   \n4  2019     10    4      Friday        4  16:13    16      13    0.978148   \n\n   cos_minute  sin_hour  cos_hour  sin_weekday  cos_weekday   sin_day  \\\n0   -0.866025  0.965926 -0.258819     0.974928    -0.222521  0.406737   \n1   -0.978148 -0.707107 -0.707107    -0.433884    -0.900969  0.743145   \n2   -0.207912 -0.707107 -0.707107    -0.433884    -0.900969  0.743145   \n3    0.978148 -0.707107 -0.707107    -0.433884    -0.900969  0.743145   \n4    0.207912 -0.866025 -0.500000    -0.433884    -0.900969  0.743145   \n\n    cos_day  sin_month  cos_month  \n0  0.913545  -0.866025        0.5  \n1  0.669131  -0.866025        0.5  \n2  0.669131  -0.866025        0.5  \n3  0.669131  -0.866025        0.5  \n4  0.669131  -0.866025        0.5  ",
      "text/html": "<div>\n<style scoped>\n    .dataframe tbody tr th:only-of-type {\n        vertical-align: middle;\n    }\n\n    .dataframe tbody tr th {\n        vertical-align: top;\n    }\n\n    .dataframe thead th {\n        text-align: right;\n    }\n</style>\n<table border=\"1\" class=\"dataframe\">\n  <thead>\n    <tr style=\"text-align: right;\">\n      <th></th>\n      <th>P24</th>\n      <th>P44</th>\n      <th>P42</th>\n      <th>P33</th>\n      <th>P23</th>\n      <th>P25</th>\n      <th>P21</th>\n      <th>P31</th>\n      <th>P53</th>\n      <th>P32</th>\n      <th>P22</th>\n      <th>P52</th>\n      <th>P51</th>\n      <th>P43</th>\n      <th>datetime</th>\n      <th>ferien</th>\n      <th>feiertag</th>\n      <th>covid_19</th>\n      <th>olma_offa</th>\n      <th>temperature_2m_max</th>\n      <th>temperature_2m_min</th>\n      <th>rain_sum</th>\n      <th>snowfall_sum</th>\n      <th>date</th>\n      <th>year</th>\n      <th>month</th>\n      <th>day</th>\n      <th>weekdayname</th>\n      <th>weekday</th>\n      <th>time</th>\n      <th>hour</th>\n      <th>minute</th>\n      <th>sin_minute</th>\n      <th>cos_minute</th>\n      <th>sin_hour</th>\n      <th>cos_hour</th>\n      <th>sin_weekday</th>\n      <th>cos_weekday</th>\n      <th>sin_day</th>\n      <th>cos_day</th>\n      <th>sin_month</th>\n      <th>cos_month</th>\n    </tr>\n  </thead>\n  <tbody>\n    <tr>\n      <th>0</th>\n      <td>206.0</td>\n      <td>253.0</td>\n      <td>0.0</td>\n      <td>89.0</td>\n      <td>127.0</td>\n      <td>198.0</td>\n      <td>221.0</td>\n      <td>130.0</td>\n      <td>0.0</td>\n      <td>63.0</td>\n      <td>74.0</td>\n      <td>0.0</td>\n      <td>57.0</td>\n      <td>32.0</td>\n      <td>2019-10-02 07:25:00</td>\n      <td>1</td>\n      <td>0</td>\n      <td>0</td>\n      <td>0</td>\n      <td>14.701</td>\n      <td>6.601</td>\n      <td>16.9</td>\n      <td>0.0</td>\n      <td>2019-10-02</td>\n      <td>2019</td>\n      <td>10</td>\n      <td>2</td>\n      <td>Wednesday</td>\n      <td>2</td>\n      <td>07:25</td>\n      <td>7</td>\n      <td>25</td>\n      <td>0.500000</td>\n      <td>-0.866025</td>\n      <td>0.965926</td>\n      <td>-0.258819</td>\n      <td>0.974928</td>\n      <td>-0.222521</td>\n      <td>0.406737</td>\n      <td>0.913545</td>\n      <td>-0.866025</td>\n      <td>0.5</td>\n    </tr>\n    <tr>\n      <th>1</th>\n      <td>87.0</td>\n      <td>87.0</td>\n      <td>0.0</td>\n      <td>4.0</td>\n      <td>24.0</td>\n      <td>173.0</td>\n      <td>69.0</td>\n      <td>25.0</td>\n      <td>0.0</td>\n      <td>26.0</td>\n      <td>0.0</td>\n      <td>0.0</td>\n      <td>13.0</td>\n      <td>5.0</td>\n      <td>2019-10-04 15:28:00</td>\n      <td>1</td>\n      <td>0</td>\n      <td>0</td>\n      <td>0</td>\n      <td>12.301</td>\n      <td>3.551</td>\n      <td>8.0</td>\n      <td>0.0</td>\n      <td>2019-10-04</td>\n      <td>2019</td>\n      <td>10</td>\n      <td>4</td>\n      <td>Friday</td>\n      <td>4</td>\n      <td>15:28</td>\n      <td>15</td>\n      <td>28</td>\n      <td>0.207912</td>\n      <td>-0.978148</td>\n      <td>-0.707107</td>\n      <td>-0.707107</td>\n      <td>-0.433884</td>\n      <td>-0.900969</td>\n      <td>0.743145</td>\n      <td>0.669131</td>\n      <td>-0.866025</td>\n      <td>0.5</td>\n    </tr>\n    <tr>\n      <th>2</th>\n      <td>99.0</td>\n      <td>106.0</td>\n      <td>0.0</td>\n      <td>3.0</td>\n      <td>38.0</td>\n      <td>175.0</td>\n      <td>68.0</td>\n      <td>21.0</td>\n      <td>0.0</td>\n      <td>27.0</td>\n      <td>3.0</td>\n      <td>0.0</td>\n      <td>14.0</td>\n      <td>11.0</td>\n      <td>2019-10-04 15:43:00</td>\n      <td>1</td>\n      <td>0</td>\n      <td>0</td>\n      <td>0</td>\n      <td>12.301</td>\n      <td>3.551</td>\n      <td>8.0</td>\n      <td>0.0</td>\n      <td>2019-10-04</td>\n      <td>2019</td>\n      <td>10</td>\n      <td>4</td>\n      <td>Friday</td>\n      <td>4</td>\n      <td>15:43</td>\n      <td>15</td>\n      <td>43</td>\n      <td>-0.978148</td>\n      <td>-0.207912</td>\n      <td>-0.707107</td>\n      <td>-0.707107</td>\n      <td>-0.433884</td>\n      <td>-0.900969</td>\n      <td>0.743145</td>\n      <td>0.669131</td>\n      <td>-0.866025</td>\n      <td>0.5</td>\n    </tr>\n    <tr>\n      <th>3</th>\n      <td>105.0</td>\n      <td>109.0</td>\n      <td>0.0</td>\n      <td>3.0</td>\n      <td>37.0</td>\n      <td>178.0</td>\n      <td>78.0</td>\n      <td>22.0</td>\n      <td>0.0</td>\n      <td>30.0</td>\n      <td>1.0</td>\n      <td>0.0</td>\n      <td>18.0</td>\n      <td>15.0</td>\n      <td>2019-10-04 15:58:00</td>\n      <td>1</td>\n      <td>0</td>\n      <td>0</td>\n      <td>0</td>\n      <td>12.301</td>\n      <td>3.551</td>\n      <td>8.0</td>\n      <td>0.0</td>\n      <td>2019-10-04</td>\n      <td>2019</td>\n      <td>10</td>\n      <td>4</td>\n      <td>Friday</td>\n      <td>4</td>\n      <td>15:58</td>\n      <td>15</td>\n      <td>58</td>\n      <td>-0.207912</td>\n      <td>0.978148</td>\n      <td>-0.707107</td>\n      <td>-0.707107</td>\n      <td>-0.433884</td>\n      <td>-0.900969</td>\n      <td>0.743145</td>\n      <td>0.669131</td>\n      <td>-0.866025</td>\n      <td>0.5</td>\n    </tr>\n    <tr>\n      <th>4</th>\n      <td>104.0</td>\n      <td>133.0</td>\n      <td>0.0</td>\n      <td>8.0</td>\n      <td>44.0</td>\n      <td>183.0</td>\n      <td>91.0</td>\n      <td>22.0</td>\n      <td>0.0</td>\n      <td>32.0</td>\n      <td>1.0</td>\n      <td>0.0</td>\n      <td>24.0</td>\n      <td>21.0</td>\n      <td>2019-10-04 16:13:00</td>\n      <td>1</td>\n      <td>0</td>\n      <td>0</td>\n      <td>0</td>\n      <td>12.301</td>\n      <td>3.551</td>\n      <td>8.0</td>\n      <td>0.0</td>\n      <td>2019-10-04</td>\n      <td>2019</td>\n      <td>10</td>\n      <td>4</td>\n      <td>Friday</td>\n      <td>4</td>\n      <td>16:13</td>\n      <td>16</td>\n      <td>13</td>\n      <td>0.978148</td>\n      <td>0.207912</td>\n      <td>-0.866025</td>\n      <td>-0.500000</td>\n      <td>-0.433884</td>\n      <td>-0.900969</td>\n      <td>0.743145</td>\n      <td>0.669131</td>\n      <td>-0.866025</td>\n      <td>0.5</td>\n    </tr>\n  </tbody>\n</table>\n</div>"
     },
     "execution_count": 8,
     "metadata": {},
     "output_type": "execute_result"
    }
   ],
   "source": [
    "df.head()"
   ]
  },
  {
   "cell_type": "markdown",
   "metadata": {},
   "source": [
    "### Write CSV"
   ]
  },
  {
   "cell_type": "code",
   "execution_count": 9,
   "metadata": {
    "ExecuteTime": {
     "end_time": "2023-11-27T14:44:02.197248505Z",
     "start_time": "2023-11-27T14:44:01.335665403Z"
    }
   },
   "outputs": [],
   "source": [
    "df.to_csv(outputfile, sep=\";\", index=False)"
   ]
  },
  {
   "cell_type": "code",
   "execution_count": null,
   "outputs": [],
   "source": [],
   "metadata": {
    "collapsed": false
   }
  }
 ],
 "metadata": {
  "kernelspec": {
   "display_name": "Python 3",
   "language": "python",
   "name": "python3"
  },
  "language_info": {
   "codemirror_mode": {
    "name": "ipython",
    "version": 3
   },
   "file_extension": ".py",
   "mimetype": "text/x-python",
   "name": "python",
   "nbconvert_exporter": "python",
   "pygments_lexer": "ipython3",
   "version": "3.11.5"
  }
 },
 "nbformat": 4,
 "nbformat_minor": 2
}
