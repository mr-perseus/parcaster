{
 "cells": [
  {
   "cell_type": "markdown",
   "metadata": {},
   "source": [
    "### Insatll and Import libraries"
   ]
  },
  {
   "cell_type": "code",
   "execution_count": 12,
   "id": "1b6b0efe",
   "metadata": {},
   "outputs": [],
   "source": [
    "# pip install openmeteo-requests\n",
    "# pip install requests-cache \n",
    "# pip install retry-requests"
   ]
  },
  {
   "cell_type": "code",
   "execution_count": 1,
   "metadata": {},
   "outputs": [],
   "source": [
    "import openmeteo_requests\n",
    "import requests_cache\n",
    "import pandas as pd\n",
    "from retry_requests import retry"
   ]
  },
  {
   "cell_type": "markdown",
   "metadata": {},
   "source": [
    "### Define relevant Date"
   ]
  },
  {
   "cell_type": "code",
   "execution_count": 10,
   "metadata": {},
   "outputs": [],
   "source": [
    "date = \"2023-12-01\""
   ]
  },
  {
   "cell_type": "markdown",
   "metadata": {},
   "source": [
    "### Define outputfile"
   ]
  },
  {
   "cell_type": "code",
   "execution_count": 17,
   "metadata": {},
   "outputs": [],
   "source": [
    "outputfile = \"./02_weather_forecaste.csv\""
   ]
  },
  {
   "cell_type": "markdown",
   "metadata": {},
   "source": [
    "### Setup the Open-Meteo API client"
   ]
  },
  {
   "cell_type": "code",
   "execution_count": 12,
   "metadata": {},
   "outputs": [],
   "source": [
    "cache_session = requests_cache.CachedSession('.cache', expire_after = 3600)\n",
    "retry_session = retry(cache_session, retries = 5, backoff_factor = 0.2)\n",
    "openmeteo = openmeteo_requests.Client(session = retry_session)\n",
    "\n",
    "url = \"https://api.open-meteo.com/v1/forecast\" # URL API\n",
    "\n",
    "params = {\n",
    "\t\"latitude\": 47.4239,\n",
    "\t\"longitude\": 9.3748,\n",
    "\t\"daily\": [\"temperature_2m_max\", \"temperature_2m_min\", \"rain_sum\", \"snowfall_sum\"],\n",
    "\t\"start_date\": date,\n",
    "\t\"end_date\": date\n",
    "}\n",
    "\n",
    "responses = openmeteo.weather_api(url, params=params)"
   ]
  },
  {
   "cell_type": "markdown",
   "metadata": {},
   "source": [
    "### Process location"
   ]
  },
  {
   "cell_type": "code",
   "execution_count": 13,
   "metadata": {},
   "outputs": [
    {
     "name": "stdout",
     "output_type": "stream",
     "text": [
      "Coordinates 47.439998626708984°E 9.399999618530273°N\n",
      "Elevation 679.0 m asl\n",
      "Timezone None None\n",
      "Timezone difference to GMT+0 0 s\n"
     ]
    }
   ],
   "source": [
    "response = responses[0]\n",
    "print(f\"Coordinates {response.Latitude()}°E {response.Longitude()}°N\")\n",
    "print(f\"Elevation {response.Elevation()} m asl\")\n",
    "print(f\"Timezone {response.Timezone()} {response.TimezoneAbbreviation()}\")\n",
    "print(f\"Timezone difference to GMT+0 {response.UtcOffsetSeconds()} s\")"
   ]
  },
  {
   "cell_type": "markdown",
   "metadata": {},
   "source": [
    "### Process data for requested day"
   ]
  },
  {
   "cell_type": "code",
   "execution_count": 20,
   "id": "b24e94eb",
   "metadata": {},
   "outputs": [
    {
     "data": {
      "text/plain": [
       "date                  datetime64[ns]\n",
       "temperature_2m_max           float32\n",
       "temperature_2m_min           float32\n",
       "rain_sum                     float32\n",
       "snowfall_sum                 float32\n",
       "dtype: object"
      ]
     },
     "execution_count": 20,
     "metadata": {},
     "output_type": "execute_result"
    }
   ],
   "source": [
    "daily = response.Daily()\n",
    "daily_temperature_2m_max = daily.Variables(0).ValuesAsNumpy()\n",
    "daily_temperature_2m_min = daily.Variables(1).ValuesAsNumpy()\n",
    "daily_rain_sum = daily.Variables(2).ValuesAsNumpy()\n",
    "daily_snowfall_sum = daily.Variables(3).ValuesAsNumpy()\n",
    "\n",
    "daily_data = {\"date\": pd.date_range(\n",
    "\tstart = pd.to_datetime(daily.Time(), unit = \"s\"),\n",
    "\tend = pd.to_datetime(daily.TimeEnd(), unit = \"s\"),\n",
    "\tfreq = pd.Timedelta(seconds = daily.Interval()),\n",
    "\tinclusive = \"left\"\n",
    ")}\n",
    "\n",
    "daily_data[\"temperature_2m_max\"] = daily_temperature_2m_max\n",
    "daily_data[\"temperature_2m_min\"] = daily_temperature_2m_min\n",
    "daily_data[\"rain_sum\"] = daily_rain_sum\n",
    "daily_data[\"snowfall_sum\"] = daily_snowfall_sum\n",
    "\n",
    "daily_dataframe = pd.DataFrame(data = daily_data)\n",
    "daily_dataframe.head()"
   ]
  },
  {
   "cell_type": "code",
   "execution_count": 18,
   "id": "94598708",
   "metadata": {},
   "outputs": [],
   "source": [
    "daily_dataframe.to_csv(outputfile, sep=\";\", index=False)"
   ]
  }
 ],
 "metadata": {
  "kernelspec": {
   "display_name": "Python 3 (ipykernel)",
   "language": "python",
   "name": "python3"
  },
  "language_info": {
   "codemirror_mode": {
    "name": "ipython",
    "version": 3
   },
   "file_extension": ".py",
   "mimetype": "text/x-python",
   "name": "python",
   "nbconvert_exporter": "python",
   "pygments_lexer": "ipython3",
   "version": "3.11.5"
  }
 },
 "nbformat": 4,
 "nbformat_minor": 5
}
