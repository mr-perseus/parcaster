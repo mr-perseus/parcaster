{
 "cells": [
  {
   "cell_type": "markdown",
   "metadata": {},
   "source": [
    "### Extract Time Components"
   ]
  },
  {
   "cell_type": "code",
   "execution_count": null,
   "metadata": {},
   "outputs": [],
   "source": [
    "# Make Object to datetime\n",
    "df['datetime'] = pd.to_datetime(df['datetime'], format='%d.%m.%Y %H:%M')\n",
    "\n",
    "# Extract Date\n",
    "df['date'] = df['datetime'].dt.date\n",
    "\n",
    "# Extract Year\n",
    "df['year'] = df['datetime'].dt.year\n",
    "\n",
    "# Extract Month\n",
    "df['month'] = df['datetime'].dt.month\n",
    "\n",
    "# Extract Day\n",
    "df['day'] = df['datetime'].dt.day\n",
    "\n",
    "# Extract Weekday\n",
    "df['weekdayname'] = df['datetime'].dt.day_name()\n",
    "df['weekday'] = df['datetime'].dt.dayofweek\n",
    "\n",
    "# Extract Time\n",
    "df['time'] = df['datetime'].dt.strftime('%H:%M')\n",
    "\n",
    "# Extract Hour\n",
    "df['hour'] = df['datetime'].dt.hour\n",
    "\n",
    "# Extract Minute\n",
    "df['minute'] = df['datetime'].dt.minute"
   ]
  },
  {
   "cell_type": "markdown",
   "metadata": {},
   "source": [
    "### Decompose Time-Features in sine and cosine component"
   ]
  },
  {
   "cell_type": "code",
   "execution_count": null,
   "metadata": {},
   "outputs": [],
   "source": [
    "# Inspired by https://medium.com/mlearning-ai/transformer-implementation-for-time-series-forecasting-a9db2db5c820 \n",
    "# (vgl. https://github.com/nok-halfspace/Transformer-Time-Series-Forecasting/blob/main/Preprocessing.py) \n",
    "\n",
    "minutes_in_hour = 60\n",
    "hours_in_day = 24\n",
    "days_in_week = 7\n",
    "days_in_month = 30\n",
    "month_in_year = 12\n",
    "\n",
    "\n",
    "df['sin_minute'] = np.sin(2*np.pi*df['minute']/minutes_in_hour)\n",
    "df['cos_minute'] = np.cos(2*np.pi*df['minute']/minutes_in_hour)\n",
    "df['sin_hour'] = np.sin(2*np.pi*df['hour']/hours_in_day)\n",
    "df['cos_hour'] = np.cos(2*np.pi*df['hour']/hours_in_day)\n",
    "df['sin_weekday'] = np.sin(2*np.pi*df['weekday']/days_in_week)\n",
    "df['cos_weekday'] = np.cos(2*np.pi*df['weekday']/days_in_week)\n",
    "df['sin_day'] = np.sin(2*np.pi*df['day']/days_in_month)\n",
    "df['cos_day'] = np.cos(2*np.pi*df['day']/days_in_month)\n",
    "df['sin_month'] = np.sin(2*np.pi*df['month']/month_in_year)\n",
    "df['cos_month'] = np.cos(2*np.pi*df['month']/month_in_year)"
   ]
  }
 ],
 "metadata": {
  "kernelspec": {
   "display_name": "Python 3",
   "language": "python",
   "name": "python3"
  },
  "language_info": {
   "name": "python",
   "version": "3.11.5"
  }
 },
 "nbformat": 4,
 "nbformat_minor": 2
}
