{
 "cells": [
  {
   "cell_type": "code",
   "execution_count": 5,
   "id": "43ab1e21",
   "metadata": {},
   "outputs": [
    {
     "name": "stdout",
     "output_type": "stream",
     "text": [
      "Requirement already satisfied: openmeteo-requests in c:\\users\\rita_\\.conda\\envs\\py310\\lib\\site-packages (1.1.0)\n",
      "Requirement already satisfied: openmeteo-sdk>=1.4.0 in c:\\users\\rita_\\.conda\\envs\\py310\\lib\\site-packages (from openmeteo-requests) (1.5.0)\n",
      "Requirement already satisfied: requests in c:\\users\\rita_\\.conda\\envs\\py310\\lib\\site-packages (from openmeteo-requests) (2.28.1)\n",
      "Requirement already satisfied: flatbuffers>=23.0.0 in c:\\users\\rita_\\.conda\\envs\\py310\\lib\\site-packages (from openmeteo-sdk>=1.4.0->openmeteo-requests) (23.5.26)\n",
      "Requirement already satisfied: urllib3<1.27,>=1.21.1 in c:\\users\\rita_\\.conda\\envs\\py310\\lib\\site-packages (from requests->openmeteo-requests) (1.26.15)\n",
      "Requirement already satisfied: certifi>=2017.4.17 in c:\\users\\rita_\\.conda\\envs\\py310\\lib\\site-packages (from requests->openmeteo-requests) (2023.7.22)\n",
      "Requirement already satisfied: idna<4,>=2.5 in c:\\users\\rita_\\.conda\\envs\\py310\\lib\\site-packages (from requests->openmeteo-requests) (3.4)\n",
      "Requirement already satisfied: charset-normalizer<3,>=2 in c:\\users\\rita_\\.conda\\envs\\py310\\lib\\site-packages (from requests->openmeteo-requests) (2.0.4)\n",
      "Requirement already satisfied: requests-cache in c:\\users\\rita_\\.conda\\envs\\py310\\lib\\site-packages (1.1.0)\n",
      "Requirement already satisfied: retry-requests in c:\\users\\rita_\\.conda\\envs\\py310\\lib\\site-packages (2.0.0)\n",
      "Requirement already satisfied: numpy in c:\\users\\rita_\\.conda\\envs\\py310\\lib\\site-packages (1.23.5)\n",
      "Requirement already satisfied: pandas in c:\\users\\rita_\\.conda\\envs\\py310\\lib\\site-packages (1.5.3)\n",
      "Requirement already satisfied: attrs>=21.2 in c:\\users\\rita_\\.conda\\envs\\py310\\lib\\site-packages (from requests-cache) (22.1.0)\n",
      "Requirement already satisfied: url-normalize>=1.4 in c:\\users\\rita_\\.conda\\envs\\py310\\lib\\site-packages (from requests-cache) (1.4.3)\n",
      "Requirement already satisfied: urllib3>=1.25.5 in c:\\users\\rita_\\.conda\\envs\\py310\\lib\\site-packages (from requests-cache) (1.26.15)\n",
      "Requirement already satisfied: cattrs>=22.2 in c:\\users\\rita_\\.conda\\envs\\py310\\lib\\site-packages (from requests-cache) (23.1.2)\n",
      "Requirement already satisfied: platformdirs>=2.5 in c:\\users\\rita_\\.conda\\envs\\py310\\lib\\site-packages (from requests-cache) (2.5.2)\n",
      "Requirement already satisfied: requests>=2.22 in c:\\users\\rita_\\.conda\\envs\\py310\\lib\\site-packages (from requests-cache) (2.28.1)\n",
      "Requirement already satisfied: pytz>=2020.1 in c:\\users\\rita_\\.conda\\envs\\py310\\lib\\site-packages (from pandas) (2022.7)\n",
      "Requirement already satisfied: python-dateutil>=2.8.1 in c:\\users\\rita_\\.conda\\envs\\py310\\lib\\site-packages (from pandas) (2.8.2)\n",
      "Requirement already satisfied: typing_extensions>=4.1.0 in c:\\users\\rita_\\.conda\\envs\\py310\\lib\\site-packages (from cattrs>=22.2->requests-cache) (4.5.0)\n",
      "Requirement already satisfied: exceptiongroup in c:\\users\\rita_\\.conda\\envs\\py310\\lib\\site-packages (from cattrs>=22.2->requests-cache) (1.1.3)\n",
      "Requirement already satisfied: six>=1.5 in c:\\users\\rita_\\.conda\\envs\\py310\\lib\\site-packages (from python-dateutil>=2.8.1->pandas) (1.16.0)\n",
      "Requirement already satisfied: charset-normalizer<3,>=2 in c:\\users\\rita_\\.conda\\envs\\py310\\lib\\site-packages (from requests>=2.22->requests-cache) (2.0.4)\n",
      "Requirement already satisfied: certifi>=2017.4.17 in c:\\users\\rita_\\.conda\\envs\\py310\\lib\\site-packages (from requests>=2.22->requests-cache) (2023.7.22)\n",
      "Requirement already satisfied: idna<4,>=2.5 in c:\\users\\rita_\\.conda\\envs\\py310\\lib\\site-packages (from requests>=2.22->requests-cache) (3.4)\n"
     ]
    }
   ],
   "source": [
    "!pip install openmeteo-requests\n",
    "!pip install requests-cache retry-requests numpy pandas"
   ]
  },
  {
   "cell_type": "code",
   "execution_count": 11,
   "id": "9679500e",
   "metadata": {},
   "outputs": [
    {
     "name": "stdout",
     "output_type": "stream",
     "text": [
      "Coordinates 47.41651916503906°E 9.442623138427734°N\n",
      "Elevation 679.0 m asl\n",
      "Timezone None None\n",
      "Timezone difference to GMT+0 0 s\n",
      "           date  weather_code  temperature_2m_max  temperature_2m_min  \\\n",
      "0    2019-09-01          63.0           21.101000           15.801000   \n",
      "1    2019-09-02          63.0           15.000999           13.151000   \n",
      "2    2019-09-03           2.0           18.150999            9.601000   \n",
      "3    2019-09-04           1.0           21.101000           11.000999   \n",
      "4    2019-09-05          63.0           15.301000           10.601000   \n",
      "...         ...           ...                 ...                 ...   \n",
      "1526 2023-11-05          61.0           11.301000            4.951000   \n",
      "1527 2023-11-06          63.0           11.201000            2.801000   \n",
      "1528 2023-11-07          55.0            9.551000            2.351000   \n",
      "1529 2023-11-08           1.0           10.201000            0.301000   \n",
      "1530 2023-11-09          51.0            9.951000            0.351000   \n",
      "\n",
      "       rain_sum  snowfall_sum  \n",
      "0     12.500000           0.0  \n",
      "1     15.400001           0.0  \n",
      "2      0.000000           0.0  \n",
      "3      0.000000           0.0  \n",
      "4     18.800001           0.0  \n",
      "...         ...           ...  \n",
      "1526   2.200000           0.0  \n",
      "1527   6.700000           0.0  \n",
      "1528   3.000000           0.0  \n",
      "1529   0.000000           0.0  \n",
      "1530   0.600000           0.0  \n",
      "\n",
      "[1531 rows x 6 columns]\n"
     ]
    }
   ],
   "source": [
    "import openmeteo_requests\n",
    "\n",
    "import requests_cache\n",
    "import pandas as pd\n",
    "from retry_requests import retry\n",
    "\n",
    "# Setup the Open-Meteo API client with cache and retry on error\n",
    "cache_session = requests_cache.CachedSession('.cache', expire_after = -1)\n",
    "retry_session = retry(cache_session, retries = 5, backoff_factor = 0.2)\n",
    "openmeteo = openmeteo_requests.Client(session = retry_session)\n",
    "\n",
    "# Make sure all required weather variables are listed here\n",
    "# The order of variables in hourly or daily is important to assign them correctly below\n",
    "url = \"https://archive-api.open-meteo.com/v1/archive\"\n",
    "params = {\n",
    "\t\"latitude\": 47.4239,\n",
    "\t\"longitude\": 9.3748,\n",
    "\t\"start_date\": \"2019-09-01\",\n",
    "\t\"end_date\": \"2023-11-09\",\n",
    "\t\"daily\": [\"weather_code\", \"temperature_2m_max\", \"temperature_2m_min\", \"rain_sum\", \"snowfall_sum\"]\n",
    "}\n",
    "responses = openmeteo.weather_api(url, params=params)\n",
    "\n",
    "# Process first location. Add a for-loop for multiple locations or weather models\n",
    "response = responses[0]\n",
    "print(f\"Coordinates {response.Latitude()}°E {response.Longitude()}°N\")\n",
    "print(f\"Elevation {response.Elevation()} m asl\")\n",
    "print(f\"Timezone {response.Timezone()} {response.TimezoneAbbreviation()}\")\n",
    "print(f\"Timezone difference to GMT+0 {response.UtcOffsetSeconds()} s\")\n",
    "\n",
    "# Process daily data. The order of variables needs to be the same as requested.\n",
    "daily = response.Daily()\n",
    "daily_weather_code = daily.Variables(0).ValuesAsNumpy()\n",
    "daily_temperature_2m_max = daily.Variables(1).ValuesAsNumpy()\n",
    "daily_temperature_2m_min = daily.Variables(2).ValuesAsNumpy()\n",
    "daily_rain_sum = daily.Variables(3).ValuesAsNumpy()\n",
    "daily_snowfall_sum = daily.Variables(4).ValuesAsNumpy()\n",
    "\n",
    "daily_data = {\"date\": pd.date_range(\n",
    "\tstart = pd.to_datetime(daily.Time(), unit = \"s\"),\n",
    "\tend = pd.to_datetime(daily.TimeEnd(), unit = \"s\"),\n",
    "\tfreq = pd.Timedelta(seconds = daily.Interval()),\n",
    "\tinclusive = \"left\"\n",
    ")}\n",
    "daily_data[\"weather_code\"] = daily_weather_code\n",
    "daily_data[\"temperature_2m_max\"] = daily_temperature_2m_max\n",
    "daily_data[\"temperature_2m_min\"] = daily_temperature_2m_min\n",
    "daily_data[\"rain_sum\"] = daily_rain_sum\n",
    "daily_data[\"snowfall_sum\"] = daily_snowfall_sum\n",
    "\n",
    "daily_dataframe = pd.DataFrame(data = daily_data)\n",
    "print(daily_dataframe)"
   ]
  },
  {
   "cell_type": "code",
   "execution_count": 12,
   "id": "6a42859a",
   "metadata": {},
   "outputs": [],
   "source": [
    "daily_dataframe.to_csv(\"C:/Users/rita_/OneDrive/Dokumente/git/parcaster/data/scraping/weather/historical_data/historical_weather.csv\"\n",
    "                       , sep=\",\"\n",
    "                       , index=False)"
   ]
  }
 ],
 "metadata": {
  "kernelspec": {
   "display_name": "Python 3 (ipykernel)",
   "language": "python",
   "name": "python3"
  },
  "language_info": {
   "codemirror_mode": {
    "name": "ipython",
    "version": 3
   },
   "file_extension": ".py",
   "mimetype": "text/x-python",
   "name": "python",
   "nbconvert_exporter": "python",
   "pygments_lexer": "ipython3",
   "version": "3.10.11"
  }
 },
 "nbformat": 4,
 "nbformat_minor": 5
}
