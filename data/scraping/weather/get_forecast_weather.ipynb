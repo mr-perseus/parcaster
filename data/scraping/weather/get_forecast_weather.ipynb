{
 "cells": [
  {
   "cell_type": "code",
   "execution_count": null,
   "id": "1b6b0efe",
   "metadata": {},
   "outputs": [],
   "source": [
    "#!pip install openmeteo-requests\n",
    "#!pip install requests-cache retry-requests numpy pandas"
   ]
  },
  {
   "cell_type": "code",
   "execution_count": 1,
   "id": "b24e94eb",
   "metadata": {},
   "outputs": [
    {
     "name": "stdout",
     "output_type": "stream",
     "text": [
      "Coordinates 47.439998626708984°E 9.399999618530273°N\n",
      "Elevation 679.0 m asl\n",
      "Timezone b'Europe/Berlin' b'CET'\n",
      "Timezone difference to GMT+0 3600 s\n",
      "                 date  weather_code  temperature_2m_max  temperature_2m_min  \\\n",
      "0 2023-11-11 23:00:00          81.0              8.5695              1.1195   \n",
      "1 2023-11-12 23:00:00          80.0             14.2695              7.8195   \n",
      "2 2023-11-13 23:00:00          80.0             12.9695              9.3140   \n",
      "3 2023-11-14 23:00:00          80.0              9.0640              4.9140   \n",
      "4 2023-11-15 23:00:00          63.0              7.4640              3.7140   \n",
      "5 2023-11-16 23:00:00          85.0              6.7140              3.0175   \n",
      "6 2023-11-17 23:00:00          85.0              7.4175              2.9175   \n",
      "\n",
      "    rain_sum  snowfall_sum  \n",
      "0  13.900001          0.00  \n",
      "1  17.300001          0.00  \n",
      "2  28.400000          0.00  \n",
      "3   0.800000          0.00  \n",
      "4  14.100000          0.00  \n",
      "5  15.500000          0.07  \n",
      "6   1.000000          0.98  \n"
     ]
    }
   ],
   "source": [
    "import openmeteo_requests\n",
    "\n",
    "import requests_cache\n",
    "import pandas as pd\n",
    "from retry_requests import retry\n",
    "\n",
    "# Setup the Open-Meteo API client with cache and retry on error\n",
    "cache_session = requests_cache.CachedSession('.cache', expire_after = 3600)\n",
    "retry_session = retry(cache_session, retries = 5, backoff_factor = 0.2)\n",
    "openmeteo = openmeteo_requests.Client(session = retry_session)\n",
    "\n",
    "# Make sure all required weather variables are listed here\n",
    "# The order of variables in hourly or daily is important to assign them correctly below\n",
    "url = \"https://api.open-meteo.com/v1/forecast\"\n",
    "params = {\n",
    "\t\"latitude\": 47.4239,\n",
    "\t\"longitude\": 9.3748,\n",
    "\t\"daily\": [\"weather_code\", \"temperature_2m_max\", \"temperature_2m_min\", \"rain_sum\", \"snowfall_sum\"],\n",
    "\t\"timezone\": \"Europe/Berlin\"\n",
    "}\n",
    "responses = openmeteo.weather_api(url, params=params)\n",
    "\n",
    "# Process first location. Add a for-loop for multiple locations or weather models\n",
    "response = responses[0]\n",
    "print(f\"Coordinates {response.Latitude()}°E {response.Longitude()}°N\")\n",
    "print(f\"Elevation {response.Elevation()} m asl\")\n",
    "print(f\"Timezone {response.Timezone()} {response.TimezoneAbbreviation()}\")\n",
    "print(f\"Timezone difference to GMT+0 {response.UtcOffsetSeconds()} s\")\n",
    "\n",
    "# Process daily data. The order of variables needs to be the same as requested.\n",
    "daily = response.Daily()\n",
    "daily_weather_code = daily.Variables(0).ValuesAsNumpy()\n",
    "daily_temperature_2m_max = daily.Variables(1).ValuesAsNumpy()\n",
    "daily_temperature_2m_min = daily.Variables(2).ValuesAsNumpy()\n",
    "daily_rain_sum = daily.Variables(3).ValuesAsNumpy()\n",
    "daily_snowfall_sum = daily.Variables(4).ValuesAsNumpy()\n",
    "\n",
    "daily_data = {\"date\": pd.date_range(\n",
    "\tstart = pd.to_datetime(daily.Time(), unit = \"s\"),\n",
    "\tend = pd.to_datetime(daily.TimeEnd(), unit = \"s\"),\n",
    "\tfreq = pd.Timedelta(seconds = daily.Interval()),\n",
    "\tinclusive = \"left\"\n",
    ")}\n",
    "daily_data[\"weather_code\"] = daily_weather_code\n",
    "daily_data[\"temperature_2m_max\"] = daily_temperature_2m_max\n",
    "daily_data[\"temperature_2m_min\"] = daily_temperature_2m_min\n",
    "daily_data[\"rain_sum\"] = daily_rain_sum\n",
    "daily_data[\"snowfall_sum\"] = daily_snowfall_sum\n",
    "\n",
    "daily_dataframe = pd.DataFrame(data = daily_data)\n",
    "print(daily_dataframe)"
   ]
  },
  {
   "cell_type": "code",
   "execution_count": 2,
   "id": "94598708",
   "metadata": {},
   "outputs": [],
   "source": [
    "daily_dataframe.to_csv(\"C:/Users/rita_/OneDrive/Dokumente/git/parcaster/data/scraping/weather/forecast_weather/forecast_weather.csv\"\n",
    "                       , sep=\",\"\n",
    "                       , index=False)"
   ]
  }
 ],
 "metadata": {
  "kernelspec": {
   "display_name": "Python 3 (ipykernel)",
   "language": "python",
   "name": "python3"
  },
  "language_info": {
   "codemirror_mode": {
    "name": "ipython",
    "version": 3
   },
   "file_extension": ".py",
   "mimetype": "text/x-python",
   "name": "python",
   "nbconvert_exporter": "python",
   "pygments_lexer": "ipython3",
   "version": "3.10.11"
  }
 },
 "nbformat": 4,
 "nbformat_minor": 5
}
